{
  "nbformat": 4,
  "nbformat_minor": 0,
  "metadata": {
    "colab": {
      "provenance": []
    },
    "kernelspec": {
      "name": "python3",
      "display_name": "Python 3"
    },
    "language_info": {
      "name": "python"
    }
  },
  "cells": [
    {
      "cell_type": "code",
      "execution_count": 25,
      "metadata": {
        "id": "MN8UcXiOfT6q"
      },
      "outputs": [],
      "source": [
        "import pandas as pd\n",
        "train=pd.read_csv('/content/train.csv')\n",
        "test=pd.read_csv('/content/test.csv')\n",
        "submission=pd.read_csv('/content/sample_submission.csv')"
      ]
    },
    {
      "cell_type": "code",
      "source": [
        "test.head()"
      ],
      "metadata": {
        "colab": {
          "base_uri": "https://localhost:8080/",
          "height": 206
        },
        "id": "BuesoFaK0WK7",
        "outputId": "b7ed9402-36db-4126-e558-d1a7032dbcb6"
      },
      "execution_count": 26,
      "outputs": [
        {
          "output_type": "execute_result",
          "data": {
            "text/plain": [
              "   id     cont1     cont2     cont3     cont4     cont5     cont6     cont7  \\\n",
              "0   0  0.353600  0.738780  0.600939  0.293377  0.285691  0.458006  0.620704   \n",
              "1   2  0.907222  0.189756  0.215531  0.869915  0.301333  0.528958  0.390351   \n",
              "2   6  0.179287  0.355353  0.623972  0.437812  0.282476  0.320826  0.386789   \n",
              "3   7  0.359385  0.181049  0.551368  0.206386  0.280763  0.482076  0.506677   \n",
              "4  10  0.335791  0.682607  0.676481  0.219465  0.282861  0.581721  0.748639   \n",
              "\n",
              "      cont8     cont9    cont10    cont11    cont12    cont13    cont14  \n",
              "0  0.422249  0.369203  0.435727  0.550540  0.699134  0.286864  0.364515  \n",
              "1  0.521112  0.794779  0.798580  0.446475  0.449037  0.916964  0.513002  \n",
              "2  0.776422  0.222268  0.229102  0.211913  0.222651  0.327164  0.827941  \n",
              "3  0.362793  0.379737  0.345686  0.445276  0.518485  0.299028  0.598166  \n",
              "4  0.350158  0.448915  0.506878  0.817721  0.805895  0.790591  0.249275  "
            ],
            "text/html": [
              "\n",
              "  <div id=\"df-4bb59985-e9fe-4781-86a8-28b1d581aff4\">\n",
              "    <div class=\"colab-df-container\">\n",
              "      <div>\n",
              "<style scoped>\n",
              "    .dataframe tbody tr th:only-of-type {\n",
              "        vertical-align: middle;\n",
              "    }\n",
              "\n",
              "    .dataframe tbody tr th {\n",
              "        vertical-align: top;\n",
              "    }\n",
              "\n",
              "    .dataframe thead th {\n",
              "        text-align: right;\n",
              "    }\n",
              "</style>\n",
              "<table border=\"1\" class=\"dataframe\">\n",
              "  <thead>\n",
              "    <tr style=\"text-align: right;\">\n",
              "      <th></th>\n",
              "      <th>id</th>\n",
              "      <th>cont1</th>\n",
              "      <th>cont2</th>\n",
              "      <th>cont3</th>\n",
              "      <th>cont4</th>\n",
              "      <th>cont5</th>\n",
              "      <th>cont6</th>\n",
              "      <th>cont7</th>\n",
              "      <th>cont8</th>\n",
              "      <th>cont9</th>\n",
              "      <th>cont10</th>\n",
              "      <th>cont11</th>\n",
              "      <th>cont12</th>\n",
              "      <th>cont13</th>\n",
              "      <th>cont14</th>\n",
              "    </tr>\n",
              "  </thead>\n",
              "  <tbody>\n",
              "    <tr>\n",
              "      <th>0</th>\n",
              "      <td>0</td>\n",
              "      <td>0.353600</td>\n",
              "      <td>0.738780</td>\n",
              "      <td>0.600939</td>\n",
              "      <td>0.293377</td>\n",
              "      <td>0.285691</td>\n",
              "      <td>0.458006</td>\n",
              "      <td>0.620704</td>\n",
              "      <td>0.422249</td>\n",
              "      <td>0.369203</td>\n",
              "      <td>0.435727</td>\n",
              "      <td>0.550540</td>\n",
              "      <td>0.699134</td>\n",
              "      <td>0.286864</td>\n",
              "      <td>0.364515</td>\n",
              "    </tr>\n",
              "    <tr>\n",
              "      <th>1</th>\n",
              "      <td>2</td>\n",
              "      <td>0.907222</td>\n",
              "      <td>0.189756</td>\n",
              "      <td>0.215531</td>\n",
              "      <td>0.869915</td>\n",
              "      <td>0.301333</td>\n",
              "      <td>0.528958</td>\n",
              "      <td>0.390351</td>\n",
              "      <td>0.521112</td>\n",
              "      <td>0.794779</td>\n",
              "      <td>0.798580</td>\n",
              "      <td>0.446475</td>\n",
              "      <td>0.449037</td>\n",
              "      <td>0.916964</td>\n",
              "      <td>0.513002</td>\n",
              "    </tr>\n",
              "    <tr>\n",
              "      <th>2</th>\n",
              "      <td>6</td>\n",
              "      <td>0.179287</td>\n",
              "      <td>0.355353</td>\n",
              "      <td>0.623972</td>\n",
              "      <td>0.437812</td>\n",
              "      <td>0.282476</td>\n",
              "      <td>0.320826</td>\n",
              "      <td>0.386789</td>\n",
              "      <td>0.776422</td>\n",
              "      <td>0.222268</td>\n",
              "      <td>0.229102</td>\n",
              "      <td>0.211913</td>\n",
              "      <td>0.222651</td>\n",
              "      <td>0.327164</td>\n",
              "      <td>0.827941</td>\n",
              "    </tr>\n",
              "    <tr>\n",
              "      <th>3</th>\n",
              "      <td>7</td>\n",
              "      <td>0.359385</td>\n",
              "      <td>0.181049</td>\n",
              "      <td>0.551368</td>\n",
              "      <td>0.206386</td>\n",
              "      <td>0.280763</td>\n",
              "      <td>0.482076</td>\n",
              "      <td>0.506677</td>\n",
              "      <td>0.362793</td>\n",
              "      <td>0.379737</td>\n",
              "      <td>0.345686</td>\n",
              "      <td>0.445276</td>\n",
              "      <td>0.518485</td>\n",
              "      <td>0.299028</td>\n",
              "      <td>0.598166</td>\n",
              "    </tr>\n",
              "    <tr>\n",
              "      <th>4</th>\n",
              "      <td>10</td>\n",
              "      <td>0.335791</td>\n",
              "      <td>0.682607</td>\n",
              "      <td>0.676481</td>\n",
              "      <td>0.219465</td>\n",
              "      <td>0.282861</td>\n",
              "      <td>0.581721</td>\n",
              "      <td>0.748639</td>\n",
              "      <td>0.350158</td>\n",
              "      <td>0.448915</td>\n",
              "      <td>0.506878</td>\n",
              "      <td>0.817721</td>\n",
              "      <td>0.805895</td>\n",
              "      <td>0.790591</td>\n",
              "      <td>0.249275</td>\n",
              "    </tr>\n",
              "  </tbody>\n",
              "</table>\n",
              "</div>\n",
              "      <button class=\"colab-df-convert\" onclick=\"convertToInteractive('df-4bb59985-e9fe-4781-86a8-28b1d581aff4')\"\n",
              "              title=\"Convert this dataframe to an interactive table.\"\n",
              "              style=\"display:none;\">\n",
              "        \n",
              "  <svg xmlns=\"http://www.w3.org/2000/svg\" height=\"24px\"viewBox=\"0 0 24 24\"\n",
              "       width=\"24px\">\n",
              "    <path d=\"M0 0h24v24H0V0z\" fill=\"none\"/>\n",
              "    <path d=\"M18.56 5.44l.94 2.06.94-2.06 2.06-.94-2.06-.94-.94-2.06-.94 2.06-2.06.94zm-11 1L8.5 8.5l.94-2.06 2.06-.94-2.06-.94L8.5 2.5l-.94 2.06-2.06.94zm10 10l.94 2.06.94-2.06 2.06-.94-2.06-.94-.94-2.06-.94 2.06-2.06.94z\"/><path d=\"M17.41 7.96l-1.37-1.37c-.4-.4-.92-.59-1.43-.59-.52 0-1.04.2-1.43.59L10.3 9.45l-7.72 7.72c-.78.78-.78 2.05 0 2.83L4 21.41c.39.39.9.59 1.41.59.51 0 1.02-.2 1.41-.59l7.78-7.78 2.81-2.81c.8-.78.8-2.07 0-2.86zM5.41 20L4 18.59l7.72-7.72 1.47 1.35L5.41 20z\"/>\n",
              "  </svg>\n",
              "      </button>\n",
              "      \n",
              "  <style>\n",
              "    .colab-df-container {\n",
              "      display:flex;\n",
              "      flex-wrap:wrap;\n",
              "      gap: 12px;\n",
              "    }\n",
              "\n",
              "    .colab-df-convert {\n",
              "      background-color: #E8F0FE;\n",
              "      border: none;\n",
              "      border-radius: 50%;\n",
              "      cursor: pointer;\n",
              "      display: none;\n",
              "      fill: #1967D2;\n",
              "      height: 32px;\n",
              "      padding: 0 0 0 0;\n",
              "      width: 32px;\n",
              "    }\n",
              "\n",
              "    .colab-df-convert:hover {\n",
              "      background-color: #E2EBFA;\n",
              "      box-shadow: 0px 1px 2px rgba(60, 64, 67, 0.3), 0px 1px 3px 1px rgba(60, 64, 67, 0.15);\n",
              "      fill: #174EA6;\n",
              "    }\n",
              "\n",
              "    [theme=dark] .colab-df-convert {\n",
              "      background-color: #3B4455;\n",
              "      fill: #D2E3FC;\n",
              "    }\n",
              "\n",
              "    [theme=dark] .colab-df-convert:hover {\n",
              "      background-color: #434B5C;\n",
              "      box-shadow: 0px 1px 3px 1px rgba(0, 0, 0, 0.15);\n",
              "      filter: drop-shadow(0px 1px 2px rgba(0, 0, 0, 0.3));\n",
              "      fill: #FFFFFF;\n",
              "    }\n",
              "  </style>\n",
              "\n",
              "      <script>\n",
              "        const buttonEl =\n",
              "          document.querySelector('#df-4bb59985-e9fe-4781-86a8-28b1d581aff4 button.colab-df-convert');\n",
              "        buttonEl.style.display =\n",
              "          google.colab.kernel.accessAllowed ? 'block' : 'none';\n",
              "\n",
              "        async function convertToInteractive(key) {\n",
              "          const element = document.querySelector('#df-4bb59985-e9fe-4781-86a8-28b1d581aff4');\n",
              "          const dataTable =\n",
              "            await google.colab.kernel.invokeFunction('convertToInteractive',\n",
              "                                                     [key], {});\n",
              "          if (!dataTable) return;\n",
              "\n",
              "          const docLinkHtml = 'Like what you see? Visit the ' +\n",
              "            '<a target=\"_blank\" href=https://colab.research.google.com/notebooks/data_table.ipynb>data table notebook</a>'\n",
              "            + ' to learn more about interactive tables.';\n",
              "          element.innerHTML = '';\n",
              "          dataTable['output_type'] = 'display_data';\n",
              "          await google.colab.output.renderOutput(dataTable, element);\n",
              "          const docLink = document.createElement('div');\n",
              "          docLink.innerHTML = docLinkHtml;\n",
              "          element.appendChild(docLink);\n",
              "        }\n",
              "      </script>\n",
              "    </div>\n",
              "  </div>\n",
              "  "
            ]
          },
          "metadata": {},
          "execution_count": 26
        }
      ]
    },
    {
      "cell_type": "code",
      "source": [
        "train.head()"
      ],
      "metadata": {
        "colab": {
          "base_uri": "https://localhost:8080/",
          "height": 270
        },
        "id": "C8Kg3w0o0imi",
        "outputId": "14fde485-f3de-4c2a-8a3b-66afec51ee90"
      },
      "execution_count": 27,
      "outputs": [
        {
          "output_type": "execute_result",
          "data": {
            "text/plain": [
              "   id     cont1     cont2     cont3     cont4     cont5     cont6     cont7  \\\n",
              "0   1  0.670390  0.811300  0.643968  0.291791  0.284117  0.855953  0.890700   \n",
              "1   3  0.388053  0.621104  0.686102  0.501149  0.643790  0.449805  0.510824   \n",
              "2   4  0.834950  0.227436  0.301584  0.293408  0.606839  0.829175  0.506143   \n",
              "3   5  0.820708  0.160155  0.546887  0.726104  0.282444  0.785108  0.752758   \n",
              "4   8  0.935278  0.421235  0.303801  0.880214  0.665610  0.830131  0.487113   \n",
              "\n",
              "      cont8     cont9    cont10    cont11    cont12    cont13    cont14  \\\n",
              "0  0.285542  0.558245  0.779418  0.921832  0.866772  0.878733  0.305411   \n",
              "1  0.580748  0.418335  0.432632  0.439872  0.434971  0.369957  0.369484   \n",
              "2  0.558771  0.587603  0.823312  0.567007  0.677708  0.882938  0.303047   \n",
              "3  0.823267  0.574466  0.580843  0.769594  0.818143  0.914281  0.279528   \n",
              "4  0.604157  0.874658  0.863427  0.983575  0.900464  0.935918  0.435772   \n",
              "\n",
              "     target  \n",
              "0  7.243043  \n",
              "1  8.203331  \n",
              "2  7.776091  \n",
              "3  6.957716  \n",
              "4  7.951046  "
            ],
            "text/html": [
              "\n",
              "  <div id=\"df-6fe80b0e-8b0a-4eeb-b4db-7ea899f31fc9\">\n",
              "    <div class=\"colab-df-container\">\n",
              "      <div>\n",
              "<style scoped>\n",
              "    .dataframe tbody tr th:only-of-type {\n",
              "        vertical-align: middle;\n",
              "    }\n",
              "\n",
              "    .dataframe tbody tr th {\n",
              "        vertical-align: top;\n",
              "    }\n",
              "\n",
              "    .dataframe thead th {\n",
              "        text-align: right;\n",
              "    }\n",
              "</style>\n",
              "<table border=\"1\" class=\"dataframe\">\n",
              "  <thead>\n",
              "    <tr style=\"text-align: right;\">\n",
              "      <th></th>\n",
              "      <th>id</th>\n",
              "      <th>cont1</th>\n",
              "      <th>cont2</th>\n",
              "      <th>cont3</th>\n",
              "      <th>cont4</th>\n",
              "      <th>cont5</th>\n",
              "      <th>cont6</th>\n",
              "      <th>cont7</th>\n",
              "      <th>cont8</th>\n",
              "      <th>cont9</th>\n",
              "      <th>cont10</th>\n",
              "      <th>cont11</th>\n",
              "      <th>cont12</th>\n",
              "      <th>cont13</th>\n",
              "      <th>cont14</th>\n",
              "      <th>target</th>\n",
              "    </tr>\n",
              "  </thead>\n",
              "  <tbody>\n",
              "    <tr>\n",
              "      <th>0</th>\n",
              "      <td>1</td>\n",
              "      <td>0.670390</td>\n",
              "      <td>0.811300</td>\n",
              "      <td>0.643968</td>\n",
              "      <td>0.291791</td>\n",
              "      <td>0.284117</td>\n",
              "      <td>0.855953</td>\n",
              "      <td>0.890700</td>\n",
              "      <td>0.285542</td>\n",
              "      <td>0.558245</td>\n",
              "      <td>0.779418</td>\n",
              "      <td>0.921832</td>\n",
              "      <td>0.866772</td>\n",
              "      <td>0.878733</td>\n",
              "      <td>0.305411</td>\n",
              "      <td>7.243043</td>\n",
              "    </tr>\n",
              "    <tr>\n",
              "      <th>1</th>\n",
              "      <td>3</td>\n",
              "      <td>0.388053</td>\n",
              "      <td>0.621104</td>\n",
              "      <td>0.686102</td>\n",
              "      <td>0.501149</td>\n",
              "      <td>0.643790</td>\n",
              "      <td>0.449805</td>\n",
              "      <td>0.510824</td>\n",
              "      <td>0.580748</td>\n",
              "      <td>0.418335</td>\n",
              "      <td>0.432632</td>\n",
              "      <td>0.439872</td>\n",
              "      <td>0.434971</td>\n",
              "      <td>0.369957</td>\n",
              "      <td>0.369484</td>\n",
              "      <td>8.203331</td>\n",
              "    </tr>\n",
              "    <tr>\n",
              "      <th>2</th>\n",
              "      <td>4</td>\n",
              "      <td>0.834950</td>\n",
              "      <td>0.227436</td>\n",
              "      <td>0.301584</td>\n",
              "      <td>0.293408</td>\n",
              "      <td>0.606839</td>\n",
              "      <td>0.829175</td>\n",
              "      <td>0.506143</td>\n",
              "      <td>0.558771</td>\n",
              "      <td>0.587603</td>\n",
              "      <td>0.823312</td>\n",
              "      <td>0.567007</td>\n",
              "      <td>0.677708</td>\n",
              "      <td>0.882938</td>\n",
              "      <td>0.303047</td>\n",
              "      <td>7.776091</td>\n",
              "    </tr>\n",
              "    <tr>\n",
              "      <th>3</th>\n",
              "      <td>5</td>\n",
              "      <td>0.820708</td>\n",
              "      <td>0.160155</td>\n",
              "      <td>0.546887</td>\n",
              "      <td>0.726104</td>\n",
              "      <td>0.282444</td>\n",
              "      <td>0.785108</td>\n",
              "      <td>0.752758</td>\n",
              "      <td>0.823267</td>\n",
              "      <td>0.574466</td>\n",
              "      <td>0.580843</td>\n",
              "      <td>0.769594</td>\n",
              "      <td>0.818143</td>\n",
              "      <td>0.914281</td>\n",
              "      <td>0.279528</td>\n",
              "      <td>6.957716</td>\n",
              "    </tr>\n",
              "    <tr>\n",
              "      <th>4</th>\n",
              "      <td>8</td>\n",
              "      <td>0.935278</td>\n",
              "      <td>0.421235</td>\n",
              "      <td>0.303801</td>\n",
              "      <td>0.880214</td>\n",
              "      <td>0.665610</td>\n",
              "      <td>0.830131</td>\n",
              "      <td>0.487113</td>\n",
              "      <td>0.604157</td>\n",
              "      <td>0.874658</td>\n",
              "      <td>0.863427</td>\n",
              "      <td>0.983575</td>\n",
              "      <td>0.900464</td>\n",
              "      <td>0.935918</td>\n",
              "      <td>0.435772</td>\n",
              "      <td>7.951046</td>\n",
              "    </tr>\n",
              "  </tbody>\n",
              "</table>\n",
              "</div>\n",
              "      <button class=\"colab-df-convert\" onclick=\"convertToInteractive('df-6fe80b0e-8b0a-4eeb-b4db-7ea899f31fc9')\"\n",
              "              title=\"Convert this dataframe to an interactive table.\"\n",
              "              style=\"display:none;\">\n",
              "        \n",
              "  <svg xmlns=\"http://www.w3.org/2000/svg\" height=\"24px\"viewBox=\"0 0 24 24\"\n",
              "       width=\"24px\">\n",
              "    <path d=\"M0 0h24v24H0V0z\" fill=\"none\"/>\n",
              "    <path d=\"M18.56 5.44l.94 2.06.94-2.06 2.06-.94-2.06-.94-.94-2.06-.94 2.06-2.06.94zm-11 1L8.5 8.5l.94-2.06 2.06-.94-2.06-.94L8.5 2.5l-.94 2.06-2.06.94zm10 10l.94 2.06.94-2.06 2.06-.94-2.06-.94-.94-2.06-.94 2.06-2.06.94z\"/><path d=\"M17.41 7.96l-1.37-1.37c-.4-.4-.92-.59-1.43-.59-.52 0-1.04.2-1.43.59L10.3 9.45l-7.72 7.72c-.78.78-.78 2.05 0 2.83L4 21.41c.39.39.9.59 1.41.59.51 0 1.02-.2 1.41-.59l7.78-7.78 2.81-2.81c.8-.78.8-2.07 0-2.86zM5.41 20L4 18.59l7.72-7.72 1.47 1.35L5.41 20z\"/>\n",
              "  </svg>\n",
              "      </button>\n",
              "      \n",
              "  <style>\n",
              "    .colab-df-container {\n",
              "      display:flex;\n",
              "      flex-wrap:wrap;\n",
              "      gap: 12px;\n",
              "    }\n",
              "\n",
              "    .colab-df-convert {\n",
              "      background-color: #E8F0FE;\n",
              "      border: none;\n",
              "      border-radius: 50%;\n",
              "      cursor: pointer;\n",
              "      display: none;\n",
              "      fill: #1967D2;\n",
              "      height: 32px;\n",
              "      padding: 0 0 0 0;\n",
              "      width: 32px;\n",
              "    }\n",
              "\n",
              "    .colab-df-convert:hover {\n",
              "      background-color: #E2EBFA;\n",
              "      box-shadow: 0px 1px 2px rgba(60, 64, 67, 0.3), 0px 1px 3px 1px rgba(60, 64, 67, 0.15);\n",
              "      fill: #174EA6;\n",
              "    }\n",
              "\n",
              "    [theme=dark] .colab-df-convert {\n",
              "      background-color: #3B4455;\n",
              "      fill: #D2E3FC;\n",
              "    }\n",
              "\n",
              "    [theme=dark] .colab-df-convert:hover {\n",
              "      background-color: #434B5C;\n",
              "      box-shadow: 0px 1px 3px 1px rgba(0, 0, 0, 0.15);\n",
              "      filter: drop-shadow(0px 1px 2px rgba(0, 0, 0, 0.3));\n",
              "      fill: #FFFFFF;\n",
              "    }\n",
              "  </style>\n",
              "\n",
              "      <script>\n",
              "        const buttonEl =\n",
              "          document.querySelector('#df-6fe80b0e-8b0a-4eeb-b4db-7ea899f31fc9 button.colab-df-convert');\n",
              "        buttonEl.style.display =\n",
              "          google.colab.kernel.accessAllowed ? 'block' : 'none';\n",
              "\n",
              "        async function convertToInteractive(key) {\n",
              "          const element = document.querySelector('#df-6fe80b0e-8b0a-4eeb-b4db-7ea899f31fc9');\n",
              "          const dataTable =\n",
              "            await google.colab.kernel.invokeFunction('convertToInteractive',\n",
              "                                                     [key], {});\n",
              "          if (!dataTable) return;\n",
              "\n",
              "          const docLinkHtml = 'Like what you see? Visit the ' +\n",
              "            '<a target=\"_blank\" href=https://colab.research.google.com/notebooks/data_table.ipynb>data table notebook</a>'\n",
              "            + ' to learn more about interactive tables.';\n",
              "          element.innerHTML = '';\n",
              "          dataTable['output_type'] = 'display_data';\n",
              "          await google.colab.output.renderOutput(dataTable, element);\n",
              "          const docLink = document.createElement('div');\n",
              "          docLink.innerHTML = docLinkHtml;\n",
              "          element.appendChild(docLink);\n",
              "        }\n",
              "      </script>\n",
              "    </div>\n",
              "  </div>\n",
              "  "
            ]
          },
          "metadata": {},
          "execution_count": 27
        }
      ]
    },
    {
      "cell_type": "code",
      "source": [
        "test['target']=pd.Series(dtype='int')"
      ],
      "metadata": {
        "id": "d95SF1DG1CJ1"
      },
      "execution_count": 29,
      "outputs": []
    },
    {
      "cell_type": "code",
      "source": [
        "y_train = train[targ]\n",
        "y_test = test[targ]"
      ],
      "metadata": {
        "id": "HGRMnKAK1OIj"
      },
      "execution_count": 45,
      "outputs": []
    },
    {
      "cell_type": "code",
      "source": [
        "print('Mean Baseline (using 0 features)')\n",
        "guess = y_train.mean()"
      ],
      "metadata": {
        "colab": {
          "base_uri": "https://localhost:8080/"
        },
        "id": "A-KqyLdE1XI3",
        "outputId": "4fdacba6-8a93-4869-d886-4f8440c94254"
      },
      "execution_count": 44,
      "outputs": [
        {
          "output_type": "stream",
          "name": "stdout",
          "text": [
            "Mean Baseline (using 0 features)\n"
          ]
        }
      ]
    },
    {
      "cell_type": "code",
      "source": [
        "# Train Error\n",
        "from sklearn.metrics import mean_absolute_error\n",
        "y_pred = [guess] * len(y_train) # create a df with the baseline guess only\n",
        "mae = mean_absolute_error(y_train, y_pred) #calculate the training_mae\n",
        "print(f'Train Error (1952-2004 elections): {mae:.2f} percentage points')"
      ],
      "metadata": {
        "colab": {
          "base_uri": "https://localhost:8080/"
        },
        "id": "n16FXW_Q1e3x",
        "outputId": "c782bd4f-c068-4598-e005-8c5b19a1437f"
      },
      "execution_count": 32,
      "outputs": [
        {
          "output_type": "stream",
          "name": "stdout",
          "text": [
            "Train Error (1952-2004 elections): 0.62 percentage points\n"
          ]
        }
      ]
    },
    {
      "cell_type": "code",
      "source": [
        "y_pred = [guess] * len(y_test)\n",
        "mae = mean_absolute_error(y_test, y_pred)\n",
        "print(f'Test Error (2008-16 elections): {mae:.2f} percentage points')"
      ],
      "metadata": {
        "colab": {
          "base_uri": "https://localhost:8080/"
        },
        "id": "M7_qKUub1jh6",
        "outputId": "f067c901-9f16-4422-e5ae-46e0dbc52ebf"
      },
      "execution_count": 46,
      "outputs": [
        {
          "output_type": "stream",
          "name": "stdout",
          "text": [
            "Test Error (2008-16 elections): 7.91 percentage points\n"
          ]
        }
      ]
    },
    {
      "cell_type": "code",
      "source": [
        "features = ['cont1', 'cont2', 'cont3', 'cont4', 'cont5', 'cont6', 'cont7',\n",
        "       'cont8', 'cont9', 'cont10', 'cont11', 'cont12', 'cont13', 'cont14']\n"
      ],
      "metadata": {
        "id": "4Mdb1t3D11z4"
      },
      "execution_count": 41,
      "outputs": []
    },
    {
      "cell_type": "code",
      "source": [
        "X_train = train[features]\n",
        "X_test=test[features]"
      ],
      "metadata": {
        "id": "T3bKvL3B2NB9"
      },
      "execution_count": 47,
      "outputs": []
    },
    {
      "cell_type": "code",
      "source": [
        "test.fillna(0,inplace=True)"
      ],
      "metadata": {
        "id": "RJuSkJ1U7pH6"
      },
      "execution_count": 40,
      "outputs": []
    },
    {
      "cell_type": "code",
      "source": [
        "from sklearn.linear_model import LinearRegression\n",
        "model = LinearRegression()"
      ],
      "metadata": {
        "id": "wik8DsnV2Ryu"
      },
      "execution_count": 48,
      "outputs": []
    },
    {
      "cell_type": "code",
      "source": [
        "model.fit(X_train, y_train)"
      ],
      "metadata": {
        "colab": {
          "base_uri": "https://localhost:8080/",
          "height": 74
        },
        "id": "2xfj4taY2jy_",
        "outputId": "e0c00cac-2224-48c8-c5f3-9207f09af48d"
      },
      "execution_count": 49,
      "outputs": [
        {
          "output_type": "execute_result",
          "data": {
            "text/plain": [
              "LinearRegression()"
            ],
            "text/html": [
              "<style>#sk-container-id-2 {color: black;background-color: white;}#sk-container-id-2 pre{padding: 0;}#sk-container-id-2 div.sk-toggleable {background-color: white;}#sk-container-id-2 label.sk-toggleable__label {cursor: pointer;display: block;width: 100%;margin-bottom: 0;padding: 0.3em;box-sizing: border-box;text-align: center;}#sk-container-id-2 label.sk-toggleable__label-arrow:before {content: \"▸\";float: left;margin-right: 0.25em;color: #696969;}#sk-container-id-2 label.sk-toggleable__label-arrow:hover:before {color: black;}#sk-container-id-2 div.sk-estimator:hover label.sk-toggleable__label-arrow:before {color: black;}#sk-container-id-2 div.sk-toggleable__content {max-height: 0;max-width: 0;overflow: hidden;text-align: left;background-color: #f0f8ff;}#sk-container-id-2 div.sk-toggleable__content pre {margin: 0.2em;color: black;border-radius: 0.25em;background-color: #f0f8ff;}#sk-container-id-2 input.sk-toggleable__control:checked~div.sk-toggleable__content {max-height: 200px;max-width: 100%;overflow: auto;}#sk-container-id-2 input.sk-toggleable__control:checked~label.sk-toggleable__label-arrow:before {content: \"▾\";}#sk-container-id-2 div.sk-estimator input.sk-toggleable__control:checked~label.sk-toggleable__label {background-color: #d4ebff;}#sk-container-id-2 div.sk-label input.sk-toggleable__control:checked~label.sk-toggleable__label {background-color: #d4ebff;}#sk-container-id-2 input.sk-hidden--visually {border: 0;clip: rect(1px 1px 1px 1px);clip: rect(1px, 1px, 1px, 1px);height: 1px;margin: -1px;overflow: hidden;padding: 0;position: absolute;width: 1px;}#sk-container-id-2 div.sk-estimator {font-family: monospace;background-color: #f0f8ff;border: 1px dotted black;border-radius: 0.25em;box-sizing: border-box;margin-bottom: 0.5em;}#sk-container-id-2 div.sk-estimator:hover {background-color: #d4ebff;}#sk-container-id-2 div.sk-parallel-item::after {content: \"\";width: 100%;border-bottom: 1px solid gray;flex-grow: 1;}#sk-container-id-2 div.sk-label:hover label.sk-toggleable__label {background-color: #d4ebff;}#sk-container-id-2 div.sk-serial::before {content: \"\";position: absolute;border-left: 1px solid gray;box-sizing: border-box;top: 0;bottom: 0;left: 50%;z-index: 0;}#sk-container-id-2 div.sk-serial {display: flex;flex-direction: column;align-items: center;background-color: white;padding-right: 0.2em;padding-left: 0.2em;position: relative;}#sk-container-id-2 div.sk-item {position: relative;z-index: 1;}#sk-container-id-2 div.sk-parallel {display: flex;align-items: stretch;justify-content: center;background-color: white;position: relative;}#sk-container-id-2 div.sk-item::before, #sk-container-id-2 div.sk-parallel-item::before {content: \"\";position: absolute;border-left: 1px solid gray;box-sizing: border-box;top: 0;bottom: 0;left: 50%;z-index: -1;}#sk-container-id-2 div.sk-parallel-item {display: flex;flex-direction: column;z-index: 1;position: relative;background-color: white;}#sk-container-id-2 div.sk-parallel-item:first-child::after {align-self: flex-end;width: 50%;}#sk-container-id-2 div.sk-parallel-item:last-child::after {align-self: flex-start;width: 50%;}#sk-container-id-2 div.sk-parallel-item:only-child::after {width: 0;}#sk-container-id-2 div.sk-dashed-wrapped {border: 1px dashed gray;margin: 0 0.4em 0.5em 0.4em;box-sizing: border-box;padding-bottom: 0.4em;background-color: white;}#sk-container-id-2 div.sk-label label {font-family: monospace;font-weight: bold;display: inline-block;line-height: 1.2em;}#sk-container-id-2 div.sk-label-container {text-align: center;}#sk-container-id-2 div.sk-container {/* jupyter's `normalize.less` sets `[hidden] { display: none; }` but bootstrap.min.css set `[hidden] { display: none !important; }` so we also need the `!important` here to be able to override the default hidden behavior on the sphinx rendered scikit-learn.org. See: https://github.com/scikit-learn/scikit-learn/issues/21755 */display: inline-block !important;position: relative;}#sk-container-id-2 div.sk-text-repr-fallback {display: none;}</style><div id=\"sk-container-id-2\" class=\"sk-top-container\"><div class=\"sk-text-repr-fallback\"><pre>LinearRegression()</pre><b>In a Jupyter environment, please rerun this cell to show the HTML representation or trust the notebook. <br />On GitHub, the HTML representation is unable to render, please try loading this page with nbviewer.org.</b></div><div class=\"sk-container\" hidden><div class=\"sk-item\"><div class=\"sk-estimator sk-toggleable\"><input class=\"sk-toggleable__control sk-hidden--visually\" id=\"sk-estimator-id-2\" type=\"checkbox\" checked><label for=\"sk-estimator-id-2\" class=\"sk-toggleable__label sk-toggleable__label-arrow\">LinearRegression</label><div class=\"sk-toggleable__content\"><pre>LinearRegression()</pre></div></div></div></div></div>"
            ]
          },
          "metadata": {},
          "execution_count": 49
        }
      ]
    },
    {
      "cell_type": "code",
      "source": [
        "y_pred=model.predict(X_train)\n",
        "mae=mean_absolute_error(y_train, y_pred)\n",
        "print('train error', mae)"
      ],
      "metadata": {
        "colab": {
          "base_uri": "https://localhost:8080/"
        },
        "id": "R3EuSx232o7G",
        "outputId": "7605a034-9ee0-40d5-f8bd-5bc678ecc531"
      },
      "execution_count": 50,
      "outputs": [
        {
          "output_type": "stream",
          "name": "stdout",
          "text": [
            "train error 0.6124805388242599\n"
          ]
        }
      ]
    },
    {
      "cell_type": "code",
      "source": [
        "y_pred=model.predict(X_test)\n",
        "mae=mean_absolute_error(y_test, y_pred)\n",
        "print('test error', mae)"
      ],
      "metadata": {
        "colab": {
          "base_uri": "https://localhost:8080/"
        },
        "id": "rWMUkKAt2z5Z",
        "outputId": "6af47b71-f7ea-4524-d195-3303371156ba"
      },
      "execution_count": 51,
      "outputs": [
        {
          "output_type": "stream",
          "name": "stdout",
          "text": [
            "test error 7.905556786589903\n"
          ]
        }
      ]
    },
    {
      "cell_type": "code",
      "source": [
        "train.columns"
      ],
      "metadata": {
        "colab": {
          "base_uri": "https://localhost:8080/"
        },
        "id": "k_eV3blT181w",
        "outputId": "c8bdc35f-2966-495c-dd81-ef78d961b804"
      },
      "execution_count": 16,
      "outputs": [
        {
          "output_type": "execute_result",
          "data": {
            "text/plain": [
              "Index(['id', 'cont1', 'cont2', 'cont3', 'cont4', 'cont5', 'cont6', 'cont7',\n",
              "       'cont8', 'cont9', 'cont10', 'cont11', 'cont12', 'cont13', 'cont14',\n",
              "       'target'],\n",
              "      dtype='object')"
            ]
          },
          "metadata": {},
          "execution_count": 16
        }
      ]
    },
    {
      "cell_type": "code",
      "source": [
        "submission = pd.DataFrame({'id': test['id'],'target': y_pred})\n",
        "\n",
        "# Save the predictions to a CSV file\n",
        "submission.to_csv('submission.csv', index=False)\n"
      ],
      "metadata": {
        "id": "3buN9QSDf6s8"
      },
      "execution_count": 53,
      "outputs": []
    }
  ]
}