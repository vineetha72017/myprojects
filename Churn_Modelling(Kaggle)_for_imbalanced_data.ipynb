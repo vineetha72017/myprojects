{
  "nbformat": 4,
  "nbformat_minor": 0,
  "metadata": {
    "colab": {
      "provenance": []
    },
    "kernelspec": {
      "name": "python3",
      "display_name": "Python 3"
    },
    "language_info": {
      "name": "python"
    }
  },
  "cells": [
    {
      "cell_type": "code",
      "execution_count": 4,
      "metadata": {
        "id": "QhRhvPSYPAm7"
      },
      "outputs": [],
      "source": [
        "import pandas as pd\n",
        "import numpy as np"
      ]
    },
    {
      "cell_type": "code",
      "source": [
        "df=pd.read_csv('/content/Churn_Modelling.csv')"
      ],
      "metadata": {
        "id": "GjnJPl4BPQgr"
      },
      "execution_count": 5,
      "outputs": []
    },
    {
      "cell_type": "code",
      "source": [
        "df.head(2)"
      ],
      "metadata": {
        "colab": {
          "base_uri": "https://localhost:8080/",
          "height": 176
        },
        "id": "2QM9D1bZPX3k",
        "outputId": "ee9dd7ce-1c3c-4ea8-d5cc-1513bbbc1d29"
      },
      "execution_count": 6,
      "outputs": [
        {
          "output_type": "execute_result",
          "data": {
            "text/plain": [
              "   RowNumber  CustomerId   Surname  CreditScore Geography  Gender  Age  \\\n",
              "0          1    15634602  Hargrave          619    France  Female   42   \n",
              "1          2    15647311      Hill          608     Spain  Female   41   \n",
              "\n",
              "   Tenure   Balance  NumOfProducts  HasCrCard  IsActiveMember  \\\n",
              "0       2      0.00              1          1               1   \n",
              "1       1  83807.86              1          0               1   \n",
              "\n",
              "   EstimatedSalary  Exited  \n",
              "0        101348.88       1  \n",
              "1        112542.58       0  "
            ],
            "text/html": [
              "\n",
              "\n",
              "  <div id=\"df-72e05c0d-c8e7-458d-89ab-a789e6ca7263\">\n",
              "    <div class=\"colab-df-container\">\n",
              "      <div>\n",
              "<style scoped>\n",
              "    .dataframe tbody tr th:only-of-type {\n",
              "        vertical-align: middle;\n",
              "    }\n",
              "\n",
              "    .dataframe tbody tr th {\n",
              "        vertical-align: top;\n",
              "    }\n",
              "\n",
              "    .dataframe thead th {\n",
              "        text-align: right;\n",
              "    }\n",
              "</style>\n",
              "<table border=\"1\" class=\"dataframe\">\n",
              "  <thead>\n",
              "    <tr style=\"text-align: right;\">\n",
              "      <th></th>\n",
              "      <th>RowNumber</th>\n",
              "      <th>CustomerId</th>\n",
              "      <th>Surname</th>\n",
              "      <th>CreditScore</th>\n",
              "      <th>Geography</th>\n",
              "      <th>Gender</th>\n",
              "      <th>Age</th>\n",
              "      <th>Tenure</th>\n",
              "      <th>Balance</th>\n",
              "      <th>NumOfProducts</th>\n",
              "      <th>HasCrCard</th>\n",
              "      <th>IsActiveMember</th>\n",
              "      <th>EstimatedSalary</th>\n",
              "      <th>Exited</th>\n",
              "    </tr>\n",
              "  </thead>\n",
              "  <tbody>\n",
              "    <tr>\n",
              "      <th>0</th>\n",
              "      <td>1</td>\n",
              "      <td>15634602</td>\n",
              "      <td>Hargrave</td>\n",
              "      <td>619</td>\n",
              "      <td>France</td>\n",
              "      <td>Female</td>\n",
              "      <td>42</td>\n",
              "      <td>2</td>\n",
              "      <td>0.00</td>\n",
              "      <td>1</td>\n",
              "      <td>1</td>\n",
              "      <td>1</td>\n",
              "      <td>101348.88</td>\n",
              "      <td>1</td>\n",
              "    </tr>\n",
              "    <tr>\n",
              "      <th>1</th>\n",
              "      <td>2</td>\n",
              "      <td>15647311</td>\n",
              "      <td>Hill</td>\n",
              "      <td>608</td>\n",
              "      <td>Spain</td>\n",
              "      <td>Female</td>\n",
              "      <td>41</td>\n",
              "      <td>1</td>\n",
              "      <td>83807.86</td>\n",
              "      <td>1</td>\n",
              "      <td>0</td>\n",
              "      <td>1</td>\n",
              "      <td>112542.58</td>\n",
              "      <td>0</td>\n",
              "    </tr>\n",
              "  </tbody>\n",
              "</table>\n",
              "</div>\n",
              "      <button class=\"colab-df-convert\" onclick=\"convertToInteractive('df-72e05c0d-c8e7-458d-89ab-a789e6ca7263')\"\n",
              "              title=\"Convert this dataframe to an interactive table.\"\n",
              "              style=\"display:none;\">\n",
              "\n",
              "  <svg xmlns=\"http://www.w3.org/2000/svg\" height=\"24px\"viewBox=\"0 0 24 24\"\n",
              "       width=\"24px\">\n",
              "    <path d=\"M0 0h24v24H0V0z\" fill=\"none\"/>\n",
              "    <path d=\"M18.56 5.44l.94 2.06.94-2.06 2.06-.94-2.06-.94-.94-2.06-.94 2.06-2.06.94zm-11 1L8.5 8.5l.94-2.06 2.06-.94-2.06-.94L8.5 2.5l-.94 2.06-2.06.94zm10 10l.94 2.06.94-2.06 2.06-.94-2.06-.94-.94-2.06-.94 2.06-2.06.94z\"/><path d=\"M17.41 7.96l-1.37-1.37c-.4-.4-.92-.59-1.43-.59-.52 0-1.04.2-1.43.59L10.3 9.45l-7.72 7.72c-.78.78-.78 2.05 0 2.83L4 21.41c.39.39.9.59 1.41.59.51 0 1.02-.2 1.41-.59l7.78-7.78 2.81-2.81c.8-.78.8-2.07 0-2.86zM5.41 20L4 18.59l7.72-7.72 1.47 1.35L5.41 20z\"/>\n",
              "  </svg>\n",
              "      </button>\n",
              "\n",
              "\n",
              "\n",
              "    <div id=\"df-c44d9794-cd12-4319-a79c-7a5556fed7b3\">\n",
              "      <button class=\"colab-df-quickchart\" onclick=\"quickchart('df-c44d9794-cd12-4319-a79c-7a5556fed7b3')\"\n",
              "              title=\"Suggest charts.\"\n",
              "              style=\"display:none;\">\n",
              "\n",
              "<svg xmlns=\"http://www.w3.org/2000/svg\" height=\"24px\"viewBox=\"0 0 24 24\"\n",
              "     width=\"24px\">\n",
              "    <g>\n",
              "        <path d=\"M19 3H5c-1.1 0-2 .9-2 2v14c0 1.1.9 2 2 2h14c1.1 0 2-.9 2-2V5c0-1.1-.9-2-2-2zM9 17H7v-7h2v7zm4 0h-2V7h2v10zm4 0h-2v-4h2v4z\"/>\n",
              "    </g>\n",
              "</svg>\n",
              "      </button>\n",
              "    </div>\n",
              "\n",
              "<style>\n",
              "  .colab-df-quickchart {\n",
              "    background-color: #E8F0FE;\n",
              "    border: none;\n",
              "    border-radius: 50%;\n",
              "    cursor: pointer;\n",
              "    display: none;\n",
              "    fill: #1967D2;\n",
              "    height: 32px;\n",
              "    padding: 0 0 0 0;\n",
              "    width: 32px;\n",
              "  }\n",
              "\n",
              "  .colab-df-quickchart:hover {\n",
              "    background-color: #E2EBFA;\n",
              "    box-shadow: 0px 1px 2px rgba(60, 64, 67, 0.3), 0px 1px 3px 1px rgba(60, 64, 67, 0.15);\n",
              "    fill: #174EA6;\n",
              "  }\n",
              "\n",
              "  [theme=dark] .colab-df-quickchart {\n",
              "    background-color: #3B4455;\n",
              "    fill: #D2E3FC;\n",
              "  }\n",
              "\n",
              "  [theme=dark] .colab-df-quickchart:hover {\n",
              "    background-color: #434B5C;\n",
              "    box-shadow: 0px 1px 3px 1px rgba(0, 0, 0, 0.15);\n",
              "    filter: drop-shadow(0px 1px 2px rgba(0, 0, 0, 0.3));\n",
              "    fill: #FFFFFF;\n",
              "  }\n",
              "</style>\n",
              "\n",
              "    <script>\n",
              "      async function quickchart(key) {\n",
              "        const containerElement = document.querySelector('#' + key);\n",
              "        const charts = await google.colab.kernel.invokeFunction(\n",
              "            'suggestCharts', [key], {});\n",
              "      }\n",
              "    </script>\n",
              "\n",
              "      <script>\n",
              "\n",
              "function displayQuickchartButton(domScope) {\n",
              "  let quickchartButtonEl =\n",
              "    domScope.querySelector('#df-c44d9794-cd12-4319-a79c-7a5556fed7b3 button.colab-df-quickchart');\n",
              "  quickchartButtonEl.style.display =\n",
              "    google.colab.kernel.accessAllowed ? 'block' : 'none';\n",
              "}\n",
              "\n",
              "        displayQuickchartButton(document);\n",
              "      </script>\n",
              "      <style>\n",
              "    .colab-df-container {\n",
              "      display:flex;\n",
              "      flex-wrap:wrap;\n",
              "      gap: 12px;\n",
              "    }\n",
              "\n",
              "    .colab-df-convert {\n",
              "      background-color: #E8F0FE;\n",
              "      border: none;\n",
              "      border-radius: 50%;\n",
              "      cursor: pointer;\n",
              "      display: none;\n",
              "      fill: #1967D2;\n",
              "      height: 32px;\n",
              "      padding: 0 0 0 0;\n",
              "      width: 32px;\n",
              "    }\n",
              "\n",
              "    .colab-df-convert:hover {\n",
              "      background-color: #E2EBFA;\n",
              "      box-shadow: 0px 1px 2px rgba(60, 64, 67, 0.3), 0px 1px 3px 1px rgba(60, 64, 67, 0.15);\n",
              "      fill: #174EA6;\n",
              "    }\n",
              "\n",
              "    [theme=dark] .colab-df-convert {\n",
              "      background-color: #3B4455;\n",
              "      fill: #D2E3FC;\n",
              "    }\n",
              "\n",
              "    [theme=dark] .colab-df-convert:hover {\n",
              "      background-color: #434B5C;\n",
              "      box-shadow: 0px 1px 3px 1px rgba(0, 0, 0, 0.15);\n",
              "      filter: drop-shadow(0px 1px 2px rgba(0, 0, 0, 0.3));\n",
              "      fill: #FFFFFF;\n",
              "    }\n",
              "  </style>\n",
              "\n",
              "      <script>\n",
              "        const buttonEl =\n",
              "          document.querySelector('#df-72e05c0d-c8e7-458d-89ab-a789e6ca7263 button.colab-df-convert');\n",
              "        buttonEl.style.display =\n",
              "          google.colab.kernel.accessAllowed ? 'block' : 'none';\n",
              "\n",
              "        async function convertToInteractive(key) {\n",
              "          const element = document.querySelector('#df-72e05c0d-c8e7-458d-89ab-a789e6ca7263');\n",
              "          const dataTable =\n",
              "            await google.colab.kernel.invokeFunction('convertToInteractive',\n",
              "                                                     [key], {});\n",
              "          if (!dataTable) return;\n",
              "\n",
              "          const docLinkHtml = 'Like what you see? Visit the ' +\n",
              "            '<a target=\"_blank\" href=https://colab.research.google.com/notebooks/data_table.ipynb>data table notebook</a>'\n",
              "            + ' to learn more about interactive tables.';\n",
              "          element.innerHTML = '';\n",
              "          dataTable['output_type'] = 'display_data';\n",
              "          await google.colab.output.renderOutput(dataTable, element);\n",
              "          const docLink = document.createElement('div');\n",
              "          docLink.innerHTML = docLinkHtml;\n",
              "          element.appendChild(docLink);\n",
              "        }\n",
              "      </script>\n",
              "    </div>\n",
              "  </div>\n"
            ]
          },
          "metadata": {},
          "execution_count": 6
        }
      ]
    },
    {
      "cell_type": "code",
      "source": [
        "df.drop('CustomerId',axis=1,inplace=True)\n"
      ],
      "metadata": {
        "id": "klMOX5o4PdCh"
      },
      "execution_count": 7,
      "outputs": []
    },
    {
      "cell_type": "code",
      "source": [
        "df.dtypes"
      ],
      "metadata": {
        "colab": {
          "base_uri": "https://localhost:8080/"
        },
        "id": "DLu1RyXeP1MY",
        "outputId": "d3b6eefe-416d-4826-df98-e9aec9025933"
      },
      "execution_count": 8,
      "outputs": [
        {
          "output_type": "execute_result",
          "data": {
            "text/plain": [
              "RowNumber            int64\n",
              "Surname             object\n",
              "CreditScore          int64\n",
              "Geography           object\n",
              "Gender              object\n",
              "Age                  int64\n",
              "Tenure               int64\n",
              "Balance            float64\n",
              "NumOfProducts        int64\n",
              "HasCrCard            int64\n",
              "IsActiveMember       int64\n",
              "EstimatedSalary    float64\n",
              "Exited               int64\n",
              "dtype: object"
            ]
          },
          "metadata": {},
          "execution_count": 8
        }
      ]
    },
    {
      "cell_type": "code",
      "source": [
        "df.drop('Surname',axis=1,inplace=True)"
      ],
      "metadata": {
        "id": "cEePoyACP6yp"
      },
      "execution_count": 9,
      "outputs": []
    },
    {
      "cell_type": "code",
      "source": [
        "df.dtypes"
      ],
      "metadata": {
        "colab": {
          "base_uri": "https://localhost:8080/"
        },
        "id": "NVqf2MObQJl6",
        "outputId": "fe2b37fd-9c47-4f00-b088-46330e8a8316"
      },
      "execution_count": 10,
      "outputs": [
        {
          "output_type": "execute_result",
          "data": {
            "text/plain": [
              "RowNumber            int64\n",
              "CreditScore          int64\n",
              "Geography           object\n",
              "Gender              object\n",
              "Age                  int64\n",
              "Tenure               int64\n",
              "Balance            float64\n",
              "NumOfProducts        int64\n",
              "HasCrCard            int64\n",
              "IsActiveMember       int64\n",
              "EstimatedSalary    float64\n",
              "Exited               int64\n",
              "dtype: object"
            ]
          },
          "metadata": {},
          "execution_count": 10
        }
      ]
    },
    {
      "cell_type": "code",
      "source": [
        "def print_cols():\n",
        "  for col in df:\n",
        "    print(f\"{col}:{df[col].unique()}\")"
      ],
      "metadata": {
        "id": "dmYUzgC-QQxj"
      },
      "execution_count": 11,
      "outputs": []
    },
    {
      "cell_type": "code",
      "source": [
        "print_cols()"
      ],
      "metadata": {
        "colab": {
          "base_uri": "https://localhost:8080/"
        },
        "id": "mT1_CTOqQ0ej",
        "outputId": "6ccec079-88d5-453a-a1cc-e76d543dafe7"
      },
      "execution_count": 12,
      "outputs": [
        {
          "output_type": "stream",
          "name": "stdout",
          "text": [
            "RowNumber:[    1     2     3 ...  9998  9999 10000]\n",
            "CreditScore:[619 608 502 699 850 645 822 376 501 684 528 497 476 549 635 616 653 587\n",
            " 726 732 636 510 669 846 577 756 571 574 411 591 533 553 520 722 475 490\n",
            " 804 582 472 465 556 834 660 776 829 637 550 698 585 788 655 601 656 725\n",
            " 511 614 742 687 555 603 751 581 735 661 675 738 813 657 604 519 664 678\n",
            " 757 416 665 777 543 506 493 652 750 729 646 647 808 524 769 730 515 773\n",
            " 814 710 413 623 670 622 785 605 479 685 538 562 721 628 668 828 674 625\n",
            " 432 770 758 795 686 789 589 461 584 579 663 682 793 691 485 650 754 535\n",
            " 716 539 706 586 631 717 800 683 704 615 667 484 480 578 512 606 597 778\n",
            " 514 525 715 580 807 521 759 516 711 618 643 671 689 620 676 572 695 592\n",
            " 567 694 547 594 673 610 767 763 712 703 662 659 523 772 545 634 739 771\n",
            " 681 544 696 766 727 693 557 531 498 651 791 733 811 707 714 782 775 799\n",
            " 602 744 588 747 583 627 731 629 438 642 806 474 559 429 680 749 734 644\n",
            " 626 649 805 718 840 630 654 762 568 613 522 737 648 443 640 540 460 593\n",
            " 801 611 802 745 483 690 492 709 705 560 752 701 537 487 596 702 486 724\n",
            " 548 464 790 534 748 494 590 468 509 818 816 536 753 774 621 569 658 798\n",
            " 641 542 692 639 765 570 638 599 632 779 527 564 833 504 842 508 417 598\n",
            " 741 607 761 848 546 439 755 760 526 713 700 666 566 495 688 612 477 427\n",
            " 839 819 720 459 503 624 529 563 482 796 445 746 786 554 672 787 499 844\n",
            " 450 815 838 803 736 633 600 679 517 792 743 488 421 841 708 507 505 456\n",
            " 435 561 518 565 728 784 552 609 764 697 723 551 444 719 496 541 830 812\n",
            " 677 420 595 617 809 500 826 434 513 478 797 363 399 463 780 452 575 837\n",
            " 794 824 428 823 781 849 489 431 457 768 831 359 820 573 576 558 817 449\n",
            " 440 415 821 530 350 446 425 740 481 783 358 845 451 458 469 423 404 836\n",
            " 473 835 466 491 351 827 843 365 532 414 453 471 401 810 832 470 447 422\n",
            " 825 430 436 426 408 847 418 437 410 454 407 455 462 386 405 383 395 467\n",
            " 433 442 424 448 441 367 412 382 373 419]\n",
            "Geography:['France' 'Spain' 'Germany']\n",
            "Gender:['Female' 'Male']\n",
            "Age:[42 41 39 43 44 50 29 27 31 24 34 25 35 45 58 32 38 46 36 33 40 51 61 49\n",
            " 37 19 66 56 26 21 55 75 22 30 28 65 48 52 57 73 47 54 72 20 67 79 62 53\n",
            " 80 59 68 23 60 70 63 64 18 82 69 74 71 76 77 88 85 84 78 81 92 83]\n",
            "Tenure:[ 2  1  8  7  4  6  3 10  5  9  0]\n",
            "Balance:[     0.    83807.86 159660.8  ...  57369.61  75075.31 130142.79]\n",
            "NumOfProducts:[1 3 2 4]\n",
            "HasCrCard:[1 0]\n",
            "IsActiveMember:[1 0]\n",
            "EstimatedSalary:[101348.88 112542.58 113931.57 ...  42085.58  92888.52  38190.78]\n",
            "Exited:[1 0]\n"
          ]
        }
      ]
    },
    {
      "cell_type": "code",
      "source": [
        "df.dtypes"
      ],
      "metadata": {
        "colab": {
          "base_uri": "https://localhost:8080/"
        },
        "id": "9-ar4SAsRSOD",
        "outputId": "9a75faa2-d493-4ab5-bf6d-d62cbb54aa80"
      },
      "execution_count": 13,
      "outputs": [
        {
          "output_type": "execute_result",
          "data": {
            "text/plain": [
              "RowNumber            int64\n",
              "CreditScore          int64\n",
              "Geography           object\n",
              "Gender              object\n",
              "Age                  int64\n",
              "Tenure               int64\n",
              "Balance            float64\n",
              "NumOfProducts        int64\n",
              "HasCrCard            int64\n",
              "IsActiveMember       int64\n",
              "EstimatedSalary    float64\n",
              "Exited               int64\n",
              "dtype: object"
            ]
          },
          "metadata": {},
          "execution_count": 13
        }
      ]
    },
    {
      "cell_type": "code",
      "source": [
        "df=pd.get_dummies(data=df,columns=['Geography'])\n",
        "df.columns"
      ],
      "metadata": {
        "colab": {
          "base_uri": "https://localhost:8080/"
        },
        "id": "EuJbM2-ERszL",
        "outputId": "3d3b447e-b449-42d1-bdc5-b8a260add36b"
      },
      "execution_count": 14,
      "outputs": [
        {
          "output_type": "execute_result",
          "data": {
            "text/plain": [
              "Index(['RowNumber', 'CreditScore', 'Gender', 'Age', 'Tenure', 'Balance',\n",
              "       'NumOfProducts', 'HasCrCard', 'IsActiveMember', 'EstimatedSalary',\n",
              "       'Exited', 'Geography_France', 'Geography_Germany', 'Geography_Spain'],\n",
              "      dtype='object')"
            ]
          },
          "metadata": {},
          "execution_count": 14
        }
      ]
    },
    {
      "cell_type": "code",
      "source": [
        "df.dtypes"
      ],
      "metadata": {
        "colab": {
          "base_uri": "https://localhost:8080/"
        },
        "id": "f9u51C9_Sceo",
        "outputId": "e34f13fd-1f6d-4839-de71-d169bdf337a5"
      },
      "execution_count": 15,
      "outputs": [
        {
          "output_type": "execute_result",
          "data": {
            "text/plain": [
              "RowNumber              int64\n",
              "CreditScore            int64\n",
              "Gender                object\n",
              "Age                    int64\n",
              "Tenure                 int64\n",
              "Balance              float64\n",
              "NumOfProducts          int64\n",
              "HasCrCard              int64\n",
              "IsActiveMember         int64\n",
              "EstimatedSalary      float64\n",
              "Exited                 int64\n",
              "Geography_France       uint8\n",
              "Geography_Germany      uint8\n",
              "Geography_Spain        uint8\n",
              "dtype: object"
            ]
          },
          "metadata": {},
          "execution_count": 15
        }
      ]
    },
    {
      "cell_type": "code",
      "source": [
        "df['Gender'].replace({'Female':1},inplace=True)\n",
        "df['Gender'].replace({'Male':0},inplace=True)"
      ],
      "metadata": {
        "id": "U_nRpSwISgnk"
      },
      "execution_count": 16,
      "outputs": []
    },
    {
      "cell_type": "code",
      "source": [
        "df.head(2)"
      ],
      "metadata": {
        "colab": {
          "base_uri": "https://localhost:8080/",
          "height": 176
        },
        "id": "k3kPWGvyS1c4",
        "outputId": "294ff114-93ed-4c1b-a678-4613c8e41e54"
      },
      "execution_count": 17,
      "outputs": [
        {
          "output_type": "execute_result",
          "data": {
            "text/plain": [
              "   RowNumber  CreditScore  Gender  Age  Tenure   Balance  NumOfProducts  \\\n",
              "0          1          619       1   42       2      0.00              1   \n",
              "1          2          608       1   41       1  83807.86              1   \n",
              "\n",
              "   HasCrCard  IsActiveMember  EstimatedSalary  Exited  Geography_France  \\\n",
              "0          1               1        101348.88       1                 1   \n",
              "1          0               1        112542.58       0                 0   \n",
              "\n",
              "   Geography_Germany  Geography_Spain  \n",
              "0                  0                0  \n",
              "1                  0                1  "
            ],
            "text/html": [
              "\n",
              "\n",
              "  <div id=\"df-51b6022c-a296-474e-99c8-fdad56ff1125\">\n",
              "    <div class=\"colab-df-container\">\n",
              "      <div>\n",
              "<style scoped>\n",
              "    .dataframe tbody tr th:only-of-type {\n",
              "        vertical-align: middle;\n",
              "    }\n",
              "\n",
              "    .dataframe tbody tr th {\n",
              "        vertical-align: top;\n",
              "    }\n",
              "\n",
              "    .dataframe thead th {\n",
              "        text-align: right;\n",
              "    }\n",
              "</style>\n",
              "<table border=\"1\" class=\"dataframe\">\n",
              "  <thead>\n",
              "    <tr style=\"text-align: right;\">\n",
              "      <th></th>\n",
              "      <th>RowNumber</th>\n",
              "      <th>CreditScore</th>\n",
              "      <th>Gender</th>\n",
              "      <th>Age</th>\n",
              "      <th>Tenure</th>\n",
              "      <th>Balance</th>\n",
              "      <th>NumOfProducts</th>\n",
              "      <th>HasCrCard</th>\n",
              "      <th>IsActiveMember</th>\n",
              "      <th>EstimatedSalary</th>\n",
              "      <th>Exited</th>\n",
              "      <th>Geography_France</th>\n",
              "      <th>Geography_Germany</th>\n",
              "      <th>Geography_Spain</th>\n",
              "    </tr>\n",
              "  </thead>\n",
              "  <tbody>\n",
              "    <tr>\n",
              "      <th>0</th>\n",
              "      <td>1</td>\n",
              "      <td>619</td>\n",
              "      <td>1</td>\n",
              "      <td>42</td>\n",
              "      <td>2</td>\n",
              "      <td>0.00</td>\n",
              "      <td>1</td>\n",
              "      <td>1</td>\n",
              "      <td>1</td>\n",
              "      <td>101348.88</td>\n",
              "      <td>1</td>\n",
              "      <td>1</td>\n",
              "      <td>0</td>\n",
              "      <td>0</td>\n",
              "    </tr>\n",
              "    <tr>\n",
              "      <th>1</th>\n",
              "      <td>2</td>\n",
              "      <td>608</td>\n",
              "      <td>1</td>\n",
              "      <td>41</td>\n",
              "      <td>1</td>\n",
              "      <td>83807.86</td>\n",
              "      <td>1</td>\n",
              "      <td>0</td>\n",
              "      <td>1</td>\n",
              "      <td>112542.58</td>\n",
              "      <td>0</td>\n",
              "      <td>0</td>\n",
              "      <td>0</td>\n",
              "      <td>1</td>\n",
              "    </tr>\n",
              "  </tbody>\n",
              "</table>\n",
              "</div>\n",
              "      <button class=\"colab-df-convert\" onclick=\"convertToInteractive('df-51b6022c-a296-474e-99c8-fdad56ff1125')\"\n",
              "              title=\"Convert this dataframe to an interactive table.\"\n",
              "              style=\"display:none;\">\n",
              "\n",
              "  <svg xmlns=\"http://www.w3.org/2000/svg\" height=\"24px\"viewBox=\"0 0 24 24\"\n",
              "       width=\"24px\">\n",
              "    <path d=\"M0 0h24v24H0V0z\" fill=\"none\"/>\n",
              "    <path d=\"M18.56 5.44l.94 2.06.94-2.06 2.06-.94-2.06-.94-.94-2.06-.94 2.06-2.06.94zm-11 1L8.5 8.5l.94-2.06 2.06-.94-2.06-.94L8.5 2.5l-.94 2.06-2.06.94zm10 10l.94 2.06.94-2.06 2.06-.94-2.06-.94-.94-2.06-.94 2.06-2.06.94z\"/><path d=\"M17.41 7.96l-1.37-1.37c-.4-.4-.92-.59-1.43-.59-.52 0-1.04.2-1.43.59L10.3 9.45l-7.72 7.72c-.78.78-.78 2.05 0 2.83L4 21.41c.39.39.9.59 1.41.59.51 0 1.02-.2 1.41-.59l7.78-7.78 2.81-2.81c.8-.78.8-2.07 0-2.86zM5.41 20L4 18.59l7.72-7.72 1.47 1.35L5.41 20z\"/>\n",
              "  </svg>\n",
              "      </button>\n",
              "\n",
              "\n",
              "\n",
              "    <div id=\"df-3f82575c-5442-4403-9dce-5e7078c5c783\">\n",
              "      <button class=\"colab-df-quickchart\" onclick=\"quickchart('df-3f82575c-5442-4403-9dce-5e7078c5c783')\"\n",
              "              title=\"Suggest charts.\"\n",
              "              style=\"display:none;\">\n",
              "\n",
              "<svg xmlns=\"http://www.w3.org/2000/svg\" height=\"24px\"viewBox=\"0 0 24 24\"\n",
              "     width=\"24px\">\n",
              "    <g>\n",
              "        <path d=\"M19 3H5c-1.1 0-2 .9-2 2v14c0 1.1.9 2 2 2h14c1.1 0 2-.9 2-2V5c0-1.1-.9-2-2-2zM9 17H7v-7h2v7zm4 0h-2V7h2v10zm4 0h-2v-4h2v4z\"/>\n",
              "    </g>\n",
              "</svg>\n",
              "      </button>\n",
              "    </div>\n",
              "\n",
              "<style>\n",
              "  .colab-df-quickchart {\n",
              "    background-color: #E8F0FE;\n",
              "    border: none;\n",
              "    border-radius: 50%;\n",
              "    cursor: pointer;\n",
              "    display: none;\n",
              "    fill: #1967D2;\n",
              "    height: 32px;\n",
              "    padding: 0 0 0 0;\n",
              "    width: 32px;\n",
              "  }\n",
              "\n",
              "  .colab-df-quickchart:hover {\n",
              "    background-color: #E2EBFA;\n",
              "    box-shadow: 0px 1px 2px rgba(60, 64, 67, 0.3), 0px 1px 3px 1px rgba(60, 64, 67, 0.15);\n",
              "    fill: #174EA6;\n",
              "  }\n",
              "\n",
              "  [theme=dark] .colab-df-quickchart {\n",
              "    background-color: #3B4455;\n",
              "    fill: #D2E3FC;\n",
              "  }\n",
              "\n",
              "  [theme=dark] .colab-df-quickchart:hover {\n",
              "    background-color: #434B5C;\n",
              "    box-shadow: 0px 1px 3px 1px rgba(0, 0, 0, 0.15);\n",
              "    filter: drop-shadow(0px 1px 2px rgba(0, 0, 0, 0.3));\n",
              "    fill: #FFFFFF;\n",
              "  }\n",
              "</style>\n",
              "\n",
              "    <script>\n",
              "      async function quickchart(key) {\n",
              "        const containerElement = document.querySelector('#' + key);\n",
              "        const charts = await google.colab.kernel.invokeFunction(\n",
              "            'suggestCharts', [key], {});\n",
              "      }\n",
              "    </script>\n",
              "\n",
              "      <script>\n",
              "\n",
              "function displayQuickchartButton(domScope) {\n",
              "  let quickchartButtonEl =\n",
              "    domScope.querySelector('#df-3f82575c-5442-4403-9dce-5e7078c5c783 button.colab-df-quickchart');\n",
              "  quickchartButtonEl.style.display =\n",
              "    google.colab.kernel.accessAllowed ? 'block' : 'none';\n",
              "}\n",
              "\n",
              "        displayQuickchartButton(document);\n",
              "      </script>\n",
              "      <style>\n",
              "    .colab-df-container {\n",
              "      display:flex;\n",
              "      flex-wrap:wrap;\n",
              "      gap: 12px;\n",
              "    }\n",
              "\n",
              "    .colab-df-convert {\n",
              "      background-color: #E8F0FE;\n",
              "      border: none;\n",
              "      border-radius: 50%;\n",
              "      cursor: pointer;\n",
              "      display: none;\n",
              "      fill: #1967D2;\n",
              "      height: 32px;\n",
              "      padding: 0 0 0 0;\n",
              "      width: 32px;\n",
              "    }\n",
              "\n",
              "    .colab-df-convert:hover {\n",
              "      background-color: #E2EBFA;\n",
              "      box-shadow: 0px 1px 2px rgba(60, 64, 67, 0.3), 0px 1px 3px 1px rgba(60, 64, 67, 0.15);\n",
              "      fill: #174EA6;\n",
              "    }\n",
              "\n",
              "    [theme=dark] .colab-df-convert {\n",
              "      background-color: #3B4455;\n",
              "      fill: #D2E3FC;\n",
              "    }\n",
              "\n",
              "    [theme=dark] .colab-df-convert:hover {\n",
              "      background-color: #434B5C;\n",
              "      box-shadow: 0px 1px 3px 1px rgba(0, 0, 0, 0.15);\n",
              "      filter: drop-shadow(0px 1px 2px rgba(0, 0, 0, 0.3));\n",
              "      fill: #FFFFFF;\n",
              "    }\n",
              "  </style>\n",
              "\n",
              "      <script>\n",
              "        const buttonEl =\n",
              "          document.querySelector('#df-51b6022c-a296-474e-99c8-fdad56ff1125 button.colab-df-convert');\n",
              "        buttonEl.style.display =\n",
              "          google.colab.kernel.accessAllowed ? 'block' : 'none';\n",
              "\n",
              "        async function convertToInteractive(key) {\n",
              "          const element = document.querySelector('#df-51b6022c-a296-474e-99c8-fdad56ff1125');\n",
              "          const dataTable =\n",
              "            await google.colab.kernel.invokeFunction('convertToInteractive',\n",
              "                                                     [key], {});\n",
              "          if (!dataTable) return;\n",
              "\n",
              "          const docLinkHtml = 'Like what you see? Visit the ' +\n",
              "            '<a target=\"_blank\" href=https://colab.research.google.com/notebooks/data_table.ipynb>data table notebook</a>'\n",
              "            + ' to learn more about interactive tables.';\n",
              "          element.innerHTML = '';\n",
              "          dataTable['output_type'] = 'display_data';\n",
              "          await google.colab.output.renderOutput(dataTable, element);\n",
              "          const docLink = document.createElement('div');\n",
              "          docLink.innerHTML = docLinkHtml;\n",
              "          element.appendChild(docLink);\n",
              "        }\n",
              "      </script>\n",
              "    </div>\n",
              "  </div>\n"
            ]
          },
          "metadata": {},
          "execution_count": 17
        }
      ]
    },
    {
      "cell_type": "code",
      "source": [
        "df.dtypes"
      ],
      "metadata": {
        "colab": {
          "base_uri": "https://localhost:8080/"
        },
        "id": "zrxWGf4wTYxg",
        "outputId": "296294ba-2932-4478-ec92-cce020a37e68"
      },
      "execution_count": 18,
      "outputs": [
        {
          "output_type": "execute_result",
          "data": {
            "text/plain": [
              "RowNumber              int64\n",
              "CreditScore            int64\n",
              "Gender                 int64\n",
              "Age                    int64\n",
              "Tenure                 int64\n",
              "Balance              float64\n",
              "NumOfProducts          int64\n",
              "HasCrCard              int64\n",
              "IsActiveMember         int64\n",
              "EstimatedSalary      float64\n",
              "Exited                 int64\n",
              "Geography_France       uint8\n",
              "Geography_Germany      uint8\n",
              "Geography_Spain        uint8\n",
              "dtype: object"
            ]
          },
          "metadata": {},
          "execution_count": 18
        }
      ]
    },
    {
      "cell_type": "code",
      "source": [
        "df.isnull().sum()"
      ],
      "metadata": {
        "colab": {
          "base_uri": "https://localhost:8080/"
        },
        "id": "JIdNx0L_Tco9",
        "outputId": "197cd1b8-0cc4-4295-ca70-e3271027ab0f"
      },
      "execution_count": 19,
      "outputs": [
        {
          "output_type": "execute_result",
          "data": {
            "text/plain": [
              "RowNumber            0\n",
              "CreditScore          0\n",
              "Gender               0\n",
              "Age                  0\n",
              "Tenure               0\n",
              "Balance              0\n",
              "NumOfProducts        0\n",
              "HasCrCard            0\n",
              "IsActiveMember       0\n",
              "EstimatedSalary      0\n",
              "Exited               0\n",
              "Geography_France     0\n",
              "Geography_Germany    0\n",
              "Geography_Spain      0\n",
              "dtype: int64"
            ]
          },
          "metadata": {},
          "execution_count": 19
        }
      ]
    },
    {
      "cell_type": "code",
      "source": [
        "df.Exited.value_counts(normalize=True)"
      ],
      "metadata": {
        "colab": {
          "base_uri": "https://localhost:8080/"
        },
        "id": "ix7zBnErTiDK",
        "outputId": "8188cde9-377b-4782-d09d-1547fd6f726c"
      },
      "execution_count": 20,
      "outputs": [
        {
          "output_type": "execute_result",
          "data": {
            "text/plain": [
              "0    0.7963\n",
              "1    0.2037\n",
              "Name: Exited, dtype: float64"
            ]
          },
          "metadata": {},
          "execution_count": 20
        }
      ]
    },
    {
      "cell_type": "code",
      "source": [
        "df.drop('RowNumber',axis=1,inplace=True)"
      ],
      "metadata": {
        "id": "Y_JbTUNLUdHa"
      },
      "execution_count": 21,
      "outputs": []
    },
    {
      "cell_type": "code",
      "source": [
        "from sklearn.preprocessing import MinMaxScaler\n",
        "scaler=MinMaxScaler()\n",
        "cols_to_scale=['CreditScore','Balance','EstimatedSalary']\n",
        "df[cols_to_scale]=scaler.fit_transform(df[cols_to_scale])"
      ],
      "metadata": {
        "id": "6huthT-9Tz_w"
      },
      "execution_count": 22,
      "outputs": []
    },
    {
      "cell_type": "code",
      "source": [
        "df"
      ],
      "metadata": {
        "colab": {
          "base_uri": "https://localhost:8080/",
          "height": 487
        },
        "id": "dzs_6iPParOJ",
        "outputId": "f5771a61-1b15-460b-e678-96efd96ab4d8"
      },
      "execution_count": 23,
      "outputs": [
        {
          "output_type": "execute_result",
          "data": {
            "text/plain": [
              "      CreditScore  Gender  Age  Tenure   Balance  NumOfProducts  HasCrCard  \\\n",
              "0           0.538       1   42       2  0.000000              1          1   \n",
              "1           0.516       1   41       1  0.334031              1          0   \n",
              "2           0.304       1   42       8  0.636357              3          1   \n",
              "3           0.698       1   39       1  0.000000              2          0   \n",
              "4           1.000       1   43       2  0.500246              1          1   \n",
              "...           ...     ...  ...     ...       ...            ...        ...   \n",
              "9995        0.842       0   39       5  0.000000              2          1   \n",
              "9996        0.332       0   35      10  0.228657              1          1   \n",
              "9997        0.718       1   36       7  0.000000              1          0   \n",
              "9998        0.844       0   42       3  0.299226              2          1   \n",
              "9999        0.884       1   28       4  0.518708              1          1   \n",
              "\n",
              "      IsActiveMember  EstimatedSalary  Exited  Geography_France  \\\n",
              "0                  1         0.506735       1                 1   \n",
              "1                  1         0.562709       0                 0   \n",
              "2                  0         0.569654       1                 1   \n",
              "3                  0         0.469120       0                 1   \n",
              "4                  1         0.395400       0                 0   \n",
              "...              ...              ...     ...               ...   \n",
              "9995               0         0.481341       0                 1   \n",
              "9996               1         0.508490       0                 1   \n",
              "9997               1         0.210390       1                 1   \n",
              "9998               0         0.464429       1                 0   \n",
              "9999               0         0.190914       0                 1   \n",
              "\n",
              "      Geography_Germany  Geography_Spain  \n",
              "0                     0                0  \n",
              "1                     0                1  \n",
              "2                     0                0  \n",
              "3                     0                0  \n",
              "4                     0                1  \n",
              "...                 ...              ...  \n",
              "9995                  0                0  \n",
              "9996                  0                0  \n",
              "9997                  0                0  \n",
              "9998                  1                0  \n",
              "9999                  0                0  \n",
              "\n",
              "[10000 rows x 13 columns]"
            ],
            "text/html": [
              "\n",
              "\n",
              "  <div id=\"df-dff8741d-2f03-49d5-a7c6-62ac9f61cb25\">\n",
              "    <div class=\"colab-df-container\">\n",
              "      <div>\n",
              "<style scoped>\n",
              "    .dataframe tbody tr th:only-of-type {\n",
              "        vertical-align: middle;\n",
              "    }\n",
              "\n",
              "    .dataframe tbody tr th {\n",
              "        vertical-align: top;\n",
              "    }\n",
              "\n",
              "    .dataframe thead th {\n",
              "        text-align: right;\n",
              "    }\n",
              "</style>\n",
              "<table border=\"1\" class=\"dataframe\">\n",
              "  <thead>\n",
              "    <tr style=\"text-align: right;\">\n",
              "      <th></th>\n",
              "      <th>CreditScore</th>\n",
              "      <th>Gender</th>\n",
              "      <th>Age</th>\n",
              "      <th>Tenure</th>\n",
              "      <th>Balance</th>\n",
              "      <th>NumOfProducts</th>\n",
              "      <th>HasCrCard</th>\n",
              "      <th>IsActiveMember</th>\n",
              "      <th>EstimatedSalary</th>\n",
              "      <th>Exited</th>\n",
              "      <th>Geography_France</th>\n",
              "      <th>Geography_Germany</th>\n",
              "      <th>Geography_Spain</th>\n",
              "    </tr>\n",
              "  </thead>\n",
              "  <tbody>\n",
              "    <tr>\n",
              "      <th>0</th>\n",
              "      <td>0.538</td>\n",
              "      <td>1</td>\n",
              "      <td>42</td>\n",
              "      <td>2</td>\n",
              "      <td>0.000000</td>\n",
              "      <td>1</td>\n",
              "      <td>1</td>\n",
              "      <td>1</td>\n",
              "      <td>0.506735</td>\n",
              "      <td>1</td>\n",
              "      <td>1</td>\n",
              "      <td>0</td>\n",
              "      <td>0</td>\n",
              "    </tr>\n",
              "    <tr>\n",
              "      <th>1</th>\n",
              "      <td>0.516</td>\n",
              "      <td>1</td>\n",
              "      <td>41</td>\n",
              "      <td>1</td>\n",
              "      <td>0.334031</td>\n",
              "      <td>1</td>\n",
              "      <td>0</td>\n",
              "      <td>1</td>\n",
              "      <td>0.562709</td>\n",
              "      <td>0</td>\n",
              "      <td>0</td>\n",
              "      <td>0</td>\n",
              "      <td>1</td>\n",
              "    </tr>\n",
              "    <tr>\n",
              "      <th>2</th>\n",
              "      <td>0.304</td>\n",
              "      <td>1</td>\n",
              "      <td>42</td>\n",
              "      <td>8</td>\n",
              "      <td>0.636357</td>\n",
              "      <td>3</td>\n",
              "      <td>1</td>\n",
              "      <td>0</td>\n",
              "      <td>0.569654</td>\n",
              "      <td>1</td>\n",
              "      <td>1</td>\n",
              "      <td>0</td>\n",
              "      <td>0</td>\n",
              "    </tr>\n",
              "    <tr>\n",
              "      <th>3</th>\n",
              "      <td>0.698</td>\n",
              "      <td>1</td>\n",
              "      <td>39</td>\n",
              "      <td>1</td>\n",
              "      <td>0.000000</td>\n",
              "      <td>2</td>\n",
              "      <td>0</td>\n",
              "      <td>0</td>\n",
              "      <td>0.469120</td>\n",
              "      <td>0</td>\n",
              "      <td>1</td>\n",
              "      <td>0</td>\n",
              "      <td>0</td>\n",
              "    </tr>\n",
              "    <tr>\n",
              "      <th>4</th>\n",
              "      <td>1.000</td>\n",
              "      <td>1</td>\n",
              "      <td>43</td>\n",
              "      <td>2</td>\n",
              "      <td>0.500246</td>\n",
              "      <td>1</td>\n",
              "      <td>1</td>\n",
              "      <td>1</td>\n",
              "      <td>0.395400</td>\n",
              "      <td>0</td>\n",
              "      <td>0</td>\n",
              "      <td>0</td>\n",
              "      <td>1</td>\n",
              "    </tr>\n",
              "    <tr>\n",
              "      <th>...</th>\n",
              "      <td>...</td>\n",
              "      <td>...</td>\n",
              "      <td>...</td>\n",
              "      <td>...</td>\n",
              "      <td>...</td>\n",
              "      <td>...</td>\n",
              "      <td>...</td>\n",
              "      <td>...</td>\n",
              "      <td>...</td>\n",
              "      <td>...</td>\n",
              "      <td>...</td>\n",
              "      <td>...</td>\n",
              "      <td>...</td>\n",
              "    </tr>\n",
              "    <tr>\n",
              "      <th>9995</th>\n",
              "      <td>0.842</td>\n",
              "      <td>0</td>\n",
              "      <td>39</td>\n",
              "      <td>5</td>\n",
              "      <td>0.000000</td>\n",
              "      <td>2</td>\n",
              "      <td>1</td>\n",
              "      <td>0</td>\n",
              "      <td>0.481341</td>\n",
              "      <td>0</td>\n",
              "      <td>1</td>\n",
              "      <td>0</td>\n",
              "      <td>0</td>\n",
              "    </tr>\n",
              "    <tr>\n",
              "      <th>9996</th>\n",
              "      <td>0.332</td>\n",
              "      <td>0</td>\n",
              "      <td>35</td>\n",
              "      <td>10</td>\n",
              "      <td>0.228657</td>\n",
              "      <td>1</td>\n",
              "      <td>1</td>\n",
              "      <td>1</td>\n",
              "      <td>0.508490</td>\n",
              "      <td>0</td>\n",
              "      <td>1</td>\n",
              "      <td>0</td>\n",
              "      <td>0</td>\n",
              "    </tr>\n",
              "    <tr>\n",
              "      <th>9997</th>\n",
              "      <td>0.718</td>\n",
              "      <td>1</td>\n",
              "      <td>36</td>\n",
              "      <td>7</td>\n",
              "      <td>0.000000</td>\n",
              "      <td>1</td>\n",
              "      <td>0</td>\n",
              "      <td>1</td>\n",
              "      <td>0.210390</td>\n",
              "      <td>1</td>\n",
              "      <td>1</td>\n",
              "      <td>0</td>\n",
              "      <td>0</td>\n",
              "    </tr>\n",
              "    <tr>\n",
              "      <th>9998</th>\n",
              "      <td>0.844</td>\n",
              "      <td>0</td>\n",
              "      <td>42</td>\n",
              "      <td>3</td>\n",
              "      <td>0.299226</td>\n",
              "      <td>2</td>\n",
              "      <td>1</td>\n",
              "      <td>0</td>\n",
              "      <td>0.464429</td>\n",
              "      <td>1</td>\n",
              "      <td>0</td>\n",
              "      <td>1</td>\n",
              "      <td>0</td>\n",
              "    </tr>\n",
              "    <tr>\n",
              "      <th>9999</th>\n",
              "      <td>0.884</td>\n",
              "      <td>1</td>\n",
              "      <td>28</td>\n",
              "      <td>4</td>\n",
              "      <td>0.518708</td>\n",
              "      <td>1</td>\n",
              "      <td>1</td>\n",
              "      <td>0</td>\n",
              "      <td>0.190914</td>\n",
              "      <td>0</td>\n",
              "      <td>1</td>\n",
              "      <td>0</td>\n",
              "      <td>0</td>\n",
              "    </tr>\n",
              "  </tbody>\n",
              "</table>\n",
              "<p>10000 rows × 13 columns</p>\n",
              "</div>\n",
              "      <button class=\"colab-df-convert\" onclick=\"convertToInteractive('df-dff8741d-2f03-49d5-a7c6-62ac9f61cb25')\"\n",
              "              title=\"Convert this dataframe to an interactive table.\"\n",
              "              style=\"display:none;\">\n",
              "\n",
              "  <svg xmlns=\"http://www.w3.org/2000/svg\" height=\"24px\"viewBox=\"0 0 24 24\"\n",
              "       width=\"24px\">\n",
              "    <path d=\"M0 0h24v24H0V0z\" fill=\"none\"/>\n",
              "    <path d=\"M18.56 5.44l.94 2.06.94-2.06 2.06-.94-2.06-.94-.94-2.06-.94 2.06-2.06.94zm-11 1L8.5 8.5l.94-2.06 2.06-.94-2.06-.94L8.5 2.5l-.94 2.06-2.06.94zm10 10l.94 2.06.94-2.06 2.06-.94-2.06-.94-.94-2.06-.94 2.06-2.06.94z\"/><path d=\"M17.41 7.96l-1.37-1.37c-.4-.4-.92-.59-1.43-.59-.52 0-1.04.2-1.43.59L10.3 9.45l-7.72 7.72c-.78.78-.78 2.05 0 2.83L4 21.41c.39.39.9.59 1.41.59.51 0 1.02-.2 1.41-.59l7.78-7.78 2.81-2.81c.8-.78.8-2.07 0-2.86zM5.41 20L4 18.59l7.72-7.72 1.47 1.35L5.41 20z\"/>\n",
              "  </svg>\n",
              "      </button>\n",
              "\n",
              "\n",
              "\n",
              "    <div id=\"df-6e573ea4-bc47-4dbc-9ca1-0a15ac2e0732\">\n",
              "      <button class=\"colab-df-quickchart\" onclick=\"quickchart('df-6e573ea4-bc47-4dbc-9ca1-0a15ac2e0732')\"\n",
              "              title=\"Suggest charts.\"\n",
              "              style=\"display:none;\">\n",
              "\n",
              "<svg xmlns=\"http://www.w3.org/2000/svg\" height=\"24px\"viewBox=\"0 0 24 24\"\n",
              "     width=\"24px\">\n",
              "    <g>\n",
              "        <path d=\"M19 3H5c-1.1 0-2 .9-2 2v14c0 1.1.9 2 2 2h14c1.1 0 2-.9 2-2V5c0-1.1-.9-2-2-2zM9 17H7v-7h2v7zm4 0h-2V7h2v10zm4 0h-2v-4h2v4z\"/>\n",
              "    </g>\n",
              "</svg>\n",
              "      </button>\n",
              "    </div>\n",
              "\n",
              "<style>\n",
              "  .colab-df-quickchart {\n",
              "    background-color: #E8F0FE;\n",
              "    border: none;\n",
              "    border-radius: 50%;\n",
              "    cursor: pointer;\n",
              "    display: none;\n",
              "    fill: #1967D2;\n",
              "    height: 32px;\n",
              "    padding: 0 0 0 0;\n",
              "    width: 32px;\n",
              "  }\n",
              "\n",
              "  .colab-df-quickchart:hover {\n",
              "    background-color: #E2EBFA;\n",
              "    box-shadow: 0px 1px 2px rgba(60, 64, 67, 0.3), 0px 1px 3px 1px rgba(60, 64, 67, 0.15);\n",
              "    fill: #174EA6;\n",
              "  }\n",
              "\n",
              "  [theme=dark] .colab-df-quickchart {\n",
              "    background-color: #3B4455;\n",
              "    fill: #D2E3FC;\n",
              "  }\n",
              "\n",
              "  [theme=dark] .colab-df-quickchart:hover {\n",
              "    background-color: #434B5C;\n",
              "    box-shadow: 0px 1px 3px 1px rgba(0, 0, 0, 0.15);\n",
              "    filter: drop-shadow(0px 1px 2px rgba(0, 0, 0, 0.3));\n",
              "    fill: #FFFFFF;\n",
              "  }\n",
              "</style>\n",
              "\n",
              "    <script>\n",
              "      async function quickchart(key) {\n",
              "        const containerElement = document.querySelector('#' + key);\n",
              "        const charts = await google.colab.kernel.invokeFunction(\n",
              "            'suggestCharts', [key], {});\n",
              "      }\n",
              "    </script>\n",
              "\n",
              "      <script>\n",
              "\n",
              "function displayQuickchartButton(domScope) {\n",
              "  let quickchartButtonEl =\n",
              "    domScope.querySelector('#df-6e573ea4-bc47-4dbc-9ca1-0a15ac2e0732 button.colab-df-quickchart');\n",
              "  quickchartButtonEl.style.display =\n",
              "    google.colab.kernel.accessAllowed ? 'block' : 'none';\n",
              "}\n",
              "\n",
              "        displayQuickchartButton(document);\n",
              "      </script>\n",
              "      <style>\n",
              "    .colab-df-container {\n",
              "      display:flex;\n",
              "      flex-wrap:wrap;\n",
              "      gap: 12px;\n",
              "    }\n",
              "\n",
              "    .colab-df-convert {\n",
              "      background-color: #E8F0FE;\n",
              "      border: none;\n",
              "      border-radius: 50%;\n",
              "      cursor: pointer;\n",
              "      display: none;\n",
              "      fill: #1967D2;\n",
              "      height: 32px;\n",
              "      padding: 0 0 0 0;\n",
              "      width: 32px;\n",
              "    }\n",
              "\n",
              "    .colab-df-convert:hover {\n",
              "      background-color: #E2EBFA;\n",
              "      box-shadow: 0px 1px 2px rgba(60, 64, 67, 0.3), 0px 1px 3px 1px rgba(60, 64, 67, 0.15);\n",
              "      fill: #174EA6;\n",
              "    }\n",
              "\n",
              "    [theme=dark] .colab-df-convert {\n",
              "      background-color: #3B4455;\n",
              "      fill: #D2E3FC;\n",
              "    }\n",
              "\n",
              "    [theme=dark] .colab-df-convert:hover {\n",
              "      background-color: #434B5C;\n",
              "      box-shadow: 0px 1px 3px 1px rgba(0, 0, 0, 0.15);\n",
              "      filter: drop-shadow(0px 1px 2px rgba(0, 0, 0, 0.3));\n",
              "      fill: #FFFFFF;\n",
              "    }\n",
              "  </style>\n",
              "\n",
              "      <script>\n",
              "        const buttonEl =\n",
              "          document.querySelector('#df-dff8741d-2f03-49d5-a7c6-62ac9f61cb25 button.colab-df-convert');\n",
              "        buttonEl.style.display =\n",
              "          google.colab.kernel.accessAllowed ? 'block' : 'none';\n",
              "\n",
              "        async function convertToInteractive(key) {\n",
              "          const element = document.querySelector('#df-dff8741d-2f03-49d5-a7c6-62ac9f61cb25');\n",
              "          const dataTable =\n",
              "            await google.colab.kernel.invokeFunction('convertToInteractive',\n",
              "                                                     [key], {});\n",
              "          if (!dataTable) return;\n",
              "\n",
              "          const docLinkHtml = 'Like what you see? Visit the ' +\n",
              "            '<a target=\"_blank\" href=https://colab.research.google.com/notebooks/data_table.ipynb>data table notebook</a>'\n",
              "            + ' to learn more about interactive tables.';\n",
              "          element.innerHTML = '';\n",
              "          dataTable['output_type'] = 'display_data';\n",
              "          await google.colab.output.renderOutput(dataTable, element);\n",
              "          const docLink = document.createElement('div');\n",
              "          docLink.innerHTML = docLinkHtml;\n",
              "          element.appendChild(docLink);\n",
              "        }\n",
              "      </script>\n",
              "    </div>\n",
              "  </div>\n"
            ]
          },
          "metadata": {},
          "execution_count": 23
        }
      ]
    },
    {
      "cell_type": "code",
      "source": [
        "X=df.drop('Exited',axis=1)\n",
        "y=df['Exited']"
      ],
      "metadata": {
        "id": "vQ810y8Ka1Ea"
      },
      "execution_count": 24,
      "outputs": []
    },
    {
      "cell_type": "code",
      "source": [
        "from sklearn.model_selection import train_test_split\n",
        "X_train,X_test,y_train,y_test=train_test_split(X,y,test_size=0.2,random_state=42)"
      ],
      "metadata": {
        "id": "rAkvrgXNbfL5"
      },
      "execution_count": 25,
      "outputs": []
    },
    {
      "cell_type": "code",
      "source": [
        "y_train.value_counts()"
      ],
      "metadata": {
        "colab": {
          "base_uri": "https://localhost:8080/"
        },
        "id": "4TRoR9N1b0Bs",
        "outputId": "2054da94-d985-47b3-dde5-d55adc9532f0"
      },
      "execution_count": 26,
      "outputs": [
        {
          "output_type": "execute_result",
          "data": {
            "text/plain": [
              "0    6356\n",
              "1    1644\n",
              "Name: Exited, dtype: int64"
            ]
          },
          "metadata": {},
          "execution_count": 26
        }
      ]
    },
    {
      "cell_type": "code",
      "source": [
        "y_test.value_counts()"
      ],
      "metadata": {
        "colab": {
          "base_uri": "https://localhost:8080/"
        },
        "id": "NqR7PHpVb8mC",
        "outputId": "f03fad86-1bca-4130-ec2d-918fd0426fde"
      },
      "execution_count": 27,
      "outputs": [
        {
          "output_type": "execute_result",
          "data": {
            "text/plain": [
              "0    1607\n",
              "1     393\n",
              "Name: Exited, dtype: int64"
            ]
          },
          "metadata": {},
          "execution_count": 27
        }
      ]
    },
    {
      "cell_type": "code",
      "source": [
        "y.value_counts(normalize=True)"
      ],
      "metadata": {
        "colab": {
          "base_uri": "https://localhost:8080/"
        },
        "id": "0aRTIepOcCjx",
        "outputId": "2de2740e-0558-4d60-c75e-719e7af90835"
      },
      "execution_count": 28,
      "outputs": [
        {
          "output_type": "execute_result",
          "data": {
            "text/plain": [
              "0    0.7963\n",
              "1    0.2037\n",
              "Name: Exited, dtype: float64"
            ]
          },
          "metadata": {},
          "execution_count": 28
        }
      ]
    },
    {
      "cell_type": "code",
      "source": [
        "X_train.shape,y_train.shape,X_test.shape,y_test.shape"
      ],
      "metadata": {
        "colab": {
          "base_uri": "https://localhost:8080/"
        },
        "id": "mt3JTYfYdobx",
        "outputId": "123a48f6-e146-4b3f-ed61-201061d2987d"
      },
      "execution_count": 29,
      "outputs": [
        {
          "output_type": "execute_result",
          "data": {
            "text/plain": [
              "((8000, 12), (8000,), (2000, 12), (2000,))"
            ]
          },
          "metadata": {},
          "execution_count": 29
        }
      ]
    },
    {
      "cell_type": "code",
      "source": [
        "import tensorflow as tf\n",
        "from tensorflow import keras\n"
      ],
      "metadata": {
        "id": "hCSX-HASdRvK"
      },
      "execution_count": 30,
      "outputs": []
    },
    {
      "cell_type": "code",
      "source": [
        "model = tf.keras.models.Sequential([\n",
        "    keras.layers.Dense(10,input_shape=(12,),activation='relu'),\n",
        "    keras.layers.Dense(5,input_shape=(10,),activation='relu'),\n",
        "    keras.layers.Dense(1,activation='sigmoid')\n",
        "\n",
        "  ])\n",
        "model.compile(optimizer='adam',loss='binary_crossentropy',metrics=['accuracy'])\n",
        "model.fit(X_train,y_train,epochs=100)\n"
      ],
      "metadata": {
        "colab": {
          "base_uri": "https://localhost:8080/"
        },
        "id": "O-A4lG2McJWb",
        "outputId": "87f53b07-898e-4cbc-84dd-abcf305d078c"
      },
      "execution_count": 31,
      "outputs": [
        {
          "output_type": "stream",
          "name": "stdout",
          "text": [
            "Epoch 1/100\n",
            "250/250 [==============================] - 1s 2ms/step - loss: 0.7759 - accuracy: 0.7945\n",
            "Epoch 2/100\n",
            "250/250 [==============================] - 0s 2ms/step - loss: 0.5554 - accuracy: 0.7945\n",
            "Epoch 3/100\n",
            "250/250 [==============================] - 0s 2ms/step - loss: 0.5445 - accuracy: 0.7945\n",
            "Epoch 4/100\n",
            "250/250 [==============================] - 0s 2ms/step - loss: 0.5348 - accuracy: 0.7945\n",
            "Epoch 5/100\n",
            "250/250 [==============================] - 0s 2ms/step - loss: 0.5236 - accuracy: 0.7945\n",
            "Epoch 6/100\n",
            "250/250 [==============================] - 0s 2ms/step - loss: 0.5096 - accuracy: 0.7947\n",
            "Epoch 7/100\n",
            "250/250 [==============================] - 0s 2ms/step - loss: 0.4916 - accuracy: 0.7956\n",
            "Epoch 8/100\n",
            "250/250 [==============================] - 0s 2ms/step - loss: 0.4749 - accuracy: 0.7981\n",
            "Epoch 9/100\n",
            "250/250 [==============================] - 0s 2ms/step - loss: 0.4631 - accuracy: 0.8011\n",
            "Epoch 10/100\n",
            "250/250 [==============================] - 0s 2ms/step - loss: 0.4548 - accuracy: 0.8009\n",
            "Epoch 11/100\n",
            "250/250 [==============================] - 0s 2ms/step - loss: 0.4504 - accuracy: 0.8031\n",
            "Epoch 12/100\n",
            "250/250 [==============================] - 0s 2ms/step - loss: 0.4461 - accuracy: 0.8056\n",
            "Epoch 13/100\n",
            "250/250 [==============================] - 0s 2ms/step - loss: 0.4441 - accuracy: 0.8080\n",
            "Epoch 14/100\n",
            "250/250 [==============================] - 0s 2ms/step - loss: 0.4410 - accuracy: 0.8099\n",
            "Epoch 15/100\n",
            "250/250 [==============================] - 0s 2ms/step - loss: 0.4394 - accuracy: 0.8142\n",
            "Epoch 16/100\n",
            "250/250 [==============================] - 1s 2ms/step - loss: 0.4376 - accuracy: 0.8149\n",
            "Epoch 17/100\n",
            "250/250 [==============================] - 1s 2ms/step - loss: 0.4358 - accuracy: 0.8180\n",
            "Epoch 18/100\n",
            "250/250 [==============================] - 1s 2ms/step - loss: 0.4350 - accuracy: 0.8174\n",
            "Epoch 19/100\n",
            "250/250 [==============================] - 1s 2ms/step - loss: 0.4327 - accuracy: 0.8220\n",
            "Epoch 20/100\n",
            "250/250 [==============================] - 1s 2ms/step - loss: 0.4306 - accuracy: 0.8248\n",
            "Epoch 21/100\n",
            "250/250 [==============================] - 0s 2ms/step - loss: 0.4301 - accuracy: 0.8241\n",
            "Epoch 22/100\n",
            "250/250 [==============================] - 0s 2ms/step - loss: 0.4288 - accuracy: 0.8273\n",
            "Epoch 23/100\n",
            "250/250 [==============================] - 0s 2ms/step - loss: 0.4268 - accuracy: 0.8259\n",
            "Epoch 24/100\n",
            "250/250 [==============================] - 0s 2ms/step - loss: 0.4252 - accuracy: 0.8282\n",
            "Epoch 25/100\n",
            "250/250 [==============================] - 0s 2ms/step - loss: 0.4246 - accuracy: 0.8295\n",
            "Epoch 26/100\n",
            "250/250 [==============================] - 0s 2ms/step - loss: 0.4222 - accuracy: 0.8313\n",
            "Epoch 27/100\n",
            "250/250 [==============================] - 0s 2ms/step - loss: 0.4216 - accuracy: 0.8303\n",
            "Epoch 28/100\n",
            "250/250 [==============================] - 0s 2ms/step - loss: 0.4207 - accuracy: 0.8304\n",
            "Epoch 29/100\n",
            "250/250 [==============================] - 0s 2ms/step - loss: 0.4190 - accuracy: 0.8311\n",
            "Epoch 30/100\n",
            "250/250 [==============================] - 0s 2ms/step - loss: 0.4197 - accuracy: 0.8304\n",
            "Epoch 31/100\n",
            "250/250 [==============================] - 0s 2ms/step - loss: 0.4179 - accuracy: 0.8310\n",
            "Epoch 32/100\n",
            "250/250 [==============================] - 0s 2ms/step - loss: 0.4184 - accuracy: 0.8331\n",
            "Epoch 33/100\n",
            "250/250 [==============================] - 0s 2ms/step - loss: 0.4178 - accuracy: 0.8298\n",
            "Epoch 34/100\n",
            "250/250 [==============================] - 0s 2ms/step - loss: 0.4161 - accuracy: 0.8298\n",
            "Epoch 35/100\n",
            "250/250 [==============================] - 0s 2ms/step - loss: 0.4151 - accuracy: 0.8336\n",
            "Epoch 36/100\n",
            "250/250 [==============================] - 0s 2ms/step - loss: 0.4153 - accuracy: 0.8336\n",
            "Epoch 37/100\n",
            "250/250 [==============================] - 0s 2ms/step - loss: 0.4137 - accuracy: 0.8341\n",
            "Epoch 38/100\n",
            "250/250 [==============================] - 0s 2ms/step - loss: 0.4144 - accuracy: 0.8329\n",
            "Epoch 39/100\n",
            "250/250 [==============================] - 0s 2ms/step - loss: 0.4134 - accuracy: 0.8335\n",
            "Epoch 40/100\n",
            "250/250 [==============================] - 0s 2ms/step - loss: 0.4135 - accuracy: 0.8338\n",
            "Epoch 41/100\n",
            "250/250 [==============================] - 0s 2ms/step - loss: 0.4136 - accuracy: 0.8340\n",
            "Epoch 42/100\n",
            "250/250 [==============================] - 0s 2ms/step - loss: 0.4137 - accuracy: 0.8328\n",
            "Epoch 43/100\n",
            "250/250 [==============================] - 0s 2ms/step - loss: 0.4131 - accuracy: 0.8317\n",
            "Epoch 44/100\n",
            "250/250 [==============================] - 0s 2ms/step - loss: 0.4132 - accuracy: 0.8339\n",
            "Epoch 45/100\n",
            "250/250 [==============================] - 0s 2ms/step - loss: 0.4142 - accuracy: 0.8309\n",
            "Epoch 46/100\n",
            "250/250 [==============================] - 1s 2ms/step - loss: 0.4127 - accuracy: 0.8330\n",
            "Epoch 47/100\n",
            "250/250 [==============================] - 1s 2ms/step - loss: 0.4117 - accuracy: 0.8329\n",
            "Epoch 48/100\n",
            "250/250 [==============================] - 1s 2ms/step - loss: 0.4119 - accuracy: 0.8353\n",
            "Epoch 49/100\n",
            "250/250 [==============================] - 1s 2ms/step - loss: 0.4124 - accuracy: 0.8336\n",
            "Epoch 50/100\n",
            "250/250 [==============================] - 1s 2ms/step - loss: 0.4122 - accuracy: 0.8325\n",
            "Epoch 51/100\n",
            "250/250 [==============================] - 0s 2ms/step - loss: 0.4117 - accuracy: 0.8344\n",
            "Epoch 52/100\n",
            "250/250 [==============================] - 0s 2ms/step - loss: 0.4114 - accuracy: 0.8335\n",
            "Epoch 53/100\n",
            "250/250 [==============================] - 0s 2ms/step - loss: 0.4133 - accuracy: 0.8316\n",
            "Epoch 54/100\n",
            "250/250 [==============================] - 0s 2ms/step - loss: 0.4119 - accuracy: 0.8344\n",
            "Epoch 55/100\n",
            "250/250 [==============================] - 0s 2ms/step - loss: 0.4103 - accuracy: 0.8326\n",
            "Epoch 56/100\n",
            "250/250 [==============================] - 0s 2ms/step - loss: 0.4116 - accuracy: 0.8320\n",
            "Epoch 57/100\n",
            "250/250 [==============================] - 0s 2ms/step - loss: 0.4106 - accuracy: 0.8345\n",
            "Epoch 58/100\n",
            "250/250 [==============================] - 0s 2ms/step - loss: 0.4108 - accuracy: 0.8320\n",
            "Epoch 59/100\n",
            "250/250 [==============================] - 0s 2ms/step - loss: 0.4108 - accuracy: 0.8336\n",
            "Epoch 60/100\n",
            "250/250 [==============================] - 0s 2ms/step - loss: 0.4105 - accuracy: 0.8325\n",
            "Epoch 61/100\n",
            "250/250 [==============================] - 0s 2ms/step - loss: 0.4101 - accuracy: 0.8335\n",
            "Epoch 62/100\n",
            "250/250 [==============================] - 0s 2ms/step - loss: 0.4104 - accuracy: 0.8304\n",
            "Epoch 63/100\n",
            "250/250 [==============================] - 0s 2ms/step - loss: 0.4112 - accuracy: 0.8321\n",
            "Epoch 64/100\n",
            "250/250 [==============================] - 0s 2ms/step - loss: 0.4114 - accuracy: 0.8330\n",
            "Epoch 65/100\n",
            "250/250 [==============================] - 0s 2ms/step - loss: 0.4103 - accuracy: 0.8347\n",
            "Epoch 66/100\n",
            "250/250 [==============================] - 0s 2ms/step - loss: 0.4099 - accuracy: 0.8345\n",
            "Epoch 67/100\n",
            "250/250 [==============================] - 0s 2ms/step - loss: 0.4103 - accuracy: 0.8329\n",
            "Epoch 68/100\n",
            "250/250 [==============================] - 0s 2ms/step - loss: 0.4110 - accuracy: 0.8329\n",
            "Epoch 69/100\n",
            "250/250 [==============================] - 0s 2ms/step - loss: 0.4113 - accuracy: 0.8316\n",
            "Epoch 70/100\n",
            "250/250 [==============================] - 0s 2ms/step - loss: 0.4098 - accuracy: 0.8331\n",
            "Epoch 71/100\n",
            "250/250 [==============================] - 0s 2ms/step - loss: 0.4104 - accuracy: 0.8331\n",
            "Epoch 72/100\n",
            "250/250 [==============================] - 0s 2ms/step - loss: 0.4095 - accuracy: 0.8330\n",
            "Epoch 73/100\n",
            "250/250 [==============================] - 0s 2ms/step - loss: 0.4098 - accuracy: 0.8321\n",
            "Epoch 74/100\n",
            "250/250 [==============================] - 0s 2ms/step - loss: 0.4103 - accuracy: 0.8332\n",
            "Epoch 75/100\n",
            "250/250 [==============================] - 0s 2ms/step - loss: 0.4103 - accuracy: 0.8329\n",
            "Epoch 76/100\n",
            "250/250 [==============================] - 1s 2ms/step - loss: 0.4103 - accuracy: 0.8328\n",
            "Epoch 77/100\n",
            "250/250 [==============================] - 1s 2ms/step - loss: 0.4091 - accuracy: 0.8339\n",
            "Epoch 78/100\n",
            "250/250 [==============================] - 1s 2ms/step - loss: 0.4092 - accuracy: 0.8325\n",
            "Epoch 79/100\n",
            "250/250 [==============================] - 1s 2ms/step - loss: 0.4088 - accuracy: 0.8347\n",
            "Epoch 80/100\n",
            "250/250 [==============================] - 1s 2ms/step - loss: 0.4097 - accuracy: 0.8328\n",
            "Epoch 81/100\n",
            "250/250 [==============================] - 0s 2ms/step - loss: 0.4089 - accuracy: 0.8336\n",
            "Epoch 82/100\n",
            "250/250 [==============================] - 0s 2ms/step - loss: 0.4092 - accuracy: 0.8320\n",
            "Epoch 83/100\n",
            "250/250 [==============================] - 0s 2ms/step - loss: 0.4094 - accuracy: 0.8322\n",
            "Epoch 84/100\n",
            "250/250 [==============================] - 0s 2ms/step - loss: 0.4099 - accuracy: 0.8317\n",
            "Epoch 85/100\n",
            "250/250 [==============================] - 0s 2ms/step - loss: 0.4091 - accuracy: 0.8321\n",
            "Epoch 86/100\n",
            "250/250 [==============================] - 0s 2ms/step - loss: 0.4097 - accuracy: 0.8332\n",
            "Epoch 87/100\n",
            "250/250 [==============================] - 0s 2ms/step - loss: 0.4091 - accuracy: 0.8322\n",
            "Epoch 88/100\n",
            "250/250 [==============================] - 0s 2ms/step - loss: 0.4089 - accuracy: 0.8321\n",
            "Epoch 89/100\n",
            "250/250 [==============================] - 0s 2ms/step - loss: 0.4093 - accuracy: 0.8324\n",
            "Epoch 90/100\n",
            "250/250 [==============================] - 0s 2ms/step - loss: 0.4092 - accuracy: 0.8315\n",
            "Epoch 91/100\n",
            "250/250 [==============================] - 0s 2ms/step - loss: 0.4103 - accuracy: 0.8321\n",
            "Epoch 92/100\n",
            "250/250 [==============================] - 0s 2ms/step - loss: 0.4087 - accuracy: 0.8329\n",
            "Epoch 93/100\n",
            "250/250 [==============================] - 0s 2ms/step - loss: 0.4095 - accuracy: 0.8322\n",
            "Epoch 94/100\n",
            "250/250 [==============================] - 0s 2ms/step - loss: 0.4095 - accuracy: 0.8330\n",
            "Epoch 95/100\n",
            "250/250 [==============================] - 0s 2ms/step - loss: 0.4084 - accuracy: 0.8332\n",
            "Epoch 96/100\n",
            "250/250 [==============================] - 0s 2ms/step - loss: 0.4083 - accuracy: 0.8324\n",
            "Epoch 97/100\n",
            "250/250 [==============================] - 0s 2ms/step - loss: 0.4086 - accuracy: 0.8338\n",
            "Epoch 98/100\n",
            "250/250 [==============================] - 0s 2ms/step - loss: 0.4091 - accuracy: 0.8317\n",
            "Epoch 99/100\n",
            "250/250 [==============================] - 0s 2ms/step - loss: 0.4088 - accuracy: 0.8334\n",
            "Epoch 100/100\n",
            "250/250 [==============================] - 0s 2ms/step - loss: 0.4109 - accuracy: 0.8324\n"
          ]
        },
        {
          "output_type": "execute_result",
          "data": {
            "text/plain": [
              "<keras.callbacks.History at 0x7f8f30b0b1c0>"
            ]
          },
          "metadata": {},
          "execution_count": 31
        }
      ]
    },
    {
      "cell_type": "code",
      "source": [],
      "metadata": {
        "id": "-4x3nO0BfQBs"
      },
      "execution_count": 31,
      "outputs": []
    },
    {
      "cell_type": "code",
      "source": [
        "y_pred=model.predict(X_test)"
      ],
      "metadata": {
        "colab": {
          "base_uri": "https://localhost:8080/"
        },
        "id": "x3AmwoTbfeiy",
        "outputId": "8b27392a-b1a6-4224-8b00-e015da19a2e8"
      },
      "execution_count": 32,
      "outputs": [
        {
          "output_type": "stream",
          "name": "stdout",
          "text": [
            "63/63 [==============================] - 0s 1ms/step\n"
          ]
        }
      ]
    },
    {
      "cell_type": "code",
      "source": [
        "y_pred"
      ],
      "metadata": {
        "colab": {
          "base_uri": "https://localhost:8080/"
        },
        "id": "Y-53wAP_hhcj",
        "outputId": "b247348e-b31b-43ce-99b1-20affc22f0bb"
      },
      "execution_count": 33,
      "outputs": [
        {
          "output_type": "execute_result",
          "data": {
            "text/plain": [
              "array([[0.1889765 ],\n",
              "       [0.11584788],\n",
              "       [0.32114258],\n",
              "       ...,\n",
              "       [0.56221807],\n",
              "       [0.04499341],\n",
              "       [0.2112452 ]], dtype=float32)"
            ]
          },
          "metadata": {},
          "execution_count": 33
        }
      ]
    },
    {
      "cell_type": "code",
      "source": [],
      "metadata": {
        "id": "2pxE4dIUgOmU"
      },
      "execution_count": 33,
      "outputs": []
    },
    {
      "cell_type": "code",
      "source": [
        "y_pred=np.round(y_pred)"
      ],
      "metadata": {
        "id": "ccqfWiiUhzoi"
      },
      "execution_count": 34,
      "outputs": []
    },
    {
      "cell_type": "code",
      "source": [
        "y_pred=y_pred.astype(int)"
      ],
      "metadata": {
        "id": "QssFQnH4jHDN"
      },
      "execution_count": 35,
      "outputs": []
    },
    {
      "cell_type": "code",
      "source": [
        "y_pred[:10]"
      ],
      "metadata": {
        "colab": {
          "base_uri": "https://localhost:8080/"
        },
        "id": "HU1bLmNJg4OG",
        "outputId": "2c2e668c-1795-4d11-ce8b-3955d6c4c737"
      },
      "execution_count": 36,
      "outputs": [
        {
          "output_type": "execute_result",
          "data": {
            "text/plain": [
              "array([[0],\n",
              "       [0],\n",
              "       [0],\n",
              "       [0],\n",
              "       [0],\n",
              "       [0],\n",
              "       [0],\n",
              "       [0],\n",
              "       [0],\n",
              "       [0]])"
            ]
          },
          "metadata": {},
          "execution_count": 36
        }
      ]
    },
    {
      "cell_type": "code",
      "source": [
        "y_test[:10]"
      ],
      "metadata": {
        "colab": {
          "base_uri": "https://localhost:8080/"
        },
        "id": "UZTjcBNfht84",
        "outputId": "b95fb13c-d82e-4469-bdbf-408f76709fa8"
      },
      "execution_count": 37,
      "outputs": [
        {
          "output_type": "execute_result",
          "data": {
            "text/plain": [
              "6252    0\n",
              "4684    0\n",
              "1731    0\n",
              "4742    0\n",
              "4521    0\n",
              "6340    0\n",
              "576     0\n",
              "5202    1\n",
              "6363    0\n",
              "439     0\n",
              "Name: Exited, dtype: int64"
            ]
          },
          "metadata": {},
          "execution_count": 37
        }
      ]
    },
    {
      "cell_type": "code",
      "source": [
        "from sklearn.metrics import classification_report\n",
        "clr1=classification_report(y_test,y_pred)\n",
        "print(clr1)"
      ],
      "metadata": {
        "colab": {
          "base_uri": "https://localhost:8080/"
        },
        "id": "2AFp-GUXg8cW",
        "outputId": "2245979a-1d0a-4015-d7a7-8b6440114a97"
      },
      "execution_count": 38,
      "outputs": [
        {
          "output_type": "stream",
          "name": "stdout",
          "text": [
            "              precision    recall  f1-score   support\n",
            "\n",
            "           0       0.85      0.98      0.91      1607\n",
            "           1       0.74      0.28      0.41       393\n",
            "\n",
            "    accuracy                           0.84      2000\n",
            "   macro avg       0.79      0.63      0.66      2000\n",
            "weighted avg       0.83      0.84      0.81      2000\n",
            "\n"
          ]
        }
      ]
    },
    {
      "cell_type": "markdown",
      "source": [
        "Undersampling\n"
      ],
      "metadata": {
        "id": "rYFYPkxJ_Op4"
      }
    },
    {
      "cell_type": "code",
      "source": [
        "count_0,count_1=df['Exited'].value_counts()"
      ],
      "metadata": {
        "id": "TiOs0P-E_Tjc"
      },
      "execution_count": 39,
      "outputs": []
    },
    {
      "cell_type": "code",
      "source": [
        "count_0,count_1"
      ],
      "metadata": {
        "colab": {
          "base_uri": "https://localhost:8080/"
        },
        "id": "I7AZeKOG_5Ym",
        "outputId": "b54711c5-0c5d-45ae-b3d1-dbb406f56cc6"
      },
      "execution_count": 40,
      "outputs": [
        {
          "output_type": "execute_result",
          "data": {
            "text/plain": [
              "(7963, 2037)"
            ]
          },
          "metadata": {},
          "execution_count": 40
        }
      ]
    },
    {
      "cell_type": "code",
      "source": [
        "df_Exited_0=df[df['Exited']==0]"
      ],
      "metadata": {
        "id": "ZTvhNURg_9mU"
      },
      "execution_count": 52,
      "outputs": []
    },
    {
      "cell_type": "code",
      "source": [
        "df_Exited_1=df[df['Exited']==1]"
      ],
      "metadata": {
        "id": "SCcY7H8mBjp-"
      },
      "execution_count": 53,
      "outputs": []
    },
    {
      "cell_type": "code",
      "source": [
        "df_class_under=df_Exited_0.sample(count_1)"
      ],
      "metadata": {
        "id": "0W-3oGICBvpB"
      },
      "execution_count": 54,
      "outputs": []
    },
    {
      "cell_type": "code",
      "source": [
        "df_class_under=pd.concat([df_class_under,df_Exited_1])"
      ],
      "metadata": {
        "id": "Wdu5srcPB6k6"
      },
      "execution_count": 55,
      "outputs": []
    },
    {
      "cell_type": "code",
      "source": [
        "print('Random under-sampling:')\n",
        "print(df_class_under['Exited'].value_counts())"
      ],
      "metadata": {
        "colab": {
          "base_uri": "https://localhost:8080/"
        },
        "id": "JWwIf_UeCQxz",
        "outputId": "4749a15d-99dc-41bd-854c-b675bf6e2cb5"
      },
      "execution_count": 56,
      "outputs": [
        {
          "output_type": "stream",
          "name": "stdout",
          "text": [
            "Random under-sampling:\n",
            "0    2037\n",
            "1    2037\n",
            "Name: Exited, dtype: int64\n"
          ]
        }
      ]
    },
    {
      "cell_type": "code",
      "source": [
        "X=df_class_under.drop('Exited',axis=1)\n"
      ],
      "metadata": {
        "id": "_4elLuOaCqSP"
      },
      "execution_count": 57,
      "outputs": []
    },
    {
      "cell_type": "code",
      "source": [
        "y=df_class_under['Exited']"
      ],
      "metadata": {
        "id": "KzNGW1pwC9eM"
      },
      "execution_count": 58,
      "outputs": []
    },
    {
      "cell_type": "code",
      "source": [
        "X.columns"
      ],
      "metadata": {
        "colab": {
          "base_uri": "https://localhost:8080/"
        },
        "id": "QzqNvEI3Dcg2",
        "outputId": "bfe8456f-f7e9-4f9e-f6d6-c5674cf93a46"
      },
      "execution_count": 59,
      "outputs": [
        {
          "output_type": "execute_result",
          "data": {
            "text/plain": [
              "Index(['CreditScore', 'Gender', 'Age', 'Tenure', 'Balance', 'NumOfProducts',\n",
              "       'HasCrCard', 'IsActiveMember', 'EstimatedSalary', 'Geography_France',\n",
              "       'Geography_Germany', 'Geography_Spain'],\n",
              "      dtype='object')"
            ]
          },
          "metadata": {},
          "execution_count": 59
        }
      ]
    },
    {
      "cell_type": "code",
      "source": [
        "from sklearn.model_selection import train_test_split\n",
        "X_train,X_test,y_train,y_test=train_test_split(X,y,test_size=0.2,stratify=y)"
      ],
      "metadata": {
        "id": "iEB38lCkDgoM"
      },
      "execution_count": 60,
      "outputs": []
    },
    {
      "cell_type": "code",
      "source": [
        "X_train.shape,y_train.shape,X_test.shape,y_test.shape"
      ],
      "metadata": {
        "colab": {
          "base_uri": "https://localhost:8080/"
        },
        "id": "Vrqwz0MBD1Ik",
        "outputId": "fcd98366-94b6-40c6-8015-c58733e07981"
      },
      "execution_count": 61,
      "outputs": [
        {
          "output_type": "execute_result",
          "data": {
            "text/plain": [
              "((3259, 12), (3259,), (815, 12), (815,))"
            ]
          },
          "metadata": {},
          "execution_count": 61
        }
      ]
    },
    {
      "cell_type": "code",
      "source": [
        "model1=tf.keras.models.Sequential([\n",
        "    keras.layers.Dense(10,input_shape=(12,),activation='relu'),\n",
        "    keras.layers.Dense(5,input_shape=(10,),activation='relu'),\n",
        "    keras.layers.Dense(1,activation='sigmoid')\n",
        "\n",
        "  ])\n",
        "model1.compile(optimizer='adam',loss='binary_crossentropy',metrics=['accuracy'])\n",
        "model1.fit(X_train,y_train,epochs=100)\n"
      ],
      "metadata": {
        "colab": {
          "base_uri": "https://localhost:8080/"
        },
        "id": "e0FBs4BIEIVN",
        "outputId": "20f6f76b-a8bd-4de0-d6eb-684508510064"
      },
      "execution_count": 62,
      "outputs": [
        {
          "output_type": "stream",
          "name": "stdout",
          "text": [
            "Epoch 1/100\n",
            "102/102 [==============================] - 1s 2ms/step - loss: 1.4363 - accuracy: 0.5591\n",
            "Epoch 2/100\n",
            "102/102 [==============================] - 0s 2ms/step - loss: 0.6456 - accuracy: 0.6336\n",
            "Epoch 3/100\n",
            "102/102 [==============================] - 0s 2ms/step - loss: 0.6368 - accuracy: 0.6481\n",
            "Epoch 4/100\n",
            "102/102 [==============================] - 0s 2ms/step - loss: 0.6283 - accuracy: 0.6545\n",
            "Epoch 5/100\n",
            "102/102 [==============================] - 0s 2ms/step - loss: 0.6229 - accuracy: 0.6545\n",
            "Epoch 6/100\n",
            "102/102 [==============================] - 0s 2ms/step - loss: 0.6156 - accuracy: 0.6652\n",
            "Epoch 7/100\n",
            "102/102 [==============================] - 0s 2ms/step - loss: 0.6116 - accuracy: 0.6751\n",
            "Epoch 8/100\n",
            "102/102 [==============================] - 0s 2ms/step - loss: 0.6052 - accuracy: 0.6784\n",
            "Epoch 9/100\n",
            "102/102 [==============================] - 0s 2ms/step - loss: 0.6021 - accuracy: 0.6833\n",
            "Epoch 10/100\n",
            "102/102 [==============================] - 0s 2ms/step - loss: 0.6000 - accuracy: 0.6787\n",
            "Epoch 11/100\n",
            "102/102 [==============================] - 0s 2ms/step - loss: 0.5970 - accuracy: 0.6824\n",
            "Epoch 12/100\n",
            "102/102 [==============================] - 0s 2ms/step - loss: 0.5950 - accuracy: 0.6864\n",
            "Epoch 13/100\n",
            "102/102 [==============================] - 0s 2ms/step - loss: 0.5923 - accuracy: 0.6879\n",
            "Epoch 14/100\n",
            "102/102 [==============================] - 0s 2ms/step - loss: 0.5934 - accuracy: 0.6840\n",
            "Epoch 15/100\n",
            "102/102 [==============================] - 0s 2ms/step - loss: 0.5922 - accuracy: 0.6843\n",
            "Epoch 16/100\n",
            "102/102 [==============================] - 0s 2ms/step - loss: 0.5901 - accuracy: 0.6925\n",
            "Epoch 17/100\n",
            "102/102 [==============================] - 0s 2ms/step - loss: 0.5899 - accuracy: 0.6870\n",
            "Epoch 18/100\n",
            "102/102 [==============================] - 0s 2ms/step - loss: 0.5898 - accuracy: 0.6886\n",
            "Epoch 19/100\n",
            "102/102 [==============================] - 0s 2ms/step - loss: 0.5888 - accuracy: 0.6925\n",
            "Epoch 20/100\n",
            "102/102 [==============================] - 0s 2ms/step - loss: 0.5872 - accuracy: 0.6889\n",
            "Epoch 21/100\n",
            "102/102 [==============================] - 0s 2ms/step - loss: 0.5863 - accuracy: 0.6935\n",
            "Epoch 22/100\n",
            "102/102 [==============================] - 0s 2ms/step - loss: 0.5882 - accuracy: 0.6932\n",
            "Epoch 23/100\n",
            "102/102 [==============================] - 0s 2ms/step - loss: 0.5882 - accuracy: 0.6932\n",
            "Epoch 24/100\n",
            "102/102 [==============================] - 0s 2ms/step - loss: 0.5842 - accuracy: 0.6968\n",
            "Epoch 25/100\n",
            "102/102 [==============================] - 0s 2ms/step - loss: 0.5886 - accuracy: 0.6965\n",
            "Epoch 26/100\n",
            "102/102 [==============================] - 0s 2ms/step - loss: 0.5874 - accuracy: 0.6916\n",
            "Epoch 27/100\n",
            "102/102 [==============================] - 0s 2ms/step - loss: 0.5859 - accuracy: 0.6895\n",
            "Epoch 28/100\n",
            "102/102 [==============================] - 0s 2ms/step - loss: 0.5848 - accuracy: 0.6981\n",
            "Epoch 29/100\n",
            "102/102 [==============================] - 0s 2ms/step - loss: 0.5829 - accuracy: 0.6950\n",
            "Epoch 30/100\n",
            "102/102 [==============================] - 0s 2ms/step - loss: 0.5819 - accuracy: 0.6990\n",
            "Epoch 31/100\n",
            "102/102 [==============================] - 0s 2ms/step - loss: 0.5810 - accuracy: 0.6922\n",
            "Epoch 32/100\n",
            "102/102 [==============================] - 0s 2ms/step - loss: 0.5876 - accuracy: 0.6929\n",
            "Epoch 33/100\n",
            "102/102 [==============================] - 0s 2ms/step - loss: 0.5823 - accuracy: 0.6959\n",
            "Epoch 34/100\n",
            "102/102 [==============================] - 0s 2ms/step - loss: 0.5838 - accuracy: 0.7005\n",
            "Epoch 35/100\n",
            "102/102 [==============================] - 0s 2ms/step - loss: 0.5836 - accuracy: 0.6947\n",
            "Epoch 36/100\n",
            "102/102 [==============================] - 0s 2ms/step - loss: 0.5830 - accuracy: 0.6947\n",
            "Epoch 37/100\n",
            "102/102 [==============================] - 0s 2ms/step - loss: 0.5833 - accuracy: 0.6953\n",
            "Epoch 38/100\n",
            "102/102 [==============================] - 0s 2ms/step - loss: 0.5815 - accuracy: 0.7014\n",
            "Epoch 39/100\n",
            "102/102 [==============================] - 0s 2ms/step - loss: 0.5837 - accuracy: 0.6959\n",
            "Epoch 40/100\n",
            "102/102 [==============================] - 0s 2ms/step - loss: 0.5822 - accuracy: 0.6978\n",
            "Epoch 41/100\n",
            "102/102 [==============================] - 0s 2ms/step - loss: 0.5848 - accuracy: 0.6910\n",
            "Epoch 42/100\n",
            "102/102 [==============================] - 0s 2ms/step - loss: 0.5829 - accuracy: 0.6975\n",
            "Epoch 43/100\n",
            "102/102 [==============================] - 0s 2ms/step - loss: 0.5851 - accuracy: 0.6941\n",
            "Epoch 44/100\n",
            "102/102 [==============================] - 0s 2ms/step - loss: 0.5841 - accuracy: 0.6953\n",
            "Epoch 45/100\n",
            "102/102 [==============================] - 0s 2ms/step - loss: 0.5820 - accuracy: 0.6965\n",
            "Epoch 46/100\n",
            "102/102 [==============================] - 0s 2ms/step - loss: 0.5815 - accuracy: 0.7005\n",
            "Epoch 47/100\n",
            "102/102 [==============================] - 0s 2ms/step - loss: 0.5795 - accuracy: 0.7042\n",
            "Epoch 48/100\n",
            "102/102 [==============================] - 0s 2ms/step - loss: 0.5797 - accuracy: 0.6975\n",
            "Epoch 49/100\n",
            "102/102 [==============================] - 0s 2ms/step - loss: 0.5790 - accuracy: 0.7027\n",
            "Epoch 50/100\n",
            "102/102 [==============================] - 0s 2ms/step - loss: 0.5800 - accuracy: 0.7024\n",
            "Epoch 51/100\n",
            "102/102 [==============================] - 0s 2ms/step - loss: 0.5796 - accuracy: 0.6993\n",
            "Epoch 52/100\n",
            "102/102 [==============================] - 0s 2ms/step - loss: 0.5817 - accuracy: 0.6993\n",
            "Epoch 53/100\n",
            "102/102 [==============================] - 0s 2ms/step - loss: 0.5805 - accuracy: 0.6956\n",
            "Epoch 54/100\n",
            "102/102 [==============================] - 0s 2ms/step - loss: 0.5832 - accuracy: 0.6990\n",
            "Epoch 55/100\n",
            "102/102 [==============================] - 0s 2ms/step - loss: 0.5817 - accuracy: 0.7030\n",
            "Epoch 56/100\n",
            "102/102 [==============================] - 0s 2ms/step - loss: 0.5798 - accuracy: 0.6975\n",
            "Epoch 57/100\n",
            "102/102 [==============================] - 0s 2ms/step - loss: 0.5791 - accuracy: 0.7014\n",
            "Epoch 58/100\n",
            "102/102 [==============================] - 0s 2ms/step - loss: 0.5802 - accuracy: 0.7008\n",
            "Epoch 59/100\n",
            "102/102 [==============================] - 0s 2ms/step - loss: 0.5775 - accuracy: 0.7036\n",
            "Epoch 60/100\n",
            "102/102 [==============================] - 0s 2ms/step - loss: 0.5798 - accuracy: 0.6975\n",
            "Epoch 61/100\n",
            "102/102 [==============================] - 0s 2ms/step - loss: 0.5774 - accuracy: 0.7005\n",
            "Epoch 62/100\n",
            "102/102 [==============================] - 0s 2ms/step - loss: 0.5766 - accuracy: 0.7067\n",
            "Epoch 63/100\n",
            "102/102 [==============================] - 0s 2ms/step - loss: 0.5774 - accuracy: 0.7082\n",
            "Epoch 64/100\n",
            "102/102 [==============================] - 0s 2ms/step - loss: 0.5783 - accuracy: 0.7021\n",
            "Epoch 65/100\n",
            "102/102 [==============================] - 0s 2ms/step - loss: 0.5814 - accuracy: 0.6913\n",
            "Epoch 66/100\n",
            "102/102 [==============================] - 0s 2ms/step - loss: 0.5777 - accuracy: 0.7033\n",
            "Epoch 67/100\n",
            "102/102 [==============================] - 0s 2ms/step - loss: 0.5768 - accuracy: 0.7014\n",
            "Epoch 68/100\n",
            "102/102 [==============================] - 0s 2ms/step - loss: 0.5781 - accuracy: 0.7097\n",
            "Epoch 69/100\n",
            "102/102 [==============================] - 0s 2ms/step - loss: 0.5767 - accuracy: 0.7073\n",
            "Epoch 70/100\n",
            "102/102 [==============================] - 0s 2ms/step - loss: 0.5776 - accuracy: 0.7030\n",
            "Epoch 71/100\n",
            "102/102 [==============================] - 0s 2ms/step - loss: 0.5774 - accuracy: 0.7048\n",
            "Epoch 72/100\n",
            "102/102 [==============================] - 0s 2ms/step - loss: 0.5748 - accuracy: 0.7014\n",
            "Epoch 73/100\n",
            "102/102 [==============================] - 0s 2ms/step - loss: 0.5742 - accuracy: 0.7045\n",
            "Epoch 74/100\n",
            "102/102 [==============================] - 0s 2ms/step - loss: 0.5753 - accuracy: 0.7036\n",
            "Epoch 75/100\n",
            "102/102 [==============================] - 0s 2ms/step - loss: 0.5748 - accuracy: 0.7082\n",
            "Epoch 76/100\n",
            "102/102 [==============================] - 0s 2ms/step - loss: 0.5741 - accuracy: 0.6984\n",
            "Epoch 77/100\n",
            "102/102 [==============================] - 0s 2ms/step - loss: 0.5749 - accuracy: 0.6996\n",
            "Epoch 78/100\n",
            "102/102 [==============================] - 0s 2ms/step - loss: 0.5760 - accuracy: 0.7045\n",
            "Epoch 79/100\n",
            "102/102 [==============================] - 0s 2ms/step - loss: 0.5733 - accuracy: 0.7045\n",
            "Epoch 80/100\n",
            "102/102 [==============================] - 0s 2ms/step - loss: 0.5735 - accuracy: 0.7073\n",
            "Epoch 81/100\n",
            "102/102 [==============================] - 0s 2ms/step - loss: 0.5742 - accuracy: 0.7051\n",
            "Epoch 82/100\n",
            "102/102 [==============================] - 0s 2ms/step - loss: 0.5734 - accuracy: 0.7036\n",
            "Epoch 83/100\n",
            "102/102 [==============================] - 0s 2ms/step - loss: 0.5714 - accuracy: 0.7110\n",
            "Epoch 84/100\n",
            "102/102 [==============================] - 0s 2ms/step - loss: 0.5718 - accuracy: 0.7064\n",
            "Epoch 85/100\n",
            "102/102 [==============================] - 0s 2ms/step - loss: 0.5727 - accuracy: 0.7021\n",
            "Epoch 86/100\n",
            "102/102 [==============================] - 0s 2ms/step - loss: 0.5710 - accuracy: 0.7064\n",
            "Epoch 87/100\n",
            "102/102 [==============================] - 0s 2ms/step - loss: 0.5701 - accuracy: 0.7048\n",
            "Epoch 88/100\n",
            "102/102 [==============================] - 0s 2ms/step - loss: 0.5705 - accuracy: 0.7079\n",
            "Epoch 89/100\n",
            "102/102 [==============================] - 0s 2ms/step - loss: 0.5764 - accuracy: 0.7002\n",
            "Epoch 90/100\n",
            "102/102 [==============================] - 0s 2ms/step - loss: 0.5714 - accuracy: 0.7057\n",
            "Epoch 91/100\n",
            "102/102 [==============================] - 0s 2ms/step - loss: 0.5686 - accuracy: 0.7137\n",
            "Epoch 92/100\n",
            "102/102 [==============================] - 0s 2ms/step - loss: 0.5700 - accuracy: 0.7042\n",
            "Epoch 93/100\n",
            "102/102 [==============================] - 0s 2ms/step - loss: 0.5718 - accuracy: 0.7060\n",
            "Epoch 94/100\n",
            "102/102 [==============================] - 0s 2ms/step - loss: 0.5694 - accuracy: 0.7116\n",
            "Epoch 95/100\n",
            "102/102 [==============================] - 0s 2ms/step - loss: 0.5692 - accuracy: 0.7008\n",
            "Epoch 96/100\n",
            "102/102 [==============================] - 0s 2ms/step - loss: 0.5687 - accuracy: 0.7054\n",
            "Epoch 97/100\n",
            "102/102 [==============================] - 0s 2ms/step - loss: 0.5692 - accuracy: 0.7042\n",
            "Epoch 98/100\n",
            "102/102 [==============================] - 0s 2ms/step - loss: 0.5682 - accuracy: 0.7097\n",
            "Epoch 99/100\n",
            "102/102 [==============================] - 0s 2ms/step - loss: 0.5679 - accuracy: 0.7033\n",
            "Epoch 100/100\n",
            "102/102 [==============================] - 0s 2ms/step - loss: 0.5694 - accuracy: 0.7073\n"
          ]
        },
        {
          "output_type": "execute_result",
          "data": {
            "text/plain": [
              "<keras.callbacks.History at 0x7f8f23f96140>"
            ]
          },
          "metadata": {},
          "execution_count": 62
        }
      ]
    },
    {
      "cell_type": "code",
      "source": [
        "y_pred_u=model1.predict(X_test)"
      ],
      "metadata": {
        "colab": {
          "base_uri": "https://localhost:8080/"
        },
        "id": "pkhUaUO9EvUq",
        "outputId": "0a7cb90f-5cf7-4f8d-e73f-07745d0b2649"
      },
      "execution_count": 63,
      "outputs": [
        {
          "output_type": "stream",
          "name": "stdout",
          "text": [
            "26/26 [==============================] - 0s 2ms/step\n"
          ]
        }
      ]
    },
    {
      "cell_type": "code",
      "source": [
        "y_pred_u=np.round(y_pred_u)"
      ],
      "metadata": {
        "id": "f3UmpjDmE0UF"
      },
      "execution_count": 64,
      "outputs": []
    },
    {
      "cell_type": "code",
      "source": [
        "from sklearn.metrics import classification_report\n",
        "clr_u=classification_report(y_test,y_pred_u)\n",
        "print(clr_u)"
      ],
      "metadata": {
        "colab": {
          "base_uri": "https://localhost:8080/"
        },
        "id": "NLuUt85mFBav",
        "outputId": "ff195e78-d5bd-4eb6-cac2-9dccf4f76819"
      },
      "execution_count": 65,
      "outputs": [
        {
          "output_type": "stream",
          "name": "stdout",
          "text": [
            "              precision    recall  f1-score   support\n",
            "\n",
            "           0       0.70      0.73      0.71       407\n",
            "           1       0.72      0.69      0.71       408\n",
            "\n",
            "    accuracy                           0.71       815\n",
            "   macro avg       0.71      0.71      0.71       815\n",
            "weighted avg       0.71      0.71      0.71       815\n",
            "\n"
          ]
        }
      ]
    },
    {
      "cell_type": "markdown",
      "source": [
        "Oversampling"
      ],
      "metadata": {
        "id": "Nkyflsa4FLpW"
      }
    },
    {
      "cell_type": "code",
      "source": [
        "df_class_over=df_Exited_1.sample(count_0,replace=True)"
      ],
      "metadata": {
        "id": "fID4UzoFFJcp"
      },
      "execution_count": 67,
      "outputs": []
    },
    {
      "cell_type": "code",
      "source": [
        "df_class_over=pd.concat([df_class_over,df_Exited_0])"
      ],
      "metadata": {
        "id": "Eo8mJsPlFttU"
      },
      "execution_count": 68,
      "outputs": []
    },
    {
      "cell_type": "code",
      "source": [
        "print('Random over-sampling:')\n",
        "print(df_class_over['Exited'].value_counts())"
      ],
      "metadata": {
        "colab": {
          "base_uri": "https://localhost:8080/"
        },
        "id": "c5gTCS5SGyvC",
        "outputId": "7ecf5b56-8c34-4817-a0ae-9b9448fe130a"
      },
      "execution_count": 71,
      "outputs": [
        {
          "output_type": "stream",
          "name": "stdout",
          "text": [
            "Random over-sampling:\n",
            "1    7963\n",
            "0    7963\n",
            "Name: Exited, dtype: int64\n"
          ]
        }
      ]
    },
    {
      "cell_type": "code",
      "source": [],
      "metadata": {
        "id": "A4QqMSV6GyY7"
      },
      "execution_count": null,
      "outputs": []
    },
    {
      "cell_type": "code",
      "source": [
        "df_class_over['Exited'].value_counts()"
      ],
      "metadata": {
        "colab": {
          "base_uri": "https://localhost:8080/"
        },
        "id": "RJhfsUurGPnr",
        "outputId": "0bb30135-0cfe-4df4-8bca-e1ae8eb1a71c"
      },
      "execution_count": 69,
      "outputs": [
        {
          "output_type": "execute_result",
          "data": {
            "text/plain": [
              "1    7963\n",
              "0    7963\n",
              "Name: Exited, dtype: int64"
            ]
          },
          "metadata": {},
          "execution_count": 69
        }
      ]
    },
    {
      "cell_type": "code",
      "source": [
        "X=df_class_over.drop('Exited',axis=1)\n",
        "y=df_class_over['Exited']\n"
      ],
      "metadata": {
        "id": "LYQxfancGf2M"
      },
      "execution_count": 70,
      "outputs": []
    },
    {
      "cell_type": "code",
      "source": [
        "from sklearn.model_selection import train_test_split\n",
        "X_train,X_test,y_train,y_test=train_test_split(X,y,test_size=0.2,stratify=y)"
      ],
      "metadata": {
        "id": "3T2Z9CTdG_EL"
      },
      "execution_count": 72,
      "outputs": []
    },
    {
      "cell_type": "code",
      "source": [
        "X_train.shape,y_train.shape,X_test.shape,y_test.shape"
      ],
      "metadata": {
        "colab": {
          "base_uri": "https://localhost:8080/"
        },
        "id": "UFMk1dzMHDyA",
        "outputId": "6266d180-ec3e-4cd3-980d-f26a53a1699d"
      },
      "execution_count": 73,
      "outputs": [
        {
          "output_type": "execute_result",
          "data": {
            "text/plain": [
              "((12740, 12), (12740,), (3186, 12), (3186,))"
            ]
          },
          "metadata": {},
          "execution_count": 73
        }
      ]
    },
    {
      "cell_type": "code",
      "source": [
        "model2=tf.keras.models.Sequential([\n",
        "    keras.layers.Dense(10,input_shape=(12,),activation='relu'),\n",
        "    keras.layers.Dense(5,input_shape=(10,),activation='relu'),\n",
        "    keras.layers.Dense(1,activation='sigmoid')\n",
        "\n",
        "  ])\n",
        "model2.compile(optimizer='adam',loss='binary_crossentropy',metrics=['accuracy'])\n",
        "model2.fit(X_train,y_train,epochs=100)\n"
      ],
      "metadata": {
        "colab": {
          "base_uri": "https://localhost:8080/"
        },
        "id": "i89gA3ZAHOZ1",
        "outputId": "c63ac299-0a30-4886-a9a5-46e1fda126e7"
      },
      "execution_count": 74,
      "outputs": [
        {
          "output_type": "stream",
          "name": "stdout",
          "text": [
            "Epoch 1/100\n",
            "399/399 [==============================] - 2s 2ms/step - loss: 0.7556 - accuracy: 0.5845\n",
            "Epoch 2/100\n",
            "399/399 [==============================] - 1s 2ms/step - loss: 0.6373 - accuracy: 0.6485\n",
            "Epoch 3/100\n",
            "399/399 [==============================] - 1s 2ms/step - loss: 0.5990 - accuracy: 0.6801\n",
            "Epoch 4/100\n",
            "399/399 [==============================] - 1s 2ms/step - loss: 0.5904 - accuracy: 0.6923\n",
            "Epoch 5/100\n",
            "399/399 [==============================] - 1s 2ms/step - loss: 0.5866 - accuracy: 0.6925\n",
            "Epoch 6/100\n",
            "399/399 [==============================] - 1s 2ms/step - loss: 0.5840 - accuracy: 0.6941\n",
            "Epoch 7/100\n",
            "399/399 [==============================] - 1s 2ms/step - loss: 0.5814 - accuracy: 0.6969\n",
            "Epoch 8/100\n",
            "399/399 [==============================] - 1s 2ms/step - loss: 0.5806 - accuracy: 0.6966\n",
            "Epoch 9/100\n",
            "399/399 [==============================] - 1s 2ms/step - loss: 0.5797 - accuracy: 0.6960\n",
            "Epoch 10/100\n",
            "399/399 [==============================] - 1s 2ms/step - loss: 0.5788 - accuracy: 0.6987\n",
            "Epoch 11/100\n",
            "399/399 [==============================] - 1s 2ms/step - loss: 0.5785 - accuracy: 0.7006\n",
            "Epoch 12/100\n",
            "399/399 [==============================] - 1s 2ms/step - loss: 0.5777 - accuracy: 0.6997\n",
            "Epoch 13/100\n",
            "399/399 [==============================] - 1s 2ms/step - loss: 0.5769 - accuracy: 0.7012\n",
            "Epoch 14/100\n",
            "399/399 [==============================] - 1s 2ms/step - loss: 0.5766 - accuracy: 0.7012\n",
            "Epoch 15/100\n",
            "399/399 [==============================] - 1s 2ms/step - loss: 0.5772 - accuracy: 0.6977\n",
            "Epoch 16/100\n",
            "399/399 [==============================] - 1s 2ms/step - loss: 0.5777 - accuracy: 0.7006\n",
            "Epoch 17/100\n",
            "399/399 [==============================] - 1s 2ms/step - loss: 0.5758 - accuracy: 0.7009\n",
            "Epoch 18/100\n",
            "399/399 [==============================] - 1s 2ms/step - loss: 0.5760 - accuracy: 0.7002\n",
            "Epoch 19/100\n",
            "399/399 [==============================] - 1s 2ms/step - loss: 0.5755 - accuracy: 0.6968\n",
            "Epoch 20/100\n",
            "399/399 [==============================] - 1s 2ms/step - loss: 0.5759 - accuracy: 0.6992\n",
            "Epoch 21/100\n",
            "399/399 [==============================] - 1s 2ms/step - loss: 0.5753 - accuracy: 0.7009\n",
            "Epoch 22/100\n",
            "399/399 [==============================] - 1s 2ms/step - loss: 0.5758 - accuracy: 0.7020\n",
            "Epoch 23/100\n",
            "399/399 [==============================] - 1s 2ms/step - loss: 0.5754 - accuracy: 0.7005\n",
            "Epoch 24/100\n",
            "399/399 [==============================] - 1s 2ms/step - loss: 0.5746 - accuracy: 0.6987\n",
            "Epoch 25/100\n",
            "399/399 [==============================] - 1s 2ms/step - loss: 0.5740 - accuracy: 0.7020\n",
            "Epoch 26/100\n",
            "399/399 [==============================] - 1s 2ms/step - loss: 0.5741 - accuracy: 0.7029\n",
            "Epoch 27/100\n",
            "399/399 [==============================] - 1s 2ms/step - loss: 0.5740 - accuracy: 0.7005\n",
            "Epoch 28/100\n",
            "399/399 [==============================] - 1s 2ms/step - loss: 0.5734 - accuracy: 0.7034\n",
            "Epoch 29/100\n",
            "399/399 [==============================] - 1s 2ms/step - loss: 0.5737 - accuracy: 0.7025\n",
            "Epoch 30/100\n",
            "399/399 [==============================] - 1s 2ms/step - loss: 0.5746 - accuracy: 0.7019\n",
            "Epoch 31/100\n",
            "399/399 [==============================] - 1s 2ms/step - loss: 0.5729 - accuracy: 0.7014\n",
            "Epoch 32/100\n",
            "399/399 [==============================] - 1s 2ms/step - loss: 0.5728 - accuracy: 0.7001\n",
            "Epoch 33/100\n",
            "399/399 [==============================] - 1s 2ms/step - loss: 0.5721 - accuracy: 0.7042\n",
            "Epoch 34/100\n",
            "399/399 [==============================] - 1s 2ms/step - loss: 0.5719 - accuracy: 0.7019\n",
            "Epoch 35/100\n",
            "399/399 [==============================] - 1s 2ms/step - loss: 0.5709 - accuracy: 0.7016\n",
            "Epoch 36/100\n",
            "399/399 [==============================] - 1s 2ms/step - loss: 0.5695 - accuracy: 0.7038\n",
            "Epoch 37/100\n",
            "399/399 [==============================] - 1s 2ms/step - loss: 0.5668 - accuracy: 0.7036\n",
            "Epoch 38/100\n",
            "399/399 [==============================] - 1s 2ms/step - loss: 0.5634 - accuracy: 0.7088\n",
            "Epoch 39/100\n",
            "399/399 [==============================] - 1s 2ms/step - loss: 0.5562 - accuracy: 0.7150\n",
            "Epoch 40/100\n",
            "399/399 [==============================] - 1s 2ms/step - loss: 0.5501 - accuracy: 0.7235\n",
            "Epoch 41/100\n",
            "399/399 [==============================] - 1s 2ms/step - loss: 0.5434 - accuracy: 0.7297\n",
            "Epoch 42/100\n",
            "399/399 [==============================] - 1s 2ms/step - loss: 0.5376 - accuracy: 0.7314\n",
            "Epoch 43/100\n",
            "399/399 [==============================] - 1s 2ms/step - loss: 0.5308 - accuracy: 0.7402\n",
            "Epoch 44/100\n",
            "399/399 [==============================] - 1s 2ms/step - loss: 0.5262 - accuracy: 0.7396\n",
            "Epoch 45/100\n",
            "399/399 [==============================] - 1s 2ms/step - loss: 0.5223 - accuracy: 0.7445\n",
            "Epoch 46/100\n",
            "399/399 [==============================] - 1s 2ms/step - loss: 0.5189 - accuracy: 0.7457\n",
            "Epoch 47/100\n",
            "399/399 [==============================] - 1s 2ms/step - loss: 0.5181 - accuracy: 0.7416\n",
            "Epoch 48/100\n",
            "399/399 [==============================] - 1s 2ms/step - loss: 0.5139 - accuracy: 0.7448\n",
            "Epoch 49/100\n",
            "399/399 [==============================] - 1s 2ms/step - loss: 0.5106 - accuracy: 0.7489\n",
            "Epoch 50/100\n",
            "399/399 [==============================] - 1s 2ms/step - loss: 0.5098 - accuracy: 0.7508\n",
            "Epoch 51/100\n",
            "399/399 [==============================] - 1s 2ms/step - loss: 0.5074 - accuracy: 0.7516\n",
            "Epoch 52/100\n",
            "399/399 [==============================] - 1s 2ms/step - loss: 0.5058 - accuracy: 0.7519\n",
            "Epoch 53/100\n",
            "399/399 [==============================] - 1s 2ms/step - loss: 0.5056 - accuracy: 0.7499\n",
            "Epoch 54/100\n",
            "399/399 [==============================] - 1s 2ms/step - loss: 0.5041 - accuracy: 0.7530\n",
            "Epoch 55/100\n",
            "399/399 [==============================] - 1s 2ms/step - loss: 0.5018 - accuracy: 0.7516\n",
            "Epoch 56/100\n",
            "399/399 [==============================] - 1s 2ms/step - loss: 0.5020 - accuracy: 0.7506\n",
            "Epoch 57/100\n",
            "399/399 [==============================] - 1s 2ms/step - loss: 0.5021 - accuracy: 0.7517\n",
            "Epoch 58/100\n",
            "399/399 [==============================] - 1s 2ms/step - loss: 0.5003 - accuracy: 0.7546\n",
            "Epoch 59/100\n",
            "399/399 [==============================] - 1s 2ms/step - loss: 0.4995 - accuracy: 0.7556\n",
            "Epoch 60/100\n",
            "399/399 [==============================] - 1s 2ms/step - loss: 0.4979 - accuracy: 0.7575\n",
            "Epoch 61/100\n",
            "399/399 [==============================] - 1s 2ms/step - loss: 0.4998 - accuracy: 0.7540\n",
            "Epoch 62/100\n",
            "399/399 [==============================] - 1s 2ms/step - loss: 0.4981 - accuracy: 0.7535\n",
            "Epoch 63/100\n",
            "399/399 [==============================] - 1s 2ms/step - loss: 0.4954 - accuracy: 0.7553\n",
            "Epoch 64/100\n",
            "399/399 [==============================] - 1s 2ms/step - loss: 0.4947 - accuracy: 0.7553\n",
            "Epoch 65/100\n",
            "399/399 [==============================] - 1s 2ms/step - loss: 0.4959 - accuracy: 0.7568\n",
            "Epoch 66/100\n",
            "399/399 [==============================] - 1s 2ms/step - loss: 0.4943 - accuracy: 0.7578\n",
            "Epoch 67/100\n",
            "399/399 [==============================] - 1s 2ms/step - loss: 0.4940 - accuracy: 0.7554\n",
            "Epoch 68/100\n",
            "399/399 [==============================] - 1s 2ms/step - loss: 0.4942 - accuracy: 0.7557\n",
            "Epoch 69/100\n",
            "399/399 [==============================] - 1s 2ms/step - loss: 0.4937 - accuracy: 0.7573\n",
            "Epoch 70/100\n",
            "399/399 [==============================] - 1s 2ms/step - loss: 0.4934 - accuracy: 0.7597\n",
            "Epoch 71/100\n",
            "399/399 [==============================] - 1s 2ms/step - loss: 0.4935 - accuracy: 0.7563\n",
            "Epoch 72/100\n",
            "399/399 [==============================] - 1s 2ms/step - loss: 0.4900 - accuracy: 0.7574\n",
            "Epoch 73/100\n",
            "399/399 [==============================] - 1s 2ms/step - loss: 0.4920 - accuracy: 0.7597\n",
            "Epoch 74/100\n",
            "399/399 [==============================] - 1s 2ms/step - loss: 0.4918 - accuracy: 0.7575\n",
            "Epoch 75/100\n",
            "399/399 [==============================] - 1s 2ms/step - loss: 0.4912 - accuracy: 0.7581\n",
            "Epoch 76/100\n",
            "399/399 [==============================] - 1s 2ms/step - loss: 0.4890 - accuracy: 0.7600\n",
            "Epoch 77/100\n",
            "399/399 [==============================] - 1s 2ms/step - loss: 0.4889 - accuracy: 0.7578\n",
            "Epoch 78/100\n",
            "399/399 [==============================] - 1s 2ms/step - loss: 0.4906 - accuracy: 0.7604\n",
            "Epoch 79/100\n",
            "399/399 [==============================] - 1s 2ms/step - loss: 0.4897 - accuracy: 0.7585\n",
            "Epoch 80/100\n",
            "399/399 [==============================] - 1s 2ms/step - loss: 0.4872 - accuracy: 0.7616\n",
            "Epoch 81/100\n",
            "399/399 [==============================] - 1s 2ms/step - loss: 0.4872 - accuracy: 0.7601\n",
            "Epoch 82/100\n",
            "399/399 [==============================] - 1s 2ms/step - loss: 0.4890 - accuracy: 0.7592\n",
            "Epoch 83/100\n",
            "399/399 [==============================] - 1s 2ms/step - loss: 0.4883 - accuracy: 0.7594\n",
            "Epoch 84/100\n",
            "399/399 [==============================] - 1s 2ms/step - loss: 0.4856 - accuracy: 0.7611\n",
            "Epoch 85/100\n",
            "399/399 [==============================] - 1s 2ms/step - loss: 0.4861 - accuracy: 0.7583\n",
            "Epoch 86/100\n",
            "399/399 [==============================] - 1s 2ms/step - loss: 0.4854 - accuracy: 0.7609\n",
            "Epoch 87/100\n",
            "399/399 [==============================] - 1s 2ms/step - loss: 0.4847 - accuracy: 0.7606\n",
            "Epoch 88/100\n",
            "399/399 [==============================] - 1s 2ms/step - loss: 0.4846 - accuracy: 0.7633\n",
            "Epoch 89/100\n",
            "399/399 [==============================] - 1s 2ms/step - loss: 0.4841 - accuracy: 0.7625\n",
            "Epoch 90/100\n",
            "399/399 [==============================] - 1s 2ms/step - loss: 0.4843 - accuracy: 0.7635\n",
            "Epoch 91/100\n",
            "399/399 [==============================] - 1s 2ms/step - loss: 0.4838 - accuracy: 0.7616\n",
            "Epoch 92/100\n",
            "399/399 [==============================] - 1s 2ms/step - loss: 0.4815 - accuracy: 0.7613\n",
            "Epoch 93/100\n",
            "399/399 [==============================] - 1s 2ms/step - loss: 0.4815 - accuracy: 0.7633\n",
            "Epoch 94/100\n",
            "399/399 [==============================] - 1s 2ms/step - loss: 0.4848 - accuracy: 0.7615\n",
            "Epoch 95/100\n",
            "399/399 [==============================] - 1s 2ms/step - loss: 0.4839 - accuracy: 0.7622\n",
            "Epoch 96/100\n",
            "399/399 [==============================] - 1s 2ms/step - loss: 0.4813 - accuracy: 0.7617\n",
            "Epoch 97/100\n",
            "399/399 [==============================] - 1s 2ms/step - loss: 0.4819 - accuracy: 0.7628\n",
            "Epoch 98/100\n",
            "399/399 [==============================] - 1s 2ms/step - loss: 0.4817 - accuracy: 0.7653\n",
            "Epoch 99/100\n",
            "399/399 [==============================] - 1s 2ms/step - loss: 0.4819 - accuracy: 0.7622\n",
            "Epoch 100/100\n",
            "399/399 [==============================] - 1s 2ms/step - loss: 0.4796 - accuracy: 0.7614\n"
          ]
        },
        {
          "output_type": "execute_result",
          "data": {
            "text/plain": [
              "<keras.callbacks.History at 0x7f8f2022a050>"
            ]
          },
          "metadata": {},
          "execution_count": 74
        }
      ]
    },
    {
      "cell_type": "code",
      "source": [
        "y_pred_o=model2.predict(X_test)"
      ],
      "metadata": {
        "colab": {
          "base_uri": "https://localhost:8080/"
        },
        "id": "65LtCE-zHvyl",
        "outputId": "11357716-43b2-447f-f1b9-4968538c3f5d"
      },
      "execution_count": 75,
      "outputs": [
        {
          "output_type": "stream",
          "name": "stdout",
          "text": [
            "100/100 [==============================] - 0s 2ms/step\n"
          ]
        }
      ]
    },
    {
      "cell_type": "code",
      "source": [
        "y_pred_o=np.round(y_pred_o)"
      ],
      "metadata": {
        "id": "JrVzDTpOH1Ot"
      },
      "execution_count": 76,
      "outputs": []
    },
    {
      "cell_type": "code",
      "source": [
        "from sklearn.metrics import classification_report\n",
        "clr_o=classification_report(y_test,y_pred_o)\n",
        "print(clr_o)"
      ],
      "metadata": {
        "colab": {
          "base_uri": "https://localhost:8080/"
        },
        "id": "CpB5QzbAIBPj",
        "outputId": "e5ee061d-e5aa-4a11-8628-68d033809e2f"
      },
      "execution_count": 77,
      "outputs": [
        {
          "output_type": "stream",
          "name": "stdout",
          "text": [
            "              precision    recall  f1-score   support\n",
            "\n",
            "           0       0.75      0.80      0.77      1593\n",
            "           1       0.79      0.73      0.76      1593\n",
            "\n",
            "    accuracy                           0.77      3186\n",
            "   macro avg       0.77      0.77      0.77      3186\n",
            "weighted avg       0.77      0.77      0.77      3186\n",
            "\n"
          ]
        }
      ]
    },
    {
      "cell_type": "code",
      "source": [
        "X=df.drop('Exited',axis=1)\n",
        "y=df['Exited']"
      ],
      "metadata": {
        "id": "vm19D33BIQRv"
      },
      "execution_count": 78,
      "outputs": []
    },
    {
      "cell_type": "code",
      "source": [
        "from imblearn.over_sampling import SMOTE\n",
        "smote=SMOTE(sampling_strategy='minority')\n",
        "X_sm,y_sm=smote.fit_resample(X,y)"
      ],
      "metadata": {
        "id": "Ufnp8W-6IeCO"
      },
      "execution_count": 79,
      "outputs": []
    },
    {
      "cell_type": "code",
      "source": [
        "y_sm.value_counts()"
      ],
      "metadata": {
        "colab": {
          "base_uri": "https://localhost:8080/"
        },
        "id": "wB_A7weZIiX8",
        "outputId": "e5096c82-1d47-46d1-85af-d3a823ae2967"
      },
      "execution_count": 80,
      "outputs": [
        {
          "output_type": "execute_result",
          "data": {
            "text/plain": [
              "1    7963\n",
              "0    7963\n",
              "Name: Exited, dtype: int64"
            ]
          },
          "metadata": {},
          "execution_count": 80
        }
      ]
    },
    {
      "cell_type": "code",
      "source": [
        "from sklearn.model_selection import train_test_split\n",
        "X_train,X_test,y_train,y_test=train_test_split(X_sm,y_sm,test_size=0.2,stratify=y_sm)"
      ],
      "metadata": {
        "id": "IDFVCXTlImzb"
      },
      "execution_count": 81,
      "outputs": []
    },
    {
      "cell_type": "code",
      "source": [
        "y_train.value_counts()"
      ],
      "metadata": {
        "colab": {
          "base_uri": "https://localhost:8080/"
        },
        "id": "gNaKjwYGIqzv",
        "outputId": "4e970639-5bed-4bd3-b18c-e23c55062514"
      },
      "execution_count": 82,
      "outputs": [
        {
          "output_type": "execute_result",
          "data": {
            "text/plain": [
              "0    6370\n",
              "1    6370\n",
              "Name: Exited, dtype: int64"
            ]
          },
          "metadata": {},
          "execution_count": 82
        }
      ]
    },
    {
      "cell_type": "code",
      "source": [
        "model3=tf.keras.models.Sequential([\n",
        "    keras.layers.Dense(10,input_shape=(12,),activation='relu'),\n",
        "    keras.layers.Dense(5,input_shape=(10,),activation='relu'),\n",
        "    keras.layers.Dense(1,activation='sigmoid')\n",
        "\n",
        "  ])\n",
        "model3.compile(optimizer='adam',loss='binary_crossentropy',metrics=['accuracy'])\n",
        "model3.fit(X_train,y_train,epochs=100)\n"
      ],
      "metadata": {
        "colab": {
          "base_uri": "https://localhost:8080/"
        },
        "id": "4w8YqJJWI1uG",
        "outputId": "94c0e283-29b4-424e-9d0a-dcb7bce6f0c6"
      },
      "execution_count": 83,
      "outputs": [
        {
          "output_type": "stream",
          "name": "stdout",
          "text": [
            "Epoch 1/100\n",
            "399/399 [==============================] - 2s 2ms/step - loss: 0.6477 - accuracy: 0.6219\n",
            "Epoch 2/100\n",
            "399/399 [==============================] - 1s 2ms/step - loss: 0.5622 - accuracy: 0.7118\n",
            "Epoch 3/100\n",
            "399/399 [==============================] - 1s 2ms/step - loss: 0.5418 - accuracy: 0.7257\n",
            "Epoch 4/100\n",
            "399/399 [==============================] - 1s 2ms/step - loss: 0.5361 - accuracy: 0.7270\n",
            "Epoch 5/100\n",
            "399/399 [==============================] - 1s 2ms/step - loss: 0.5336 - accuracy: 0.7283\n",
            "Epoch 6/100\n",
            "399/399 [==============================] - 1s 2ms/step - loss: 0.5298 - accuracy: 0.7301\n",
            "Epoch 7/100\n",
            "399/399 [==============================] - 1s 2ms/step - loss: 0.5271 - accuracy: 0.7337\n",
            "Epoch 8/100\n",
            "399/399 [==============================] - 1s 2ms/step - loss: 0.5266 - accuracy: 0.7358\n",
            "Epoch 9/100\n",
            "399/399 [==============================] - 1s 2ms/step - loss: 0.5246 - accuracy: 0.7354\n",
            "Epoch 10/100\n",
            "399/399 [==============================] - 1s 2ms/step - loss: 0.5217 - accuracy: 0.7390\n",
            "Epoch 11/100\n",
            "399/399 [==============================] - 1s 2ms/step - loss: 0.5214 - accuracy: 0.7374\n",
            "Epoch 12/100\n",
            "399/399 [==============================] - 1s 2ms/step - loss: 0.5185 - accuracy: 0.7389\n",
            "Epoch 13/100\n",
            "399/399 [==============================] - 1s 2ms/step - loss: 0.5199 - accuracy: 0.7393\n",
            "Epoch 14/100\n",
            "399/399 [==============================] - 1s 2ms/step - loss: 0.5185 - accuracy: 0.7434\n",
            "Epoch 15/100\n",
            "399/399 [==============================] - 1s 2ms/step - loss: 0.5173 - accuracy: 0.7399\n",
            "Epoch 16/100\n",
            "399/399 [==============================] - 1s 2ms/step - loss: 0.5177 - accuracy: 0.7406\n",
            "Epoch 17/100\n",
            "399/399 [==============================] - 1s 3ms/step - loss: 0.5154 - accuracy: 0.7425\n",
            "Epoch 18/100\n",
            "399/399 [==============================] - 1s 2ms/step - loss: 0.5138 - accuracy: 0.7433\n",
            "Epoch 19/100\n",
            "399/399 [==============================] - 1s 2ms/step - loss: 0.5134 - accuracy: 0.7439\n",
            "Epoch 20/100\n",
            "399/399 [==============================] - 1s 2ms/step - loss: 0.5129 - accuracy: 0.7443\n",
            "Epoch 21/100\n",
            "399/399 [==============================] - 1s 2ms/step - loss: 0.5134 - accuracy: 0.7456\n",
            "Epoch 22/100\n",
            "399/399 [==============================] - 1s 2ms/step - loss: 0.5136 - accuracy: 0.7444\n",
            "Epoch 23/100\n",
            "399/399 [==============================] - 1s 2ms/step - loss: 0.5122 - accuracy: 0.7431\n",
            "Epoch 24/100\n",
            "399/399 [==============================] - 1s 2ms/step - loss: 0.5109 - accuracy: 0.7461\n",
            "Epoch 25/100\n",
            "399/399 [==============================] - 1s 2ms/step - loss: 0.5113 - accuracy: 0.7422\n",
            "Epoch 26/100\n",
            "399/399 [==============================] - 1s 2ms/step - loss: 0.5114 - accuracy: 0.7431\n",
            "Epoch 27/100\n",
            "399/399 [==============================] - 1s 2ms/step - loss: 0.5092 - accuracy: 0.7469\n",
            "Epoch 28/100\n",
            "399/399 [==============================] - 1s 2ms/step - loss: 0.5101 - accuracy: 0.7473\n",
            "Epoch 29/100\n",
            "399/399 [==============================] - 1s 2ms/step - loss: 0.5070 - accuracy: 0.7487\n",
            "Epoch 30/100\n",
            "399/399 [==============================] - 1s 2ms/step - loss: 0.5068 - accuracy: 0.7470\n",
            "Epoch 31/100\n",
            "399/399 [==============================] - 1s 2ms/step - loss: 0.5063 - accuracy: 0.7509\n",
            "Epoch 32/100\n",
            "399/399 [==============================] - 1s 2ms/step - loss: 0.5024 - accuracy: 0.7529\n",
            "Epoch 33/100\n",
            "399/399 [==============================] - 1s 2ms/step - loss: 0.5015 - accuracy: 0.7553\n",
            "Epoch 34/100\n",
            "399/399 [==============================] - 1s 2ms/step - loss: 0.5007 - accuracy: 0.7513\n",
            "Epoch 35/100\n",
            "399/399 [==============================] - 1s 2ms/step - loss: 0.4972 - accuracy: 0.7571\n",
            "Epoch 36/100\n",
            "399/399 [==============================] - 1s 2ms/step - loss: 0.4986 - accuracy: 0.7575\n",
            "Epoch 37/100\n",
            "399/399 [==============================] - 1s 2ms/step - loss: 0.4979 - accuracy: 0.7579\n",
            "Epoch 38/100\n",
            "399/399 [==============================] - 1s 2ms/step - loss: 0.4940 - accuracy: 0.7578\n",
            "Epoch 39/100\n",
            "399/399 [==============================] - 1s 2ms/step - loss: 0.4927 - accuracy: 0.7600\n",
            "Epoch 40/100\n",
            "399/399 [==============================] - 1s 2ms/step - loss: 0.4910 - accuracy: 0.7618\n",
            "Epoch 41/100\n",
            "399/399 [==============================] - 1s 2ms/step - loss: 0.4893 - accuracy: 0.7615\n",
            "Epoch 42/100\n",
            "399/399 [==============================] - 1s 2ms/step - loss: 0.4889 - accuracy: 0.7615\n",
            "Epoch 43/100\n",
            "399/399 [==============================] - 1s 2ms/step - loss: 0.4866 - accuracy: 0.7625\n",
            "Epoch 44/100\n",
            "399/399 [==============================] - 1s 2ms/step - loss: 0.4858 - accuracy: 0.7646\n",
            "Epoch 45/100\n",
            "399/399 [==============================] - 1s 2ms/step - loss: 0.4852 - accuracy: 0.7646\n",
            "Epoch 46/100\n",
            "399/399 [==============================] - 1s 2ms/step - loss: 0.4827 - accuracy: 0.7662\n",
            "Epoch 47/100\n",
            "399/399 [==============================] - 1s 2ms/step - loss: 0.4809 - accuracy: 0.7659\n",
            "Epoch 48/100\n",
            "399/399 [==============================] - 1s 2ms/step - loss: 0.4799 - accuracy: 0.7676\n",
            "Epoch 49/100\n",
            "399/399 [==============================] - 1s 2ms/step - loss: 0.4779 - accuracy: 0.7714\n",
            "Epoch 50/100\n",
            "399/399 [==============================] - 1s 2ms/step - loss: 0.4776 - accuracy: 0.7691\n",
            "Epoch 51/100\n",
            "399/399 [==============================] - 1s 2ms/step - loss: 0.4777 - accuracy: 0.7694\n",
            "Epoch 52/100\n",
            "399/399 [==============================] - 1s 2ms/step - loss: 0.4763 - accuracy: 0.7710\n",
            "Epoch 53/100\n",
            "399/399 [==============================] - 1s 2ms/step - loss: 0.4733 - accuracy: 0.7703\n",
            "Epoch 54/100\n",
            "399/399 [==============================] - 1s 2ms/step - loss: 0.4726 - accuracy: 0.7721\n",
            "Epoch 55/100\n",
            "399/399 [==============================] - 1s 2ms/step - loss: 0.4727 - accuracy: 0.7721\n",
            "Epoch 56/100\n",
            "399/399 [==============================] - 1s 2ms/step - loss: 0.4698 - accuracy: 0.7747\n",
            "Epoch 57/100\n",
            "399/399 [==============================] - 1s 2ms/step - loss: 0.4692 - accuracy: 0.7762\n",
            "Epoch 58/100\n",
            "399/399 [==============================] - 1s 2ms/step - loss: 0.4667 - accuracy: 0.7759\n",
            "Epoch 59/100\n",
            "399/399 [==============================] - 1s 2ms/step - loss: 0.4676 - accuracy: 0.7748\n",
            "Epoch 60/100\n",
            "399/399 [==============================] - 1s 2ms/step - loss: 0.4690 - accuracy: 0.7735\n",
            "Epoch 61/100\n",
            "399/399 [==============================] - 1s 2ms/step - loss: 0.4660 - accuracy: 0.7745\n",
            "Epoch 62/100\n",
            "399/399 [==============================] - 1s 2ms/step - loss: 0.4648 - accuracy: 0.7774\n",
            "Epoch 63/100\n",
            "399/399 [==============================] - 1s 2ms/step - loss: 0.4633 - accuracy: 0.7795\n",
            "Epoch 64/100\n",
            "399/399 [==============================] - 1s 2ms/step - loss: 0.4633 - accuracy: 0.7768\n",
            "Epoch 65/100\n",
            "399/399 [==============================] - 1s 2ms/step - loss: 0.4635 - accuracy: 0.7780\n",
            "Epoch 66/100\n",
            "399/399 [==============================] - 1s 2ms/step - loss: 0.4609 - accuracy: 0.7790\n",
            "Epoch 67/100\n",
            "399/399 [==============================] - 1s 2ms/step - loss: 0.4617 - accuracy: 0.7800\n",
            "Epoch 68/100\n",
            "399/399 [==============================] - 1s 2ms/step - loss: 0.4600 - accuracy: 0.7787\n",
            "Epoch 69/100\n",
            "399/399 [==============================] - 1s 2ms/step - loss: 0.4613 - accuracy: 0.7781\n",
            "Epoch 70/100\n",
            "399/399 [==============================] - 1s 2ms/step - loss: 0.4584 - accuracy: 0.7818\n",
            "Epoch 71/100\n",
            "399/399 [==============================] - 1s 2ms/step - loss: 0.4575 - accuracy: 0.7800\n",
            "Epoch 72/100\n",
            "399/399 [==============================] - 1s 2ms/step - loss: 0.4574 - accuracy: 0.7774\n",
            "Epoch 73/100\n",
            "399/399 [==============================] - 1s 2ms/step - loss: 0.4572 - accuracy: 0.7784\n",
            "Epoch 74/100\n",
            "399/399 [==============================] - 1s 2ms/step - loss: 0.4590 - accuracy: 0.7800\n",
            "Epoch 75/100\n",
            "399/399 [==============================] - 1s 2ms/step - loss: 0.4555 - accuracy: 0.7796\n",
            "Epoch 76/100\n",
            "399/399 [==============================] - 1s 2ms/step - loss: 0.4547 - accuracy: 0.7831\n",
            "Epoch 77/100\n",
            "399/399 [==============================] - 1s 2ms/step - loss: 0.4552 - accuracy: 0.7798\n",
            "Epoch 78/100\n",
            "399/399 [==============================] - 1s 2ms/step - loss: 0.4549 - accuracy: 0.7810\n",
            "Epoch 79/100\n",
            "399/399 [==============================] - 1s 2ms/step - loss: 0.4529 - accuracy: 0.7824\n",
            "Epoch 80/100\n",
            "399/399 [==============================] - 1s 2ms/step - loss: 0.4527 - accuracy: 0.7798\n",
            "Epoch 81/100\n",
            "399/399 [==============================] - 1s 2ms/step - loss: 0.4528 - accuracy: 0.7803\n",
            "Epoch 82/100\n",
            "399/399 [==============================] - 1s 2ms/step - loss: 0.4544 - accuracy: 0.7835\n",
            "Epoch 83/100\n",
            "399/399 [==============================] - 1s 2ms/step - loss: 0.4524 - accuracy: 0.7820\n",
            "Epoch 84/100\n",
            "399/399 [==============================] - 1s 2ms/step - loss: 0.4507 - accuracy: 0.7820\n",
            "Epoch 85/100\n",
            "399/399 [==============================] - 1s 2ms/step - loss: 0.4516 - accuracy: 0.7828\n",
            "Epoch 86/100\n",
            "399/399 [==============================] - 1s 2ms/step - loss: 0.4491 - accuracy: 0.7845\n",
            "Epoch 87/100\n",
            "399/399 [==============================] - 1s 2ms/step - loss: 0.4504 - accuracy: 0.7862\n",
            "Epoch 88/100\n",
            "399/399 [==============================] - 1s 2ms/step - loss: 0.4531 - accuracy: 0.7816\n",
            "Epoch 89/100\n",
            "399/399 [==============================] - 1s 2ms/step - loss: 0.4486 - accuracy: 0.7844\n",
            "Epoch 90/100\n",
            "399/399 [==============================] - 1s 2ms/step - loss: 0.4512 - accuracy: 0.7851\n",
            "Epoch 91/100\n",
            "399/399 [==============================] - 1s 2ms/step - loss: 0.4500 - accuracy: 0.7831\n",
            "Epoch 92/100\n",
            "399/399 [==============================] - 1s 2ms/step - loss: 0.4487 - accuracy: 0.7837\n",
            "Epoch 93/100\n",
            "399/399 [==============================] - 1s 2ms/step - loss: 0.4460 - accuracy: 0.7844\n",
            "Epoch 94/100\n",
            "399/399 [==============================] - 1s 2ms/step - loss: 0.4475 - accuracy: 0.7847\n",
            "Epoch 95/100\n",
            "399/399 [==============================] - 1s 2ms/step - loss: 0.4480 - accuracy: 0.7849\n",
            "Epoch 96/100\n",
            "399/399 [==============================] - 1s 2ms/step - loss: 0.4461 - accuracy: 0.7871\n",
            "Epoch 97/100\n",
            "399/399 [==============================] - 1s 2ms/step - loss: 0.4468 - accuracy: 0.7849\n",
            "Epoch 98/100\n",
            "399/399 [==============================] - 1s 2ms/step - loss: 0.4442 - accuracy: 0.7842\n",
            "Epoch 99/100\n",
            "399/399 [==============================] - 1s 2ms/step - loss: 0.4443 - accuracy: 0.7861\n",
            "Epoch 100/100\n",
            "399/399 [==============================] - 1s 2ms/step - loss: 0.4447 - accuracy: 0.7887\n"
          ]
        },
        {
          "output_type": "execute_result",
          "data": {
            "text/plain": [
              "<keras.callbacks.History at 0x7f8f1b8f19c0>"
            ]
          },
          "metadata": {},
          "execution_count": 83
        }
      ]
    },
    {
      "cell_type": "code",
      "source": [
        "y_pred_smote=model3.predict(X_test)\n",
        "y_pred_smote=np.round(y_pred_smote)"
      ],
      "metadata": {
        "colab": {
          "base_uri": "https://localhost:8080/"
        },
        "id": "EB1JrId2JUqp",
        "outputId": "c92be779-425c-4c68-b41e-dae7ef3a21ef"
      },
      "execution_count": 84,
      "outputs": [
        {
          "output_type": "stream",
          "name": "stdout",
          "text": [
            "100/100 [==============================] - 0s 1ms/step\n"
          ]
        }
      ]
    },
    {
      "cell_type": "code",
      "source": [
        "cls=classification_report(y_test,y_pred_smote)\n",
        "print(cls)"
      ],
      "metadata": {
        "colab": {
          "base_uri": "https://localhost:8080/"
        },
        "id": "XR-lC8-HJbjo",
        "outputId": "9e1a8e28-520d-496f-97a9-00c25770be10"
      },
      "execution_count": 85,
      "outputs": [
        {
          "output_type": "stream",
          "name": "stdout",
          "text": [
            "              precision    recall  f1-score   support\n",
            "\n",
            "           0       0.87      0.67      0.76      1593\n",
            "           1       0.73      0.90      0.81      1593\n",
            "\n",
            "    accuracy                           0.79      3186\n",
            "   macro avg       0.80      0.79      0.78      3186\n",
            "weighted avg       0.80      0.79      0.78      3186\n",
            "\n"
          ]
        }
      ]
    },
    {
      "cell_type": "code",
      "source": [
        "def get_train_batch(df_majority,df_minority,start,end):\n",
        "  df_train=pd.concat([df_majority[start:end],df_minority],axis=0)\n",
        "  X_train=df_train.drop('Exited',axis=1)\n",
        "  y_train=df_train.Exited\n",
        "  return X_train,y_train"
      ],
      "metadata": {
        "id": "RAgAI3P6Jz0_"
      },
      "execution_count": 86,
      "outputs": []
    },
    {
      "cell_type": "code",
      "source": [
        "df['Exited'].value_counts()"
      ],
      "metadata": {
        "colab": {
          "base_uri": "https://localhost:8080/"
        },
        "id": "EvrbJsIfLQir",
        "outputId": "38232702-d0da-403b-f822-1c250203f2eb"
      },
      "execution_count": 87,
      "outputs": [
        {
          "output_type": "execute_result",
          "data": {
            "text/plain": [
              "0    7963\n",
              "1    2037\n",
              "Name: Exited, dtype: int64"
            ]
          },
          "metadata": {},
          "execution_count": 87
        }
      ]
    },
    {
      "cell_type": "code",
      "source": [
        "7963/3"
      ],
      "metadata": {
        "colab": {
          "base_uri": "https://localhost:8080/"
        },
        "id": "k1_2TxB2LatG",
        "outputId": "84bba998-9a2d-44b3-98fc-57ee3484733b"
      },
      "execution_count": 88,
      "outputs": [
        {
          "output_type": "execute_result",
          "data": {
            "text/plain": [
              "2654.3333333333335"
            ]
          },
          "metadata": {},
          "execution_count": 88
        }
      ]
    },
    {
      "cell_type": "code",
      "source": [
        "X_train,y_train=get_train_batch(df_Exited_0,df_Exited_1,0,2037)"
      ],
      "metadata": {
        "id": "AUQeex4zK0Op"
      },
      "execution_count": 89,
      "outputs": []
    },
    {
      "cell_type": "code",
      "source": [
        "model4=tf.keras.models.Sequential([\n",
        "    keras.layers.Dense(10,input_shape=(12,),activation='relu'),\n",
        "    keras.layers.Dense(5,input_shape=(10,),activation='relu'),\n",
        "    keras.layers.Dense(1,activation='sigmoid')\n",
        "\n",
        "  ])\n",
        "model4.compile(optimizer='adam',loss='binary_crossentropy',metrics=['accuracy'])\n",
        "model4.fit(X_train,y_train,epochs=100)\n"
      ],
      "metadata": {
        "colab": {
          "base_uri": "https://localhost:8080/"
        },
        "id": "_5Me0QTkL8FQ",
        "outputId": "a0f12bf6-2f10-4e8f-d408-d0ca648f2186"
      },
      "execution_count": 91,
      "outputs": [
        {
          "output_type": "stream",
          "name": "stdout",
          "text": [
            "Epoch 1/100\n",
            "128/128 [==============================] - 1s 2ms/step - loss: 0.8520 - accuracy: 0.5356\n",
            "Epoch 2/100\n",
            "128/128 [==============================] - 0s 2ms/step - loss: 0.6946 - accuracy: 0.5631\n",
            "Epoch 3/100\n",
            "128/128 [==============================] - 0s 2ms/step - loss: 0.6466 - accuracy: 0.6379\n",
            "Epoch 4/100\n",
            "128/128 [==============================] - 0s 2ms/step - loss: 0.6216 - accuracy: 0.6672\n",
            "Epoch 5/100\n",
            "128/128 [==============================] - 0s 2ms/step - loss: 0.6066 - accuracy: 0.6811\n",
            "Epoch 6/100\n",
            "128/128 [==============================] - 0s 2ms/step - loss: 0.5984 - accuracy: 0.6846\n",
            "Epoch 7/100\n",
            "128/128 [==============================] - 0s 2ms/step - loss: 0.5906 - accuracy: 0.6910\n",
            "Epoch 8/100\n",
            "128/128 [==============================] - 0s 2ms/step - loss: 0.5893 - accuracy: 0.6932\n",
            "Epoch 9/100\n",
            "128/128 [==============================] - 0s 2ms/step - loss: 0.5853 - accuracy: 0.6929\n",
            "Epoch 10/100\n",
            "128/128 [==============================] - 0s 2ms/step - loss: 0.5831 - accuracy: 0.6971\n",
            "Epoch 11/100\n",
            "128/128 [==============================] - 0s 2ms/step - loss: 0.5818 - accuracy: 0.6973\n",
            "Epoch 12/100\n",
            "128/128 [==============================] - 0s 2ms/step - loss: 0.5825 - accuracy: 0.6949\n",
            "Epoch 13/100\n",
            "128/128 [==============================] - 0s 2ms/step - loss: 0.5800 - accuracy: 0.6973\n",
            "Epoch 14/100\n",
            "128/128 [==============================] - 0s 2ms/step - loss: 0.5812 - accuracy: 0.6951\n",
            "Epoch 15/100\n",
            "128/128 [==============================] - 0s 2ms/step - loss: 0.5791 - accuracy: 0.6951\n",
            "Epoch 16/100\n",
            "128/128 [==============================] - 0s 2ms/step - loss: 0.5782 - accuracy: 0.6981\n",
            "Epoch 17/100\n",
            "128/128 [==============================] - 0s 2ms/step - loss: 0.5812 - accuracy: 0.7010\n",
            "Epoch 18/100\n",
            "128/128 [==============================] - 0s 2ms/step - loss: 0.5801 - accuracy: 0.6959\n",
            "Epoch 19/100\n",
            "128/128 [==============================] - 0s 2ms/step - loss: 0.5804 - accuracy: 0.6973\n",
            "Epoch 20/100\n",
            "128/128 [==============================] - 0s 3ms/step - loss: 0.5795 - accuracy: 0.6983\n",
            "Epoch 21/100\n",
            "128/128 [==============================] - 0s 2ms/step - loss: 0.5772 - accuracy: 0.7008\n",
            "Epoch 22/100\n",
            "128/128 [==============================] - 0s 2ms/step - loss: 0.5784 - accuracy: 0.6973\n",
            "Epoch 23/100\n",
            "128/128 [==============================] - 0s 2ms/step - loss: 0.5787 - accuracy: 0.7037\n",
            "Epoch 24/100\n",
            "128/128 [==============================] - 0s 2ms/step - loss: 0.5756 - accuracy: 0.7084\n",
            "Epoch 25/100\n",
            "128/128 [==============================] - 0s 3ms/step - loss: 0.5803 - accuracy: 0.6971\n",
            "Epoch 26/100\n",
            "128/128 [==============================] - 0s 3ms/step - loss: 0.5785 - accuracy: 0.7047\n",
            "Epoch 27/100\n",
            "128/128 [==============================] - 0s 3ms/step - loss: 0.5819 - accuracy: 0.7013\n",
            "Epoch 28/100\n",
            "128/128 [==============================] - 0s 2ms/step - loss: 0.5787 - accuracy: 0.6983\n",
            "Epoch 29/100\n",
            "128/128 [==============================] - 0s 3ms/step - loss: 0.5810 - accuracy: 0.6944\n",
            "Epoch 30/100\n",
            "128/128 [==============================] - 0s 2ms/step - loss: 0.5780 - accuracy: 0.6978\n",
            "Epoch 31/100\n",
            "128/128 [==============================] - 0s 2ms/step - loss: 0.5776 - accuracy: 0.6993\n",
            "Epoch 32/100\n",
            "128/128 [==============================] - 0s 2ms/step - loss: 0.5782 - accuracy: 0.7035\n",
            "Epoch 33/100\n",
            "128/128 [==============================] - 0s 2ms/step - loss: 0.5769 - accuracy: 0.7059\n",
            "Epoch 34/100\n",
            "128/128 [==============================] - 0s 2ms/step - loss: 0.5782 - accuracy: 0.7025\n",
            "Epoch 35/100\n",
            "128/128 [==============================] - 0s 2ms/step - loss: 0.5769 - accuracy: 0.7000\n",
            "Epoch 36/100\n",
            "128/128 [==============================] - 0s 2ms/step - loss: 0.5757 - accuracy: 0.7042\n",
            "Epoch 37/100\n",
            "128/128 [==============================] - 0s 2ms/step - loss: 0.5782 - accuracy: 0.6986\n",
            "Epoch 38/100\n",
            "128/128 [==============================] - 0s 2ms/step - loss: 0.5763 - accuracy: 0.7020\n",
            "Epoch 39/100\n",
            "128/128 [==============================] - 0s 2ms/step - loss: 0.5773 - accuracy: 0.7015\n",
            "Epoch 40/100\n",
            "128/128 [==============================] - 0s 2ms/step - loss: 0.5746 - accuracy: 0.7037\n",
            "Epoch 41/100\n",
            "128/128 [==============================] - 0s 2ms/step - loss: 0.5760 - accuracy: 0.7042\n",
            "Epoch 42/100\n",
            "128/128 [==============================] - 0s 2ms/step - loss: 0.5786 - accuracy: 0.7057\n",
            "Epoch 43/100\n",
            "128/128 [==============================] - 0s 2ms/step - loss: 0.5757 - accuracy: 0.7045\n",
            "Epoch 44/100\n",
            "128/128 [==============================] - 0s 2ms/step - loss: 0.5774 - accuracy: 0.7008\n",
            "Epoch 45/100\n",
            "128/128 [==============================] - 0s 2ms/step - loss: 0.5746 - accuracy: 0.7067\n",
            "Epoch 46/100\n",
            "128/128 [==============================] - 0s 2ms/step - loss: 0.5771 - accuracy: 0.7042\n",
            "Epoch 47/100\n",
            "128/128 [==============================] - 0s 2ms/step - loss: 0.5800 - accuracy: 0.7015\n",
            "Epoch 48/100\n",
            "128/128 [==============================] - 0s 2ms/step - loss: 0.5770 - accuracy: 0.7010\n",
            "Epoch 49/100\n",
            "128/128 [==============================] - 0s 2ms/step - loss: 0.5764 - accuracy: 0.7042\n",
            "Epoch 50/100\n",
            "128/128 [==============================] - 0s 2ms/step - loss: 0.5760 - accuracy: 0.6998\n",
            "Epoch 51/100\n",
            "128/128 [==============================] - 0s 2ms/step - loss: 0.5786 - accuracy: 0.7027\n",
            "Epoch 52/100\n",
            "128/128 [==============================] - 0s 2ms/step - loss: 0.5759 - accuracy: 0.7018\n",
            "Epoch 53/100\n",
            "128/128 [==============================] - 0s 2ms/step - loss: 0.5750 - accuracy: 0.7067\n",
            "Epoch 54/100\n",
            "128/128 [==============================] - 0s 2ms/step - loss: 0.5768 - accuracy: 0.7018\n",
            "Epoch 55/100\n",
            "128/128 [==============================] - 0s 2ms/step - loss: 0.5808 - accuracy: 0.7030\n",
            "Epoch 56/100\n",
            "128/128 [==============================] - 0s 2ms/step - loss: 0.5741 - accuracy: 0.7074\n",
            "Epoch 57/100\n",
            "128/128 [==============================] - 0s 2ms/step - loss: 0.5762 - accuracy: 0.7013\n",
            "Epoch 58/100\n",
            "128/128 [==============================] - 0s 2ms/step - loss: 0.5745 - accuracy: 0.7030\n",
            "Epoch 59/100\n",
            "128/128 [==============================] - 0s 2ms/step - loss: 0.5760 - accuracy: 0.7064\n",
            "Epoch 60/100\n",
            "128/128 [==============================] - 0s 2ms/step - loss: 0.5764 - accuracy: 0.7030\n",
            "Epoch 61/100\n",
            "128/128 [==============================] - 0s 2ms/step - loss: 0.5784 - accuracy: 0.6976\n",
            "Epoch 62/100\n",
            "128/128 [==============================] - 0s 2ms/step - loss: 0.5740 - accuracy: 0.7037\n",
            "Epoch 63/100\n",
            "128/128 [==============================] - 0s 2ms/step - loss: 0.5744 - accuracy: 0.6986\n",
            "Epoch 64/100\n",
            "128/128 [==============================] - 0s 2ms/step - loss: 0.5751 - accuracy: 0.7113\n",
            "Epoch 65/100\n",
            "128/128 [==============================] - 0s 2ms/step - loss: 0.5796 - accuracy: 0.7037\n",
            "Epoch 66/100\n",
            "128/128 [==============================] - 0s 2ms/step - loss: 0.5766 - accuracy: 0.7064\n",
            "Epoch 67/100\n",
            "128/128 [==============================] - 0s 2ms/step - loss: 0.5770 - accuracy: 0.7050\n",
            "Epoch 68/100\n",
            "128/128 [==============================] - 0s 2ms/step - loss: 0.5739 - accuracy: 0.7072\n",
            "Epoch 69/100\n",
            "128/128 [==============================] - 0s 2ms/step - loss: 0.5739 - accuracy: 0.7050\n",
            "Epoch 70/100\n",
            "128/128 [==============================] - 0s 2ms/step - loss: 0.5766 - accuracy: 0.7050\n",
            "Epoch 71/100\n",
            "128/128 [==============================] - 0s 2ms/step - loss: 0.5756 - accuracy: 0.7079\n",
            "Epoch 72/100\n",
            "128/128 [==============================] - 0s 2ms/step - loss: 0.5767 - accuracy: 0.7023\n",
            "Epoch 73/100\n",
            "128/128 [==============================] - 0s 2ms/step - loss: 0.5749 - accuracy: 0.7054\n",
            "Epoch 74/100\n",
            "128/128 [==============================] - 0s 2ms/step - loss: 0.5755 - accuracy: 0.7035\n",
            "Epoch 75/100\n",
            "128/128 [==============================] - 0s 2ms/step - loss: 0.5749 - accuracy: 0.7047\n",
            "Epoch 76/100\n",
            "128/128 [==============================] - 0s 2ms/step - loss: 0.5749 - accuracy: 0.7030\n",
            "Epoch 77/100\n",
            "128/128 [==============================] - 0s 2ms/step - loss: 0.5751 - accuracy: 0.7064\n",
            "Epoch 78/100\n",
            "128/128 [==============================] - 0s 2ms/step - loss: 0.5765 - accuracy: 0.7032\n",
            "Epoch 79/100\n",
            "128/128 [==============================] - 0s 2ms/step - loss: 0.5763 - accuracy: 0.7025\n",
            "Epoch 80/100\n",
            "128/128 [==============================] - 0s 2ms/step - loss: 0.5757 - accuracy: 0.7067\n",
            "Epoch 81/100\n",
            "128/128 [==============================] - 0s 2ms/step - loss: 0.5740 - accuracy: 0.7084\n",
            "Epoch 82/100\n",
            "128/128 [==============================] - 0s 2ms/step - loss: 0.5771 - accuracy: 0.7047\n",
            "Epoch 83/100\n",
            "128/128 [==============================] - 0s 2ms/step - loss: 0.5756 - accuracy: 0.7072\n",
            "Epoch 84/100\n",
            "128/128 [==============================] - 0s 2ms/step - loss: 0.5774 - accuracy: 0.6986\n",
            "Epoch 85/100\n",
            "128/128 [==============================] - 0s 2ms/step - loss: 0.5755 - accuracy: 0.7077\n",
            "Epoch 86/100\n",
            "128/128 [==============================] - 0s 2ms/step - loss: 0.5745 - accuracy: 0.7101\n",
            "Epoch 87/100\n",
            "128/128 [==============================] - 0s 2ms/step - loss: 0.5752 - accuracy: 0.7013\n",
            "Epoch 88/100\n",
            "128/128 [==============================] - 0s 2ms/step - loss: 0.5744 - accuracy: 0.7045\n",
            "Epoch 89/100\n",
            "128/128 [==============================] - 0s 2ms/step - loss: 0.5760 - accuracy: 0.7037\n",
            "Epoch 90/100\n",
            "128/128 [==============================] - 0s 2ms/step - loss: 0.5750 - accuracy: 0.7015\n",
            "Epoch 91/100\n",
            "128/128 [==============================] - 0s 2ms/step - loss: 0.5749 - accuracy: 0.7099\n",
            "Epoch 92/100\n",
            "128/128 [==============================] - 0s 2ms/step - loss: 0.5749 - accuracy: 0.7025\n",
            "Epoch 93/100\n",
            "128/128 [==============================] - 0s 2ms/step - loss: 0.5738 - accuracy: 0.7054\n",
            "Epoch 94/100\n",
            "128/128 [==============================] - 0s 2ms/step - loss: 0.5759 - accuracy: 0.7064\n",
            "Epoch 95/100\n",
            "128/128 [==============================] - 0s 2ms/step - loss: 0.5751 - accuracy: 0.7086\n",
            "Epoch 96/100\n",
            "128/128 [==============================] - 0s 2ms/step - loss: 0.5756 - accuracy: 0.7094\n",
            "Epoch 97/100\n",
            "128/128 [==============================] - 0s 2ms/step - loss: 0.5752 - accuracy: 0.7013\n",
            "Epoch 98/100\n",
            "128/128 [==============================] - 0s 2ms/step - loss: 0.5737 - accuracy: 0.7030\n",
            "Epoch 99/100\n",
            "128/128 [==============================] - 0s 2ms/step - loss: 0.5755 - accuracy: 0.7054\n",
            "Epoch 100/100\n",
            "128/128 [==============================] - 0s 2ms/step - loss: 0.5756 - accuracy: 0.7059\n"
          ]
        },
        {
          "output_type": "execute_result",
          "data": {
            "text/plain": [
              "<keras.callbacks.History at 0x7f8f1a4fe9e0>"
            ]
          },
          "metadata": {},
          "execution_count": 91
        }
      ]
    },
    {
      "cell_type": "code",
      "source": [
        "y_pred1=model4.predict(X_test)\n",
        "y_pred1=np.round(y_pred1)"
      ],
      "metadata": {
        "colab": {
          "base_uri": "https://localhost:8080/"
        },
        "id": "CPW2BpR2MZO3",
        "outputId": "03b889dd-a20b-47f6-ccac-2708bf7ddf11"
      },
      "execution_count": 92,
      "outputs": [
        {
          "output_type": "stream",
          "name": "stdout",
          "text": [
            "100/100 [==============================] - 0s 1ms/step\n"
          ]
        }
      ]
    },
    {
      "cell_type": "code",
      "source": [
        "2037+2037"
      ],
      "metadata": {
        "colab": {
          "base_uri": "https://localhost:8080/"
        },
        "id": "QramvoyeNJ9L",
        "outputId": "c8b63e0f-25bc-4194-88aa-405da126932a"
      },
      "execution_count": 93,
      "outputs": [
        {
          "output_type": "execute_result",
          "data": {
            "text/plain": [
              "4074"
            ]
          },
          "metadata": {},
          "execution_count": 93
        }
      ]
    },
    {
      "cell_type": "code",
      "source": [
        "X_train,y_train=get_train_batch(df_Exited_0,df_Exited_1,2037,4074)"
      ],
      "metadata": {
        "id": "Sz3_6GSCM7PQ"
      },
      "execution_count": 94,
      "outputs": []
    },
    {
      "cell_type": "code",
      "source": [
        "model5=tf.keras.models.Sequential([\n",
        "    keras.layers.Dense(10,input_shape=(12,),activation='relu'),\n",
        "    keras.layers.Dense(5,input_shape=(10,),activation='relu'),\n",
        "    keras.layers.Dense(1,activation='sigmoid')\n",
        "\n",
        "  ])\n",
        "model5.compile(optimizer='adam',loss='binary_crossentropy',metrics=['accuracy'])\n",
        "model5.fit(X_train,y_train,epochs=100)\n"
      ],
      "metadata": {
        "colab": {
          "base_uri": "https://localhost:8080/"
        },
        "id": "ms-oOPwGNXTH",
        "outputId": "2a1b5943-fc84-4644-e268-9ec4f1c474b3"
      },
      "execution_count": 95,
      "outputs": [
        {
          "output_type": "stream",
          "name": "stdout",
          "text": [
            "Epoch 1/100\n",
            "128/128 [==============================] - 1s 2ms/step - loss: 1.0360 - accuracy: 0.5326\n",
            "Epoch 2/100\n",
            "128/128 [==============================] - 0s 2ms/step - loss: 0.6646 - accuracy: 0.5854\n",
            "Epoch 3/100\n",
            "128/128 [==============================] - 0s 2ms/step - loss: 0.6610 - accuracy: 0.5977\n",
            "Epoch 4/100\n",
            "128/128 [==============================] - 0s 2ms/step - loss: 0.6569 - accuracy: 0.6082\n",
            "Epoch 5/100\n",
            "128/128 [==============================] - 0s 2ms/step - loss: 0.6526 - accuracy: 0.6154\n",
            "Epoch 6/100\n",
            "128/128 [==============================] - 0s 2ms/step - loss: 0.6489 - accuracy: 0.6227\n",
            "Epoch 7/100\n",
            "128/128 [==============================] - 0s 2ms/step - loss: 0.6422 - accuracy: 0.6308\n",
            "Epoch 8/100\n",
            "128/128 [==============================] - 0s 2ms/step - loss: 0.6373 - accuracy: 0.6465\n",
            "Epoch 9/100\n",
            "128/128 [==============================] - 0s 2ms/step - loss: 0.6314 - accuracy: 0.6541\n",
            "Epoch 10/100\n",
            "128/128 [==============================] - 0s 2ms/step - loss: 0.6252 - accuracy: 0.6598\n",
            "Epoch 11/100\n",
            "128/128 [==============================] - 0s 2ms/step - loss: 0.6195 - accuracy: 0.6708\n",
            "Epoch 12/100\n",
            "128/128 [==============================] - 0s 2ms/step - loss: 0.6162 - accuracy: 0.6740\n",
            "Epoch 13/100\n",
            "128/128 [==============================] - 0s 2ms/step - loss: 0.6115 - accuracy: 0.6735\n",
            "Epoch 14/100\n",
            "128/128 [==============================] - 0s 2ms/step - loss: 0.6070 - accuracy: 0.6792\n",
            "Epoch 15/100\n",
            "128/128 [==============================] - 0s 2ms/step - loss: 0.6049 - accuracy: 0.6807\n",
            "Epoch 16/100\n",
            "128/128 [==============================] - 0s 2ms/step - loss: 0.6012 - accuracy: 0.6809\n",
            "Epoch 17/100\n",
            "128/128 [==============================] - 0s 2ms/step - loss: 0.5994 - accuracy: 0.6804\n",
            "Epoch 18/100\n",
            "128/128 [==============================] - 0s 2ms/step - loss: 0.5983 - accuracy: 0.6880\n",
            "Epoch 19/100\n",
            "128/128 [==============================] - 0s 2ms/step - loss: 0.5984 - accuracy: 0.6841\n",
            "Epoch 20/100\n",
            "128/128 [==============================] - 0s 2ms/step - loss: 0.5962 - accuracy: 0.6799\n",
            "Epoch 21/100\n",
            "128/128 [==============================] - 0s 2ms/step - loss: 0.5970 - accuracy: 0.6863\n",
            "Epoch 22/100\n",
            "128/128 [==============================] - 0s 2ms/step - loss: 0.5946 - accuracy: 0.6897\n",
            "Epoch 23/100\n",
            "128/128 [==============================] - 0s 2ms/step - loss: 0.5956 - accuracy: 0.6858\n",
            "Epoch 24/100\n",
            "128/128 [==============================] - 0s 2ms/step - loss: 0.5934 - accuracy: 0.6892\n",
            "Epoch 25/100\n",
            "128/128 [==============================] - 0s 2ms/step - loss: 0.5942 - accuracy: 0.6858\n",
            "Epoch 26/100\n",
            "128/128 [==============================] - 0s 2ms/step - loss: 0.5925 - accuracy: 0.6863\n",
            "Epoch 27/100\n",
            "128/128 [==============================] - 0s 2ms/step - loss: 0.5922 - accuracy: 0.6900\n",
            "Epoch 28/100\n",
            "128/128 [==============================] - 0s 2ms/step - loss: 0.5912 - accuracy: 0.6868\n",
            "Epoch 29/100\n",
            "128/128 [==============================] - 0s 2ms/step - loss: 0.5891 - accuracy: 0.6927\n",
            "Epoch 30/100\n",
            "128/128 [==============================] - 0s 2ms/step - loss: 0.5909 - accuracy: 0.6878\n",
            "Epoch 31/100\n",
            "128/128 [==============================] - 0s 3ms/step - loss: 0.5906 - accuracy: 0.6821\n",
            "Epoch 32/100\n",
            "128/128 [==============================] - 0s 2ms/step - loss: 0.5877 - accuracy: 0.6890\n",
            "Epoch 33/100\n",
            "128/128 [==============================] - 0s 2ms/step - loss: 0.5828 - accuracy: 0.6973\n",
            "Epoch 34/100\n",
            "128/128 [==============================] - 0s 2ms/step - loss: 0.5828 - accuracy: 0.6956\n",
            "Epoch 35/100\n",
            "128/128 [==============================] - 0s 2ms/step - loss: 0.5798 - accuracy: 0.6986\n",
            "Epoch 36/100\n",
            "128/128 [==============================] - 0s 3ms/step - loss: 0.5773 - accuracy: 0.7030\n",
            "Epoch 37/100\n",
            "128/128 [==============================] - 0s 2ms/step - loss: 0.5761 - accuracy: 0.7005\n",
            "Epoch 38/100\n",
            "128/128 [==============================] - 0s 2ms/step - loss: 0.5744 - accuracy: 0.7015\n",
            "Epoch 39/100\n",
            "128/128 [==============================] - 0s 2ms/step - loss: 0.5731 - accuracy: 0.7018\n",
            "Epoch 40/100\n",
            "128/128 [==============================] - 0s 2ms/step - loss: 0.5692 - accuracy: 0.7040\n",
            "Epoch 41/100\n",
            "128/128 [==============================] - 0s 2ms/step - loss: 0.5696 - accuracy: 0.7072\n",
            "Epoch 42/100\n",
            "128/128 [==============================] - 0s 2ms/step - loss: 0.5664 - accuracy: 0.7131\n",
            "Epoch 43/100\n",
            "128/128 [==============================] - 0s 2ms/step - loss: 0.5642 - accuracy: 0.7081\n",
            "Epoch 44/100\n",
            "128/128 [==============================] - 0s 2ms/step - loss: 0.5631 - accuracy: 0.7148\n",
            "Epoch 45/100\n",
            "128/128 [==============================] - 0s 2ms/step - loss: 0.5599 - accuracy: 0.7155\n",
            "Epoch 46/100\n",
            "128/128 [==============================] - 0s 2ms/step - loss: 0.5580 - accuracy: 0.7209\n",
            "Epoch 47/100\n",
            "128/128 [==============================] - 0s 2ms/step - loss: 0.5569 - accuracy: 0.7165\n",
            "Epoch 48/100\n",
            "128/128 [==============================] - 0s 2ms/step - loss: 0.5546 - accuracy: 0.7256\n",
            "Epoch 49/100\n",
            "128/128 [==============================] - 0s 2ms/step - loss: 0.5517 - accuracy: 0.7246\n",
            "Epoch 50/100\n",
            "128/128 [==============================] - 0s 2ms/step - loss: 0.5513 - accuracy: 0.7221\n",
            "Epoch 51/100\n",
            "128/128 [==============================] - 0s 2ms/step - loss: 0.5491 - accuracy: 0.7256\n",
            "Epoch 52/100\n",
            "128/128 [==============================] - 0s 2ms/step - loss: 0.5499 - accuracy: 0.7224\n",
            "Epoch 53/100\n",
            "128/128 [==============================] - 0s 2ms/step - loss: 0.5466 - accuracy: 0.7253\n",
            "Epoch 54/100\n",
            "128/128 [==============================] - 0s 2ms/step - loss: 0.5431 - accuracy: 0.7285\n",
            "Epoch 55/100\n",
            "128/128 [==============================] - 0s 2ms/step - loss: 0.5423 - accuracy: 0.7344\n",
            "Epoch 56/100\n",
            "128/128 [==============================] - 0s 2ms/step - loss: 0.5416 - accuracy: 0.7334\n",
            "Epoch 57/100\n",
            "128/128 [==============================] - 0s 2ms/step - loss: 0.5371 - accuracy: 0.7371\n",
            "Epoch 58/100\n",
            "128/128 [==============================] - 0s 2ms/step - loss: 0.5384 - accuracy: 0.7374\n",
            "Epoch 59/100\n",
            "128/128 [==============================] - 0s 2ms/step - loss: 0.5356 - accuracy: 0.7398\n",
            "Epoch 60/100\n",
            "128/128 [==============================] - 0s 2ms/step - loss: 0.5351 - accuracy: 0.7403\n",
            "Epoch 61/100\n",
            "128/128 [==============================] - 0s 2ms/step - loss: 0.5329 - accuracy: 0.7432\n",
            "Epoch 62/100\n",
            "128/128 [==============================] - 0s 2ms/step - loss: 0.5311 - accuracy: 0.7482\n",
            "Epoch 63/100\n",
            "128/128 [==============================] - 0s 2ms/step - loss: 0.5310 - accuracy: 0.7381\n",
            "Epoch 64/100\n",
            "128/128 [==============================] - 0s 2ms/step - loss: 0.5290 - accuracy: 0.7467\n",
            "Epoch 65/100\n",
            "128/128 [==============================] - 0s 2ms/step - loss: 0.5325 - accuracy: 0.7396\n",
            "Epoch 66/100\n",
            "128/128 [==============================] - 0s 2ms/step - loss: 0.5265 - accuracy: 0.7445\n",
            "Epoch 67/100\n",
            "128/128 [==============================] - 0s 2ms/step - loss: 0.5272 - accuracy: 0.7450\n",
            "Epoch 68/100\n",
            "128/128 [==============================] - 0s 2ms/step - loss: 0.5259 - accuracy: 0.7410\n",
            "Epoch 69/100\n",
            "128/128 [==============================] - 0s 2ms/step - loss: 0.5264 - accuracy: 0.7442\n",
            "Epoch 70/100\n",
            "128/128 [==============================] - 0s 2ms/step - loss: 0.5255 - accuracy: 0.7457\n",
            "Epoch 71/100\n",
            "128/128 [==============================] - 0s 2ms/step - loss: 0.5264 - accuracy: 0.7410\n",
            "Epoch 72/100\n",
            "128/128 [==============================] - 0s 2ms/step - loss: 0.5220 - accuracy: 0.7479\n",
            "Epoch 73/100\n",
            "128/128 [==============================] - 0s 2ms/step - loss: 0.5224 - accuracy: 0.7518\n",
            "Epoch 74/100\n",
            "128/128 [==============================] - 0s 2ms/step - loss: 0.5216 - accuracy: 0.7499\n",
            "Epoch 75/100\n",
            "128/128 [==============================] - 0s 2ms/step - loss: 0.5202 - accuracy: 0.7457\n",
            "Epoch 76/100\n",
            "128/128 [==============================] - 0s 2ms/step - loss: 0.5211 - accuracy: 0.7477\n",
            "Epoch 77/100\n",
            "128/128 [==============================] - 0s 2ms/step - loss: 0.5176 - accuracy: 0.7491\n",
            "Epoch 78/100\n",
            "128/128 [==============================] - 0s 2ms/step - loss: 0.5239 - accuracy: 0.7423\n",
            "Epoch 79/100\n",
            "128/128 [==============================] - 0s 2ms/step - loss: 0.5178 - accuracy: 0.7501\n",
            "Epoch 80/100\n",
            "128/128 [==============================] - 0s 2ms/step - loss: 0.5189 - accuracy: 0.7440\n",
            "Epoch 81/100\n",
            "128/128 [==============================] - 0s 2ms/step - loss: 0.5169 - accuracy: 0.7563\n",
            "Epoch 82/100\n",
            "128/128 [==============================] - 0s 2ms/step - loss: 0.5162 - accuracy: 0.7514\n",
            "Epoch 83/100\n",
            "128/128 [==============================] - 0s 2ms/step - loss: 0.5162 - accuracy: 0.7491\n",
            "Epoch 84/100\n",
            "128/128 [==============================] - 0s 2ms/step - loss: 0.5148 - accuracy: 0.7528\n",
            "Epoch 85/100\n",
            "128/128 [==============================] - 0s 2ms/step - loss: 0.5158 - accuracy: 0.7486\n",
            "Epoch 86/100\n",
            "128/128 [==============================] - 0s 2ms/step - loss: 0.5135 - accuracy: 0.7484\n",
            "Epoch 87/100\n",
            "128/128 [==============================] - 0s 2ms/step - loss: 0.5138 - accuracy: 0.7432\n",
            "Epoch 88/100\n",
            "128/128 [==============================] - 0s 2ms/step - loss: 0.5127 - accuracy: 0.7499\n",
            "Epoch 89/100\n",
            "128/128 [==============================] - 0s 2ms/step - loss: 0.5126 - accuracy: 0.7504\n",
            "Epoch 90/100\n",
            "128/128 [==============================] - 0s 2ms/step - loss: 0.5125 - accuracy: 0.7516\n",
            "Epoch 91/100\n",
            "128/128 [==============================] - 0s 2ms/step - loss: 0.5119 - accuracy: 0.7536\n",
            "Epoch 92/100\n",
            "128/128 [==============================] - 0s 2ms/step - loss: 0.5135 - accuracy: 0.7504\n",
            "Epoch 93/100\n",
            "128/128 [==============================] - 0s 2ms/step - loss: 0.5126 - accuracy: 0.7469\n",
            "Epoch 94/100\n",
            "128/128 [==============================] - 0s 2ms/step - loss: 0.5124 - accuracy: 0.7528\n",
            "Epoch 95/100\n",
            "128/128 [==============================] - 0s 2ms/step - loss: 0.5110 - accuracy: 0.7504\n",
            "Epoch 96/100\n",
            "128/128 [==============================] - 0s 2ms/step - loss: 0.5102 - accuracy: 0.7541\n",
            "Epoch 97/100\n",
            "128/128 [==============================] - 0s 2ms/step - loss: 0.5108 - accuracy: 0.7489\n",
            "Epoch 98/100\n",
            "128/128 [==============================] - 0s 2ms/step - loss: 0.5092 - accuracy: 0.7533\n",
            "Epoch 99/100\n",
            "128/128 [==============================] - 0s 2ms/step - loss: 0.5123 - accuracy: 0.7489\n",
            "Epoch 100/100\n",
            "128/128 [==============================] - 0s 2ms/step - loss: 0.5102 - accuracy: 0.7464\n"
          ]
        },
        {
          "output_type": "execute_result",
          "data": {
            "text/plain": [
              "<keras.callbacks.History at 0x7f8f1a36fc40>"
            ]
          },
          "metadata": {},
          "execution_count": 95
        }
      ]
    },
    {
      "cell_type": "code",
      "source": [
        "y_pred2=model5.predict(X_test)\n",
        "y_pred2=np.round(y_pred2)"
      ],
      "metadata": {
        "colab": {
          "base_uri": "https://localhost:8080/"
        },
        "id": "7GZGpoq3NnRq",
        "outputId": "66129a20-a2a3-47d2-e6f8-5b4389bd865f"
      },
      "execution_count": 96,
      "outputs": [
        {
          "output_type": "stream",
          "name": "stdout",
          "text": [
            "100/100 [==============================] - 0s 1ms/step\n"
          ]
        }
      ]
    },
    {
      "cell_type": "code",
      "source": [
        "7963-4074"
      ],
      "metadata": {
        "colab": {
          "base_uri": "https://localhost:8080/"
        },
        "id": "mTBvbuMsN20o",
        "outputId": "a0190bc1-f4e1-4aa7-c167-c8cd68a1fa85"
      },
      "execution_count": 97,
      "outputs": [
        {
          "output_type": "execute_result",
          "data": {
            "text/plain": [
              "3889"
            ]
          },
          "metadata": {},
          "execution_count": 97
        }
      ]
    },
    {
      "cell_type": "code",
      "source": [
        "X_train,y_train=get_train_batch(df_Exited_0,df_Exited_1,4074,7963)"
      ],
      "metadata": {
        "id": "n-iTRRYHOMdk"
      },
      "execution_count": 98,
      "outputs": []
    },
    {
      "cell_type": "code",
      "source": [
        "model6=tf.keras.models.Sequential([\n",
        "    keras.layers.Dense(10,input_shape=(12,),activation='relu'),\n",
        "    keras.layers.Dense(5,input_shape=(10,),activation='relu'),\n",
        "    keras.layers.Dense(1,activation='sigmoid')\n",
        "\n",
        "  ])\n",
        "model6.compile(optimizer='adam',loss='binary_crossentropy',metrics=['accuracy'])\n",
        "model6.fit(X_train,y_train,epochs=100)\n"
      ],
      "metadata": {
        "colab": {
          "base_uri": "https://localhost:8080/"
        },
        "id": "WVWYMUy4OWjX",
        "outputId": "252fe393-103e-41e6-fd86-ffd83655c0a4"
      },
      "execution_count": 99,
      "outputs": [
        {
          "output_type": "stream",
          "name": "stdout",
          "text": [
            "Epoch 1/100\n",
            "186/186 [==============================] - 1s 2ms/step - loss: 0.7117 - accuracy: 0.6309\n",
            "Epoch 2/100\n",
            "186/186 [==============================] - 0s 2ms/step - loss: 0.6690 - accuracy: 0.6561\n",
            "Epoch 3/100\n",
            "186/186 [==============================] - 0s 2ms/step - loss: 0.6581 - accuracy: 0.6558\n",
            "Epoch 4/100\n",
            "186/186 [==============================] - 0s 2ms/step - loss: 0.6512 - accuracy: 0.6561\n",
            "Epoch 5/100\n",
            "186/186 [==============================] - 0s 2ms/step - loss: 0.6400 - accuracy: 0.6684\n",
            "Epoch 6/100\n",
            "186/186 [==============================] - 0s 2ms/step - loss: 0.6138 - accuracy: 0.7025\n",
            "Epoch 7/100\n",
            "186/186 [==============================] - 0s 2ms/step - loss: 0.5915 - accuracy: 0.7249\n",
            "Epoch 8/100\n",
            "186/186 [==============================] - 0s 2ms/step - loss: 0.5780 - accuracy: 0.7315\n",
            "Epoch 9/100\n",
            "186/186 [==============================] - 0s 2ms/step - loss: 0.5692 - accuracy: 0.7332\n",
            "Epoch 10/100\n",
            "186/186 [==============================] - 0s 2ms/step - loss: 0.5629 - accuracy: 0.7354\n",
            "Epoch 11/100\n",
            "186/186 [==============================] - 0s 2ms/step - loss: 0.5602 - accuracy: 0.7349\n",
            "Epoch 12/100\n",
            "186/186 [==============================] - 0s 2ms/step - loss: 0.5555 - accuracy: 0.7379\n",
            "Epoch 13/100\n",
            "186/186 [==============================] - 0s 2ms/step - loss: 0.5529 - accuracy: 0.7391\n",
            "Epoch 14/100\n",
            "186/186 [==============================] - 0s 2ms/step - loss: 0.5524 - accuracy: 0.7374\n",
            "Epoch 15/100\n",
            "186/186 [==============================] - 0s 2ms/step - loss: 0.5528 - accuracy: 0.7379\n",
            "Epoch 16/100\n",
            "186/186 [==============================] - 0s 2ms/step - loss: 0.5507 - accuracy: 0.7335\n",
            "Epoch 17/100\n",
            "186/186 [==============================] - 0s 2ms/step - loss: 0.5502 - accuracy: 0.7346\n",
            "Epoch 18/100\n",
            "186/186 [==============================] - 0s 2ms/step - loss: 0.5473 - accuracy: 0.7376\n",
            "Epoch 19/100\n",
            "186/186 [==============================] - 0s 2ms/step - loss: 0.5477 - accuracy: 0.7362\n",
            "Epoch 20/100\n",
            "186/186 [==============================] - 0s 2ms/step - loss: 0.5465 - accuracy: 0.7346\n",
            "Epoch 21/100\n",
            "186/186 [==============================] - 0s 2ms/step - loss: 0.5464 - accuracy: 0.7371\n",
            "Epoch 22/100\n",
            "186/186 [==============================] - 0s 2ms/step - loss: 0.5456 - accuracy: 0.7395\n",
            "Epoch 23/100\n",
            "186/186 [==============================] - 0s 2ms/step - loss: 0.5473 - accuracy: 0.7352\n",
            "Epoch 24/100\n",
            "186/186 [==============================] - 0s 2ms/step - loss: 0.5463 - accuracy: 0.7378\n",
            "Epoch 25/100\n",
            "186/186 [==============================] - 0s 2ms/step - loss: 0.5468 - accuracy: 0.7391\n",
            "Epoch 26/100\n",
            "186/186 [==============================] - 0s 2ms/step - loss: 0.5453 - accuracy: 0.7364\n",
            "Epoch 27/100\n",
            "186/186 [==============================] - 0s 2ms/step - loss: 0.5462 - accuracy: 0.7347\n",
            "Epoch 28/100\n",
            "186/186 [==============================] - 0s 2ms/step - loss: 0.5464 - accuracy: 0.7393\n",
            "Epoch 29/100\n",
            "186/186 [==============================] - 0s 2ms/step - loss: 0.5457 - accuracy: 0.7381\n",
            "Epoch 30/100\n",
            "186/186 [==============================] - 0s 2ms/step - loss: 0.5444 - accuracy: 0.7354\n",
            "Epoch 31/100\n",
            "186/186 [==============================] - 0s 2ms/step - loss: 0.5450 - accuracy: 0.7368\n",
            "Epoch 32/100\n",
            "186/186 [==============================] - 0s 2ms/step - loss: 0.5460 - accuracy: 0.7357\n",
            "Epoch 33/100\n",
            "186/186 [==============================] - 0s 2ms/step - loss: 0.5455 - accuracy: 0.7354\n",
            "Epoch 34/100\n",
            "186/186 [==============================] - 0s 2ms/step - loss: 0.5438 - accuracy: 0.7368\n",
            "Epoch 35/100\n",
            "186/186 [==============================] - 0s 2ms/step - loss: 0.5440 - accuracy: 0.7388\n",
            "Epoch 36/100\n",
            "186/186 [==============================] - 0s 2ms/step - loss: 0.5430 - accuracy: 0.7376\n",
            "Epoch 37/100\n",
            "186/186 [==============================] - 0s 2ms/step - loss: 0.5434 - accuracy: 0.7386\n",
            "Epoch 38/100\n",
            "186/186 [==============================] - 0s 2ms/step - loss: 0.5438 - accuracy: 0.7341\n",
            "Epoch 39/100\n",
            "186/186 [==============================] - 0s 2ms/step - loss: 0.5433 - accuracy: 0.7359\n",
            "Epoch 40/100\n",
            "186/186 [==============================] - 0s 2ms/step - loss: 0.5426 - accuracy: 0.7376\n",
            "Epoch 41/100\n",
            "186/186 [==============================] - 0s 2ms/step - loss: 0.5414 - accuracy: 0.7346\n",
            "Epoch 42/100\n",
            "186/186 [==============================] - 0s 2ms/step - loss: 0.5426 - accuracy: 0.7357\n",
            "Epoch 43/100\n",
            "186/186 [==============================] - 0s 2ms/step - loss: 0.5427 - accuracy: 0.7346\n",
            "Epoch 44/100\n",
            "186/186 [==============================] - 0s 2ms/step - loss: 0.5416 - accuracy: 0.7335\n",
            "Epoch 45/100\n",
            "186/186 [==============================] - 0s 2ms/step - loss: 0.5407 - accuracy: 0.7373\n",
            "Epoch 46/100\n",
            "186/186 [==============================] - 0s 2ms/step - loss: 0.5413 - accuracy: 0.7344\n",
            "Epoch 47/100\n",
            "186/186 [==============================] - 0s 2ms/step - loss: 0.5405 - accuracy: 0.7349\n",
            "Epoch 48/100\n",
            "186/186 [==============================] - 0s 2ms/step - loss: 0.5393 - accuracy: 0.7354\n",
            "Epoch 49/100\n",
            "186/186 [==============================] - 0s 2ms/step - loss: 0.5399 - accuracy: 0.7347\n",
            "Epoch 50/100\n",
            "186/186 [==============================] - 0s 2ms/step - loss: 0.5401 - accuracy: 0.7283\n",
            "Epoch 51/100\n",
            "186/186 [==============================] - 0s 2ms/step - loss: 0.5407 - accuracy: 0.7346\n",
            "Epoch 52/100\n",
            "186/186 [==============================] - 0s 2ms/step - loss: 0.5395 - accuracy: 0.7374\n",
            "Epoch 53/100\n",
            "186/186 [==============================] - 0s 2ms/step - loss: 0.5378 - accuracy: 0.7352\n",
            "Epoch 54/100\n",
            "186/186 [==============================] - 0s 2ms/step - loss: 0.5394 - accuracy: 0.7342\n",
            "Epoch 55/100\n",
            "186/186 [==============================] - 0s 2ms/step - loss: 0.5385 - accuracy: 0.7389\n",
            "Epoch 56/100\n",
            "186/186 [==============================] - 0s 2ms/step - loss: 0.5395 - accuracy: 0.7314\n",
            "Epoch 57/100\n",
            "186/186 [==============================] - 0s 2ms/step - loss: 0.5419 - accuracy: 0.7310\n",
            "Epoch 58/100\n",
            "186/186 [==============================] - 0s 2ms/step - loss: 0.5393 - accuracy: 0.7349\n",
            "Epoch 59/100\n",
            "186/186 [==============================] - 0s 2ms/step - loss: 0.5387 - accuracy: 0.7356\n",
            "Epoch 60/100\n",
            "186/186 [==============================] - 0s 2ms/step - loss: 0.5388 - accuracy: 0.7362\n",
            "Epoch 61/100\n",
            "186/186 [==============================] - 0s 2ms/step - loss: 0.5377 - accuracy: 0.7359\n",
            "Epoch 62/100\n",
            "186/186 [==============================] - 0s 2ms/step - loss: 0.5375 - accuracy: 0.7388\n",
            "Epoch 63/100\n",
            "186/186 [==============================] - 0s 2ms/step - loss: 0.5375 - accuracy: 0.7347\n",
            "Epoch 64/100\n",
            "186/186 [==============================] - 0s 2ms/step - loss: 0.5391 - accuracy: 0.7349\n",
            "Epoch 65/100\n",
            "186/186 [==============================] - 0s 2ms/step - loss: 0.5381 - accuracy: 0.7335\n",
            "Epoch 66/100\n",
            "186/186 [==============================] - 0s 2ms/step - loss: 0.5385 - accuracy: 0.7379\n",
            "Epoch 67/100\n",
            "186/186 [==============================] - 0s 3ms/step - loss: 0.5379 - accuracy: 0.7368\n",
            "Epoch 68/100\n",
            "186/186 [==============================] - 0s 2ms/step - loss: 0.5377 - accuracy: 0.7362\n",
            "Epoch 69/100\n",
            "186/186 [==============================] - 0s 3ms/step - loss: 0.5369 - accuracy: 0.7364\n",
            "Epoch 70/100\n",
            "186/186 [==============================] - 0s 2ms/step - loss: 0.5370 - accuracy: 0.7359\n",
            "Epoch 71/100\n",
            "186/186 [==============================] - 0s 2ms/step - loss: 0.5366 - accuracy: 0.7329\n",
            "Epoch 72/100\n",
            "186/186 [==============================] - 0s 2ms/step - loss: 0.5370 - accuracy: 0.7364\n",
            "Epoch 73/100\n",
            "186/186 [==============================] - 1s 3ms/step - loss: 0.5386 - accuracy: 0.7337\n",
            "Epoch 74/100\n",
            "186/186 [==============================] - 1s 3ms/step - loss: 0.5373 - accuracy: 0.7349\n",
            "Epoch 75/100\n",
            "186/186 [==============================] - 0s 3ms/step - loss: 0.5376 - accuracy: 0.7359\n",
            "Epoch 76/100\n",
            "186/186 [==============================] - 0s 3ms/step - loss: 0.5366 - accuracy: 0.7356\n",
            "Epoch 77/100\n",
            "186/186 [==============================] - 0s 2ms/step - loss: 0.5374 - accuracy: 0.7361\n",
            "Epoch 78/100\n",
            "186/186 [==============================] - 0s 2ms/step - loss: 0.5375 - accuracy: 0.7330\n",
            "Epoch 79/100\n",
            "186/186 [==============================] - 0s 2ms/step - loss: 0.5367 - accuracy: 0.7356\n",
            "Epoch 80/100\n",
            "186/186 [==============================] - 0s 2ms/step - loss: 0.5365 - accuracy: 0.7368\n",
            "Epoch 81/100\n",
            "186/186 [==============================] - 0s 2ms/step - loss: 0.5363 - accuracy: 0.7359\n",
            "Epoch 82/100\n",
            "186/186 [==============================] - 0s 2ms/step - loss: 0.5381 - accuracy: 0.7361\n",
            "Epoch 83/100\n",
            "186/186 [==============================] - 0s 2ms/step - loss: 0.5366 - accuracy: 0.7347\n",
            "Epoch 84/100\n",
            "186/186 [==============================] - 0s 2ms/step - loss: 0.5384 - accuracy: 0.7359\n",
            "Epoch 85/100\n",
            "186/186 [==============================] - 0s 2ms/step - loss: 0.5361 - accuracy: 0.7359\n",
            "Epoch 86/100\n",
            "186/186 [==============================] - 0s 2ms/step - loss: 0.5380 - accuracy: 0.7334\n",
            "Epoch 87/100\n",
            "186/186 [==============================] - 0s 2ms/step - loss: 0.5365 - accuracy: 0.7369\n",
            "Epoch 88/100\n",
            "186/186 [==============================] - 0s 2ms/step - loss: 0.5379 - accuracy: 0.7327\n",
            "Epoch 89/100\n",
            "186/186 [==============================] - 0s 2ms/step - loss: 0.5375 - accuracy: 0.7356\n",
            "Epoch 90/100\n",
            "186/186 [==============================] - 0s 2ms/step - loss: 0.5361 - accuracy: 0.7352\n",
            "Epoch 91/100\n",
            "186/186 [==============================] - 0s 2ms/step - loss: 0.5362 - accuracy: 0.7339\n",
            "Epoch 92/100\n",
            "186/186 [==============================] - 0s 2ms/step - loss: 0.5364 - accuracy: 0.7346\n",
            "Epoch 93/100\n",
            "186/186 [==============================] - 0s 2ms/step - loss: 0.5363 - accuracy: 0.7344\n",
            "Epoch 94/100\n",
            "186/186 [==============================] - 0s 2ms/step - loss: 0.5360 - accuracy: 0.7349\n",
            "Epoch 95/100\n",
            "186/186 [==============================] - 0s 2ms/step - loss: 0.5366 - accuracy: 0.7349\n",
            "Epoch 96/100\n",
            "186/186 [==============================] - 0s 2ms/step - loss: 0.5366 - accuracy: 0.7374\n",
            "Epoch 97/100\n",
            "186/186 [==============================] - 0s 2ms/step - loss: 0.5363 - accuracy: 0.7362\n",
            "Epoch 98/100\n",
            "186/186 [==============================] - 0s 2ms/step - loss: 0.5369 - accuracy: 0.7352\n",
            "Epoch 99/100\n",
            "186/186 [==============================] - 0s 2ms/step - loss: 0.5362 - accuracy: 0.7349\n",
            "Epoch 100/100\n",
            "186/186 [==============================] - 0s 2ms/step - loss: 0.5364 - accuracy: 0.7349\n"
          ]
        },
        {
          "output_type": "execute_result",
          "data": {
            "text/plain": [
              "<keras.callbacks.History at 0x7f8f1a2a3370>"
            ]
          },
          "metadata": {},
          "execution_count": 99
        }
      ]
    },
    {
      "cell_type": "code",
      "source": [
        "y_pred3=model6.predict(X_test)\n",
        "y_pred3=np.round(y_pred3)"
      ],
      "metadata": {
        "colab": {
          "base_uri": "https://localhost:8080/"
        },
        "id": "nyWy9zQ7Op6H",
        "outputId": "f5adb83b-8efd-4db8-e3e4-86e65c52e9a6"
      },
      "execution_count": 100,
      "outputs": [
        {
          "output_type": "stream",
          "name": "stdout",
          "text": [
            "100/100 [==============================] - 0s 1ms/step\n"
          ]
        }
      ]
    },
    {
      "cell_type": "code",
      "source": [
        "y_pred_final=y_pred1.copy()\n",
        "for i in range(len(y_pred1)):\n",
        "  n_ones=y_pred1[i]+y_pred2[i]+y_pred3[i]\n",
        "  if n_ones>1:\n",
        "    y_pred_final[i]=1\n",
        "  else:\n",
        "    y_pred_final[i]=0"
      ],
      "metadata": {
        "id": "mO3hngUpO3vA"
      },
      "execution_count": 101,
      "outputs": []
    },
    {
      "cell_type": "code",
      "source": [
        "cl_rep=classification_report(y_test,y_pred_final)\n",
        "print(cl_rep)"
      ],
      "metadata": {
        "colab": {
          "base_uri": "https://localhost:8080/"
        },
        "id": "6bUWY83EPlk7",
        "outputId": "76008cf4-34cc-4080-9dc5-12f6193e9582"
      },
      "execution_count": 102,
      "outputs": [
        {
          "output_type": "stream",
          "name": "stdout",
          "text": [
            "              precision    recall  f1-score   support\n",
            "\n",
            "           0       0.75      0.79      0.77      1593\n",
            "           1       0.78      0.74      0.76      1593\n",
            "\n",
            "    accuracy                           0.77      3186\n",
            "   macro avg       0.77      0.77      0.77      3186\n",
            "weighted avg       0.77      0.77      0.77      3186\n",
            "\n"
          ]
        }
      ]
    }
  ]
}