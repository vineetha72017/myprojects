{
  "nbformat": 4,
  "nbformat_minor": 0,
  "metadata": {
    "kernelspec": {
      "display_name": "Python 3",
      "language": "python",
      "name": "python3"
    },
    "language_info": {
      "codemirror_mode": {
        "name": "ipython",
        "version": 3
      },
      "file_extension": ".py",
      "mimetype": "text/x-python",
      "name": "python",
      "nbconvert_exporter": "python",
      "pygments_lexer": "ipython3",
      "version": "3.7.3"
    },
    "colab": {
      "name": "Classification Metrics.ipynb",
      "provenance": []
    },
    "widgets": {
      "application/vnd.jupyter.widget-state+json": {
        "3717754c22044e85bae7a274daa58f9d": {
          "model_module": "@jupyter-widgets/controls",
          "model_name": "VBoxModel",
          "state": {
            "_view_name": "VBoxView",
            "_dom_classes": [
              "widget-interact"
            ],
            "_model_name": "VBoxModel",
            "_view_module": "@jupyter-widgets/controls",
            "_model_module_version": "1.5.0",
            "_view_count": null,
            "_view_module_version": "1.5.0",
            "box_style": "",
            "layout": "IPY_MODEL_6f8f3a25cd514990994748f2163295c8",
            "_model_module": "@jupyter-widgets/controls",
            "children": [
              "IPY_MODEL_18d58867b6924940adab5ed356b792ff",
              "IPY_MODEL_b94efb2b83c3471297bd896b0d8a9d3a"
            ]
          }
        },
        "6f8f3a25cd514990994748f2163295c8": {
          "model_module": "@jupyter-widgets/base",
          "model_name": "LayoutModel",
          "state": {
            "_view_name": "LayoutView",
            "grid_template_rows": null,
            "right": null,
            "justify_content": null,
            "_view_module": "@jupyter-widgets/base",
            "overflow": null,
            "_model_module_version": "1.2.0",
            "_view_count": null,
            "flex_flow": null,
            "width": null,
            "min_width": null,
            "border": null,
            "align_items": null,
            "bottom": null,
            "_model_module": "@jupyter-widgets/base",
            "top": null,
            "grid_column": null,
            "overflow_y": null,
            "overflow_x": null,
            "grid_auto_flow": null,
            "grid_area": null,
            "grid_template_columns": null,
            "flex": null,
            "_model_name": "LayoutModel",
            "justify_items": null,
            "grid_row": null,
            "max_height": null,
            "align_content": null,
            "visibility": null,
            "align_self": null,
            "height": null,
            "min_height": null,
            "padding": null,
            "grid_auto_rows": null,
            "grid_gap": null,
            "max_width": null,
            "order": null,
            "_view_module_version": "1.2.0",
            "grid_template_areas": null,
            "object_position": null,
            "object_fit": null,
            "grid_auto_columns": null,
            "margin": null,
            "display": null,
            "left": null
          }
        },
        "18d58867b6924940adab5ed356b792ff": {
          "model_module": "@jupyter-widgets/controls",
          "model_name": "FloatSliderModel",
          "state": {
            "_view_name": "FloatSliderView",
            "style": "IPY_MODEL_f85fc1a25b994b0eb10e9faa76eb2964",
            "_dom_classes": [],
            "description": "threshold",
            "step": 0.02,
            "_model_name": "FloatSliderModel",
            "orientation": "horizontal",
            "max": 1,
            "_view_module": "@jupyter-widgets/controls",
            "_model_module_version": "1.5.0",
            "value": 0.68,
            "_view_count": null,
            "disabled": false,
            "_view_module_version": "1.5.0",
            "min": 0,
            "continuous_update": true,
            "readout_format": ".2f",
            "description_tooltip": null,
            "readout": true,
            "_model_module": "@jupyter-widgets/controls",
            "layout": "IPY_MODEL_efe20831884c46a289f7ed4e0100e88f"
          }
        },
        "b94efb2b83c3471297bd896b0d8a9d3a": {
          "model_module": "@jupyter-widgets/output",
          "model_name": "OutputModel",
          "state": {
            "_view_name": "OutputView",
            "msg_id": "",
            "_dom_classes": [],
            "_model_name": "OutputModel",
            "outputs": [
              {
                "output_type": "stream",
                "metadata": {
                  "tags": []
                },
                "text": "/usr/local/lib/python3.7/dist-packages/seaborn/distributions.py:2557: FutureWarning: `distplot` is a deprecated function and will be removed in a future version. Please adapt your code to use either `displot` (a figure-level function with similar flexibility) or `histplot` (an axes-level function for histograms).\n  warnings.warn(msg, FutureWarning)\n",
                "stream": "stderr"
              },
              {
                "output_type": "display_data",
                "metadata": {
                  "tags": [],
                  "needs_background": "light"
                },
                "image/png": "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\n",
                "text/plain": "<Figure size 432x288 with 1 Axes>"
              },
              {
                "output_type": "stream",
                "metadata": {
                  "tags": []
                },
                "text": "              precision    recall  f1-score   support\n\n       False       0.75      0.97      0.84      7798\n        True       0.94      0.61      0.74      6560\n\n    accuracy                           0.80     14358\n   macro avg       0.84      0.79      0.79     14358\nweighted avg       0.83      0.80      0.79     14358\n\n",
                "stream": "stdout"
              },
              {
                "output_type": "display_data",
                "metadata": {
                  "tags": [],
                  "needs_background": "light"
                },
                "image/png": "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\n",
                "text/plain": "<Figure size 432x288 with 2 Axes>"
              }
            ],
            "_view_module": "@jupyter-widgets/output",
            "_model_module_version": "1.0.0",
            "_view_count": null,
            "_view_module_version": "1.0.0",
            "layout": "IPY_MODEL_5d688ec81eb8402d9303d3bda40b191a",
            "_model_module": "@jupyter-widgets/output"
          }
        },
        "f85fc1a25b994b0eb10e9faa76eb2964": {
          "model_module": "@jupyter-widgets/controls",
          "model_name": "SliderStyleModel",
          "state": {
            "_view_name": "StyleView",
            "handle_color": null,
            "_model_name": "SliderStyleModel",
            "description_width": "",
            "_view_module": "@jupyter-widgets/base",
            "_model_module_version": "1.5.0",
            "_view_count": null,
            "_view_module_version": "1.2.0",
            "_model_module": "@jupyter-widgets/controls"
          }
        },
        "efe20831884c46a289f7ed4e0100e88f": {
          "model_module": "@jupyter-widgets/base",
          "model_name": "LayoutModel",
          "state": {
            "_view_name": "LayoutView",
            "grid_template_rows": null,
            "right": null,
            "justify_content": null,
            "_view_module": "@jupyter-widgets/base",
            "overflow": null,
            "_model_module_version": "1.2.0",
            "_view_count": null,
            "flex_flow": null,
            "width": null,
            "min_width": null,
            "border": null,
            "align_items": null,
            "bottom": null,
            "_model_module": "@jupyter-widgets/base",
            "top": null,
            "grid_column": null,
            "overflow_y": null,
            "overflow_x": null,
            "grid_auto_flow": null,
            "grid_area": null,
            "grid_template_columns": null,
            "flex": null,
            "_model_name": "LayoutModel",
            "justify_items": null,
            "grid_row": null,
            "max_height": null,
            "align_content": null,
            "visibility": null,
            "align_self": null,
            "height": null,
            "min_height": null,
            "padding": null,
            "grid_auto_rows": null,
            "grid_gap": null,
            "max_width": null,
            "order": null,
            "_view_module_version": "1.2.0",
            "grid_template_areas": null,
            "object_position": null,
            "object_fit": null,
            "grid_auto_columns": null,
            "margin": null,
            "display": null,
            "left": null
          }
        },
        "5d688ec81eb8402d9303d3bda40b191a": {
          "model_module": "@jupyter-widgets/base",
          "model_name": "LayoutModel",
          "state": {
            "_view_name": "LayoutView",
            "grid_template_rows": null,
            "right": null,
            "justify_content": null,
            "_view_module": "@jupyter-widgets/base",
            "overflow": null,
            "_model_module_version": "1.2.0",
            "_view_count": null,
            "flex_flow": null,
            "width": null,
            "min_width": null,
            "border": null,
            "align_items": null,
            "bottom": null,
            "_model_module": "@jupyter-widgets/base",
            "top": null,
            "grid_column": null,
            "overflow_y": null,
            "overflow_x": null,
            "grid_auto_flow": null,
            "grid_area": null,
            "grid_template_columns": null,
            "flex": null,
            "_model_name": "LayoutModel",
            "justify_items": null,
            "grid_row": null,
            "max_height": null,
            "align_content": null,
            "visibility": null,
            "align_self": null,
            "height": null,
            "min_height": null,
            "padding": null,
            "grid_auto_rows": null,
            "grid_gap": null,
            "max_width": null,
            "order": null,
            "_view_module_version": "1.2.0",
            "grid_template_areas": null,
            "object_position": null,
            "object_fit": null,
            "grid_auto_columns": null,
            "margin": null,
            "display": null,
            "left": null
          }
        }
      }
    }
  },
  "cells": [
    {
      "cell_type": "markdown",
      "metadata": {
        "id": "EZyiOteN16cD"
      },
      "source": [
        "Pixeltests School Data Science\n",
        "\n",
        "*Unit 2, Sprint 2, Module 4*\n",
        "\n",
        "---"
      ]
    },
    {
      "cell_type": "markdown",
      "metadata": {
        "id": "KMI2k-oBsS08"
      },
      "source": [
        "# Classification Metrics\n",
        "\n",
        "- get and interpret the **confusion matrix** for classification models\n",
        "- use classification metrics: **precision, recall**\n",
        "- understand the relationships between precision, recall, **thresholds, and predicted probabilities**, to help **make decisions and allocate budgets**\n",
        "- Get **ROC AUC** (Receiver Operating Characteristic, Area Under the Curve)"
      ]
    },
    {
      "cell_type": "markdown",
      "metadata": {
        "id": "rU7RuVcjWdcp"
      },
      "source": [
        "### Setup\n",
        "\n",
        "Run the code cell below. You can work locally (follow the [local setup instructions](https://lambdaschool.github.io/ds/unit2/local/)) or on Colab.\n",
        "\n",
        "Libraries\n",
        "\n",
        "- category_encoders\n",
        "- ipywidgets\n",
        "- matplotlib\n",
        "- numpy\n",
        "- pandas\n",
        "- scikit-learn\n",
        "- seaborn"
      ]
    },
    {
      "cell_type": "code",
      "metadata": {
        "id": "OpFoag9QoTgA"
      },
      "source": [
        "%%capture\n",
        "import sys\n",
        "\n",
        "# If you're on Colab:\n",
        "if 'google.colab' in sys.modules:\n",
        "    DATA_PATH = 'https://github.com/pixeltests/datasets/raw/main/'\n",
        "    !pip install category_encoders==2.*\n",
        "\n",
        "# If you're working locally:\n",
        "else:\n",
        "    DATA_PATH = '../data/'"
      ],
      "execution_count": null,
      "outputs": []
    },
    {
      "cell_type": "markdown",
      "metadata": {
        "id": "EfhziD2Wn_iO"
      },
      "source": [
        "# Get and interpret the confusion matrix for classification models"
      ]
    },
    {
      "cell_type": "markdown",
      "metadata": {
        "id": "dhvU0pdRBabN"
      },
      "source": [
        "## Overview"
      ]
    },
    {
      "cell_type": "markdown",
      "metadata": {
        "id": "xZNCHldPn_iL"
      },
      "source": [
        "First, load the Tanzania Waterpumps data and fit a model. (This code isn't new, we've seen it all before.)"
      ]
    },
    {
      "cell_type": "code",
      "metadata": {
        "id": "t8Cjxzrwn_iL",
        "colab": {
          "base_uri": "https://localhost:8080/"
        },
        "outputId": "a9290da3-1d21-4bc3-c5bd-cc8aa82989b5"
      },
      "source": [
        "%%time\n",
        "%matplotlib inline\n",
        "import category_encoders as ce\n",
        "import matplotlib.pyplot as plt\n",
        "import numpy as np\n",
        "import pandas as pd\n",
        "import seaborn as sns\n",
        "from sklearn.impute import SimpleImputer\n",
        "from sklearn.metrics import accuracy_score\n",
        "from sklearn.model_selection import train_test_split\n",
        "from sklearn.pipeline import make_pipeline\n",
        "from sklearn.preprocessing import FunctionTransformer\n",
        "from sklearn.ensemble import RandomForestClassifier\n",
        "\n",
        "def wrangle(X):\n",
        "    \"\"\"Wrangles train, validate, and test sets in the same way\"\"\"\n",
        "    X = X.copy()\n",
        "\n",
        "    # Convert date_recorded to datetime\n",
        "    X['date_recorded'] = pd.to_datetime(X['date_recorded'], infer_datetime_format=True)\n",
        "    \n",
        "    # Extract components from date_recorded, then drop the original column\n",
        "    X['year_recorded'] = X['date_recorded'].dt.year\n",
        "    X['month_recorded'] = X['date_recorded'].dt.month\n",
        "    X['day_recorded'] = X['date_recorded'].dt.day\n",
        "    X = X.drop(columns='date_recorded')\n",
        "    \n",
        "    # Engineer feature: how many years from construction_year to date_recorded\n",
        "    X['years'] = X['year_recorded'] - X['construction_year']    \n",
        "    \n",
        "    # Drop recorded_by (never varies) and id (always varies, random)\n",
        "    unusable_variance = ['recorded_by', 'id']\n",
        "    X = X.drop(columns=unusable_variance)\n",
        "    \n",
        "    # Drop duplicate columns\n",
        "    duplicate_columns = ['quantity_group']\n",
        "    X = X.drop(columns=duplicate_columns)\n",
        "    \n",
        "    # About 3% of the time, latitude has small values near zero,\n",
        "    # outside Tanzania, so we'll treat these like null values\n",
        "    X['latitude'] = X['latitude'].replace(-2e-08, np.nan)\n",
        "    \n",
        "    # When columns have zeros and shouldn't, they are like null values\n",
        "    cols_with_zeros = ['construction_year', 'longitude', 'latitude', 'gps_height', 'population']\n",
        "    for col in cols_with_zeros:\n",
        "        X[col] = X[col].replace(0, np.nan)\n",
        "        \n",
        "    return X\n",
        "\n",
        "\n",
        "# Merge train_features.csv & train_labels.csv\n",
        "train = pd.merge(pd.read_csv(DATA_PATH+'waterpumps/train_features.csv'), \n",
        "                 pd.read_csv(DATA_PATH+'waterpumps/train_labels.csv'))\n",
        "\n",
        "# Read test_features.csv & sample_submission.csv\n",
        "test = pd.read_csv(DATA_PATH+'waterpumps/test_features.csv')\n",
        "sample_submission = pd.read_csv(DATA_PATH+'waterpumps/sample_submission.csv')\n",
        "\n",
        "# Split train into train & val. Make val the same size as test.\n",
        "target = 'status_group'\n",
        "train, val = train_test_split(train, test_size=len(test),  \n",
        "                              stratify=train[target], random_state=42)\n",
        "\n",
        "# Arrange data into X features matrix and y target vector\n",
        "X_train = train.drop(columns=target)\n",
        "y_train = train[target]\n",
        "X_val = val.drop(columns=target)\n",
        "y_val = val[target]\n",
        "X_test = test\n",
        "\n",
        "# Make pipeline!\n",
        "pipeline = make_pipeline(\n",
        "    FunctionTransformer(wrangle, validate=False), #A fuction that helps  X (and optionally y) \n",
        "    # arguments to a user-defined function and returns the result of this function. \n",
        "    ce.OrdinalEncoder(), \n",
        "    SimpleImputer(strategy='mean'), \n",
        "    RandomForestClassifier(n_estimators=100, random_state=42, n_jobs=-1)\n",
        ")\n",
        "\n",
        "# Fit on train, score on val\n",
        "pipeline.fit(X_train, y_train)\n",
        "y_pred = pipeline.predict(X_val)\n",
        "print('Validation Accuracy', accuracy_score(y_val, y_pred))"
      ],
      "execution_count": null,
      "outputs": [
        {
          "output_type": "stream",
          "text": [
            "/usr/local/lib/python3.7/dist-packages/statsmodels/tools/_testing.py:19: FutureWarning: pandas.util.testing is deprecated. Use the functions in the public API at pandas.testing instead.\n",
            "  import pandas.util.testing as tm\n"
          ],
          "name": "stderr"
        },
        {
          "output_type": "stream",
          "text": [
            "Validation Accuracy 0.8140409527789386\n",
            "CPU times: user 21.6 s, sys: 558 ms, total: 22.1 s\n",
            "Wall time: 14.6 s\n"
          ],
          "name": "stdout"
        }
      ]
    },
    {
      "cell_type": "markdown",
      "metadata": {
        "id": "NmkUuQH6BabP"
      },
      "source": [
        "## Follow Along\n",
        "\n",
        "Scikit-learn added a [**`plot_confusion_matrix`**](https://scikit-learn.org/stable/modules/generated/sklearn.metrics.plot_confusion_matrix.html) function in version 0.22!"
      ]
    },
    {
      "cell_type": "code",
      "metadata": {
        "colab": {
          "base_uri": "https://localhost:8080/",
          "height": 406
        },
        "id": "GSK4slSTQbj5",
        "outputId": "1b61579d-d17b-45ef-eca9-2aff929fa0c0"
      },
      "source": [
        "from sklearn.metrics import plot_confusion_matrix # Classification matrix\n",
        "\n",
        "plot_confusion_matrix(pipeline, X_val, y_val, values_format='.0f', xticks_rotation='vertical')"
      ],
      "execution_count": null,
      "outputs": [
        {
          "output_type": "execute_result",
          "data": {
            "text/plain": [
              "<sklearn.metrics._plot.confusion_matrix.ConfusionMatrixDisplay at 0x7faef62eafd0>"
            ]
          },
          "metadata": {
            "tags": []
          },
          "execution_count": 3
        },
        {
          "output_type": "display_data",
          "data": {
            "image/png": "[encoded data removed]",
            "text/plain": [
              "<Figure size 432x288 with 2 Axes>"
            ]
          },
          "metadata": {
            "tags": [],
            "needs_background": "light"
          }
        }
      ]
    },
    {
      "cell_type": "markdown",
      "metadata": {
        "id": "fP6FGBGUn_iQ"
      },
      "source": [
        "#### How many correct predictions were made?"
      ]
    },
    {
      "cell_type": "code",
      "metadata": {
        "id": "wRSaYRPWn_iR",
        "colab": {
          "base_uri": "https://localhost:8080/"
        },
        "outputId": "5ba0c882-755f-44b4-8ad3-5c22b367bad7"
      },
      "source": [
        "correct_predictions = 7005+332+4351\n",
        "correct_predictions"
      ],
      "execution_count": null,
      "outputs": [
        {
          "output_type": "execute_result",
          "data": {
            "text/plain": [
              "11688"
            ]
          },
          "metadata": {
            "tags": []
          },
          "execution_count": 4
        }
      ]
    },
    {
      "cell_type": "markdown",
      "metadata": {
        "id": "-q-3R7Ean_iT"
      },
      "source": [
        "#### How many total predictions were made?"
      ]
    },
    {
      "cell_type": "code",
      "metadata": {
        "id": "vLAQL05fn_iT",
        "colab": {
          "base_uri": "https://localhost:8080/"
        },
        "outputId": "c3f29c8a-e7cb-4d5b-e85c-6067c98c4686"
      },
      "source": [
        "total_predictions = 7005+171+622+555+332+156+1098+68+4351\n",
        "total_predictions"
      ],
      "execution_count": null,
      "outputs": [
        {
          "output_type": "execute_result",
          "data": {
            "text/plain": [
              "14358"
            ]
          },
          "metadata": {
            "tags": []
          },
          "execution_count": 5
        }
      ]
    },
    {
      "cell_type": "markdown",
      "metadata": {
        "id": "K1yQ_jYPn_iV"
      },
      "source": [
        "#### What was the classification accuracy?"
      ]
    },
    {
      "cell_type": "code",
      "metadata": {
        "id": "fskAC6SYn_iW",
        "colab": {
          "base_uri": "https://localhost:8080/"
        },
        "outputId": "0c95d8b6-0063-4eb5-bc14-8e90bb54e5a9"
      },
      "source": [
        "correct_predictions/total_predictions"
      ],
      "execution_count": null,
      "outputs": [
        {
          "output_type": "execute_result",
          "data": {
            "text/plain": [
              "0.8140409527789386"
            ]
          },
          "metadata": {
            "tags": []
          },
          "execution_count": 6
        }
      ]
    },
    {
      "cell_type": "code",
      "metadata": {
        "colab": {
          "base_uri": "https://localhost:8080/"
        },
        "id": "r3m5hqSfRHxt",
        "outputId": "06dab81d-b5e3-4d9a-ac46-f3065c36cdf9"
      },
      "source": [
        "accuracy_score(y_val, y_pred)"
      ],
      "execution_count": null,
      "outputs": [
        {
          "output_type": "execute_result",
          "data": {
            "text/plain": [
              "0.8140409527789386"
            ]
          },
          "metadata": {
            "tags": []
          },
          "execution_count": 7
        }
      ]
    },
    {
      "cell_type": "markdown",
      "metadata": {
        "id": "EqFgEm3tn_iY"
      },
      "source": [
        "# Use classification metrics: precision, recall"
      ]
    },
    {
      "cell_type": "markdown",
      "metadata": {
        "id": "BoDtzBPhBabS"
      },
      "source": [
        "## Overview\n",
        "\n",
        "[Scikit-Learn User Guide — Classification Report](https://scikit-learn.org/stable/modules/model_evaluation.html#classification-report)"
      ]
    },
    {
      "cell_type": "code",
      "metadata": {
        "id": "mGv7OLL4n_iY",
        "colab": {
          "base_uri": "https://localhost:8080/"
        },
        "outputId": "774672d1-73ff-40ae-d1c2-c6847bf8fa76"
      },
      "source": [
        "from sklearn.metrics import classification_report\n",
        "\n",
        "print(classification_report(y_val, y_pred))"
      ],
      "execution_count": null,
      "outputs": [
        {
          "output_type": "stream",
          "text": [
            "                         precision    recall  f1-score   support\n",
            "\n",
            "             functional       0.81      0.90      0.85      7798\n",
            "functional needs repair       0.58      0.32      0.41      1043\n",
            "         non functional       0.85      0.79      0.82      5517\n",
            "\n",
            "               accuracy                           0.81     14358\n",
            "              macro avg       0.75      0.67      0.69     14358\n",
            "           weighted avg       0.81      0.81      0.81     14358\n",
            "\n"
          ],
          "name": "stdout"
        }
      ]
    },
    {
      "cell_type": "markdown",
      "metadata": {
        "id": "Z1U7HdC6n_ia"
      },
      "source": [
        "#### Wikipedia, [Precision and recall](https://en.wikipedia.org/wiki/Precision_and_recall)\n",
        "\n",
        "> Both precision and recall are based on an understanding and measure of relevance.\n",
        "\n",
        "> Suppose a computer program for recognizing dogs in photographs identifies 8 dogs in a picture containing 12 dogs and some cats. Of the 8 identified as dogs, 5 actually are dogs (true positives), while the rest are cats (false positives). The program's precision is 5/8 while its recall is 5/12.\n",
        "\n",
        "> High precision means that an algorithm returned substantially more relevant results than irrelevant ones, while high recall means that an algorithm returned most of the relevant results.\n",
        "\n",
        "<img src=\"https://upload.wikimedia.org/wikipedia/commons/thumb/2/26/Precisionrecall.svg/700px-Precisionrecall.svg.png\" width=\"400\">"
      ]
    },
    {
      "cell_type": "markdown",
      "metadata": {
        "id": "ic2rdMZsBabS"
      },
      "source": [
        "## Follow Along"
      ]
    },
    {
      "cell_type": "markdown",
      "metadata": {
        "id": "50R-Xhwdn_ie"
      },
      "source": [
        "#### [We can get precision & recall from the confusion matrix](https://en.wikipedia.org/wiki/Precision_and_recall#Definition_(classification_context))"
      ]
    },
    {
      "cell_type": "code",
      "metadata": {
        "id": "eIta6Vwsn_if",
        "colab": {
          "base_uri": "https://localhost:8080/",
          "height": 406
        },
        "outputId": "9ed9059c-7754-47db-c781-fb436e217c96"
      },
      "source": [
        "plot_confusion_matrix(pipeline, X_val, y_val, values_format='.0f', xticks_rotation='vertical')"
      ],
      "execution_count": null,
      "outputs": [
        {
          "output_type": "execute_result",
          "data": {
            "text/plain": [
              "<sklearn.metrics._plot.confusion_matrix.ConfusionMatrixDisplay at 0x7faef32e8e10>"
            ]
          },
          "metadata": {
            "tags": []
          },
          "execution_count": 9
        },
        {
          "output_type": "display_data",
          "data": {
            "image/png": "[encoded data removed]",
            "text/plain": [
              "<Figure size 432x288 with 2 Axes>"
            ]
          },
          "metadata": {
            "tags": [],
            "needs_background": "light"
          }
        }
      ]
    },
    {
      "cell_type": "markdown",
      "metadata": {
        "id": "iY2rfzA4n_ih"
      },
      "source": [
        "#### How many correct predictions of \"non functional\"?"
      ]
    },
    {
      "cell_type": "code",
      "metadata": {
        "id": "O-anLkCin_ii"
      },
      "source": [
        "correct_predictions_nonfunctional = 4351"
      ],
      "execution_count": null,
      "outputs": []
    },
    {
      "cell_type": "markdown",
      "metadata": {
        "id": "pYM6f99cn_ij"
      },
      "source": [
        "#### How many total predictions of \"non functional\"?"
      ]
    },
    {
      "cell_type": "code",
      "metadata": {
        "id": "_qCiA8j2n_ik"
      },
      "source": [
        "total_predictions_nonfunctional = 4351+156+622"
      ],
      "execution_count": null,
      "outputs": []
    },
    {
      "cell_type": "markdown",
      "metadata": {
        "id": "mXNuZ_Rnn_il"
      },
      "source": [
        "#### What's the precision for \"non functional\"?"
      ]
    },
    {
      "cell_type": "code",
      "metadata": {
        "id": "X1f7VsyXn_im",
        "colab": {
          "base_uri": "https://localhost:8080/"
        },
        "outputId": "7402e32e-eb0f-4dae-a1cf-4b33e39b8a1d"
      },
      "source": [
        "correct_predictions_nonfunctional / total_predictions_nonfunctional"
      ],
      "execution_count": null,
      "outputs": [
        {
          "output_type": "execute_result",
          "data": {
            "text/plain": [
              "0.8483135114057321"
            ]
          },
          "metadata": {
            "tags": []
          },
          "execution_count": 12
        }
      ]
    },
    {
      "cell_type": "markdown",
      "metadata": {
        "id": "ci4QguAkn_in"
      },
      "source": [
        "#### How many actual \"non functional\" waterpumps?"
      ]
    },
    {
      "cell_type": "code",
      "metadata": {
        "id": "FlqxNhlYn_io"
      },
      "source": [
        "actual_nonfunctional = 1098 + 68 + 4351"
      ],
      "execution_count": null,
      "outputs": []
    },
    {
      "cell_type": "markdown",
      "metadata": {
        "id": "9IY-vC-hn_iq"
      },
      "source": [
        "#### What's the recall for \"non functional\"?"
      ]
    },
    {
      "cell_type": "code",
      "metadata": {
        "id": "4U3v8lPP4KbP",
        "colab": {
          "base_uri": "https://localhost:8080/"
        },
        "outputId": "31c8e28c-dd39-4898-b034-d2169c91ef2b"
      },
      "source": [
        "correct_predictions_nonfunctional / actual_nonfunctional"
      ],
      "execution_count": null,
      "outputs": [
        {
          "output_type": "execute_result",
          "data": {
            "text/plain": [
              "0.7886532535798442"
            ]
          },
          "metadata": {
            "tags": []
          },
          "execution_count": 14
        }
      ]
    },
    {
      "cell_type": "markdown",
      "metadata": {
        "id": "ObVED_ugn_is"
      },
      "source": [
        "# Understand the relationships between precision, recall, thresholds, and predicted probabilities, to help make decisions and allocate budgets"
      ]
    },
    {
      "cell_type": "markdown",
      "metadata": {
        "id": "RmRea-ArBabU"
      },
      "source": [
        "## Overview"
      ]
    },
    {
      "cell_type": "markdown",
      "metadata": {
        "id": "kBcQQJ2kn_is"
      },
      "source": [
        "### Imagine this scenario...\n",
        "\n",
        "Suppose there are over 14,000 waterpumps that you _do_ have some information about, but you _don't_ know whether they are currently functional, or functional but need repair, or non-functional."
      ]
    },
    {
      "cell_type": "code",
      "metadata": {
        "id": "jEEy86CHn_it",
        "colab": {
          "base_uri": "https://localhost:8080/"
        },
        "outputId": "5a93a1f9-632b-4db9-d5aa-7368c16245d4"
      },
      "source": [
        "len(test)"
      ],
      "execution_count": null,
      "outputs": [
        {
          "output_type": "execute_result",
          "data": {
            "text/plain": [
              "14358"
            ]
          },
          "metadata": {
            "tags": []
          },
          "execution_count": 15
        }
      ]
    },
    {
      "cell_type": "markdown",
      "metadata": {
        "id": "3az2llAAn_iu"
      },
      "source": [
        "**You have the time and resources to go to just 2,000 waterpumps for proactive maintenance.** You want to predict, which 2,000 are most likely non-functional or in need of repair, to help you triage and prioritize your waterpump inspections.\n",
        "\n",
        "You have historical inspection data for over 59,000 other waterpumps, which you'll use to fit your predictive model."
      ]
    },
    {
      "cell_type": "code",
      "metadata": {
        "id": "pEWc2zt2n_iv",
        "colab": {
          "base_uri": "https://localhost:8080/"
        },
        "outputId": "3815cfae-364d-4328-ff17-9c5138ff3583"
      },
      "source": [
        "len(train) + len(val)"
      ],
      "execution_count": null,
      "outputs": [
        {
          "output_type": "execute_result",
          "data": {
            "text/plain": [
              "59400"
            ]
          },
          "metadata": {
            "tags": []
          },
          "execution_count": 16
        }
      ]
    },
    {
      "cell_type": "markdown",
      "metadata": {
        "id": "L2LiGJLin_ix"
      },
      "source": [
        "Based on this historical data, if you randomly chose waterpumps to inspect, then about 46% of the waterpumps would need repairs, and 54% would not need repairs."
      ]
    },
    {
      "cell_type": "code",
      "metadata": {
        "id": "JliDXTp5n_iy",
        "colab": {
          "base_uri": "https://localhost:8080/"
        },
        "outputId": "43270c04-04eb-4334-c657-5fe7db6cc022"
      },
      "source": [
        "y_train.value_counts(normalize=True)"
      ],
      "execution_count": null,
      "outputs": [
        {
          "output_type": "execute_result",
          "data": {
            "text/plain": [
              "functional                 0.543071\n",
              "non functional             0.384241\n",
              "functional needs repair    0.072688\n",
              "Name: status_group, dtype: float64"
            ]
          },
          "metadata": {
            "tags": []
          },
          "execution_count": 17
        }
      ]
    },
    {
      "cell_type": "code",
      "metadata": {
        "id": "0dP7fjQJeQEX",
        "colab": {
          "base_uri": "https://localhost:8080/"
        },
        "outputId": "a24dbec7-53b0-4572-d5d1-334249e56e88"
      },
      "source": [
        "random_inspections = 2000\n",
        "print(f'With {random_inspections} random inspections, we expect to repair {0.46*random_inspections} waterpumps')"
      ],
      "execution_count": null,
      "outputs": [
        {
          "output_type": "stream",
          "text": [
            "With 2000 random inspections, we expect to repair 920.0 waterpumps\n"
          ],
          "name": "stdout"
        }
      ]
    },
    {
      "cell_type": "markdown",
      "metadata": {
        "id": "dLnJ7Fnan_i1"
      },
      "source": [
        "**Can you do better than random at prioritizing inspections?**"
      ]
    },
    {
      "cell_type": "markdown",
      "metadata": {
        "id": "sIh2Xj8fn_i3"
      },
      "source": [
        "In this scenario, we should define our target differently. We want to identify which waterpumps are non-functional _or_ are functional but needs repair:"
      ]
    },
    {
      "cell_type": "code",
      "metadata": {
        "id": "7naqusI0n_i4",
        "colab": {
          "base_uri": "https://localhost:8080/"
        },
        "outputId": "cc00425c-0171-41d6-d227-789ff1cbdbbe"
      },
      "source": [
        "y_train = y_train != 'functional'\n",
        "y_val = y_val != 'functional'\n",
        "y_train.value_counts(normalize=True)"
      ],
      "execution_count": null,
      "outputs": [
        {
          "output_type": "execute_result",
          "data": {
            "text/plain": [
              "False    0.543071\n",
              "True     0.456929\n",
              "Name: status_group, dtype: float64"
            ]
          },
          "metadata": {
            "tags": []
          },
          "execution_count": 19
        }
      ]
    },
    {
      "cell_type": "markdown",
      "metadata": {
        "id": "P1UR1t8Zn_i6"
      },
      "source": [
        "We already made our validation set the same size as our test set."
      ]
    },
    {
      "cell_type": "code",
      "metadata": {
        "id": "CHHIplB7n_i8",
        "colab": {
          "base_uri": "https://localhost:8080/"
        },
        "outputId": "7e8a5476-ede4-47cb-e0a9-a66134f8ee2d"
      },
      "source": [
        "len(val) == len(test)"
      ],
      "execution_count": null,
      "outputs": [
        {
          "output_type": "execute_result",
          "data": {
            "text/plain": [
              "True"
            ]
          },
          "metadata": {
            "tags": []
          },
          "execution_count": 20
        }
      ]
    },
    {
      "cell_type": "markdown",
      "metadata": {
        "id": "g41DA70rn_i9"
      },
      "source": [
        "We can refit our model, using the redefined target.\n",
        "\n",
        "Then make predictions for the validation set."
      ]
    },
    {
      "cell_type": "code",
      "metadata": {
        "id": "VXL0LaXQn_i-",
        "colab": {
          "base_uri": "https://localhost:8080/"
        },
        "outputId": "c8e53ef0-e8ca-40bb-c1dd-612aa5a62a11"
      },
      "source": [
        "pipeline.fit(X_train, y_train)\n",
        "y_pred = pipeline.predict(X_val)"
      ],
      "execution_count": null,
      "outputs": [
        {
          "output_type": "stream",
          "text": [
            "/usr/local/lib/python3.7/dist-packages/category_encoders/utils.py:21: FutureWarning: is_categorical is deprecated and will be removed in a future version.  Use is_categorical_dtype instead\n",
            "  elif pd.api.types.is_categorical(cols):\n"
          ],
          "name": "stderr"
        }
      ]
    },
    {
      "cell_type": "markdown",
      "metadata": {
        "id": "yQufJDxmBabW"
      },
      "source": [
        "## Follow Along"
      ]
    },
    {
      "cell_type": "markdown",
      "metadata": {
        "id": "qISPzM43n_jA"
      },
      "source": [
        "#### Look at the confusion matrix:"
      ]
    },
    {
      "cell_type": "code",
      "metadata": {
        "id": "y72fakpmn_jB",
        "colab": {
          "base_uri": "https://localhost:8080/",
          "height": 312
        },
        "outputId": "071effb3-f882-4664-a5ac-03cd9562558e"
      },
      "source": [
        "plot_confusion_matrix(pipeline, X_val, y_val, values_format='.0f',xticks_rotation='vertical')"
      ],
      "execution_count": null,
      "outputs": [
        {
          "output_type": "execute_result",
          "data": {
            "text/plain": [
              "<sklearn.metrics._plot.confusion_matrix.ConfusionMatrixDisplay at 0x7faef1267f90>"
            ]
          },
          "metadata": {
            "tags": []
          },
          "execution_count": 22
        },
        {
          "output_type": "display_data",
          "data": {
            "image/png": "[encoded data removed]",
            "text/plain": [
              "<Figure size 432x288 with 2 Axes>"
            ]
          },
          "metadata": {
            "tags": [],
            "needs_background": "light"
          }
        }
      ]
    },
    {
      "cell_type": "markdown",
      "metadata": {
        "id": "M30BXR6Rn_jC"
      },
      "source": [
        "#### How many total predictions of \"True\" (\"non functional\" or \"functional needs repair\") ?"
      ]
    },
    {
      "cell_type": "code",
      "metadata": {
        "id": "4IeTJFo8n_jD",
        "colab": {
          "base_uri": "https://localhost:8080/"
        },
        "outputId": "46d21642-e2e0-4f82-c53d-3033d4b92eb2"
      },
      "source": [
        "5032+977"
      ],
      "execution_count": null,
      "outputs": [
        {
          "output_type": "execute_result",
          "data": {
            "text/plain": [
              "6009"
            ]
          },
          "metadata": {
            "tags": []
          },
          "execution_count": 24
        }
      ]
    },
    {
      "cell_type": "markdown",
      "metadata": {
        "id": "1aZSdskSn_jF"
      },
      "source": [
        "### We don't have \"budget\" to take action on all these predictions\n",
        "\n",
        "- But we can get predicted probabilities, to rank the predictions. \n",
        "- Then change the threshold, to change the number of positive predictions, based on our budget."
      ]
    },
    {
      "cell_type": "markdown",
      "metadata": {
        "id": "rXkfXDDZn_jF"
      },
      "source": [
        "### Get predicted probabilities and plot the distribution"
      ]
    },
    {
      "cell_type": "code",
      "metadata": {
        "id": "jwfe7j7W_jTp",
        "colab": {
          "base_uri": "https://localhost:8080/"
        },
        "outputId": "4f80bba4-5333-4405-d7c1-d05fe9cf7e1a"
      },
      "source": [
        "pipeline.predict(X_val)"
      ],
      "execution_count": null,
      "outputs": [
        {
          "output_type": "execute_result",
          "data": {
            "text/plain": [
              "array([ True,  True, False, ..., False,  True, False])"
            ]
          },
          "metadata": {
            "tags": []
          },
          "execution_count": 23
        }
      ]
    },
    {
      "cell_type": "code",
      "metadata": {
        "id": "SjOhH0BMB55A",
        "colab": {
          "base_uri": "https://localhost:8080/"
        },
        "outputId": "a0547faf-286d-44a5-86f6-b04c02381743"
      },
      "source": [
        "pipeline.predict_proba(X_val) # The pipeline has a very useful function called the predict_proba"
      ],
      "execution_count": null,
      "outputs": [
        {
          "output_type": "execute_result",
          "data": {
            "text/plain": [
              "array([[0.  , 1.  ],\n",
              "       [0.26, 0.74],\n",
              "       [0.9 , 0.1 ],\n",
              "       ...,\n",
              "       [0.91, 0.09],\n",
              "       [0.41, 0.59],\n",
              "       [0.98, 0.02]])"
            ]
          },
          "metadata": {
            "tags": []
          },
          "execution_count": 24
        }
      ]
    },
    {
      "cell_type": "code",
      "metadata": {
        "colab": {
          "base_uri": "https://localhost:8080/"
        },
        "id": "wmly-XaUWhxW",
        "outputId": "3c5b1f8f-199f-4e00-91f8-54db447a92fc"
      },
      "source": [
        "#predicted probabilites for the positive class (need a trip, non functional or functional that need repair)\n",
        "pipeline.predict_proba(X_val)[:,1]"
      ],
      "execution_count": null,
      "outputs": [
        {
          "output_type": "execute_result",
          "data": {
            "text/plain": [
              "array([1.  , 0.74, 0.1 , ..., 0.09, 0.59, 0.02])"
            ]
          },
          "metadata": {
            "tags": []
          },
          "execution_count": 25
        }
      ]
    },
    {
      "cell_type": "code",
      "metadata": {
        "colab": {
          "base_uri": "https://localhost:8080/"
        },
        "id": "oDUh6iK_Wy6g",
        "outputId": "9b2f0f3a-62e4-4127-b8df-c663824a1ee3"
      },
      "source": [
        "#turn predicted probabilities into discrete predictions using a \"threhold\"\n",
        "threshold = 0.5\n",
        "pipeline.predict_proba(X_val)[:,1]>threshold"
      ],
      "execution_count": null,
      "outputs": [
        {
          "output_type": "execute_result",
          "data": {
            "text/plain": [
              "array([ True,  True, False, ..., False,  True, False])"
            ]
          },
          "metadata": {
            "tags": []
          },
          "execution_count": 26
        }
      ]
    },
    {
      "cell_type": "code",
      "metadata": {
        "colab": {
          "base_uri": "https://localhost:8080/",
          "height": 372
        },
        "id": "7X0rIPccXCJ5",
        "outputId": "90896a57-7cfd-440d-ded0-a4d1fa3c3c45"
      },
      "source": [
        "import seaborn as sns\n",
        "threshold = 0.5\n",
        "\n",
        "y_pred_proba = pipeline.predict_proba(X_val)[:,1]\n",
        "\n",
        "ax = sns.distplot(y_pred_proba)\n",
        "ax.axvline(threshold, color = 'red')\n",
        "pd.Series(y_pred).value_counts()"
      ],
      "execution_count": null,
      "outputs": [
        {
          "output_type": "stream",
          "text": [
            "/usr/local/lib/python3.7/dist-packages/seaborn/distributions.py:2557: FutureWarning: `distplot` is a deprecated function and will be removed in a future version. Please adapt your code to use either `displot` (a figure-level function with similar flexibility) or `histplot` (an axes-level function for histograms).\n",
            "  warnings.warn(msg, FutureWarning)\n"
          ],
          "name": "stderr"
        },
        {
          "output_type": "execute_result",
          "data": {
            "text/plain": [
              "False    10622\n",
              "True      3736\n",
              "dtype: int64"
            ]
          },
          "metadata": {
            "tags": []
          },
          "execution_count": 29
        },
        {
          "output_type": "display_data",
          "data": {
            "image/png": "[encoded data removed]",
            "text/plain": [
              "<Figure size 432x288 with 1 Axes>"
            ]
          },
          "metadata": {
            "tags": [],
            "needs_background": "light"
          }
        }
      ]
    },
    {
      "cell_type": "markdown",
      "metadata": {
        "id": "eD6pRFKOn_jH"
      },
      "source": [
        "### Change the threshold"
      ]
    },
    {
      "cell_type": "code",
      "metadata": {
        "id": "ajcdN4VrXVq6"
      },
      "source": [
        "y_pred_proba = pipeline.predict_proba(X_val)[:,1]"
      ],
      "execution_count": null,
      "outputs": []
    },
    {
      "cell_type": "code",
      "metadata": {
        "colab": {
          "base_uri": "https://localhost:8080/",
          "height": 372
        },
        "id": "8cAioE-aXcRG",
        "outputId": "c93f0cc7-26b7-4646-cca0-2a0a4ca4c04e"
      },
      "source": [
        "threshold1 = 0.75\n",
        "\n",
        "y_pred = y_pred_proba > threshold1\n",
        "ax = sns.distplot(y_pred_proba)\n",
        "ax.axvline(threshold1, color = 'red')\n",
        "pd.Series(y_pred).value_counts()"
      ],
      "execution_count": null,
      "outputs": [
        {
          "output_type": "stream",
          "text": [
            "/usr/local/lib/python3.7/dist-packages/seaborn/distributions.py:2557: FutureWarning: `distplot` is a deprecated function and will be removed in a future version. Please adapt your code to use either `displot` (a figure-level function with similar flexibility) or `histplot` (an axes-level function for histograms).\n",
            "  warnings.warn(msg, FutureWarning)\n"
          ],
          "name": "stderr"
        },
        {
          "output_type": "execute_result",
          "data": {
            "text/plain": [
              "False    10622\n",
              "True      3736\n",
              "dtype: int64"
            ]
          },
          "metadata": {
            "tags": []
          },
          "execution_count": 32
        },
        {
          "output_type": "display_data",
          "data": {
            "image/png": "[encoded data removed]",
            "text/plain": [
              "<Figure size 432x288 with 1 Axes>"
            ]
          },
          "metadata": {
            "tags": [],
            "needs_background": "light"
          }
        }
      ]
    },
    {
      "cell_type": "code",
      "metadata": {
        "colab": {
          "base_uri": "https://localhost:8080/",
          "height": 372
        },
        "id": "HvBVEwNAYAZJ",
        "outputId": "4b280da3-447e-4bd0-f66b-7e9101a1e6df"
      },
      "source": [
        "threshold2 = 0.92\n",
        "\n",
        "y_pred = y_pred_proba > threshold2\n",
        "ax = sns.distplot(y_pred_proba)\n",
        "ax.axvline(threshold2, color = 'red')\n",
        "pd.Series(y_pred).value_counts()"
      ],
      "execution_count": null,
      "outputs": [
        {
          "output_type": "stream",
          "text": [
            "/usr/local/lib/python3.7/dist-packages/seaborn/distributions.py:2557: FutureWarning: `distplot` is a deprecated function and will be removed in a future version. Please adapt your code to use either `displot` (a figure-level function with similar flexibility) or `histplot` (an axes-level function for histograms).\n",
            "  warnings.warn(msg, FutureWarning)\n"
          ],
          "name": "stderr"
        },
        {
          "output_type": "execute_result",
          "data": {
            "text/plain": [
              "False    12325\n",
              "True      2033\n",
              "dtype: int64"
            ]
          },
          "metadata": {
            "tags": []
          },
          "execution_count": 37
        },
        {
          "output_type": "display_data",
          "data": {
            "image/png": "[encoded data removed]",
            "text/plain": [
              "<Figure size 432x288 with 1 Axes>"
            ]
          },
          "metadata": {
            "tags": [],
            "needs_background": "light"
          }
        }
      ]
    },
    {
      "cell_type": "markdown",
      "metadata": {
        "id": "cL45JWoSBabY"
      },
      "source": [
        "### Or, get exactly 2,000 positive predictions"
      ]
    },
    {
      "cell_type": "markdown",
      "metadata": {
        "id": "p0Z297TjBabY"
      },
      "source": [
        "Identify the 2,000 waterpumps in the validation set with highest predicted probabilities."
      ]
    },
    {
      "cell_type": "code",
      "metadata": {
        "id": "6O0xk8mCBabY",
        "colab": {
          "base_uri": "https://localhost:8080/",
          "height": 736,
          "referenced_widgets": [
            "3717754c22044e85bae7a274daa58f9d",
            "6f8f3a25cd514990994748f2163295c8",
            "18d58867b6924940adab5ed356b792ff",
            "b94efb2b83c3471297bd896b0d8a9d3a",
            "f85fc1a25b994b0eb10e9faa76eb2964",
            "efe20831884c46a289f7ed4e0100e88f",
            "5d688ec81eb8402d9303d3bda40b191a"
          ]
        },
        "outputId": "78b2cb75-99c8-41da-e812-14f531d863d2"
      },
      "source": [
        "from ipywidgets import interact, fixed\n",
        "import seaborn as sns\n",
        "from sklearn.metrics import confusion_matrix\n",
        "from sklearn.utils.multiclass import unique_labels\n",
        "\n",
        "def my_confusion_matrix(y_true, y_pred):\n",
        "  labels = unique_labels(y_true)\n",
        "  columns = [f'Predicted {label}'for label in labels]\n",
        "  index = [f'Actual{label}' for label in labels]\n",
        "  table = pd.DataFrame(confusion_matrix(y_true, y_pred),\n",
        "                       columns = columns, index = index)\n",
        "  return sns.heatmap(table, annot=True, fmt='d', cmap='viridis')\n",
        "\n",
        "def set_threshold(y_true, y_pred_proba, threshold=0.5):\n",
        "  y_pred = y_pred_proba > threshold\n",
        "  ax = sns.distplot(y_pred_proba)\n",
        "  ax.axvline(threshold, color ='red')\n",
        "  plt.show()\n",
        "  print(classification_report(y_true, y_pred))\n",
        "  my_confusion_matrix(y_true, y_pred)\n",
        "\n",
        "interact(set_threshold,\n",
        "         y_true=fixed(y_val),\n",
        "         y_pred_proba=fixed(y_pred_proba),\n",
        "         threshold = (0,1,0.02));"
      ],
      "execution_count": null,
      "outputs": [
        {
          "output_type": "display_data",
          "data": {
            "application/vnd.jupyter.widget-view+json": {
              "model_id": "3717754c22044e85bae7a274daa58f9d",
              "version_minor": 0,
              "version_major": 2
            },
            "text/plain": [
              "interactive(children=(FloatSlider(value=0.5, description='threshold', max=1.0, step=0.02), Output()), _dom_cla…"
            ]
          },
          "metadata": {
            "tags": []
          }
        }
      ]
    },
    {
      "cell_type": "markdown",
      "metadata": {
        "id": "VZFJgGOXBabY"
      },
      "source": [
        "Most of these top 2,000 waterpumps will be relevant recommendations, meaning `y_val==True`, meaning the waterpump is non-functional or needs repairs.\n",
        "\n",
        "Some of these top 2,000 waterpumps will be irrelevant recommendations, meaning `y_val==False`, meaning the waterpump is functional and does not need repairs.\n",
        "\n",
        "Let's look at a random sample of 50 out of these top 2,000:"
      ]
    },
    {
      "cell_type": "code",
      "metadata": {
        "colab": {
          "base_uri": "https://localhost:8080/",
          "height": 424
        },
        "id": "X5WWnDwpd1wh",
        "outputId": "bfdb70c1-730a-4576-d423-b77f79455bac"
      },
      "source": [
        "results = pd.DataFrame ({'y_val':y_val,'y_pred_proba':y_pred_proba})\n",
        "results"
      ],
      "execution_count": null,
      "outputs": [
        {
          "output_type": "execute_result",
          "data": {
            "text/html": [
              "<div>\n",
              "<style scoped>\n",
              "    .dataframe tbody tr th:only-of-type {\n",
              "        vertical-align: middle;\n",
              "    }\n",
              "\n",
              "    .dataframe tbody tr th {\n",
              "        vertical-align: top;\n",
              "    }\n",
              "\n",
              "    .dataframe thead th {\n",
              "        text-align: right;\n",
              "    }\n",
              "</style>\n",
              "<table border=\"1\" class=\"dataframe\">\n",
              "  <thead>\n",
              "    <tr style=\"text-align: right;\">\n",
              "      <th></th>\n",
              "      <th>y_val</th>\n",
              "      <th>y_pred_proba</th>\n",
              "    </tr>\n",
              "  </thead>\n",
              "  <tbody>\n",
              "    <tr>\n",
              "      <th>58046</th>\n",
              "      <td>True</td>\n",
              "      <td>1.00</td>\n",
              "    </tr>\n",
              "    <tr>\n",
              "      <th>41184</th>\n",
              "      <td>True</td>\n",
              "      <td>0.74</td>\n",
              "    </tr>\n",
              "    <tr>\n",
              "      <th>27587</th>\n",
              "      <td>False</td>\n",
              "      <td>0.10</td>\n",
              "    </tr>\n",
              "    <tr>\n",
              "      <th>53109</th>\n",
              "      <td>False</td>\n",
              "      <td>0.05</td>\n",
              "    </tr>\n",
              "    <tr>\n",
              "      <th>7245</th>\n",
              "      <td>True</td>\n",
              "      <td>0.55</td>\n",
              "    </tr>\n",
              "    <tr>\n",
              "      <th>...</th>\n",
              "      <td>...</td>\n",
              "      <td>...</td>\n",
              "    </tr>\n",
              "    <tr>\n",
              "      <th>18760</th>\n",
              "      <td>False</td>\n",
              "      <td>0.68</td>\n",
              "    </tr>\n",
              "    <tr>\n",
              "      <th>36059</th>\n",
              "      <td>True</td>\n",
              "      <td>0.88</td>\n",
              "    </tr>\n",
              "    <tr>\n",
              "      <th>4759</th>\n",
              "      <td>False</td>\n",
              "      <td>0.09</td>\n",
              "    </tr>\n",
              "    <tr>\n",
              "      <th>43621</th>\n",
              "      <td>False</td>\n",
              "      <td>0.59</td>\n",
              "    </tr>\n",
              "    <tr>\n",
              "      <th>45295</th>\n",
              "      <td>False</td>\n",
              "      <td>0.02</td>\n",
              "    </tr>\n",
              "  </tbody>\n",
              "</table>\n",
              "<p>14358 rows × 2 columns</p>\n",
              "</div>"
            ],
            "text/plain": [
              "       y_val  y_pred_proba\n",
              "58046   True          1.00\n",
              "41184   True          0.74\n",
              "27587  False          0.10\n",
              "53109  False          0.05\n",
              "7245    True          0.55\n",
              "...      ...           ...\n",
              "18760  False          0.68\n",
              "36059   True          0.88\n",
              "4759   False          0.09\n",
              "43621  False          0.59\n",
              "45295  False          0.02\n",
              "\n",
              "[14358 rows x 2 columns]"
            ]
          },
          "metadata": {
            "tags": []
          },
          "execution_count": 38
        }
      ]
    },
    {
      "cell_type": "code",
      "metadata": {
        "id": "kGW41qMIBabY",
        "colab": {
          "base_uri": "https://localhost:8080/",
          "height": 1000
        },
        "outputId": "bf754407-31d3-4f61-db32-74869200ac41"
      },
      "source": [
        "top2000 = results.sort_values(by='y_pred_proba', ascending=False)[0:2000]\n",
        "# top2000.head()\n",
        "top2000.sample(n=50)"
      ],
      "execution_count": null,
      "outputs": [
        {
          "output_type": "execute_result",
          "data": {
            "text/html": [
              "<div>\n",
              "<style scoped>\n",
              "    .dataframe tbody tr th:only-of-type {\n",
              "        vertical-align: middle;\n",
              "    }\n",
              "\n",
              "    .dataframe tbody tr th {\n",
              "        vertical-align: top;\n",
              "    }\n",
              "\n",
              "    .dataframe thead th {\n",
              "        text-align: right;\n",
              "    }\n",
              "</style>\n",
              "<table border=\"1\" class=\"dataframe\">\n",
              "  <thead>\n",
              "    <tr style=\"text-align: right;\">\n",
              "      <th></th>\n",
              "      <th>y_val</th>\n",
              "      <th>y_pred_proba</th>\n",
              "    </tr>\n",
              "  </thead>\n",
              "  <tbody>\n",
              "    <tr>\n",
              "      <th>33853</th>\n",
              "      <td>True</td>\n",
              "      <td>0.93</td>\n",
              "    </tr>\n",
              "    <tr>\n",
              "      <th>37529</th>\n",
              "      <td>False</td>\n",
              "      <td>0.97</td>\n",
              "    </tr>\n",
              "    <tr>\n",
              "      <th>55613</th>\n",
              "      <td>True</td>\n",
              "      <td>0.94</td>\n",
              "    </tr>\n",
              "    <tr>\n",
              "      <th>815</th>\n",
              "      <td>True</td>\n",
              "      <td>0.98</td>\n",
              "    </tr>\n",
              "    <tr>\n",
              "      <th>43296</th>\n",
              "      <td>True</td>\n",
              "      <td>0.99</td>\n",
              "    </tr>\n",
              "    <tr>\n",
              "      <th>39249</th>\n",
              "      <td>True</td>\n",
              "      <td>0.96</td>\n",
              "    </tr>\n",
              "    <tr>\n",
              "      <th>6702</th>\n",
              "      <td>True</td>\n",
              "      <td>0.99</td>\n",
              "    </tr>\n",
              "    <tr>\n",
              "      <th>39671</th>\n",
              "      <td>True</td>\n",
              "      <td>0.99</td>\n",
              "    </tr>\n",
              "    <tr>\n",
              "      <th>5411</th>\n",
              "      <td>True</td>\n",
              "      <td>0.95</td>\n",
              "    </tr>\n",
              "    <tr>\n",
              "      <th>43901</th>\n",
              "      <td>True</td>\n",
              "      <td>0.99</td>\n",
              "    </tr>\n",
              "    <tr>\n",
              "      <th>10211</th>\n",
              "      <td>True</td>\n",
              "      <td>0.94</td>\n",
              "    </tr>\n",
              "    <tr>\n",
              "      <th>42010</th>\n",
              "      <td>True</td>\n",
              "      <td>0.99</td>\n",
              "    </tr>\n",
              "    <tr>\n",
              "      <th>46701</th>\n",
              "      <td>True</td>\n",
              "      <td>0.94</td>\n",
              "    </tr>\n",
              "    <tr>\n",
              "      <th>9273</th>\n",
              "      <td>True</td>\n",
              "      <td>1.00</td>\n",
              "    </tr>\n",
              "    <tr>\n",
              "      <th>54883</th>\n",
              "      <td>True</td>\n",
              "      <td>0.93</td>\n",
              "    </tr>\n",
              "    <tr>\n",
              "      <th>54673</th>\n",
              "      <td>True</td>\n",
              "      <td>1.00</td>\n",
              "    </tr>\n",
              "    <tr>\n",
              "      <th>39203</th>\n",
              "      <td>True</td>\n",
              "      <td>0.94</td>\n",
              "    </tr>\n",
              "    <tr>\n",
              "      <th>50882</th>\n",
              "      <td>True</td>\n",
              "      <td>0.99</td>\n",
              "    </tr>\n",
              "    <tr>\n",
              "      <th>44748</th>\n",
              "      <td>True</td>\n",
              "      <td>0.97</td>\n",
              "    </tr>\n",
              "    <tr>\n",
              "      <th>57854</th>\n",
              "      <td>True</td>\n",
              "      <td>0.96</td>\n",
              "    </tr>\n",
              "    <tr>\n",
              "      <th>31426</th>\n",
              "      <td>True</td>\n",
              "      <td>0.97</td>\n",
              "    </tr>\n",
              "    <tr>\n",
              "      <th>29253</th>\n",
              "      <td>True</td>\n",
              "      <td>0.99</td>\n",
              "    </tr>\n",
              "    <tr>\n",
              "      <th>21091</th>\n",
              "      <td>True</td>\n",
              "      <td>1.00</td>\n",
              "    </tr>\n",
              "    <tr>\n",
              "      <th>22136</th>\n",
              "      <td>True</td>\n",
              "      <td>1.00</td>\n",
              "    </tr>\n",
              "    <tr>\n",
              "      <th>37732</th>\n",
              "      <td>True</td>\n",
              "      <td>0.94</td>\n",
              "    </tr>\n",
              "    <tr>\n",
              "      <th>43</th>\n",
              "      <td>True</td>\n",
              "      <td>1.00</td>\n",
              "    </tr>\n",
              "    <tr>\n",
              "      <th>26152</th>\n",
              "      <td>True</td>\n",
              "      <td>0.99</td>\n",
              "    </tr>\n",
              "    <tr>\n",
              "      <th>53852</th>\n",
              "      <td>True</td>\n",
              "      <td>0.98</td>\n",
              "    </tr>\n",
              "    <tr>\n",
              "      <th>34261</th>\n",
              "      <td>True</td>\n",
              "      <td>1.00</td>\n",
              "    </tr>\n",
              "    <tr>\n",
              "      <th>27080</th>\n",
              "      <td>True</td>\n",
              "      <td>1.00</td>\n",
              "    </tr>\n",
              "    <tr>\n",
              "      <th>45732</th>\n",
              "      <td>True</td>\n",
              "      <td>1.00</td>\n",
              "    </tr>\n",
              "    <tr>\n",
              "      <th>31107</th>\n",
              "      <td>True</td>\n",
              "      <td>0.97</td>\n",
              "    </tr>\n",
              "    <tr>\n",
              "      <th>53120</th>\n",
              "      <td>True</td>\n",
              "      <td>0.99</td>\n",
              "    </tr>\n",
              "    <tr>\n",
              "      <th>29620</th>\n",
              "      <td>True</td>\n",
              "      <td>0.93</td>\n",
              "    </tr>\n",
              "    <tr>\n",
              "      <th>16634</th>\n",
              "      <td>True</td>\n",
              "      <td>0.97</td>\n",
              "    </tr>\n",
              "    <tr>\n",
              "      <th>32952</th>\n",
              "      <td>True</td>\n",
              "      <td>0.96</td>\n",
              "    </tr>\n",
              "    <tr>\n",
              "      <th>20089</th>\n",
              "      <td>True</td>\n",
              "      <td>0.93</td>\n",
              "    </tr>\n",
              "    <tr>\n",
              "      <th>31026</th>\n",
              "      <td>True</td>\n",
              "      <td>1.00</td>\n",
              "    </tr>\n",
              "    <tr>\n",
              "      <th>14785</th>\n",
              "      <td>True</td>\n",
              "      <td>0.96</td>\n",
              "    </tr>\n",
              "    <tr>\n",
              "      <th>40867</th>\n",
              "      <td>True</td>\n",
              "      <td>0.97</td>\n",
              "    </tr>\n",
              "    <tr>\n",
              "      <th>27058</th>\n",
              "      <td>True</td>\n",
              "      <td>0.94</td>\n",
              "    </tr>\n",
              "    <tr>\n",
              "      <th>28238</th>\n",
              "      <td>True</td>\n",
              "      <td>0.99</td>\n",
              "    </tr>\n",
              "    <tr>\n",
              "      <th>54165</th>\n",
              "      <td>True</td>\n",
              "      <td>0.94</td>\n",
              "    </tr>\n",
              "    <tr>\n",
              "      <th>9687</th>\n",
              "      <td>True</td>\n",
              "      <td>1.00</td>\n",
              "    </tr>\n",
              "    <tr>\n",
              "      <th>28144</th>\n",
              "      <td>True</td>\n",
              "      <td>0.94</td>\n",
              "    </tr>\n",
              "    <tr>\n",
              "      <th>24671</th>\n",
              "      <td>True</td>\n",
              "      <td>0.96</td>\n",
              "    </tr>\n",
              "    <tr>\n",
              "      <th>52942</th>\n",
              "      <td>True</td>\n",
              "      <td>0.94</td>\n",
              "    </tr>\n",
              "    <tr>\n",
              "      <th>33401</th>\n",
              "      <td>True</td>\n",
              "      <td>0.95</td>\n",
              "    </tr>\n",
              "    <tr>\n",
              "      <th>35332</th>\n",
              "      <td>True</td>\n",
              "      <td>0.99</td>\n",
              "    </tr>\n",
              "    <tr>\n",
              "      <th>12200</th>\n",
              "      <td>True</td>\n",
              "      <td>1.00</td>\n",
              "    </tr>\n",
              "  </tbody>\n",
              "</table>\n",
              "</div>"
            ],
            "text/plain": [
              "       y_val  y_pred_proba\n",
              "33853   True          0.93\n",
              "37529  False          0.97\n",
              "55613   True          0.94\n",
              "815     True          0.98\n",
              "43296   True          0.99\n",
              "39249   True          0.96\n",
              "6702    True          0.99\n",
              "39671   True          0.99\n",
              "5411    True          0.95\n",
              "43901   True          0.99\n",
              "10211   True          0.94\n",
              "42010   True          0.99\n",
              "46701   True          0.94\n",
              "9273    True          1.00\n",
              "54883   True          0.93\n",
              "54673   True          1.00\n",
              "39203   True          0.94\n",
              "50882   True          0.99\n",
              "44748   True          0.97\n",
              "57854   True          0.96\n",
              "31426   True          0.97\n",
              "29253   True          0.99\n",
              "21091   True          1.00\n",
              "22136   True          1.00\n",
              "37732   True          0.94\n",
              "43      True          1.00\n",
              "26152   True          0.99\n",
              "53852   True          0.98\n",
              "34261   True          1.00\n",
              "27080   True          1.00\n",
              "45732   True          1.00\n",
              "31107   True          0.97\n",
              "53120   True          0.99\n",
              "29620   True          0.93\n",
              "16634   True          0.97\n",
              "32952   True          0.96\n",
              "20089   True          0.93\n",
              "31026   True          1.00\n",
              "14785   True          0.96\n",
              "40867   True          0.97\n",
              "27058   True          0.94\n",
              "28238   True          0.99\n",
              "54165   True          0.94\n",
              "9687    True          1.00\n",
              "28144   True          0.94\n",
              "24671   True          0.96\n",
              "52942   True          0.94\n",
              "33401   True          0.95\n",
              "35332   True          0.99\n",
              "12200   True          1.00"
            ]
          },
          "metadata": {
            "tags": []
          },
          "execution_count": 39
        }
      ]
    },
    {
      "cell_type": "markdown",
      "metadata": {
        "id": "NW-cdmo3BabY"
      },
      "source": [
        "So how many of our recommendations were relevant? ..."
      ]
    },
    {
      "cell_type": "code",
      "metadata": {
        "id": "CMssU4cXBabZ",
        "colab": {
          "base_uri": "https://localhost:8080/"
        },
        "outputId": "2acedc44-6d42-4493-fc40-0c2482b2564d"
      },
      "source": [
        "trips = 2000\n",
        "print(f'Baseline: {trips * 0.46} waterpump repairs in {trips} trips')\n",
        "\n",
        "relevant_recommendations =top2000['y_val'].sum()\n",
        "print(f\"With model: Predict {relevant_recommendations} waterpump repairs in {trips} trips\")"
      ],
      "execution_count": null,
      "outputs": [
        {
          "output_type": "stream",
          "text": [
            "Baseline: 920.0 waterpump repairs in 2000 trips\n",
            "With model: Predict 1972 waterpump repairs in 2000 trips\n"
          ],
          "name": "stdout"
        }
      ]
    },
    {
      "cell_type": "markdown",
      "metadata": {
        "id": "9gwvEwDlBabZ"
      },
      "source": [
        "What's the precision for this subset of 2,000 predictions?"
      ]
    },
    {
      "cell_type": "code",
      "metadata": {
        "id": "ysITL2INBabZ",
        "colab": {
          "base_uri": "https://localhost:8080/"
        },
        "outputId": "f2dbb77c-18a1-46af-92da-90b0db7a9e17"
      },
      "source": [
        "precision_at_k_2000 = relevant_recommendations / trips\n",
        "print('Precision at k=2000', precision_at_k_2000)"
      ],
      "execution_count": null,
      "outputs": [
        {
          "output_type": "stream",
          "text": [
            "Precision at k=2000 0.986\n"
          ],
          "name": "stdout"
        }
      ]
    },
    {
      "cell_type": "markdown",
      "metadata": {
        "id": "top80m_Gn_jI"
      },
      "source": [
        "### In this scenario ... \n",
        "\n",
        "Accuracy _isn't_ the best metric!\n",
        "\n",
        "Instead, change the threshold, to change the number of positive predictions, based on the budget. (You have the time and resources to go to just 2,000 waterpumps for proactive maintenance.)\n",
        "\n",
        "Then, evaluate with the precision for \"non functional\"/\"functional needs repair\".\n",
        "\n",
        "This is conceptually like **Precision@K**, where k=2,000.\n",
        "\n",
        "Read more here: [Recall and Precision at k for Recommender Systems: Detailed Explanation with examples](https://medium.com/@m_n_malaeb/recall-and-precision-at-k-for-recommender-systems-618483226c54)\n",
        "\n",
        "> Precision at k is the proportion of recommended items in the top-k set that are relevant\n",
        "\n",
        "> Mathematically precision@k is defined as: `Precision@k = (# of recommended items @k that are relevant) / (# of recommended items @k)`\n",
        "\n",
        "> In the context of recommendation systems we are most likely interested in recommending top-N items to the user. So it makes more sense to compute precision and recall metrics in the first N items instead of all the items. Thus the notion of precision and recall at k where k is a user definable integer that is set by the user to match the top-N recommendations objective.\n",
        "\n",
        "We asked, can you do better than random at prioritizing inspections?\n",
        "\n",
        "If we had randomly chosen waterpumps to inspect, we estimate that only 920 waterpumps would be repaired after 2,000 maintenance visits. (46%)\n",
        "\n",
        "But using our predictive model, in the validation set, we succesfully identified over 1,900 waterpumps in need of repair!\n",
        "\n",
        "So we will use this predictive model with the dataset of over 14,000 waterpumps that we _do_ have some information about, but we _don't_ know whether they are currently functional, or functional but need repair, or non-functional.\n",
        "\n",
        "We will predict which 2,000 are most likely non-functional or in need of repair.\n",
        "\n",
        "We estimate that approximately 1,900 waterpumps will be repaired after these 2,000 maintenance visits.\n",
        "\n",
        "So we're confident that our predictive model will help triage and prioritize waterpump inspections."
      ]
    },
    {
      "cell_type": "markdown",
      "metadata": {
        "id": "GlefftkqBabZ"
      },
      "source": [
        "### But ...\n",
        "\n",
        "This metric (~1,900 waterpumps repaired after 2,000 maintenance visits) is specific for _one_ classification problem and _one_ possible trade-off.\n",
        "\n",
        "Can we get an evaluation metric that is generic for _all_ classification problems and _all_ possible trade-offs?\n",
        "\n",
        "Yes — the most common such metric is **ROC AUC.**"
      ]
    },
    {
      "cell_type": "markdown",
      "metadata": {
        "id": "NrDc1BQsBabZ"
      },
      "source": [
        "## Get ROC AUC (Receiver Operating Characteristic, Area Under the Curve)\n",
        "\n",
        "[Wikipedia explains,](https://en.wikipedia.org/wiki/Receiver_operating_characteristic) \"A receiver operating characteristic curve, or ROC curve, is a graphical plot that illustrates the diagnostic ability of a binary classifier system as its discrimination threshold is varied. **The ROC curve is created by plotting the true positive rate (TPR) against the false positive rate (FPR) at various threshold settings.**\"\n",
        "\n",
        "ROC AUC is the area under the ROC curve. [It can be interpreted](https://stats.stackexchange.com/questions/132777/what-does-auc-stand-for-and-what-is-it) as \"the expectation that a uniformly drawn random positive is ranked before a uniformly drawn random negative.\" \n",
        "\n",
        "ROC AUC measures **how well a classifier ranks predicted probabilities.** So, when you get your classifier’s ROC AUC score, you need to **use predicted probabilities, not discrete predictions.**\n",
        "\n",
        "ROC AUC ranges **from 0 to 1.** Higher is better. A naive majority class **baseline** will have an ROC AUC score of **0.5.** \n",
        "\n",
        "#### Scikit-Learn docs\n",
        "- [User Guide: Receiver operating characteristic (ROC)](https://scikit-learn.org/stable/modules/model_evaluation.html#receiver-operating-characteristic-roc)\n",
        "- [sklearn.metrics.roc_curve](https://scikit-learn.org/stable/modules/generated/sklearn.metrics.roc_curve.html)\n",
        "- [sklearn.metrics.roc_auc_score](https://scikit-learn.org/stable/modules/generated/sklearn.metrics.roc_auc_score.html)\n",
        "\n",
        "#### More links\n",
        "- [ROC curves and Area Under the Curve explained](https://www.dataschool.io/roc-curves-and-auc-explained/)\n",
        "- [The philosophical argument for using ROC curves](https://lukeoakdenrayner.wordpress.com/2018/01/07/the-philosophical-argument-for-using-roc-curves/)"
      ]
    },
    {
      "cell_type": "code",
      "metadata": {
        "id": "J6jmvh_GBaba"
      },
      "source": [
        "# \"The ROC curve is created by plotting the true positive rate (TPR) \n",
        "# against the false positive rate (FPR) \n",
        "# at various threshold settings.\"\n",
        "\n",
        "# Use scikit-learn to calculate TPR & FPR at various thresholds\n",
        "\n",
        "from sklearn.metrics import roc_curve #Import the roc curve\n",
        "fpr, tpr, thresholds = roc_curve(y_val, y_pred_proba)"
      ],
      "execution_count": null,
      "outputs": []
    },
    {
      "cell_type": "code",
      "metadata": {
        "id": "yBR1tQ2LBaba",
        "colab": {
          "base_uri": "https://localhost:8080/",
          "height": 424
        },
        "outputId": "11b3cb09-fbdd-4b3b-a4ad-10aaeb1ac233"
      },
      "source": [
        "# See the results in a table\n",
        "pd.DataFrame({\n",
        "    'False Positive Rate': fpr, \n",
        "    'True Positive Rate': tpr, \n",
        "    'Threshold': thresholds\n",
        "})"
      ],
      "execution_count": null,
      "outputs": [
        {
          "output_type": "execute_result",
          "data": {
            "text/html": [
              "<div>\n",
              "<style scoped>\n",
              "    .dataframe tbody tr th:only-of-type {\n",
              "        vertical-align: middle;\n",
              "    }\n",
              "\n",
              "    .dataframe tbody tr th {\n",
              "        vertical-align: top;\n",
              "    }\n",
              "\n",
              "    .dataframe thead th {\n",
              "        text-align: right;\n",
              "    }\n",
              "</style>\n",
              "<table border=\"1\" class=\"dataframe\">\n",
              "  <thead>\n",
              "    <tr style=\"text-align: right;\">\n",
              "      <th></th>\n",
              "      <th>False Positive Rate</th>\n",
              "      <th>True Positive Rate</th>\n",
              "      <th>Threshold</th>\n",
              "    </tr>\n",
              "  </thead>\n",
              "  <tbody>\n",
              "    <tr>\n",
              "      <th>0</th>\n",
              "      <td>0.000000</td>\n",
              "      <td>0.000000</td>\n",
              "      <td>2.00</td>\n",
              "    </tr>\n",
              "    <tr>\n",
              "      <th>1</th>\n",
              "      <td>0.000385</td>\n",
              "      <td>0.062652</td>\n",
              "      <td>1.00</td>\n",
              "    </tr>\n",
              "    <tr>\n",
              "      <th>2</th>\n",
              "      <td>0.000641</td>\n",
              "      <td>0.114787</td>\n",
              "      <td>0.99</td>\n",
              "    </tr>\n",
              "    <tr>\n",
              "      <th>3</th>\n",
              "      <td>0.000769</td>\n",
              "      <td>0.155793</td>\n",
              "      <td>0.98</td>\n",
              "    </tr>\n",
              "    <tr>\n",
              "      <th>4</th>\n",
              "      <td>0.001282</td>\n",
              "      <td>0.196037</td>\n",
              "      <td>0.97</td>\n",
              "    </tr>\n",
              "    <tr>\n",
              "      <th>...</th>\n",
              "      <td>...</td>\n",
              "      <td>...</td>\n",
              "      <td>...</td>\n",
              "    </tr>\n",
              "    <tr>\n",
              "      <th>102</th>\n",
              "      <td>0.882662</td>\n",
              "      <td>0.996341</td>\n",
              "      <td>0.04</td>\n",
              "    </tr>\n",
              "    <tr>\n",
              "      <th>103</th>\n",
              "      <td>0.904976</td>\n",
              "      <td>0.997104</td>\n",
              "      <td>0.03</td>\n",
              "    </tr>\n",
              "    <tr>\n",
              "      <th>104</th>\n",
              "      <td>0.930239</td>\n",
              "      <td>0.998171</td>\n",
              "      <td>0.02</td>\n",
              "    </tr>\n",
              "    <tr>\n",
              "      <th>105</th>\n",
              "      <td>0.954604</td>\n",
              "      <td>0.998933</td>\n",
              "      <td>0.01</td>\n",
              "    </tr>\n",
              "    <tr>\n",
              "      <th>106</th>\n",
              "      <td>1.000000</td>\n",
              "      <td>1.000000</td>\n",
              "      <td>0.00</td>\n",
              "    </tr>\n",
              "  </tbody>\n",
              "</table>\n",
              "<p>107 rows × 3 columns</p>\n",
              "</div>"
            ],
            "text/plain": [
              "     False Positive Rate  True Positive Rate  Threshold\n",
              "0               0.000000            0.000000       2.00\n",
              "1               0.000385            0.062652       1.00\n",
              "2               0.000641            0.114787       0.99\n",
              "3               0.000769            0.155793       0.98\n",
              "4               0.001282            0.196037       0.97\n",
              "..                   ...                 ...        ...\n",
              "102             0.882662            0.996341       0.04\n",
              "103             0.904976            0.997104       0.03\n",
              "104             0.930239            0.998171       0.02\n",
              "105             0.954604            0.998933       0.01\n",
              "106             1.000000            1.000000       0.00\n",
              "\n",
              "[107 rows x 3 columns]"
            ]
          },
          "metadata": {
            "tags": []
          },
          "execution_count": 53
        }
      ]
    },
    {
      "cell_type": "code",
      "metadata": {
        "id": "aequihajBaba",
        "colab": {
          "base_uri": "https://localhost:8080/",
          "height": 294
        },
        "outputId": "badeddd3-ae4f-45e6-8194-3709ed3721b0"
      },
      "source": [
        "# See the results on a plot. \n",
        "# This is the \"Receiver Operating Characteristic\" curve\n",
        "plt.scatter(fpr, tpr)\n",
        "plt.title('ROC curve')\n",
        "plt.xlabel('False Positive Rate')\n",
        "plt.ylabel('True Positive Rate');"
      ],
      "execution_count": null,
      "outputs": [
        {
          "output_type": "display_data",
          "data": {
            "image/png": "[encoded data removed]",
            "text/plain": [
              "<Figure size 432x288 with 1 Axes>"
            ]
          },
          "metadata": {
            "tags": [],
            "needs_background": "light"
          }
        }
      ]
    },
    {
      "cell_type": "code",
      "metadata": {
        "id": "M-oTvrypBaba",
        "colab": {
          "base_uri": "https://localhost:8080/"
        },
        "outputId": "b09448c5-89d1-4102-8bff-f280f88abbda"
      },
      "source": [
        "# Use scikit-learn to calculate the area under the curve.\n",
        "from sklearn.metrics import roc_auc_score # Area under the ROC curve\n",
        "roc_auc_score(y_val, y_pred_proba) # This metric is a lot better than the accuracy, because in a\n",
        "# way it encapsulats both my fp, tp (which is the essence of the precision and recall)"
      ],
      "execution_count": null,
      "outputs": [
        {
          "output_type": "execute_result",
          "data": {
            "text/plain": [
              "0.9024268359147749"
            ]
          },
          "metadata": {
            "tags": []
          },
          "execution_count": 56
        }
      ]
    },
    {
      "cell_type": "markdown",
      "metadata": {
        "id": "2v13j7W4Baba"
      },
      "source": [
        "**Recap:** ROC AUC measures how well a classifier ranks predicted probabilities. So, when you get your classifier’s ROC AUC score, you need to use predicted probabilities, not discrete predictions. \n",
        "\n",
        "Your code may look something like this:\n",
        "\n",
        "```python\n",
        "from sklearn.metrics import roc_auc_score\n",
        "y_pred_proba = model.predict_proba(X_test_transformed)[:, -1] # Probability for last class\n",
        "print('Test ROC AUC:', roc_auc_score(y_test, y_pred_proba))\n",
        "```\n",
        "\n",
        "ROC AUC ranges from 0 to 1. Higher is better. A naive majority class baseline will have an ROC AUC score of 0.5."
      ]
    },
    {
      "cell_type": "code",
      "metadata": {
        "id": "DYki-O3WfOjl"
      },
      "source": [
        ""
      ],
      "execution_count": null,
      "outputs": []
    }
  ]
}