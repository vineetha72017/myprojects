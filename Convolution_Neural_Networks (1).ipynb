{
  "nbformat": 4,
  "nbformat_minor": 0,
  "metadata": {
    "colab": {
      "provenance": []
    },
    "kernelspec": {
      "name": "python3",
      "display_name": "Python 3"
    },
    "language_info": {
      "name": "python"
    }
  },
  "cells": [
    {
      "cell_type": "code",
      "execution_count": 2,
      "metadata": {
        "id": "sqkfCiEp1_41"
      },
      "outputs": [],
      "source": [
        "import tensorflow as tf\n",
        "from tensorflow import keras\n",
        "from keras import datasets,layers,models\n",
        "import matplotlib.pyplot as plt\n",
        "import numpy as np"
      ]
    },
    {
      "cell_type": "code",
      "source": [
        "(X_train,y_train),(X_test,y_test)=datasets.cifar10.load_data()"
      ],
      "metadata": {
        "id": "f6k67Wck2hH0",
        "colab": {
          "base_uri": "https://localhost:8080/"
        },
        "outputId": "fa44ca99-200e-4f0a-cfb1-b218b7a6b232"
      },
      "execution_count": 3,
      "outputs": [
        {
          "output_type": "stream",
          "name": "stdout",
          "text": [
            "Downloading data from https://www.cs.toronto.edu/~kriz/cifar-10-python.tar.gz\n",
            "170498071/170498071 [==============================] - 2s 0us/step\n"
          ]
        }
      ]
    },
    {
      "cell_type": "code",
      "source": [
        "X_train.shape\n"
      ],
      "metadata": {
        "colab": {
          "base_uri": "https://localhost:8080/"
        },
        "id": "esj23W-W3HN6",
        "outputId": "6f859824-0d1f-4855-a63c-bcf2aa49c952"
      },
      "execution_count": 4,
      "outputs": [
        {
          "output_type": "execute_result",
          "data": {
            "text/plain": [
              "(50000, 32, 32, 3)"
            ]
          },
          "metadata": {},
          "execution_count": 4
        }
      ]
    },
    {
      "cell_type": "code",
      "source": [
        "X_test.shape"
      ],
      "metadata": {
        "colab": {
          "base_uri": "https://localhost:8080/"
        },
        "id": "OloKZ-2p3JLh",
        "outputId": "1ac32cca-fbfb-4f55-dfb1-c2ab6963d506"
      },
      "execution_count": 5,
      "outputs": [
        {
          "output_type": "execute_result",
          "data": {
            "text/plain": [
              "(10000, 32, 32, 3)"
            ]
          },
          "metadata": {},
          "execution_count": 5
        }
      ]
    },
    {
      "cell_type": "code",
      "source": [
        "y_train.shape"
      ],
      "metadata": {
        "colab": {
          "base_uri": "https://localhost:8080/"
        },
        "id": "eM1QH5B13OU9",
        "outputId": "82ed1234-dc86-497a-81ac-f35042ea6274"
      },
      "execution_count": 6,
      "outputs": [
        {
          "output_type": "execute_result",
          "data": {
            "text/plain": [
              "(50000, 1)"
            ]
          },
          "metadata": {},
          "execution_count": 6
        }
      ]
    },
    {
      "cell_type": "code",
      "source": [
        "y_train[:5]"
      ],
      "metadata": {
        "colab": {
          "base_uri": "https://localhost:8080/"
        },
        "id": "zIcB-0Ab3VIE",
        "outputId": "0714b2d8-a2cb-44a0-8a0e-dacf26d7ee95"
      },
      "execution_count": 7,
      "outputs": [
        {
          "output_type": "execute_result",
          "data": {
            "text/plain": [
              "array([[6],\n",
              "       [9],\n",
              "       [9],\n",
              "       [4],\n",
              "       [1]], dtype=uint8)"
            ]
          },
          "metadata": {},
          "execution_count": 7
        }
      ]
    },
    {
      "cell_type": "code",
      "source": [
        "y_train=y_train.reshape(-1,)"
      ],
      "metadata": {
        "id": "l-P4W0rc3epF"
      },
      "execution_count": 8,
      "outputs": []
    },
    {
      "cell_type": "code",
      "source": [
        "y_train\n"
      ],
      "metadata": {
        "colab": {
          "base_uri": "https://localhost:8080/"
        },
        "id": "VHeRKE6h3oWa",
        "outputId": "ccfbfa51-0a3b-47f1-bc0f-1443c74be5ee"
      },
      "execution_count": 9,
      "outputs": [
        {
          "output_type": "execute_result",
          "data": {
            "text/plain": [
              "array([6, 9, 9, ..., 9, 1, 1], dtype=uint8)"
            ]
          },
          "metadata": {},
          "execution_count": 9
        }
      ]
    },
    {
      "cell_type": "code",
      "source": [
        "y_test = y_test.reshape(-1,)\n",
        "y_test"
      ],
      "metadata": {
        "colab": {
          "base_uri": "https://localhost:8080/"
        },
        "id": "pQ8sIFXp3y21",
        "outputId": "753092b1-d104-4dc5-fc40-d5ae13f946b4"
      },
      "execution_count": 10,
      "outputs": [
        {
          "output_type": "execute_result",
          "data": {
            "text/plain": [
              "array([3, 8, 8, ..., 5, 1, 7], dtype=uint8)"
            ]
          },
          "metadata": {},
          "execution_count": 10
        }
      ]
    },
    {
      "cell_type": "code",
      "source": [
        "classes = [\"airplane\",\"automobile\",\"bird\",\"cat\",\"deer\",\"dog\",\"frog\",\"horse\",\"ship\",\"truck\"]\n"
      ],
      "metadata": {
        "id": "b8-MbpqA08hv"
      },
      "execution_count": 11,
      "outputs": []
    },
    {
      "cell_type": "code",
      "source": [
        "def plot_sample(X,y,index):\n",
        "  plt.figure(figsize=(15,2))\n",
        "  plt.imshow(X[index])\n",
        "  plt.xlabel(classes[y[index]])"
      ],
      "metadata": {
        "id": "7687QA351GMg"
      },
      "execution_count": 12,
      "outputs": []
    },
    {
      "cell_type": "code",
      "source": [
        "plot_sample(X_train,y_train,0)"
      ],
      "metadata": {
        "colab": {
          "base_uri": "https://localhost:8080/",
          "height": 237
        },
        "id": "kvQWrVM111zh",
        "outputId": "203a8602-f86a-44fc-cc98-6b1d2360fe48"
      },
      "execution_count": 13,
      "outputs": [
        {
          "output_type": "display_data",
          "data": {
            "text/plain": [
              "<Figure size 1500x200 with 1 Axes>"
            ],
            "image/png": "[encoded data removed]"
          },
          "metadata": {}
        }
      ]
    },
    {
      "cell_type": "code",
      "source": [
        "plot_sample(X_train, y_train, 1)\n"
      ],
      "metadata": {
        "colab": {
          "base_uri": "https://localhost:8080/",
          "height": 237
        },
        "id": "tC6nrMbZ2LGZ",
        "outputId": "6d3bfadf-58d4-4e21-b542-cc9e695e9759"
      },
      "execution_count": 14,
      "outputs": [
        {
          "output_type": "display_data",
          "data": {
            "text/plain": [
              "<Figure size 1500x200 with 1 Axes>"
            ],
            "image/png": "[encoded data removed]"
          },
          "metadata": {}
        }
      ]
    },
    {
      "cell_type": "code",
      "source": [
        "X_train = X_train / 255.0\n",
        "X_test = X_test / 255.0\n"
      ],
      "metadata": {
        "id": "YO1dpATW42Gx"
      },
      "execution_count": 15,
      "outputs": []
    },
    {
      "cell_type": "code",
      "source": [
        "X_train.shape"
      ],
      "metadata": {
        "colab": {
          "base_uri": "https://localhost:8080/"
        },
        "id": "Po80Xc-n5Haq",
        "outputId": "810ac599-b8e1-4495-945c-e50e09b420f9"
      },
      "execution_count": 16,
      "outputs": [
        {
          "output_type": "execute_result",
          "data": {
            "text/plain": [
              "(50000, 32, 32, 3)"
            ]
          },
          "metadata": {},
          "execution_count": 16
        }
      ]
    },
    {
      "cell_type": "code",
      "source": [
        "ann=models.Sequential([\n",
        "    layers.Flatten(input_shape=(32,32,3)),\n",
        "    layers.Dense(3000,activation='relu'),\n",
        "    layers.Dense(1000,activation='relu'),\n",
        "    layers.Dense(10,activation='softmax')\n",
        "\n",
        "])\n",
        "ann.compile(optimizer='SGD',loss='sparse_categorical_crossentropy',metrics=['accuracy'])\n"
      ],
      "metadata": {
        "id": "0-0LNh-m47NR"
      },
      "execution_count": 17,
      "outputs": []
    },
    {
      "cell_type": "code",
      "source": [
        "ann.fit(X_train,y_train,epochs=5)"
      ],
      "metadata": {
        "colab": {
          "base_uri": "https://localhost:8080/"
        },
        "id": "KI6kMvYp7zL8",
        "outputId": "327dd0a9-b0f3-4d32-feff-0d390b6bc004"
      },
      "execution_count": 18,
      "outputs": [
        {
          "output_type": "stream",
          "name": "stdout",
          "text": [
            "Epoch 1/5\n",
            "1563/1563 [==============================] - 141s 90ms/step - loss: 1.8125 - accuracy: 0.3526\n",
            "Epoch 2/5\n",
            "1563/1563 [==============================] - 133s 85ms/step - loss: 1.6221 - accuracy: 0.4267\n",
            "Epoch 3/5\n",
            "1563/1563 [==============================] - 133s 85ms/step - loss: 1.5423 - accuracy: 0.4555\n",
            "Epoch 4/5\n",
            "1563/1563 [==============================] - 133s 85ms/step - loss: 1.4805 - accuracy: 0.4784\n",
            "Epoch 5/5\n",
            "1563/1563 [==============================] - 133s 85ms/step - loss: 1.4311 - accuracy: 0.4964\n"
          ]
        },
        {
          "output_type": "execute_result",
          "data": {
            "text/plain": [
              "<keras.callbacks.History at 0x7d9a503663e0>"
            ]
          },
          "metadata": {},
          "execution_count": 18
        }
      ]
    },
    {
      "cell_type": "code",
      "source": [
        "from sklearn.metrics import confusion_matrix , classification_report\n",
        "import numpy as np\n",
        "y_pred = ann.predict(X_test)\n"
      ],
      "metadata": {
        "colab": {
          "base_uri": "https://localhost:8080/"
        },
        "id": "W8xTD5lSvq46",
        "outputId": "3f68de14-29b8-43d1-9783-1ec02bee49a9"
      },
      "execution_count": 19,
      "outputs": [
        {
          "output_type": "stream",
          "name": "stdout",
          "text": [
            "313/313 [==============================] - 8s 26ms/step\n"
          ]
        }
      ]
    },
    {
      "cell_type": "code",
      "source": [
        "y_pred"
      ],
      "metadata": {
        "colab": {
          "base_uri": "https://localhost:8080/"
        },
        "id": "mgnC3qdWzAr0",
        "outputId": "3df9f6a5-9ec4-4ff9-e969-ade0588b49a9"
      },
      "execution_count": 22,
      "outputs": [
        {
          "output_type": "execute_result",
          "data": {
            "text/plain": [
              "array([[1.9528020e-02, 6.4365372e-02, 1.1136861e-01, ..., 4.5102905e-03,\n",
              "        4.6728704e-02, 7.8218905e-03],\n",
              "       [2.9296992e-02, 1.2464993e-01, 2.8392859e-03, ..., 4.0458815e-04,\n",
              "        1.8259995e-01, 6.5653110e-01],\n",
              "       [2.4810775e-01, 1.1555395e-01, 9.4112242e-03, ..., 1.8642775e-03,\n",
              "        4.1411602e-01, 1.9802274e-01],\n",
              "       ...,\n",
              "       [1.5832769e-03, 1.2705601e-03, 8.4813394e-02, ..., 2.0599637e-02,\n",
              "        1.0551689e-02, 4.4715377e-03],\n",
              "       [3.0493256e-02, 2.8839421e-02, 1.5011309e-01, ..., 5.3450845e-02,\n",
              "        1.1240580e-02, 3.3587925e-02],\n",
              "       [4.9562212e-02, 2.0334609e-02, 7.3727272e-02, ..., 4.0012571e-01,\n",
              "        2.0355713e-02, 5.4638859e-02]], dtype=float32)"
            ]
          },
          "metadata": {},
          "execution_count": 22
        }
      ]
    },
    {
      "cell_type": "code",
      "source": [
        "y_pred_classes=[np.argmax(element) for element in y_pred]"
      ],
      "metadata": {
        "id": "YAAPL2bOyjBg"
      },
      "execution_count": 20,
      "outputs": []
    },
    {
      "cell_type": "code",
      "source": [
        "y_pred_classes"
      ],
      "metadata": {
        "colab": {
          "base_uri": "https://localhost:8080/"
        },
        "id": "Valtugdhy6Zn",
        "outputId": "e0d104ca-0b13-47b6-d356-7e2ce3cb430e"
      },
      "execution_count": 21,
      "outputs": [
        {
          "output_type": "execute_result",
          "data": {
            "text/plain": [
              "[3,\n",
              " 9,\n",
              " 8,\n",
              " 8,\n",
              " 4,\n",
              " 6,\n",
              " 3,\n",
              " 4,\n",
              " 5,\n",
              " 1,\n",
              " 0,\n",
              " 9,\n",
              " 5,\n",
              " 7,\n",
              " 1,\n",
              " 8,\n",
              " 5,\n",
              " 9,\n",
              " 8,\n",
              " 6,\n",
              " 9,\n",
              " 2,\n",
              " 0,\n",
              " 9,\n",
              " 4,\n",
              " 6,\n",
              " 6,\n",
              " 2,\n",
              " 9,\n",
              " 6,\n",
              " 6,\n",
              " 5,\n",
              " 5,\n",
              " 5,\n",
              " 9,\n",
              " 1,\n",
              " 5,\n",
              " 9,\n",
              " 9,\n",
              " 5,\n",
              " 0,\n",
              " 6,\n",
              " 9,\n",
              " 5,\n",
              " 0,\n",
              " 9,\n",
              " 5,\n",
              " 8,\n",
              " 4,\n",
              " 6,\n",
              " 9,\n",
              " 8,\n",
              " 5,\n",
              " 5,\n",
              " 8,\n",
              " 8,\n",
              " 5,\n",
              " 9,\n",
              " 5,\n",
              " 5,\n",
              " 7,\n",
              " 3,\n",
              " 1,\n",
              " 9,\n",
              " 6,\n",
              " 2,\n",
              " 1,\n",
              " 2,\n",
              " 5,\n",
              " 9,\n",
              " 5,\n",
              " 5,\n",
              " 8,\n",
              " 8,\n",
              " 9,\n",
              " 2,\n",
              " 9,\n",
              " 5,\n",
              " 3,\n",
              " 8,\n",
              " 8,\n",
              " 1,\n",
              " 1,\n",
              " 5,\n",
              " 5,\n",
              " 9,\n",
              " 2,\n",
              " 8,\n",
              " 8,\n",
              " 9,\n",
              " 0,\n",
              " 5,\n",
              " 8,\n",
              " 6,\n",
              " 7,\n",
              " 5,\n",
              " 4,\n",
              " 0,\n",
              " 5,\n",
              " 9,\n",
              " 5,\n",
              " 5,\n",
              " 5,\n",
              " 3,\n",
              " 1,\n",
              " 1,\n",
              " 5,\n",
              " 6,\n",
              " 8,\n",
              " 5,\n",
              " 6,\n",
              " 0,\n",
              " 6,\n",
              " 4,\n",
              " 9,\n",
              " 1,\n",
              " 0,\n",
              " 9,\n",
              " 2,\n",
              " 5,\n",
              " 8,\n",
              " 4,\n",
              " 9,\n",
              " 2,\n",
              " 0,\n",
              " 2,\n",
              " 8,\n",
              " 5,\n",
              " 3,\n",
              " 5,\n",
              " 4,\n",
              " 9,\n",
              " 9,\n",
              " 9,\n",
              " 1,\n",
              " 3,\n",
              " 9,\n",
              " 7,\n",
              " 6,\n",
              " 8,\n",
              " 5,\n",
              " 1,\n",
              " 9,\n",
              " 5,\n",
              " 1,\n",
              " 2,\n",
              " 5,\n",
              " 5,\n",
              " 5,\n",
              " 5,\n",
              " 8,\n",
              " 9,\n",
              " 8,\n",
              " 8,\n",
              " 0,\n",
              " 5,\n",
              " 5,\n",
              " 8,\n",
              " 5,\n",
              " 0,\n",
              " 2,\n",
              " 7,\n",
              " 5,\n",
              " 4,\n",
              " 9,\n",
              " 9,\n",
              " 8,\n",
              " 5,\n",
              " 9,\n",
              " 9,\n",
              " 9,\n",
              " 7,\n",
              " 9,\n",
              " 8,\n",
              " 9,\n",
              " 9,\n",
              " 8,\n",
              " 5,\n",
              " 5,\n",
              " 9,\n",
              " 9,\n",
              " 7,\n",
              " 6,\n",
              " 0,\n",
              " 5,\n",
              " 8,\n",
              " 6,\n",
              " 5,\n",
              " 9,\n",
              " 0,\n",
              " 5,\n",
              " 5,\n",
              " 5,\n",
              " 1,\n",
              " 5,\n",
              " 4,\n",
              " 8,\n",
              " 5,\n",
              " 7,\n",
              " 5,\n",
              " 5,\n",
              " 9,\n",
              " 8,\n",
              " 7,\n",
              " 1,\n",
              " 5,\n",
              " 0,\n",
              " 5,\n",
              " 7,\n",
              " 8,\n",
              " 5,\n",
              " 1,\n",
              " 5,\n",
              " 9,\n",
              " 9,\n",
              " 5,\n",
              " 8,\n",
              " 9,\n",
              " 0,\n",
              " 7,\n",
              " 5,\n",
              " 3,\n",
              " 9,\n",
              " 3,\n",
              " 9,\n",
              " 9,\n",
              " 9,\n",
              " 5,\n",
              " 3,\n",
              " 5,\n",
              " 5,\n",
              " 9,\n",
              " 9,\n",
              " 1,\n",
              " 8,\n",
              " 0,\n",
              " 4,\n",
              " 0,\n",
              " 5,\n",
              " 5,\n",
              " 1,\n",
              " 9,\n",
              " 7,\n",
              " 9,\n",
              " 0,\n",
              " 1,\n",
              " 7,\n",
              " 0,\n",
              " 5,\n",
              " 1,\n",
              " 5,\n",
              " 5,\n",
              " 9,\n",
              " 9,\n",
              " 6,\n",
              " 0,\n",
              " 5,\n",
              " 9,\n",
              " 8,\n",
              " 1,\n",
              " 5,\n",
              " 9,\n",
              " 6,\n",
              " 3,\n",
              " 0,\n",
              " 8,\n",
              " 3,\n",
              " 4,\n",
              " 7,\n",
              " 5,\n",
              " 5,\n",
              " 5,\n",
              " 5,\n",
              " 5,\n",
              " 9,\n",
              " 5,\n",
              " 9,\n",
              " 2,\n",
              " 5,\n",
              " 5,\n",
              " 9,\n",
              " 5,\n",
              " 5,\n",
              " 1,\n",
              " 9,\n",
              " 9,\n",
              " 1,\n",
              " 8,\n",
              " 7,\n",
              " 9,\n",
              " 1,\n",
              " 5,\n",
              " 5,\n",
              " 1,\n",
              " 3,\n",
              " 2,\n",
              " 4,\n",
              " 0,\n",
              " 0,\n",
              " 2,\n",
              " 6,\n",
              " 6,\n",
              " 2,\n",
              " 5,\n",
              " 5,\n",
              " 8,\n",
              " 9,\n",
              " 4,\n",
              " 1,\n",
              " 2,\n",
              " 8,\n",
              " 5,\n",
              " 0,\n",
              " 0,\n",
              " 3,\n",
              " 0,\n",
              " 5,\n",
              " 7,\n",
              " 5,\n",
              " 5,\n",
              " 5,\n",
              " 5,\n",
              " 6,\n",
              " 5,\n",
              " 5,\n",
              " 9,\n",
              " 4,\n",
              " 5,\n",
              " 9,\n",
              " 3,\n",
              " 4,\n",
              " 9,\n",
              " 6,\n",
              " 6,\n",
              " 6,\n",
              " 9,\n",
              " 3,\n",
              " 8,\n",
              " 0,\n",
              " 7,\n",
              " 5,\n",
              " 5,\n",
              " 0,\n",
              " 5,\n",
              " 8,\n",
              " 5,\n",
              " 7,\n",
              " 3,\n",
              " 8,\n",
              " 9,\n",
              " 1,\n",
              " 1,\n",
              " 9,\n",
              " 2,\n",
              " 5,\n",
              " 5,\n",
              " 5,\n",
              " 5,\n",
              " 1,\n",
              " 0,\n",
              " 9,\n",
              " 5,\n",
              " 8,\n",
              " 0,\n",
              " 9,\n",
              " 7,\n",
              " 9,\n",
              " 9,\n",
              " 0,\n",
              " 8,\n",
              " 6,\n",
              " 7,\n",
              " 9,\n",
              " 2,\n",
              " 1,\n",
              " 7,\n",
              " 8,\n",
              " 4,\n",
              " 8,\n",
              " 6,\n",
              " 6,\n",
              " 9,\n",
              " 0,\n",
              " 9,\n",
              " 2,\n",
              " 0,\n",
              " 7,\n",
              " 4,\n",
              " 2,\n",
              " 5,\n",
              " 1,\n",
              " 0,\n",
              " 6,\n",
              " 7,\n",
              " 5,\n",
              " 6,\n",
              " 2,\n",
              " 3,\n",
              " 0,\n",
              " 9,\n",
              " 9,\n",
              " 1,\n",
              " 6,\n",
              " 8,\n",
              " 8,\n",
              " 2,\n",
              " 0,\n",
              " 9,\n",
              " 8,\n",
              " 2,\n",
              " 8,\n",
              " 0,\n",
              " 5,\n",
              " 6,\n",
              " 9,\n",
              " 9,\n",
              " 5,\n",
              " 1,\n",
              " 1,\n",
              " 7,\n",
              " 7,\n",
              " 3,\n",
              " 8,\n",
              " 5,\n",
              " 5,\n",
              " 9,\n",
              " 5,\n",
              " 5,\n",
              " 9,\n",
              " 6,\n",
              " 5,\n",
              " 5,\n",
              " 5,\n",
              " 9,\n",
              " 5,\n",
              " 7,\n",
              " 3,\n",
              " 5,\n",
              " 5,\n",
              " 1,\n",
              " 2,\n",
              " 5,\n",
              " 9,\n",
              " 9,\n",
              " 5,\n",
              " 7,\n",
              " 5,\n",
              " 0,\n",
              " 2,\n",
              " 0,\n",
              " 9,\n",
              " 9,\n",
              " 7,\n",
              " 2,\n",
              " 9,\n",
              " 2,\n",
              " 2,\n",
              " 7,\n",
              " 3,\n",
              " 9,\n",
              " 5,\n",
              " 3,\n",
              " 1,\n",
              " 5,\n",
              " 9,\n",
              " 6,\n",
              " 7,\n",
              " 5,\n",
              " 5,\n",
              " 8,\n",
              " 5,\n",
              " 5,\n",
              " 8,\n",
              " 4,\n",
              " 5,\n",
              " 7,\n",
              " 6,\n",
              " 0,\n",
              " 5,\n",
              " 7,\n",
              " 9,\n",
              " 5,\n",
              " 8,\n",
              " 5,\n",
              " 9,\n",
              " 9,\n",
              " 9,\n",
              " 9,\n",
              " 5,\n",
              " 0,\n",
              " 1,\n",
              " 9,\n",
              " 0,\n",
              " 1,\n",
              " 8,\n",
              " 0,\n",
              " 9,\n",
              " 2,\n",
              " 2,\n",
              " 0,\n",
              " 6,\n",
              " 6,\n",
              " 5,\n",
              " 5,\n",
              " 9,\n",
              " 2,\n",
              " 3,\n",
              " 9,\n",
              " 1,\n",
              " 4,\n",
              " 5,\n",
              " 6,\n",
              " 6,\n",
              " 9,\n",
              " 5,\n",
              " 9,\n",
              " 8,\n",
              " 9,\n",
              " 9,\n",
              " 8,\n",
              " 5,\n",
              " 9,\n",
              " 0,\n",
              " 9,\n",
              " 0,\n",
              " 5,\n",
              " 5,\n",
              " 0,\n",
              " 0,\n",
              " 4,\n",
              " 9,\n",
              " 3,\n",
              " 1,\n",
              " 5,\n",
              " 6,\n",
              " 6,\n",
              " 6,\n",
              " 5,\n",
              " 9,\n",
              " 9,\n",
              " 1,\n",
              " 9,\n",
              " 6,\n",
              " 5,\n",
              " 5,\n",
              " 9,\n",
              " 9,\n",
              " 5,\n",
              " 5,\n",
              " 5,\n",
              " 5,\n",
              " 5,\n",
              " 9,\n",
              " 3,\n",
              " 9,\n",
              " 8,\n",
              " 6,\n",
              " 3,\n",
              " 3,\n",
              " 5,\n",
              " 0,\n",
              " 7,\n",
              " 5,\n",
              " 5,\n",
              " 4,\n",
              " 5,\n",
              " 9,\n",
              " 5,\n",
              " 9,\n",
              " 5,\n",
              " 6,\n",
              " 7,\n",
              " 1,\n",
              " 5,\n",
              " 5,\n",
              " 5,\n",
              " 8,\n",
              " 9,\n",
              " 7,\n",
              " 9,\n",
              " 4,\n",
              " 0,\n",
              " 0,\n",
              " 2,\n",
              " 0,\n",
              " 9,\n",
              " 5,\n",
              " 5,\n",
              " 8,\n",
              " 9,\n",
              " 6,\n",
              " 1,\n",
              " 2,\n",
              " 6,\n",
              " 9,\n",
              " 1,\n",
              " 5,\n",
              " 9,\n",
              " 3,\n",
              " 5,\n",
              " 8,\n",
              " 5,\n",
              " 0,\n",
              " 5,\n",
              " 1,\n",
              " 5,\n",
              " 5,\n",
              " 3,\n",
              " 3,\n",
              " 9,\n",
              " 6,\n",
              " 9,\n",
              " 8,\n",
              " 8,\n",
              " 5,\n",
              " 5,\n",
              " 3,\n",
              " 6,\n",
              " 9,\n",
              " 1,\n",
              " 7,\n",
              " 7,\n",
              " 1,\n",
              " 2,\n",
              " 7,\n",
              " 9,\n",
              " 9,\n",
              " 5,\n",
              " 7,\n",
              " 7,\n",
              " 8,\n",
              " 2,\n",
              " 3,\n",
              " 5,\n",
              " 7,\n",
              " 6,\n",
              " 9,\n",
              " 9,\n",
              " 8,\n",
              " 2,\n",
              " 3,\n",
              " 3,\n",
              " 8,\n",
              " 7,\n",
              " 0,\n",
              " 1,\n",
              " 5,\n",
              " 2,\n",
              " 5,\n",
              " 2,\n",
              " 3,\n",
              " 9,\n",
              " 5,\n",
              " 4,\n",
              " 9,\n",
              " 0,\n",
              " 1,\n",
              " 1,\n",
              " 4,\n",
              " 9,\n",
              " 9,\n",
              " 7,\n",
              " 7,\n",
              " 6,\n",
              " 5,\n",
              " 8,\n",
              " 5,\n",
              " 0,\n",
              " 9,\n",
              " 5,\n",
              " 6,\n",
              " 3,\n",
              " 5,\n",
              " 6,\n",
              " 2,\n",
              " 3,\n",
              " 2,\n",
              " 9,\n",
              " 5,\n",
              " 3,\n",
              " 9,\n",
              " 6,\n",
              " 9,\n",
              " 1,\n",
              " 9,\n",
              " 5,\n",
              " 8,\n",
              " 5,\n",
              " 6,\n",
              " 5,\n",
              " 5,\n",
              " 2,\n",
              " 0,\n",
              " 7,\n",
              " 8,\n",
              " 4,\n",
              " 8,\n",
              " 5,\n",
              " 7,\n",
              " 5,\n",
              " 9,\n",
              " 0,\n",
              " 6,\n",
              " 0,\n",
              " 5,\n",
              " 5,\n",
              " 0,\n",
              " 5,\n",
              " 8,\n",
              " 8,\n",
              " 5,\n",
              " 8,\n",
              " 8,\n",
              " 7,\n",
              " 5,\n",
              " 3,\n",
              " 5,\n",
              " 9,\n",
              " 2,\n",
              " 8,\n",
              " 9,\n",
              " 8,\n",
              " 8,\n",
              " 9,\n",
              " 9,\n",
              " 0,\n",
              " 1,\n",
              " 5,\n",
              " 6,\n",
              " 5,\n",
              " 5,\n",
              " 0,\n",
              " 7,\n",
              " 9,\n",
              " 5,\n",
              " 4,\n",
              " 0,\n",
              " 0,\n",
              " 1,\n",
              " 5,\n",
              " 5,\n",
              " 5,\n",
              " 9,\n",
              " 7,\n",
              " 9,\n",
              " 7,\n",
              " 6,\n",
              " 6,\n",
              " 2,\n",
              " 5,\n",
              " 9,\n",
              " 0,\n",
              " 9,\n",
              " 1,\n",
              " 2,\n",
              " 4,\n",
              " 6,\n",
              " 0,\n",
              " 8,\n",
              " 1,\n",
              " 9,\n",
              " 5,\n",
              " 0,\n",
              " 9,\n",
              " 1,\n",
              " 2,\n",
              " 4,\n",
              " 9,\n",
              " 5,\n",
              " 0,\n",
              " 5,\n",
              " 9,\n",
              " 5,\n",
              " 5,\n",
              " 0,\n",
              " 2,\n",
              " 5,\n",
              " 5,\n",
              " 4,\n",
              " 6,\n",
              " 9,\n",
              " 1,\n",
              " 4,\n",
              " 5,\n",
              " 7,\n",
              " 0,\n",
              " 5,\n",
              " 9,\n",
              " 2,\n",
              " 8,\n",
              " 5,\n",
              " 0,\n",
              " 0,\n",
              " 3,\n",
              " 7,\n",
              " 5,\n",
              " 5,\n",
              " 6,\n",
              " 5,\n",
              " 8,\n",
              " 7,\n",
              " 1,\n",
              " 0,\n",
              " 7,\n",
              " 2,\n",
              " 2,\n",
              " 0,\n",
              " 2,\n",
              " 2,\n",
              " 5,\n",
              " 5,\n",
              " 3,\n",
              " 7,\n",
              " 4,\n",
              " 8,\n",
              " 8,\n",
              " 9,\n",
              " 5,\n",
              " 4,\n",
              " 5,\n",
              " 8,\n",
              " 5,\n",
              " 9,\n",
              " 8,\n",
              " 7,\n",
              " 5,\n",
              " 5,\n",
              " 5,\n",
              " 5,\n",
              " 5,\n",
              " 8,\n",
              " 5,\n",
              " 2,\n",
              " 3,\n",
              " 4,\n",
              " 3,\n",
              " 9,\n",
              " 7,\n",
              " 9,\n",
              " 2,\n",
              " 7,\n",
              " 0,\n",
              " 7,\n",
              " 2,\n",
              " 7,\n",
              " 9,\n",
              " 7,\n",
              " 0,\n",
              " 2,\n",
              " 4,\n",
              " 5,\n",
              " 9,\n",
              " 9,\n",
              " 9,\n",
              " 0,\n",
              " 9,\n",
              " 9,\n",
              " 0,\n",
              " 7,\n",
              " 8,\n",
              " 4,\n",
              " 5,\n",
              " 3,\n",
              " 5,\n",
              " 0,\n",
              " 1,\n",
              " 9,\n",
              " 5,\n",
              " 9,\n",
              " 1,\n",
              " 3,\n",
              " 1,\n",
              " 4,\n",
              " 0,\n",
              " 3,\n",
              " 8,\n",
              " 4,\n",
              " 5,\n",
              " 8,\n",
              " 7,\n",
              " 8,\n",
              " 8,\n",
              " 5,\n",
              " 0,\n",
              " 9,\n",
              " 0,\n",
              " 9,\n",
              " 9,\n",
              " 5,\n",
              " 7,\n",
              " 3,\n",
              " 2,\n",
              " 5,\n",
              " 5,\n",
              " 1,\n",
              " 1,\n",
              " 3,\n",
              " 5,\n",
              " 3,\n",
              " 7,\n",
              " 2,\n",
              " 5,\n",
              " 6,\n",
              " 5,\n",
              " 8,\n",
              " 5,\n",
              " 9,\n",
              " 6,\n",
              " 8,\n",
              " 8,\n",
              " 5,\n",
              " 3,\n",
              " 3,\n",
              " 5,\n",
              " 3,\n",
              " 9,\n",
              " 9,\n",
              " 8,\n",
              " 8,\n",
              " 2,\n",
              " 6,\n",
              " 9,\n",
              " 9,\n",
              " 6,\n",
              " 5,\n",
              " 5,\n",
              " 9,\n",
              " 3,\n",
              " 0,\n",
              " 0,\n",
              " 4,\n",
              " 5,\n",
              " 5,\n",
              " 9,\n",
              " 7,\n",
              " 5,\n",
              " 2,\n",
              " 7,\n",
              " 1,\n",
              " 8,\n",
              " 1,\n",
              " 9,\n",
              " 7,\n",
              " 4,\n",
              " 8,\n",
              " 5,\n",
              " 0,\n",
              " 8,\n",
              " 5,\n",
              " 8,\n",
              " 5,\n",
              " 9,\n",
              " 5,\n",
              " 1,\n",
              " 4,\n",
              " 7,\n",
              " 0,\n",
              " 5,\n",
              " 8,\n",
              " 8,\n",
              " 9,\n",
              " 3,\n",
              " 9,\n",
              " 7,\n",
              " 5,\n",
              " 5,\n",
              " 3,\n",
              " 9,\n",
              " 1,\n",
              " 9,\n",
              " 9,\n",
              " 4,\n",
              " 2,\n",
              " 1,\n",
              " 2,\n",
              " 0,\n",
              " 8,\n",
              " 8,\n",
              " 1,\n",
              " 9,\n",
              " 5,\n",
              " 9,\n",
              " 5,\n",
              " 4,\n",
              " 7,\n",
              " 8,\n",
              " 5,\n",
              " 1,\n",
              " 2,\n",
              " 2,\n",
              " 1,\n",
              " 5,\n",
              " 0,\n",
              " 3,\n",
              " 5,\n",
              " 5,\n",
              " 9,\n",
              " 1,\n",
              " 5,\n",
              " 8,\n",
              " ...]"
            ]
          },
          "metadata": {},
          "execution_count": 21
        }
      ]
    },
    {
      "cell_type": "code",
      "source": [
        "print(\"Classification Report: \\n\", classification_report(y_test, y_pred_classes))\n"
      ],
      "metadata": {
        "colab": {
          "base_uri": "https://localhost:8080/"
        },
        "id": "M4xkqKrqzH1A",
        "outputId": "117fd13d-5c42-4eef-83e7-25bf5a5d1e4b"
      },
      "execution_count": 23,
      "outputs": [
        {
          "output_type": "stream",
          "name": "stdout",
          "text": [
            "Classification Report: \n",
            "               precision    recall  f1-score   support\n",
            "\n",
            "           0       0.61      0.52      0.56      1000\n",
            "           1       0.63      0.57      0.60      1000\n",
            "           2       0.43      0.28      0.34      1000\n",
            "           3       0.37      0.20      0.26      1000\n",
            "           4       0.56      0.23      0.32      1000\n",
            "           5       0.25      0.69      0.37      1000\n",
            "           6       0.63      0.35      0.45      1000\n",
            "           7       0.61      0.46      0.52      1000\n",
            "           8       0.63      0.60      0.62      1000\n",
            "           9       0.43      0.71      0.54      1000\n",
            "\n",
            "    accuracy                           0.46     10000\n",
            "   macro avg       0.51      0.46      0.46     10000\n",
            "weighted avg       0.51      0.46      0.46     10000\n",
            "\n"
          ]
        }
      ]
    },
    {
      "cell_type": "code",
      "source": [
        "cnn=models.Sequential([\n",
        "    layers.Conv2D(filters=32,kernel_size=(3,3),activation='relu',input_shape=(32,32,3)),\n",
        "    layers.MaxPooling2D((2,2)),\n",
        "    layers.Flatten(),\n",
        "    layers.Dense(64,activation='relu'),\n",
        "    layers.Dense(10,activation='softmax')\n",
        "])"
      ],
      "metadata": {
        "id": "7uZLoXomzP5C"
      },
      "execution_count": 25,
      "outputs": []
    },
    {
      "cell_type": "code",
      "source": [
        "cnn.compile(optimizer='adam',loss='sparse_categorical_crossentropy',metrics=['accuracy'])"
      ],
      "metadata": {
        "id": "EL8IFFLr0WKm"
      },
      "execution_count": 26,
      "outputs": []
    },
    {
      "cell_type": "code",
      "source": [
        "cnn.fit(X_train,y_train,epochs=5)"
      ],
      "metadata": {
        "colab": {
          "base_uri": "https://localhost:8080/"
        },
        "id": "WCCtxELr0x-R",
        "outputId": "4c41a4c8-4f57-4f41-c28b-937e3254f2c0"
      },
      "execution_count": 27,
      "outputs": [
        {
          "output_type": "stream",
          "name": "stdout",
          "text": [
            "Epoch 1/5\n",
            "1563/1563 [==============================] - 48s 30ms/step - loss: 1.5094 - accuracy: 0.4589\n",
            "Epoch 2/5\n",
            "1563/1563 [==============================] - 44s 28ms/step - loss: 1.2289 - accuracy: 0.5668\n",
            "Epoch 3/5\n",
            "1563/1563 [==============================] - 45s 29ms/step - loss: 1.1049 - accuracy: 0.6119\n",
            "Epoch 4/5\n",
            "1563/1563 [==============================] - 48s 30ms/step - loss: 1.0200 - accuracy: 0.6457\n",
            "Epoch 5/5\n",
            "1563/1563 [==============================] - 43s 27ms/step - loss: 0.9584 - accuracy: 0.6662\n"
          ]
        },
        {
          "output_type": "execute_result",
          "data": {
            "text/plain": [
              "<keras.callbacks.History at 0x7d99e60a6770>"
            ]
          },
          "metadata": {},
          "execution_count": 27
        }
      ]
    },
    {
      "cell_type": "code",
      "source": [
        "y_pred=cnn.predict(X_test)"
      ],
      "metadata": {
        "colab": {
          "base_uri": "https://localhost:8080/"
        },
        "id": "iVq9TCxU2FVS",
        "outputId": "0864a83d-29f8-4b15-a1f0-4db73d722474"
      },
      "execution_count": 28,
      "outputs": [
        {
          "output_type": "stream",
          "name": "stdout",
          "text": [
            "313/313 [==============================] - 5s 16ms/step\n"
          ]
        }
      ]
    },
    {
      "cell_type": "code",
      "source": [
        "y_pred[:5]"
      ],
      "metadata": {
        "colab": {
          "base_uri": "https://localhost:8080/"
        },
        "id": "zKQ_QMPe2OXT",
        "outputId": "ee2d2297-d1bb-4ca5-a982-abf7a6a60c5f"
      },
      "execution_count": 29,
      "outputs": [
        {
          "output_type": "execute_result",
          "data": {
            "text/plain": [
              "array([[4.28583380e-03, 9.67820597e-05, 3.05765327e-02, 4.61000472e-01,\n",
              "        6.20723236e-03, 3.29207927e-01, 1.55352876e-01, 1.33304286e-03,\n",
              "        1.02322735e-02, 1.70692708e-03],\n",
              "       [3.79497651e-03, 2.51643687e-01, 8.35303308e-06, 2.13578096e-06,\n",
              "        9.23894447e-07, 1.00871762e-06, 1.82161884e-07, 3.82056641e-07,\n",
              "        7.43569732e-01, 9.78582306e-04],\n",
              "       [4.79206413e-01, 5.93063496e-02, 1.89378094e-02, 3.51127586e-03,\n",
              "        1.55343511e-03, 1.76502310e-03, 2.20461530e-04, 1.55010400e-03,\n",
              "        4.11518186e-01, 2.24309377e-02],\n",
              "       [6.09824240e-01, 2.43318966e-03, 9.83169079e-02, 4.62523400e-04,\n",
              "        7.52352271e-03, 1.47904124e-04, 2.41287914e-03, 2.67725292e-04,\n",
              "        2.77128935e-01, 1.48223958e-03],\n",
              "       [1.85905446e-05, 2.39823803e-05, 1.52224991e-02, 3.00315823e-02,\n",
              "        6.22940242e-01, 2.50146016e-02, 3.06469321e-01, 7.51273183e-05,\n",
              "        1.87937534e-04, 1.62354008e-05]], dtype=float32)"
            ]
          },
          "metadata": {},
          "execution_count": 29
        }
      ]
    },
    {
      "cell_type": "code",
      "source": [
        "y_classes=[np.argmax(element) for element in y_pred]\n",
        "y_classes[:5]"
      ],
      "metadata": {
        "colab": {
          "base_uri": "https://localhost:8080/"
        },
        "id": "TkMuGtEQ2WiR",
        "outputId": "a56af70c-a0e9-4069-c1c4-3f6ae17719d3"
      },
      "execution_count": 30,
      "outputs": [
        {
          "output_type": "execute_result",
          "data": {
            "text/plain": [
              "[3, 8, 0, 0, 4]"
            ]
          },
          "metadata": {},
          "execution_count": 30
        }
      ]
    },
    {
      "cell_type": "code",
      "source": [
        "plot_sample(X_test, y_test, 5)\n"
      ],
      "metadata": {
        "colab": {
          "base_uri": "https://localhost:8080/",
          "height": 237
        },
        "id": "w7dJaivf2s1B",
        "outputId": "6499f633-93bd-408c-a81d-6ffbe5c730c3"
      },
      "execution_count": 41,
      "outputs": [
        {
          "output_type": "display_data",
          "data": {
            "text/plain": [
              "<Figure size 1500x200 with 1 Axes>"
            ],
            "image/png": "[encoded data removed]"
          },
          "metadata": {}
        }
      ]
    },
    {
      "cell_type": "code",
      "source": [
        "classes[y_classes[5]]"
      ],
      "metadata": {
        "colab": {
          "base_uri": "https://localhost:8080/",
          "height": 36
        },
        "id": "Ogmy4p0s2_Mv",
        "outputId": "719a1192-964e-4bcc-a64a-b4a526b00e8c"
      },
      "execution_count": 42,
      "outputs": [
        {
          "output_type": "execute_result",
          "data": {
            "text/plain": [
              "'frog'"
            ],
            "application/vnd.google.colaboratory.intrinsic+json": {
              "type": "string"
            }
          },
          "metadata": {},
          "execution_count": 42
        }
      ]
    }
  ]
}