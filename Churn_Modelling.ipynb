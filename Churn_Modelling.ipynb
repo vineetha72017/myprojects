{
  "nbformat": 4,
  "nbformat_minor": 0,
  "metadata": {
    "colab": {
      "provenance": []
    },
    "kernelspec": {
      "name": "python3",
      "display_name": "Python 3"
    },
    "language_info": {
      "name": "python"
    }
  },
  "cells": [
    {
      "cell_type": "code",
      "execution_count": 2,
      "metadata": {
        "id": "ivvJLb0DbhOs"
      },
      "outputs": [],
      "source": [
        "import pandas as pd\n",
        "import tensorflow as tf\n",
        "from tensorflow import keras\n",
        "import matplotlib.pyplot as plt\n",
        "%matplotlib inline"
      ]
    },
    {
      "cell_type": "code",
      "source": [
        "df=pd.read_csv('/content/Churn_Modelling.csv')"
      ],
      "metadata": {
        "id": "wfxdsaG9eeyp"
      },
      "execution_count": 42,
      "outputs": []
    },
    {
      "cell_type": "code",
      "source": [
        "df.head(5)"
      ],
      "metadata": {
        "colab": {
          "base_uri": "https://localhost:8080/",
          "height": 270
        },
        "id": "ePq2AGgtenab",
        "outputId": "901a69b0-0efd-4e5d-9247-d33fa0a2941b"
      },
      "execution_count": 43,
      "outputs": [
        {
          "output_type": "execute_result",
          "data": {
            "text/plain": [
              "   RowNumber  CustomerId   Surname  CreditScore Geography  Gender  Age  \\\n",
              "0          1    15634602  Hargrave          619    France  Female   42   \n",
              "1          2    15647311      Hill          608     Spain  Female   41   \n",
              "2          3    15619304      Onio          502    France  Female   42   \n",
              "3          4    15701354      Boni          699    France  Female   39   \n",
              "4          5    15737888  Mitchell          850     Spain  Female   43   \n",
              "\n",
              "   Tenure    Balance  NumOfProducts  HasCrCard  IsActiveMember  \\\n",
              "0       2       0.00              1          1               1   \n",
              "1       1   83807.86              1          0               1   \n",
              "2       8  159660.80              3          1               0   \n",
              "3       1       0.00              2          0               0   \n",
              "4       2  125510.82              1          1               1   \n",
              "\n",
              "   EstimatedSalary  Exited  \n",
              "0        101348.88       1  \n",
              "1        112542.58       0  \n",
              "2        113931.57       1  \n",
              "3         93826.63       0  \n",
              "4         79084.10       0  "
            ],
            "text/html": [
              "\n",
              "\n",
              "  <div id=\"df-2f7eb4a7-86ed-4374-a465-5e407a4ffcc5\">\n",
              "    <div class=\"colab-df-container\">\n",
              "      <div>\n",
              "<style scoped>\n",
              "    .dataframe tbody tr th:only-of-type {\n",
              "        vertical-align: middle;\n",
              "    }\n",
              "\n",
              "    .dataframe tbody tr th {\n",
              "        vertical-align: top;\n",
              "    }\n",
              "\n",
              "    .dataframe thead th {\n",
              "        text-align: right;\n",
              "    }\n",
              "</style>\n",
              "<table border=\"1\" class=\"dataframe\">\n",
              "  <thead>\n",
              "    <tr style=\"text-align: right;\">\n",
              "      <th></th>\n",
              "      <th>RowNumber</th>\n",
              "      <th>CustomerId</th>\n",
              "      <th>Surname</th>\n",
              "      <th>CreditScore</th>\n",
              "      <th>Geography</th>\n",
              "      <th>Gender</th>\n",
              "      <th>Age</th>\n",
              "      <th>Tenure</th>\n",
              "      <th>Balance</th>\n",
              "      <th>NumOfProducts</th>\n",
              "      <th>HasCrCard</th>\n",
              "      <th>IsActiveMember</th>\n",
              "      <th>EstimatedSalary</th>\n",
              "      <th>Exited</th>\n",
              "    </tr>\n",
              "  </thead>\n",
              "  <tbody>\n",
              "    <tr>\n",
              "      <th>0</th>\n",
              "      <td>1</td>\n",
              "      <td>15634602</td>\n",
              "      <td>Hargrave</td>\n",
              "      <td>619</td>\n",
              "      <td>France</td>\n",
              "      <td>Female</td>\n",
              "      <td>42</td>\n",
              "      <td>2</td>\n",
              "      <td>0.00</td>\n",
              "      <td>1</td>\n",
              "      <td>1</td>\n",
              "      <td>1</td>\n",
              "      <td>101348.88</td>\n",
              "      <td>1</td>\n",
              "    </tr>\n",
              "    <tr>\n",
              "      <th>1</th>\n",
              "      <td>2</td>\n",
              "      <td>15647311</td>\n",
              "      <td>Hill</td>\n",
              "      <td>608</td>\n",
              "      <td>Spain</td>\n",
              "      <td>Female</td>\n",
              "      <td>41</td>\n",
              "      <td>1</td>\n",
              "      <td>83807.86</td>\n",
              "      <td>1</td>\n",
              "      <td>0</td>\n",
              "      <td>1</td>\n",
              "      <td>112542.58</td>\n",
              "      <td>0</td>\n",
              "    </tr>\n",
              "    <tr>\n",
              "      <th>2</th>\n",
              "      <td>3</td>\n",
              "      <td>15619304</td>\n",
              "      <td>Onio</td>\n",
              "      <td>502</td>\n",
              "      <td>France</td>\n",
              "      <td>Female</td>\n",
              "      <td>42</td>\n",
              "      <td>8</td>\n",
              "      <td>159660.80</td>\n",
              "      <td>3</td>\n",
              "      <td>1</td>\n",
              "      <td>0</td>\n",
              "      <td>113931.57</td>\n",
              "      <td>1</td>\n",
              "    </tr>\n",
              "    <tr>\n",
              "      <th>3</th>\n",
              "      <td>4</td>\n",
              "      <td>15701354</td>\n",
              "      <td>Boni</td>\n",
              "      <td>699</td>\n",
              "      <td>France</td>\n",
              "      <td>Female</td>\n",
              "      <td>39</td>\n",
              "      <td>1</td>\n",
              "      <td>0.00</td>\n",
              "      <td>2</td>\n",
              "      <td>0</td>\n",
              "      <td>0</td>\n",
              "      <td>93826.63</td>\n",
              "      <td>0</td>\n",
              "    </tr>\n",
              "    <tr>\n",
              "      <th>4</th>\n",
              "      <td>5</td>\n",
              "      <td>15737888</td>\n",
              "      <td>Mitchell</td>\n",
              "      <td>850</td>\n",
              "      <td>Spain</td>\n",
              "      <td>Female</td>\n",
              "      <td>43</td>\n",
              "      <td>2</td>\n",
              "      <td>125510.82</td>\n",
              "      <td>1</td>\n",
              "      <td>1</td>\n",
              "      <td>1</td>\n",
              "      <td>79084.10</td>\n",
              "      <td>0</td>\n",
              "    </tr>\n",
              "  </tbody>\n",
              "</table>\n",
              "</div>\n",
              "      <button class=\"colab-df-convert\" onclick=\"convertToInteractive('df-2f7eb4a7-86ed-4374-a465-5e407a4ffcc5')\"\n",
              "              title=\"Convert this dataframe to an interactive table.\"\n",
              "              style=\"display:none;\">\n",
              "\n",
              "  <svg xmlns=\"http://www.w3.org/2000/svg\" height=\"24px\"viewBox=\"0 0 24 24\"\n",
              "       width=\"24px\">\n",
              "    <path d=\"M0 0h24v24H0V0z\" fill=\"none\"/>\n",
              "    <path d=\"M18.56 5.44l.94 2.06.94-2.06 2.06-.94-2.06-.94-.94-2.06-.94 2.06-2.06.94zm-11 1L8.5 8.5l.94-2.06 2.06-.94-2.06-.94L8.5 2.5l-.94 2.06-2.06.94zm10 10l.94 2.06.94-2.06 2.06-.94-2.06-.94-.94-2.06-.94 2.06-2.06.94z\"/><path d=\"M17.41 7.96l-1.37-1.37c-.4-.4-.92-.59-1.43-.59-.52 0-1.04.2-1.43.59L10.3 9.45l-7.72 7.72c-.78.78-.78 2.05 0 2.83L4 21.41c.39.39.9.59 1.41.59.51 0 1.02-.2 1.41-.59l7.78-7.78 2.81-2.81c.8-.78.8-2.07 0-2.86zM5.41 20L4 18.59l7.72-7.72 1.47 1.35L5.41 20z\"/>\n",
              "  </svg>\n",
              "      </button>\n",
              "\n",
              "\n",
              "\n",
              "    <div id=\"df-0217f65e-de58-43e0-82cb-ec87d8be015b\">\n",
              "      <button class=\"colab-df-quickchart\" onclick=\"quickchart('df-0217f65e-de58-43e0-82cb-ec87d8be015b')\"\n",
              "              title=\"Suggest charts.\"\n",
              "              style=\"display:none;\">\n",
              "\n",
              "<svg xmlns=\"http://www.w3.org/2000/svg\" height=\"24px\"viewBox=\"0 0 24 24\"\n",
              "     width=\"24px\">\n",
              "    <g>\n",
              "        <path d=\"M19 3H5c-1.1 0-2 .9-2 2v14c0 1.1.9 2 2 2h14c1.1 0 2-.9 2-2V5c0-1.1-.9-2-2-2zM9 17H7v-7h2v7zm4 0h-2V7h2v10zm4 0h-2v-4h2v4z\"/>\n",
              "    </g>\n",
              "</svg>\n",
              "      </button>\n",
              "    </div>\n",
              "\n",
              "<style>\n",
              "  .colab-df-quickchart {\n",
              "    background-color: #E8F0FE;\n",
              "    border: none;\n",
              "    border-radius: 50%;\n",
              "    cursor: pointer;\n",
              "    display: none;\n",
              "    fill: #1967D2;\n",
              "    height: 32px;\n",
              "    padding: 0 0 0 0;\n",
              "    width: 32px;\n",
              "  }\n",
              "\n",
              "  .colab-df-quickchart:hover {\n",
              "    background-color: #E2EBFA;\n",
              "    box-shadow: 0px 1px 2px rgba(60, 64, 67, 0.3), 0px 1px 3px 1px rgba(60, 64, 67, 0.15);\n",
              "    fill: #174EA6;\n",
              "  }\n",
              "\n",
              "  [theme=dark] .colab-df-quickchart {\n",
              "    background-color: #3B4455;\n",
              "    fill: #D2E3FC;\n",
              "  }\n",
              "\n",
              "  [theme=dark] .colab-df-quickchart:hover {\n",
              "    background-color: #434B5C;\n",
              "    box-shadow: 0px 1px 3px 1px rgba(0, 0, 0, 0.15);\n",
              "    filter: drop-shadow(0px 1px 2px rgba(0, 0, 0, 0.3));\n",
              "    fill: #FFFFFF;\n",
              "  }\n",
              "</style>\n",
              "\n",
              "    <script>\n",
              "      async function quickchart(key) {\n",
              "        const containerElement = document.querySelector('#' + key);\n",
              "        const charts = await google.colab.kernel.invokeFunction(\n",
              "            'suggestCharts', [key], {});\n",
              "      }\n",
              "    </script>\n",
              "\n",
              "      <script>\n",
              "\n",
              "function displayQuickchartButton(domScope) {\n",
              "  let quickchartButtonEl =\n",
              "    domScope.querySelector('#df-0217f65e-de58-43e0-82cb-ec87d8be015b button.colab-df-quickchart');\n",
              "  quickchartButtonEl.style.display =\n",
              "    google.colab.kernel.accessAllowed ? 'block' : 'none';\n",
              "}\n",
              "\n",
              "        displayQuickchartButton(document);\n",
              "      </script>\n",
              "      <style>\n",
              "    .colab-df-container {\n",
              "      display:flex;\n",
              "      flex-wrap:wrap;\n",
              "      gap: 12px;\n",
              "    }\n",
              "\n",
              "    .colab-df-convert {\n",
              "      background-color: #E8F0FE;\n",
              "      border: none;\n",
              "      border-radius: 50%;\n",
              "      cursor: pointer;\n",
              "      display: none;\n",
              "      fill: #1967D2;\n",
              "      height: 32px;\n",
              "      padding: 0 0 0 0;\n",
              "      width: 32px;\n",
              "    }\n",
              "\n",
              "    .colab-df-convert:hover {\n",
              "      background-color: #E2EBFA;\n",
              "      box-shadow: 0px 1px 2px rgba(60, 64, 67, 0.3), 0px 1px 3px 1px rgba(60, 64, 67, 0.15);\n",
              "      fill: #174EA6;\n",
              "    }\n",
              "\n",
              "    [theme=dark] .colab-df-convert {\n",
              "      background-color: #3B4455;\n",
              "      fill: #D2E3FC;\n",
              "    }\n",
              "\n",
              "    [theme=dark] .colab-df-convert:hover {\n",
              "      background-color: #434B5C;\n",
              "      box-shadow: 0px 1px 3px 1px rgba(0, 0, 0, 0.15);\n",
              "      filter: drop-shadow(0px 1px 2px rgba(0, 0, 0, 0.3));\n",
              "      fill: #FFFFFF;\n",
              "    }\n",
              "  </style>\n",
              "\n",
              "      <script>\n",
              "        const buttonEl =\n",
              "          document.querySelector('#df-2f7eb4a7-86ed-4374-a465-5e407a4ffcc5 button.colab-df-convert');\n",
              "        buttonEl.style.display =\n",
              "          google.colab.kernel.accessAllowed ? 'block' : 'none';\n",
              "\n",
              "        async function convertToInteractive(key) {\n",
              "          const element = document.querySelector('#df-2f7eb4a7-86ed-4374-a465-5e407a4ffcc5');\n",
              "          const dataTable =\n",
              "            await google.colab.kernel.invokeFunction('convertToInteractive',\n",
              "                                                     [key], {});\n",
              "          if (!dataTable) return;\n",
              "\n",
              "          const docLinkHtml = 'Like what you see? Visit the ' +\n",
              "            '<a target=\"_blank\" href=https://colab.research.google.com/notebooks/data_table.ipynb>data table notebook</a>'\n",
              "            + ' to learn more about interactive tables.';\n",
              "          element.innerHTML = '';\n",
              "          dataTable['output_type'] = 'display_data';\n",
              "          await google.colab.output.renderOutput(dataTable, element);\n",
              "          const docLink = document.createElement('div');\n",
              "          docLink.innerHTML = docLinkHtml;\n",
              "          element.appendChild(docLink);\n",
              "        }\n",
              "      </script>\n",
              "    </div>\n",
              "  </div>\n"
            ]
          },
          "metadata": {},
          "execution_count": 43
        }
      ]
    },
    {
      "cell_type": "code",
      "source": [
        "df.dtypes"
      ],
      "metadata": {
        "colab": {
          "base_uri": "https://localhost:8080/"
        },
        "id": "DZAzeUh_fLOs",
        "outputId": "72776479-fadd-4a68-edf6-fb42b6a91eee"
      },
      "execution_count": 44,
      "outputs": [
        {
          "output_type": "execute_result",
          "data": {
            "text/plain": [
              "RowNumber            int64\n",
              "CustomerId           int64\n",
              "Surname             object\n",
              "CreditScore          int64\n",
              "Geography           object\n",
              "Gender              object\n",
              "Age                  int64\n",
              "Tenure               int64\n",
              "Balance            float64\n",
              "NumOfProducts        int64\n",
              "HasCrCard            int64\n",
              "IsActiveMember       int64\n",
              "EstimatedSalary    float64\n",
              "Exited               int64\n",
              "dtype: object"
            ]
          },
          "metadata": {},
          "execution_count": 44
        }
      ]
    },
    {
      "cell_type": "code",
      "source": [
        "df.drop('RowNumber',axis=1,inplace=True)"
      ],
      "metadata": {
        "id": "Wf66MbP6G7RT"
      },
      "execution_count": 45,
      "outputs": []
    },
    {
      "cell_type": "code",
      "source": [
        "df.drop('CustomerId',axis=1,inplace=True)"
      ],
      "metadata": {
        "id": "PHaG_ResGz0d"
      },
      "execution_count": 46,
      "outputs": []
    },
    {
      "cell_type": "code",
      "source": [
        "df.drop('Surname',axis=1,inplace=True)"
      ],
      "metadata": {
        "id": "zdCTEFnNhr-u"
      },
      "execution_count": 47,
      "outputs": []
    },
    {
      "cell_type": "code",
      "source": [
        "df['Geography'].value_counts()"
      ],
      "metadata": {
        "colab": {
          "base_uri": "https://localhost:8080/"
        },
        "id": "vDnuOESlh-hq",
        "outputId": "2d537110-ca4f-4399-f351-b5b3f149d61d"
      },
      "execution_count": 48,
      "outputs": [
        {
          "output_type": "execute_result",
          "data": {
            "text/plain": [
              "France     5014\n",
              "Germany    2509\n",
              "Spain      2477\n",
              "Name: Geography, dtype: int64"
            ]
          },
          "metadata": {},
          "execution_count": 48
        }
      ]
    },
    {
      "cell_type": "code",
      "source": [
        "df=pd.get_dummies(data=df,columns=['Geography'])"
      ],
      "metadata": {
        "id": "AFLd9LW5iHoU"
      },
      "execution_count": 49,
      "outputs": []
    },
    {
      "cell_type": "code",
      "source": [
        "df.columns"
      ],
      "metadata": {
        "colab": {
          "base_uri": "https://localhost:8080/"
        },
        "id": "K7iPCLSEjK_U",
        "outputId": "62a8e9eb-39fe-4dac-c7af-9126ffca9fac"
      },
      "execution_count": 50,
      "outputs": [
        {
          "output_type": "execute_result",
          "data": {
            "text/plain": [
              "Index(['CreditScore', 'Gender', 'Age', 'Tenure', 'Balance', 'NumOfProducts',\n",
              "       'HasCrCard', 'IsActiveMember', 'EstimatedSalary', 'Exited',\n",
              "       'Geography_France', 'Geography_Germany', 'Geography_Spain'],\n",
              "      dtype='object')"
            ]
          },
          "metadata": {},
          "execution_count": 50
        }
      ]
    },
    {
      "cell_type": "code",
      "source": [
        "def print_unique_df(df):\n",
        "  for col in df:\n",
        "    print(f'{col}:{df[col].unique()}')"
      ],
      "metadata": {
        "id": "oaRjrmihjTvF"
      },
      "execution_count": 51,
      "outputs": []
    },
    {
      "cell_type": "code",
      "source": [
        "print_unique_df(df)"
      ],
      "metadata": {
        "colab": {
          "base_uri": "https://localhost:8080/"
        },
        "id": "6Uq2h6_zjuMX",
        "outputId": "c61897d1-043a-413f-ac53-23a7adea66cf"
      },
      "execution_count": 52,
      "outputs": [
        {
          "output_type": "stream",
          "name": "stdout",
          "text": [
            "CreditScore:[619 608 502 699 850 645 822 376 501 684 528 497 476 549 635 616 653 587\n",
            " 726 732 636 510 669 846 577 756 571 574 411 591 533 553 520 722 475 490\n",
            " 804 582 472 465 556 834 660 776 829 637 550 698 585 788 655 601 656 725\n",
            " 511 614 742 687 555 603 751 581 735 661 675 738 813 657 604 519 664 678\n",
            " 757 416 665 777 543 506 493 652 750 729 646 647 808 524 769 730 515 773\n",
            " 814 710 413 623 670 622 785 605 479 685 538 562 721 628 668 828 674 625\n",
            " 432 770 758 795 686 789 589 461 584 579 663 682 793 691 485 650 754 535\n",
            " 716 539 706 586 631 717 800 683 704 615 667 484 480 578 512 606 597 778\n",
            " 514 525 715 580 807 521 759 516 711 618 643 671 689 620 676 572 695 592\n",
            " 567 694 547 594 673 610 767 763 712 703 662 659 523 772 545 634 739 771\n",
            " 681 544 696 766 727 693 557 531 498 651 791 733 811 707 714 782 775 799\n",
            " 602 744 588 747 583 627 731 629 438 642 806 474 559 429 680 749 734 644\n",
            " 626 649 805 718 840 630 654 762 568 613 522 737 648 443 640 540 460 593\n",
            " 801 611 802 745 483 690 492 709 705 560 752 701 537 487 596 702 486 724\n",
            " 548 464 790 534 748 494 590 468 509 818 816 536 753 774 621 569 658 798\n",
            " 641 542 692 639 765 570 638 599 632 779 527 564 833 504 842 508 417 598\n",
            " 741 607 761 848 546 439 755 760 526 713 700 666 566 495 688 612 477 427\n",
            " 839 819 720 459 503 624 529 563 482 796 445 746 786 554 672 787 499 844\n",
            " 450 815 838 803 736 633 600 679 517 792 743 488 421 841 708 507 505 456\n",
            " 435 561 518 565 728 784 552 609 764 697 723 551 444 719 496 541 830 812\n",
            " 677 420 595 617 809 500 826 434 513 478 797 363 399 463 780 452 575 837\n",
            " 794 824 428 823 781 849 489 431 457 768 831 359 820 573 576 558 817 449\n",
            " 440 415 821 530 350 446 425 740 481 783 358 845 451 458 469 423 404 836\n",
            " 473 835 466 491 351 827 843 365 532 414 453 471 401 810 832 470 447 422\n",
            " 825 430 436 426 408 847 418 437 410 454 407 455 462 386 405 383 395 467\n",
            " 433 442 424 448 441 367 412 382 373 419]\n",
            "Gender:['Female' 'Male']\n",
            "Age:[42 41 39 43 44 50 29 27 31 24 34 25 35 45 58 32 38 46 36 33 40 51 61 49\n",
            " 37 19 66 56 26 21 55 75 22 30 28 65 48 52 57 73 47 54 72 20 67 79 62 53\n",
            " 80 59 68 23 60 70 63 64 18 82 69 74 71 76 77 88 85 84 78 81 92 83]\n",
            "Tenure:[ 2  1  8  7  4  6  3 10  5  9  0]\n",
            "Balance:[     0.    83807.86 159660.8  ...  57369.61  75075.31 130142.79]\n",
            "NumOfProducts:[1 3 2 4]\n",
            "HasCrCard:[1 0]\n",
            "IsActiveMember:[1 0]\n",
            "EstimatedSalary:[101348.88 112542.58 113931.57 ...  42085.58  92888.52  38190.78]\n",
            "Exited:[1 0]\n",
            "Geography_France:[1 0]\n",
            "Geography_Germany:[0 1]\n",
            "Geography_Spain:[0 1]\n"
          ]
        }
      ]
    },
    {
      "cell_type": "code",
      "source": [],
      "metadata": {
        "id": "uJVrG2BXkJUG"
      },
      "execution_count": 88,
      "outputs": []
    },
    {
      "cell_type": "code",
      "source": [
        "print_unique_df(df)"
      ],
      "metadata": {
        "colab": {
          "base_uri": "https://localhost:8080/"
        },
        "id": "QgqR02O2kUS1",
        "outputId": "0ecccb2c-b7ab-4ef5-f003-1a6a0552ce0f"
      },
      "execution_count": 54,
      "outputs": [
        {
          "output_type": "stream",
          "name": "stdout",
          "text": [
            "CreditScore:[619 608 502 699 850 645 822 376 501 684 528 497 476 549 635 616 653 587\n",
            " 726 732 636 510 669 846 577 756 571 574 411 591 533 553 520 722 475 490\n",
            " 804 582 472 465 556 834 660 776 829 637 550 698 585 788 655 601 656 725\n",
            " 511 614 742 687 555 603 751 581 735 661 675 738 813 657 604 519 664 678\n",
            " 757 416 665 777 543 506 493 652 750 729 646 647 808 524 769 730 515 773\n",
            " 814 710 413 623 670 622 785 605 479 685 538 562 721 628 668 828 674 625\n",
            " 432 770 758 795 686 789 589 461 584 579 663 682 793 691 485 650 754 535\n",
            " 716 539 706 586 631 717 800 683 704 615 667 484 480 578 512 606 597 778\n",
            " 514 525 715 580 807 521 759 516 711 618 643 671 689 620 676 572 695 592\n",
            " 567 694 547 594 673 610 767 763 712 703 662 659 523 772 545 634 739 771\n",
            " 681 544 696 766 727 693 557 531 498 651 791 733 811 707 714 782 775 799\n",
            " 602 744 588 747 583 627 731 629 438 642 806 474 559 429 680 749 734 644\n",
            " 626 649 805 718 840 630 654 762 568 613 522 737 648 443 640 540 460 593\n",
            " 801 611 802 745 483 690 492 709 705 560 752 701 537 487 596 702 486 724\n",
            " 548 464 790 534 748 494 590 468 509 818 816 536 753 774 621 569 658 798\n",
            " 641 542 692 639 765 570 638 599 632 779 527 564 833 504 842 508 417 598\n",
            " 741 607 761 848 546 439 755 760 526 713 700 666 566 495 688 612 477 427\n",
            " 839 819 720 459 503 624 529 563 482 796 445 746 786 554 672 787 499 844\n",
            " 450 815 838 803 736 633 600 679 517 792 743 488 421 841 708 507 505 456\n",
            " 435 561 518 565 728 784 552 609 764 697 723 551 444 719 496 541 830 812\n",
            " 677 420 595 617 809 500 826 434 513 478 797 363 399 463 780 452 575 837\n",
            " 794 824 428 823 781 849 489 431 457 768 831 359 820 573 576 558 817 449\n",
            " 440 415 821 530 350 446 425 740 481 783 358 845 451 458 469 423 404 836\n",
            " 473 835 466 491 351 827 843 365 532 414 453 471 401 810 832 470 447 422\n",
            " 825 430 436 426 408 847 418 437 410 454 407 455 462 386 405 383 395 467\n",
            " 433 442 424 448 441 367 412 382 373 419]\n",
            "Gender:['Female' 'Male']\n",
            "Age:[42 41 39 43 44 50 29 27 31 24 34 25 35 45 58 32 38 46 36 33 40 51 61 49\n",
            " 37 19 66 56 26 21 55 75 22 30 28 65 48 52 57 73 47 54 72 20 67 79 62 53\n",
            " 80 59 68 23 60 70 63 64 18 82 69 74 71 76 77 88 85 84 78 81 92 83]\n",
            "Tenure:[ 2  1  8  7  4  6  3 10  5  9  0]\n",
            "Balance:[     0.    83807.86 159660.8  ...  57369.61  75075.31 130142.79]\n",
            "NumOfProducts:[1 3 2 4]\n",
            "HasCrCard:[1 0]\n",
            "IsActiveMember:[1 0]\n",
            "EstimatedSalary:[101348.88 112542.58 113931.57 ...  42085.58  92888.52  38190.78]\n",
            "Exited:[1 0]\n",
            "Geography_France:[1 0]\n",
            "Geography_Germany:[0 1]\n",
            "Geography_Spain:[0 1]\n"
          ]
        }
      ]
    },
    {
      "cell_type": "code",
      "source": [
        "cols_to_scale = ['Balance','EstimatedSalary']\n",
        "from sklearn.preprocessing import MinMaxScaler\n",
        "scaler = MinMaxScaler()\n",
        "df[cols_to_scale]=scaler.fit_transform(df[cols_to_scale])\n"
      ],
      "metadata": {
        "id": "Rmh5gggIkcDn"
      },
      "execution_count": 55,
      "outputs": []
    },
    {
      "cell_type": "code",
      "source": [
        "for col in df:\n",
        "  print(f'{col}:{df[col].unique()}')"
      ],
      "metadata": {
        "colab": {
          "base_uri": "https://localhost:8080/"
        },
        "id": "WuOhItJbk65l",
        "outputId": "40a76ad6-ac35-4264-c23d-230a20d9b317"
      },
      "execution_count": 56,
      "outputs": [
        {
          "output_type": "stream",
          "name": "stdout",
          "text": [
            "CreditScore:[619 608 502 699 850 645 822 376 501 684 528 497 476 549 635 616 653 587\n",
            " 726 732 636 510 669 846 577 756 571 574 411 591 533 553 520 722 475 490\n",
            " 804 582 472 465 556 834 660 776 829 637 550 698 585 788 655 601 656 725\n",
            " 511 614 742 687 555 603 751 581 735 661 675 738 813 657 604 519 664 678\n",
            " 757 416 665 777 543 506 493 652 750 729 646 647 808 524 769 730 515 773\n",
            " 814 710 413 623 670 622 785 605 479 685 538 562 721 628 668 828 674 625\n",
            " 432 770 758 795 686 789 589 461 584 579 663 682 793 691 485 650 754 535\n",
            " 716 539 706 586 631 717 800 683 704 615 667 484 480 578 512 606 597 778\n",
            " 514 525 715 580 807 521 759 516 711 618 643 671 689 620 676 572 695 592\n",
            " 567 694 547 594 673 610 767 763 712 703 662 659 523 772 545 634 739 771\n",
            " 681 544 696 766 727 693 557 531 498 651 791 733 811 707 714 782 775 799\n",
            " 602 744 588 747 583 627 731 629 438 642 806 474 559 429 680 749 734 644\n",
            " 626 649 805 718 840 630 654 762 568 613 522 737 648 443 640 540 460 593\n",
            " 801 611 802 745 483 690 492 709 705 560 752 701 537 487 596 702 486 724\n",
            " 548 464 790 534 748 494 590 468 509 818 816 536 753 774 621 569 658 798\n",
            " 641 542 692 639 765 570 638 599 632 779 527 564 833 504 842 508 417 598\n",
            " 741 607 761 848 546 439 755 760 526 713 700 666 566 495 688 612 477 427\n",
            " 839 819 720 459 503 624 529 563 482 796 445 746 786 554 672 787 499 844\n",
            " 450 815 838 803 736 633 600 679 517 792 743 488 421 841 708 507 505 456\n",
            " 435 561 518 565 728 784 552 609 764 697 723 551 444 719 496 541 830 812\n",
            " 677 420 595 617 809 500 826 434 513 478 797 363 399 463 780 452 575 837\n",
            " 794 824 428 823 781 849 489 431 457 768 831 359 820 573 576 558 817 449\n",
            " 440 415 821 530 350 446 425 740 481 783 358 845 451 458 469 423 404 836\n",
            " 473 835 466 491 351 827 843 365 532 414 453 471 401 810 832 470 447 422\n",
            " 825 430 436 426 408 847 418 437 410 454 407 455 462 386 405 383 395 467\n",
            " 433 442 424 448 441 367 412 382 373 419]\n",
            "Gender:['Female' 'Male']\n",
            "Age:[42 41 39 43 44 50 29 27 31 24 34 25 35 45 58 32 38 46 36 33 40 51 61 49\n",
            " 37 19 66 56 26 21 55 75 22 30 28 65 48 52 57 73 47 54 72 20 67 79 62 53\n",
            " 80 59 68 23 60 70 63 64 18 82 69 74 71 76 77 88 85 84 78 81 92 83]\n",
            "Tenure:[ 2  1  8  7  4  6  3 10  5  9  0]\n",
            "Balance:[0.         0.33403148 0.63635718 ... 0.22865702 0.29922631 0.51870777]\n",
            "NumOfProducts:[1 3 2 4]\n",
            "HasCrCard:[1 0]\n",
            "IsActiveMember:[1 0]\n",
            "EstimatedSalary:[0.50673489 0.56270874 0.56965435 ... 0.21039009 0.46442905 0.19091423]\n",
            "Exited:[1 0]\n",
            "Geography_France:[1 0]\n",
            "Geography_Germany:[0 1]\n",
            "Geography_Spain:[0 1]\n"
          ]
        }
      ]
    },
    {
      "cell_type": "code",
      "source": [
        "df.replace({'Female':1,'Male':0},inplace=True)"
      ],
      "metadata": {
        "id": "o9_wOsBMlC0u"
      },
      "execution_count": 57,
      "outputs": []
    },
    {
      "cell_type": "code",
      "source": [
        "df['Gender']"
      ],
      "metadata": {
        "colab": {
          "base_uri": "https://localhost:8080/"
        },
        "id": "GUBNbUCCncf1",
        "outputId": "cf6558fd-957c-460e-9677-07b6ba22ce41"
      },
      "execution_count": 58,
      "outputs": [
        {
          "output_type": "execute_result",
          "data": {
            "text/plain": [
              "0       1\n",
              "1       1\n",
              "2       1\n",
              "3       1\n",
              "4       1\n",
              "       ..\n",
              "9995    0\n",
              "9996    0\n",
              "9997    1\n",
              "9998    0\n",
              "9999    1\n",
              "Name: Gender, Length: 10000, dtype: int64"
            ]
          },
          "metadata": {},
          "execution_count": 58
        }
      ]
    },
    {
      "cell_type": "code",
      "source": [
        "df['Gender']=pd.to_numeric(df.Gender)"
      ],
      "metadata": {
        "id": "ydG7oa5qomoe"
      },
      "execution_count": 59,
      "outputs": []
    },
    {
      "cell_type": "code",
      "source": [
        "df.isna().sum().sum()"
      ],
      "metadata": {
        "colab": {
          "base_uri": "https://localhost:8080/"
        },
        "id": "cyLIJA1SCEtd",
        "outputId": "e3f8adf3-abc0-4f0f-cfa1-6b13e351703c"
      },
      "execution_count": 60,
      "outputs": [
        {
          "output_type": "execute_result",
          "data": {
            "text/plain": [
              "0"
            ]
          },
          "metadata": {},
          "execution_count": 60
        }
      ]
    },
    {
      "cell_type": "code",
      "source": [
        "tenure_exited_no = df[df.Exited==0].Tenure\n",
        "tenure_exited_yes=df[df.Exited==1].Tenure\n",
        "plt.xlabel(\"tenure\")\n",
        "plt.ylabel(\"Number Of Customers\")\n",
        "plt.title(\"Customer Churn Prediction Visualiztion\")\n",
        "plt.hist([tenure_exited_yes, tenure_exited_no], rwidth=0.95, color=['green','red'],label=['Exited=Yes','Exited=No'])\n",
        "plt.legend()\n"
      ],
      "metadata": {
        "colab": {
          "base_uri": "https://localhost:8080/",
          "height": 489
        },
        "id": "qoT95iLmR9CY",
        "outputId": "43ce3f1c-4181-4789-ff79-bd91db04adcb"
      },
      "execution_count": 93,
      "outputs": [
        {
          "output_type": "execute_result",
          "data": {
            "text/plain": [
              "<matplotlib.legend.Legend at 0x7c74ac47eda0>"
            ]
          },
          "metadata": {},
          "execution_count": 93
        },
        {
          "output_type": "display_data",
          "data": {
            "text/plain": [
              "<Figure size 640x480 with 1 Axes>"
            ],
            "image/png": "[encoded data removed]"
          },
          "metadata": {}
        }
      ]
    },
    {
      "cell_type": "code",
      "source": [
        "X=df.drop('Exited',axis=1)\n",
        "y=df['Exited']"
      ],
      "metadata": {
        "id": "X9FrIioQlU-l"
      },
      "execution_count": 61,
      "outputs": []
    },
    {
      "cell_type": "code",
      "source": [
        "from sklearn.model_selection import train_test_split\n",
        "X_train,X_test,y_train,y_test=train_test_split(X,y,test_size=0.2,random_state=5)"
      ],
      "metadata": {
        "id": "8nBU_Xjkle4M"
      },
      "execution_count": 62,
      "outputs": []
    },
    {
      "cell_type": "code",
      "source": [
        "X_train.shape,X_test.shape,y_train.shape,y_test.shape"
      ],
      "metadata": {
        "colab": {
          "base_uri": "https://localhost:8080/"
        },
        "id": "5dKRBZ0gljQv",
        "outputId": "ad0b8fbd-0904-4917-ce25-40b20744d7b2"
      },
      "execution_count": 63,
      "outputs": [
        {
          "output_type": "execute_result",
          "data": {
            "text/plain": [
              "((8000, 12), (2000, 12), (8000,), (2000,))"
            ]
          },
          "metadata": {},
          "execution_count": 63
        }
      ]
    },
    {
      "cell_type": "code",
      "source": [
        "model=keras.Sequential([keras.layers.Dense(12,input_shape=(12,),activation='relu'),\n",
        "                        keras.layers.Dense(10,activation='relu'),\n",
        "                        keras.layers.Dense(1,activation='sigmoid')])\n"
      ],
      "metadata": {
        "id": "HZiY7x75lu41"
      },
      "execution_count": 70,
      "outputs": []
    },
    {
      "cell_type": "code",
      "source": [
        "model.compile(loss = \"binary_crossentropy\", optimizer = 'adam',metrics=['accuracy'])\n"
      ],
      "metadata": {
        "id": "0uy1XDPanN6-"
      },
      "execution_count": 71,
      "outputs": []
    },
    {
      "cell_type": "code",
      "source": [
        "model.fit(X_train,y_train,epochs=200)"
      ],
      "metadata": {
        "colab": {
          "base_uri": "https://localhost:8080/"
        },
        "id": "5Aww3zuGnUcv",
        "outputId": "762add72-fb05-47da-ff97-3e4d61ae0097"
      },
      "execution_count": 72,
      "outputs": [
        {
          "output_type": "stream",
          "name": "stdout",
          "text": [
            "Epoch 1/200\n",
            "250/250 [==============================] - 1s 2ms/step - loss: 1.4498 - accuracy: 0.7770\n",
            "Epoch 2/200\n",
            "250/250 [==============================] - 1s 2ms/step - loss: 0.5531 - accuracy: 0.7950\n",
            "Epoch 3/200\n",
            "250/250 [==============================] - 1s 2ms/step - loss: 0.5164 - accuracy: 0.7960\n",
            "Epoch 4/200\n",
            "250/250 [==============================] - 1s 2ms/step - loss: 0.5045 - accuracy: 0.7936\n",
            "Epoch 5/200\n",
            "250/250 [==============================] - 1s 2ms/step - loss: 0.4827 - accuracy: 0.7975\n",
            "Epoch 6/200\n",
            "250/250 [==============================] - 1s 3ms/step - loss: 0.4823 - accuracy: 0.7974\n",
            "Epoch 7/200\n",
            "250/250 [==============================] - 1s 3ms/step - loss: 0.4781 - accuracy: 0.7995\n",
            "Epoch 8/200\n",
            "250/250 [==============================] - 1s 3ms/step - loss: 0.4767 - accuracy: 0.7966\n",
            "Epoch 9/200\n",
            "250/250 [==============================] - 1s 2ms/step - loss: 0.4773 - accuracy: 0.7936\n",
            "Epoch 10/200\n",
            "250/250 [==============================] - 0s 2ms/step - loss: 0.4708 - accuracy: 0.7966\n",
            "Epoch 11/200\n",
            "250/250 [==============================] - 0s 2ms/step - loss: 0.4636 - accuracy: 0.8009\n",
            "Epoch 12/200\n",
            "250/250 [==============================] - 0s 2ms/step - loss: 0.4739 - accuracy: 0.7949\n",
            "Epoch 13/200\n",
            "250/250 [==============================] - 0s 2ms/step - loss: 0.4662 - accuracy: 0.7945\n",
            "Epoch 14/200\n",
            "250/250 [==============================] - 0s 2ms/step - loss: 0.4585 - accuracy: 0.7996\n",
            "Epoch 15/200\n",
            "250/250 [==============================] - 0s 2ms/step - loss: 0.4683 - accuracy: 0.7989\n",
            "Epoch 16/200\n",
            "250/250 [==============================] - 0s 2ms/step - loss: 0.4723 - accuracy: 0.7976\n",
            "Epoch 17/200\n",
            "250/250 [==============================] - 0s 2ms/step - loss: 0.4536 - accuracy: 0.8018\n",
            "Epoch 18/200\n",
            "250/250 [==============================] - 0s 2ms/step - loss: 0.4536 - accuracy: 0.7986\n",
            "Epoch 19/200\n",
            "250/250 [==============================] - 0s 2ms/step - loss: 0.4596 - accuracy: 0.8005\n",
            "Epoch 20/200\n",
            "250/250 [==============================] - 0s 2ms/step - loss: 0.4537 - accuracy: 0.8058\n",
            "Epoch 21/200\n",
            "250/250 [==============================] - 0s 2ms/step - loss: 0.4501 - accuracy: 0.8052\n",
            "Epoch 22/200\n",
            "250/250 [==============================] - 0s 2ms/step - loss: 0.4545 - accuracy: 0.8011\n",
            "Epoch 23/200\n",
            "250/250 [==============================] - 0s 2ms/step - loss: 0.4512 - accuracy: 0.8025\n",
            "Epoch 24/200\n",
            "250/250 [==============================] - 0s 2ms/step - loss: 0.4504 - accuracy: 0.8058\n",
            "Epoch 25/200\n",
            "250/250 [==============================] - 0s 2ms/step - loss: 0.4524 - accuracy: 0.8050\n",
            "Epoch 26/200\n",
            "250/250 [==============================] - 0s 2ms/step - loss: 0.4468 - accuracy: 0.8061\n",
            "Epoch 27/200\n",
            "250/250 [==============================] - 0s 2ms/step - loss: 0.4568 - accuracy: 0.8059\n",
            "Epoch 28/200\n",
            "250/250 [==============================] - 0s 2ms/step - loss: 0.4461 - accuracy: 0.8076\n",
            "Epoch 29/200\n",
            "250/250 [==============================] - 0s 2ms/step - loss: 0.4528 - accuracy: 0.8062\n",
            "Epoch 30/200\n",
            "250/250 [==============================] - 0s 2ms/step - loss: 0.4564 - accuracy: 0.8044\n",
            "Epoch 31/200\n",
            "250/250 [==============================] - 1s 3ms/step - loss: 0.4494 - accuracy: 0.8061\n",
            "Epoch 32/200\n",
            "250/250 [==============================] - 1s 3ms/step - loss: 0.4460 - accuracy: 0.8070\n",
            "Epoch 33/200\n",
            "250/250 [==============================] - 1s 3ms/step - loss: 0.4538 - accuracy: 0.8076\n",
            "Epoch 34/200\n",
            "250/250 [==============================] - 1s 3ms/step - loss: 0.4550 - accuracy: 0.8059\n",
            "Epoch 35/200\n",
            "250/250 [==============================] - 0s 2ms/step - loss: 0.4462 - accuracy: 0.8058\n",
            "Epoch 36/200\n",
            "250/250 [==============================] - 0s 2ms/step - loss: 0.4492 - accuracy: 0.8080\n",
            "Epoch 37/200\n",
            "250/250 [==============================] - 0s 2ms/step - loss: 0.4441 - accuracy: 0.8089\n",
            "Epoch 38/200\n",
            "250/250 [==============================] - 0s 2ms/step - loss: 0.4473 - accuracy: 0.8060\n",
            "Epoch 39/200\n",
            "250/250 [==============================] - 0s 2ms/step - loss: 0.4448 - accuracy: 0.8079\n",
            "Epoch 40/200\n",
            "250/250 [==============================] - 0s 2ms/step - loss: 0.4497 - accuracy: 0.8054\n",
            "Epoch 41/200\n",
            "250/250 [==============================] - 0s 2ms/step - loss: 0.4431 - accuracy: 0.8117\n",
            "Epoch 42/200\n",
            "250/250 [==============================] - 0s 2ms/step - loss: 0.4479 - accuracy: 0.8049\n",
            "Epoch 43/200\n",
            "250/250 [==============================] - 0s 2ms/step - loss: 0.4468 - accuracy: 0.8079\n",
            "Epoch 44/200\n",
            "250/250 [==============================] - 0s 2ms/step - loss: 0.4430 - accuracy: 0.8073\n",
            "Epoch 45/200\n",
            "250/250 [==============================] - 0s 2ms/step - loss: 0.4473 - accuracy: 0.8086\n",
            "Epoch 46/200\n",
            "250/250 [==============================] - 0s 2ms/step - loss: 0.4431 - accuracy: 0.8108\n",
            "Epoch 47/200\n",
            "250/250 [==============================] - 0s 2ms/step - loss: 0.4408 - accuracy: 0.8114\n",
            "Epoch 48/200\n",
            "250/250 [==============================] - 0s 2ms/step - loss: 0.4516 - accuracy: 0.8035\n",
            "Epoch 49/200\n",
            "250/250 [==============================] - 0s 2ms/step - loss: 0.4434 - accuracy: 0.8075\n",
            "Epoch 50/200\n",
            "250/250 [==============================] - 0s 2ms/step - loss: 0.4457 - accuracy: 0.8050\n",
            "Epoch 51/200\n",
            "250/250 [==============================] - 1s 2ms/step - loss: 0.4423 - accuracy: 0.8089\n",
            "Epoch 52/200\n",
            "250/250 [==============================] - 0s 2ms/step - loss: 0.4430 - accuracy: 0.8069\n",
            "Epoch 53/200\n",
            "250/250 [==============================] - 0s 2ms/step - loss: 0.4454 - accuracy: 0.8059\n",
            "Epoch 54/200\n",
            "250/250 [==============================] - 0s 2ms/step - loss: 0.4401 - accuracy: 0.8112\n",
            "Epoch 55/200\n",
            "250/250 [==============================] - 0s 2ms/step - loss: 0.4445 - accuracy: 0.8077\n",
            "Epoch 56/200\n",
            "250/250 [==============================] - 1s 3ms/step - loss: 0.4402 - accuracy: 0.8096\n",
            "Epoch 57/200\n",
            "250/250 [==============================] - 1s 3ms/step - loss: 0.4502 - accuracy: 0.8120\n",
            "Epoch 58/200\n",
            "250/250 [==============================] - 1s 3ms/step - loss: 0.4439 - accuracy: 0.8091\n",
            "Epoch 59/200\n",
            "250/250 [==============================] - 1s 3ms/step - loss: 0.4421 - accuracy: 0.8102\n",
            "Epoch 60/200\n",
            "250/250 [==============================] - 1s 2ms/step - loss: 0.4418 - accuracy: 0.8081\n",
            "Epoch 61/200\n",
            "250/250 [==============================] - 0s 2ms/step - loss: 0.4373 - accuracy: 0.8106\n",
            "Epoch 62/200\n",
            "250/250 [==============================] - 0s 2ms/step - loss: 0.4436 - accuracy: 0.8064\n",
            "Epoch 63/200\n",
            "250/250 [==============================] - 0s 2ms/step - loss: 0.4484 - accuracy: 0.8087\n",
            "Epoch 64/200\n",
            "250/250 [==============================] - 0s 2ms/step - loss: 0.4377 - accuracy: 0.8085\n",
            "Epoch 65/200\n",
            "250/250 [==============================] - 1s 2ms/step - loss: 0.4404 - accuracy: 0.8106\n",
            "Epoch 66/200\n",
            "250/250 [==============================] - 1s 2ms/step - loss: 0.4437 - accuracy: 0.8079\n",
            "Epoch 67/200\n",
            "250/250 [==============================] - 1s 2ms/step - loss: 0.4461 - accuracy: 0.8085\n",
            "Epoch 68/200\n",
            "250/250 [==============================] - 0s 2ms/step - loss: 0.4400 - accuracy: 0.8087\n",
            "Epoch 69/200\n",
            "250/250 [==============================] - 0s 2ms/step - loss: 0.4406 - accuracy: 0.8123\n",
            "Epoch 70/200\n",
            "250/250 [==============================] - 1s 2ms/step - loss: 0.4429 - accuracy: 0.8085\n",
            "Epoch 71/200\n",
            "250/250 [==============================] - 0s 2ms/step - loss: 0.4441 - accuracy: 0.8075\n",
            "Epoch 72/200\n",
            "250/250 [==============================] - 0s 2ms/step - loss: 0.4419 - accuracy: 0.8121\n",
            "Epoch 73/200\n",
            "250/250 [==============================] - 0s 2ms/step - loss: 0.4416 - accuracy: 0.8073\n",
            "Epoch 74/200\n",
            "250/250 [==============================] - 0s 2ms/step - loss: 0.4405 - accuracy: 0.8069\n",
            "Epoch 75/200\n",
            "250/250 [==============================] - 0s 2ms/step - loss: 0.4379 - accuracy: 0.8083\n",
            "Epoch 76/200\n",
            "250/250 [==============================] - 0s 2ms/step - loss: 0.4403 - accuracy: 0.8091\n",
            "Epoch 77/200\n",
            "250/250 [==============================] - 0s 2ms/step - loss: 0.4419 - accuracy: 0.8090\n",
            "Epoch 78/200\n",
            "250/250 [==============================] - 0s 2ms/step - loss: 0.4382 - accuracy: 0.8071\n",
            "Epoch 79/200\n",
            "250/250 [==============================] - 1s 2ms/step - loss: 0.4415 - accuracy: 0.8084\n",
            "Epoch 80/200\n",
            "250/250 [==============================] - 0s 2ms/step - loss: 0.4356 - accuracy: 0.8130\n",
            "Epoch 81/200\n",
            "250/250 [==============================] - 1s 3ms/step - loss: 0.4405 - accuracy: 0.8086\n",
            "Epoch 82/200\n",
            "250/250 [==============================] - 1s 3ms/step - loss: 0.4402 - accuracy: 0.8092\n",
            "Epoch 83/200\n",
            "250/250 [==============================] - 1s 3ms/step - loss: 0.4418 - accuracy: 0.8091\n",
            "Epoch 84/200\n",
            "250/250 [==============================] - 1s 3ms/step - loss: 0.4339 - accuracy: 0.8136\n",
            "Epoch 85/200\n",
            "250/250 [==============================] - 1s 2ms/step - loss: 0.4379 - accuracy: 0.8110\n",
            "Epoch 86/200\n",
            "250/250 [==============================] - 0s 2ms/step - loss: 0.4353 - accuracy: 0.8124\n",
            "Epoch 87/200\n",
            "250/250 [==============================] - 0s 2ms/step - loss: 0.4349 - accuracy: 0.8121\n",
            "Epoch 88/200\n",
            "250/250 [==============================] - 0s 2ms/step - loss: 0.4367 - accuracy: 0.8102\n",
            "Epoch 89/200\n",
            "250/250 [==============================] - 1s 2ms/step - loss: 0.4363 - accuracy: 0.8112\n",
            "Epoch 90/200\n",
            "250/250 [==============================] - 1s 2ms/step - loss: 0.4403 - accuracy: 0.8105\n",
            "Epoch 91/200\n",
            "250/250 [==============================] - 0s 2ms/step - loss: 0.4412 - accuracy: 0.8130\n",
            "Epoch 92/200\n",
            "250/250 [==============================] - 0s 2ms/step - loss: 0.4403 - accuracy: 0.8094\n",
            "Epoch 93/200\n",
            "250/250 [==============================] - 0s 2ms/step - loss: 0.4372 - accuracy: 0.8123\n",
            "Epoch 94/200\n",
            "250/250 [==============================] - 1s 2ms/step - loss: 0.4406 - accuracy: 0.8135\n",
            "Epoch 95/200\n",
            "250/250 [==============================] - 0s 2ms/step - loss: 0.4349 - accuracy: 0.8120\n",
            "Epoch 96/200\n",
            "250/250 [==============================] - 1s 2ms/step - loss: 0.4385 - accuracy: 0.8119\n",
            "Epoch 97/200\n",
            "250/250 [==============================] - 0s 2ms/step - loss: 0.4321 - accuracy: 0.8165\n",
            "Epoch 98/200\n",
            "250/250 [==============================] - 0s 2ms/step - loss: 0.4327 - accuracy: 0.8140\n",
            "Epoch 99/200\n",
            "250/250 [==============================] - 0s 2ms/step - loss: 0.4315 - accuracy: 0.8131\n",
            "Epoch 100/200\n",
            "250/250 [==============================] - 0s 2ms/step - loss: 0.4356 - accuracy: 0.8129\n",
            "Epoch 101/200\n",
            "250/250 [==============================] - 0s 2ms/step - loss: 0.4308 - accuracy: 0.8166\n",
            "Epoch 102/200\n",
            "250/250 [==============================] - 0s 2ms/step - loss: 0.4332 - accuracy: 0.8176\n",
            "Epoch 103/200\n",
            "250/250 [==============================] - 0s 2ms/step - loss: 0.4327 - accuracy: 0.8139\n",
            "Epoch 104/200\n",
            "250/250 [==============================] - 1s 2ms/step - loss: 0.4332 - accuracy: 0.8161\n",
            "Epoch 105/200\n",
            "250/250 [==============================] - 0s 2ms/step - loss: 0.4300 - accuracy: 0.8191\n",
            "Epoch 106/200\n",
            "250/250 [==============================] - 1s 3ms/step - loss: 0.4349 - accuracy: 0.8112\n",
            "Epoch 107/200\n",
            "250/250 [==============================] - 1s 3ms/step - loss: 0.4321 - accuracy: 0.8169\n",
            "Epoch 108/200\n",
            "250/250 [==============================] - 1s 3ms/step - loss: 0.4334 - accuracy: 0.8111\n",
            "Epoch 109/200\n",
            "250/250 [==============================] - 1s 3ms/step - loss: 0.4305 - accuracy: 0.8151\n",
            "Epoch 110/200\n",
            "250/250 [==============================] - 1s 2ms/step - loss: 0.4304 - accuracy: 0.8146\n",
            "Epoch 111/200\n",
            "250/250 [==============================] - 0s 2ms/step - loss: 0.4297 - accuracy: 0.8142\n",
            "Epoch 112/200\n",
            "250/250 [==============================] - 1s 2ms/step - loss: 0.4346 - accuracy: 0.8109\n",
            "Epoch 113/200\n",
            "250/250 [==============================] - 0s 2ms/step - loss: 0.4280 - accuracy: 0.8176\n",
            "Epoch 114/200\n",
            "250/250 [==============================] - 0s 2ms/step - loss: 0.4297 - accuracy: 0.8176\n",
            "Epoch 115/200\n",
            "250/250 [==============================] - 1s 2ms/step - loss: 0.4346 - accuracy: 0.8134\n",
            "Epoch 116/200\n",
            "250/250 [==============================] - 1s 2ms/step - loss: 0.4305 - accuracy: 0.8169\n",
            "Epoch 117/200\n",
            "250/250 [==============================] - 0s 2ms/step - loss: 0.4291 - accuracy: 0.8171\n",
            "Epoch 118/200\n",
            "250/250 [==============================] - 0s 2ms/step - loss: 0.4256 - accuracy: 0.8166\n",
            "Epoch 119/200\n",
            "250/250 [==============================] - 1s 2ms/step - loss: 0.4308 - accuracy: 0.8206\n",
            "Epoch 120/200\n",
            "250/250 [==============================] - 0s 2ms/step - loss: 0.4253 - accuracy: 0.8177\n",
            "Epoch 121/200\n",
            "250/250 [==============================] - 0s 2ms/step - loss: 0.4255 - accuracy: 0.8225\n",
            "Epoch 122/200\n",
            "250/250 [==============================] - 1s 2ms/step - loss: 0.4284 - accuracy: 0.8166\n",
            "Epoch 123/200\n",
            "250/250 [==============================] - 0s 2ms/step - loss: 0.4265 - accuracy: 0.8192\n",
            "Epoch 124/200\n",
            "250/250 [==============================] - 0s 2ms/step - loss: 0.4230 - accuracy: 0.8220\n",
            "Epoch 125/200\n",
            "250/250 [==============================] - 0s 2ms/step - loss: 0.4239 - accuracy: 0.8189\n",
            "Epoch 126/200\n",
            "250/250 [==============================] - 0s 2ms/step - loss: 0.4272 - accuracy: 0.8164\n",
            "Epoch 127/200\n",
            "250/250 [==============================] - 1s 2ms/step - loss: 0.4319 - accuracy: 0.8131\n",
            "Epoch 128/200\n",
            "250/250 [==============================] - 1s 2ms/step - loss: 0.4290 - accuracy: 0.8174\n",
            "Epoch 129/200\n",
            "250/250 [==============================] - 1s 2ms/step - loss: 0.4308 - accuracy: 0.8142\n",
            "Epoch 130/200\n",
            "250/250 [==============================] - 1s 3ms/step - loss: 0.4284 - accuracy: 0.8164\n",
            "Epoch 131/200\n",
            "250/250 [==============================] - 1s 3ms/step - loss: 0.4319 - accuracy: 0.8142\n",
            "Epoch 132/200\n",
            "250/250 [==============================] - 1s 3ms/step - loss: 0.4314 - accuracy: 0.8152\n",
            "Epoch 133/200\n",
            "250/250 [==============================] - 1s 3ms/step - loss: 0.4276 - accuracy: 0.8166\n",
            "Epoch 134/200\n",
            "250/250 [==============================] - 1s 3ms/step - loss: 0.4310 - accuracy: 0.8156\n",
            "Epoch 135/200\n",
            "250/250 [==============================] - 0s 2ms/step - loss: 0.4295 - accuracy: 0.8144\n",
            "Epoch 136/200\n",
            "250/250 [==============================] - 0s 2ms/step - loss: 0.4268 - accuracy: 0.8164\n",
            "Epoch 137/200\n",
            "250/250 [==============================] - 0s 2ms/step - loss: 0.4271 - accuracy: 0.8192\n",
            "Epoch 138/200\n",
            "250/250 [==============================] - 0s 2ms/step - loss: 0.4283 - accuracy: 0.8189\n",
            "Epoch 139/200\n",
            "250/250 [==============================] - 0s 2ms/step - loss: 0.4284 - accuracy: 0.8185\n",
            "Epoch 140/200\n",
            "250/250 [==============================] - 1s 2ms/step - loss: 0.4285 - accuracy: 0.8170\n",
            "Epoch 141/200\n",
            "250/250 [==============================] - 1s 2ms/step - loss: 0.4260 - accuracy: 0.8199\n",
            "Epoch 142/200\n",
            "250/250 [==============================] - 0s 2ms/step - loss: 0.4333 - accuracy: 0.8134\n",
            "Epoch 143/200\n",
            "250/250 [==============================] - 0s 2ms/step - loss: 0.4280 - accuracy: 0.8188\n",
            "Epoch 144/200\n",
            "250/250 [==============================] - 0s 2ms/step - loss: 0.4253 - accuracy: 0.8176\n",
            "Epoch 145/200\n",
            "250/250 [==============================] - 0s 2ms/step - loss: 0.4250 - accuracy: 0.8199\n",
            "Epoch 146/200\n",
            "250/250 [==============================] - 0s 2ms/step - loss: 0.4280 - accuracy: 0.8166\n",
            "Epoch 147/200\n",
            "250/250 [==============================] - 0s 2ms/step - loss: 0.4274 - accuracy: 0.8179\n",
            "Epoch 148/200\n",
            "250/250 [==============================] - 0s 2ms/step - loss: 0.4274 - accuracy: 0.8167\n",
            "Epoch 149/200\n",
            "250/250 [==============================] - 1s 2ms/step - loss: 0.4263 - accuracy: 0.8180\n",
            "Epoch 150/200\n",
            "250/250 [==============================] - 1s 2ms/step - loss: 0.4276 - accuracy: 0.8198\n",
            "Epoch 151/200\n",
            "250/250 [==============================] - 1s 2ms/step - loss: 0.4256 - accuracy: 0.8185\n",
            "Epoch 152/200\n",
            "250/250 [==============================] - 0s 2ms/step - loss: 0.4276 - accuracy: 0.8186\n",
            "Epoch 153/200\n",
            "250/250 [==============================] - 0s 2ms/step - loss: 0.4297 - accuracy: 0.8145\n",
            "Epoch 154/200\n",
            "250/250 [==============================] - 0s 2ms/step - loss: 0.4275 - accuracy: 0.8170\n",
            "Epoch 155/200\n",
            "250/250 [==============================] - 1s 3ms/step - loss: 0.4259 - accuracy: 0.8158\n",
            "Epoch 156/200\n",
            "250/250 [==============================] - 1s 3ms/step - loss: 0.4265 - accuracy: 0.8183\n",
            "Epoch 157/200\n",
            "250/250 [==============================] - 1s 2ms/step - loss: 0.4270 - accuracy: 0.8175\n",
            "Epoch 158/200\n",
            "250/250 [==============================] - 1s 2ms/step - loss: 0.4262 - accuracy: 0.8126\n",
            "Epoch 159/200\n",
            "250/250 [==============================] - 1s 3ms/step - loss: 0.4247 - accuracy: 0.8158\n",
            "Epoch 160/200\n",
            "250/250 [==============================] - 1s 2ms/step - loss: 0.4253 - accuracy: 0.8170\n",
            "Epoch 161/200\n",
            "250/250 [==============================] - 0s 2ms/step - loss: 0.4263 - accuracy: 0.8174\n",
            "Epoch 162/200\n",
            "250/250 [==============================] - 0s 2ms/step - loss: 0.4270 - accuracy: 0.8175\n",
            "Epoch 163/200\n",
            "250/250 [==============================] - 0s 2ms/step - loss: 0.4272 - accuracy: 0.8174\n",
            "Epoch 164/200\n",
            "250/250 [==============================] - 0s 2ms/step - loss: 0.4252 - accuracy: 0.8155\n",
            "Epoch 165/200\n",
            "250/250 [==============================] - 1s 2ms/step - loss: 0.4258 - accuracy: 0.8181\n",
            "Epoch 166/200\n",
            "250/250 [==============================] - 0s 2ms/step - loss: 0.4262 - accuracy: 0.8198\n",
            "Epoch 167/200\n",
            "250/250 [==============================] - 0s 2ms/step - loss: 0.4268 - accuracy: 0.8205\n",
            "Epoch 168/200\n",
            "250/250 [==============================] - 0s 2ms/step - loss: 0.4253 - accuracy: 0.8191\n",
            "Epoch 169/200\n",
            "250/250 [==============================] - 0s 2ms/step - loss: 0.4240 - accuracy: 0.8216\n",
            "Epoch 170/200\n",
            "250/250 [==============================] - 0s 2ms/step - loss: 0.4237 - accuracy: 0.8204\n",
            "Epoch 171/200\n",
            "250/250 [==============================] - 0s 2ms/step - loss: 0.4260 - accuracy: 0.8196\n",
            "Epoch 172/200\n",
            "250/250 [==============================] - 0s 2ms/step - loss: 0.4251 - accuracy: 0.8181\n",
            "Epoch 173/200\n",
            "250/250 [==============================] - 1s 2ms/step - loss: 0.4277 - accuracy: 0.8188\n",
            "Epoch 174/200\n",
            "250/250 [==============================] - 0s 2ms/step - loss: 0.4282 - accuracy: 0.8165\n",
            "Epoch 175/200\n",
            "250/250 [==============================] - 0s 2ms/step - loss: 0.4254 - accuracy: 0.8179\n",
            "Epoch 176/200\n",
            "250/250 [==============================] - 0s 2ms/step - loss: 0.4251 - accuracy: 0.8188\n",
            "Epoch 177/200\n",
            "250/250 [==============================] - 1s 2ms/step - loss: 0.4242 - accuracy: 0.8190\n",
            "Epoch 178/200\n",
            "250/250 [==============================] - 1s 2ms/step - loss: 0.4277 - accuracy: 0.8155\n",
            "Epoch 179/200\n",
            "250/250 [==============================] - 1s 2ms/step - loss: 0.4259 - accuracy: 0.8190\n",
            "Epoch 180/200\n",
            "250/250 [==============================] - 1s 3ms/step - loss: 0.4246 - accuracy: 0.8201\n",
            "Epoch 181/200\n",
            "250/250 [==============================] - 1s 3ms/step - loss: 0.4241 - accuracy: 0.8188\n",
            "Epoch 182/200\n",
            "250/250 [==============================] - 1s 3ms/step - loss: 0.4266 - accuracy: 0.8161\n",
            "Epoch 183/200\n",
            "250/250 [==============================] - 1s 3ms/step - loss: 0.4247 - accuracy: 0.8177\n",
            "Epoch 184/200\n",
            "250/250 [==============================] - 1s 3ms/step - loss: 0.4269 - accuracy: 0.8150\n",
            "Epoch 185/200\n",
            "250/250 [==============================] - 1s 2ms/step - loss: 0.4234 - accuracy: 0.8198\n",
            "Epoch 186/200\n",
            "250/250 [==============================] - 1s 2ms/step - loss: 0.4260 - accuracy: 0.8181\n",
            "Epoch 187/200\n",
            "250/250 [==============================] - 1s 2ms/step - loss: 0.4229 - accuracy: 0.8205\n",
            "Epoch 188/200\n",
            "250/250 [==============================] - 0s 2ms/step - loss: 0.4243 - accuracy: 0.8209\n",
            "Epoch 189/200\n",
            "250/250 [==============================] - 0s 2ms/step - loss: 0.4263 - accuracy: 0.8180\n",
            "Epoch 190/200\n",
            "250/250 [==============================] - 0s 2ms/step - loss: 0.4231 - accuracy: 0.8183\n",
            "Epoch 191/200\n",
            "250/250 [==============================] - 0s 2ms/step - loss: 0.4227 - accuracy: 0.8192\n",
            "Epoch 192/200\n",
            "250/250 [==============================] - 1s 2ms/step - loss: 0.4250 - accuracy: 0.8190\n",
            "Epoch 193/200\n",
            "250/250 [==============================] - 0s 2ms/step - loss: 0.4245 - accuracy: 0.8188\n",
            "Epoch 194/200\n",
            "250/250 [==============================] - 0s 2ms/step - loss: 0.4273 - accuracy: 0.8186\n",
            "Epoch 195/200\n",
            "250/250 [==============================] - 0s 2ms/step - loss: 0.4219 - accuracy: 0.8200\n",
            "Epoch 196/200\n",
            "250/250 [==============================] - 0s 2ms/step - loss: 0.4240 - accuracy: 0.8200\n",
            "Epoch 197/200\n",
            "250/250 [==============================] - 0s 2ms/step - loss: 0.4257 - accuracy: 0.8191\n",
            "Epoch 198/200\n",
            "250/250 [==============================] - 1s 2ms/step - loss: 0.4226 - accuracy: 0.8179\n",
            "Epoch 199/200\n",
            "250/250 [==============================] - 1s 2ms/step - loss: 0.4220 - accuracy: 0.8210\n",
            "Epoch 200/200\n",
            "250/250 [==============================] - 1s 2ms/step - loss: 0.4247 - accuracy: 0.8175\n"
          ]
        },
        {
          "output_type": "execute_result",
          "data": {
            "text/plain": [
              "<keras.callbacks.History at 0x7c74ac53cd30>"
            ]
          },
          "metadata": {},
          "execution_count": 72
        }
      ]
    },
    {
      "cell_type": "code",
      "source": [
        "model.evaluate(X_test,y_test)"
      ],
      "metadata": {
        "colab": {
          "base_uri": "https://localhost:8080/"
        },
        "id": "5mIo9-AwBWYC",
        "outputId": "bf4dee2b-3188-4a84-ba99-6b32f0e4e8cf"
      },
      "execution_count": 73,
      "outputs": [
        {
          "output_type": "stream",
          "name": "stdout",
          "text": [
            "63/63 [==============================] - 0s 1ms/step - loss: 0.4225 - accuracy: 0.8165\n"
          ]
        },
        {
          "output_type": "execute_result",
          "data": {
            "text/plain": [
              "[0.42248818278312683, 0.8165000081062317]"
            ]
          },
          "metadata": {},
          "execution_count": 73
        }
      ]
    },
    {
      "cell_type": "code",
      "source": [
        "yp = model.predict(X_test)\n",
        "yp[:10]\n"
      ],
      "metadata": {
        "colab": {
          "base_uri": "https://localhost:8080/"
        },
        "id": "-fqjP_OJDbVI",
        "outputId": "9043c94d-92cb-45e0-b706-a29edf8888c3"
      },
      "execution_count": 74,
      "outputs": [
        {
          "output_type": "stream",
          "name": "stdout",
          "text": [
            "63/63 [==============================] - 0s 2ms/step\n"
          ]
        },
        {
          "output_type": "execute_result",
          "data": {
            "text/plain": [
              "array([[0.09104241],\n",
              "       [0.07746448],\n",
              "       [0.06423608],\n",
              "       [0.05150279],\n",
              "       [0.12204817],\n",
              "       [0.31137627],\n",
              "       [0.03921757],\n",
              "       [0.14391483],\n",
              "       [0.06583098],\n",
              "       [0.17708252]], dtype=float32)"
            ]
          },
          "metadata": {},
          "execution_count": 74
        }
      ]
    },
    {
      "cell_type": "code",
      "source": [
        "y_test[:10]\n"
      ],
      "metadata": {
        "colab": {
          "base_uri": "https://localhost:8080/"
        },
        "id": "fuGYjv1eDg-u",
        "outputId": "3d01e7c0-f623-49f9-e9ce-e0e7df2f8ea1"
      },
      "execution_count": 32,
      "outputs": [
        {
          "output_type": "execute_result",
          "data": {
            "text/plain": [
              "7054    0\n",
              "442     0\n",
              "3954    0\n",
              "2288    0\n",
              "3196    0\n",
              "6178    0\n",
              "8351    0\n",
              "5658    1\n",
              "2065    0\n",
              "413     1\n",
              "Name: Exited, dtype: int64"
            ]
          },
          "metadata": {},
          "execution_count": 32
        }
      ]
    },
    {
      "cell_type": "code",
      "source": [
        "y_pred = []\n",
        "for element in yp:\n",
        "      if element > 0.5:\n",
        "        y_pred.append(1)\n",
        "      else:\n",
        "        y_pred.append(0)"
      ],
      "metadata": {
        "id": "hwpDGczdD6KB"
      },
      "execution_count": 75,
      "outputs": []
    },
    {
      "cell_type": "code",
      "source": [
        "y_pred[:10]"
      ],
      "metadata": {
        "colab": {
          "base_uri": "https://localhost:8080/"
        },
        "id": "26-xdu3nEBOw",
        "outputId": "c8d462b3-32a2-41db-f213-0737ec421237"
      },
      "execution_count": 76,
      "outputs": [
        {
          "output_type": "execute_result",
          "data": {
            "text/plain": [
              "[0, 0, 0, 0, 0, 0, 0, 0, 0, 0]"
            ]
          },
          "metadata": {},
          "execution_count": 76
        }
      ]
    },
    {
      "cell_type": "code",
      "source": [
        "from sklearn.metrics import classification_report,confusion_matrix\n",
        "print(classification_report(y_test,y_pred))"
      ],
      "metadata": {
        "colab": {
          "base_uri": "https://localhost:8080/"
        },
        "id": "p83q-KHtEMJU",
        "outputId": "412b0e98-2f40-4830-be15-ce706a17bcd9"
      },
      "execution_count": 77,
      "outputs": [
        {
          "output_type": "stream",
          "name": "stdout",
          "text": [
            "              precision    recall  f1-score   support\n",
            "\n",
            "           0       0.82      0.98      0.90      1595\n",
            "           1       0.71      0.16      0.26       405\n",
            "\n",
            "    accuracy                           0.82      2000\n",
            "   macro avg       0.76      0.57      0.58      2000\n",
            "weighted avg       0.80      0.82      0.77      2000\n",
            "\n"
          ]
        }
      ]
    },
    {
      "cell_type": "code",
      "source": [
        "import seaborn as sn\n",
        "cm = tf.math.confusion_matrix(labels=y_test,predictions=y_pred)\n",
        "plt.figure(figsize = (10,7))\n",
        "sn.heatmap(cm, annot=True, fmt='d')\n",
        "plt.xlabel('Predicted')\n",
        "plt.ylabel('Truth')\n"
      ],
      "metadata": {
        "colab": {
          "base_uri": "https://localhost:8080/",
          "height": 636
        },
        "id": "UtIGGp_zEfMn",
        "outputId": "060d165a-f206-41ff-967b-9868b23d8afa"
      },
      "execution_count": 78,
      "outputs": [
        {
          "output_type": "execute_result",
          "data": {
            "text/plain": [
              "Text(95.72222222222221, 0.5, 'Truth')"
            ]
          },
          "metadata": {},
          "execution_count": 78
        },
        {
          "output_type": "display_data",
          "data": {
            "text/plain": [
              "<Figure size 1000x700 with 2 Axes>"
            ],
            "image/png": "[encoded data removed]"
          },
          "metadata": {}
        }
      ]
    },
    {
      "cell_type": "code",
      "source": [
        "Accuracy=(1568+65)/(1568+65+340+27)\n",
        "print(f\"Accuracy:{Accuracy}\")"
      ],
      "metadata": {
        "colab": {
          "base_uri": "https://localhost:8080/"
        },
        "id": "quxTfP7UJfTK",
        "outputId": "f20b62e1-5808-45ac-9fe0-8ed59b1c4eb9"
      },
      "execution_count": 88,
      "outputs": [
        {
          "output_type": "stream",
          "name": "stdout",
          "text": [
            "Accuracy:0.8165\n"
          ]
        }
      ]
    },
    {
      "cell_type": "code",
      "source": [
        "precision_0=1568/(1568+340)\n",
        "print(f\"Precision for zero class:{precision_0}\")"
      ],
      "metadata": {
        "colab": {
          "base_uri": "https://localhost:8080/"
        },
        "id": "deH31bcHKDdx",
        "outputId": "4a13d7fb-ec88-4788-9dc0-a4de9c9c9fae"
      },
      "execution_count": 86,
      "outputs": [
        {
          "output_type": "stream",
          "name": "stdout",
          "text": [
            "Precision for zero class:0.8218029350104822\n"
          ]
        }
      ]
    },
    {
      "cell_type": "code",
      "source": [
        "precision_1=65/(27+65)\n",
        "print(f\"Precision for one class:{precision_1}\")"
      ],
      "metadata": {
        "colab": {
          "base_uri": "https://localhost:8080/"
        },
        "id": "qNDFqHquKj_0",
        "outputId": "67c9b17b-0d3a-4270-f850-5faaa0a3bb4e"
      },
      "execution_count": 87,
      "outputs": [
        {
          "output_type": "stream",
          "name": "stdout",
          "text": [
            "Precision for one class:0.7065217391304348\n"
          ]
        }
      ]
    },
    {
      "cell_type": "code",
      "source": [
        "recall_0=1568/(1568+27)\n",
        "print(f\"Recall for zero class:{recall_0}\")\n",
        "\n"
      ],
      "metadata": {
        "colab": {
          "base_uri": "https://localhost:8080/"
        },
        "id": "bgBS__cvLOsD",
        "outputId": "7916716f-615e-4aae-c62e-fc71233c24c0"
      },
      "execution_count": 84,
      "outputs": [
        {
          "output_type": "stream",
          "name": "stdout",
          "text": [
            "Recall for zero class:0.9830721003134796\n"
          ]
        }
      ]
    },
    {
      "cell_type": "code",
      "source": [
        "recall_1=65/(65+340)\n",
        "print(f\"Recall for one class:{recall_1}\")\n"
      ],
      "metadata": {
        "colab": {
          "base_uri": "https://localhost:8080/"
        },
        "id": "c1EWRz7DLpB3",
        "outputId": "7e549a9f-2ede-4979-fa1c-a8304df37f7f"
      },
      "execution_count": 85,
      "outputs": [
        {
          "output_type": "stream",
          "name": "stdout",
          "text": [
            "Recall for one class:0.16049382716049382\n"
          ]
        }
      ]
    }
  ]
}